{
 "cells": [
  {
   "cell_type": "code",
   "execution_count": 1,
   "metadata": {
    "colab": {
     "base_uri": "https://localhost:8080/"
    },
    "id": "sf9RMuNGJFIP",
    "outputId": "079818a5-00de-4933-cb61-00e2dd652ccb"
   },
   "outputs": [],
   "source": [
    "# !pip install catboost\n",
    "# !pip install datasets\n",
    "# !pip install transformers"
   ]
  },
  {
   "cell_type": "code",
   "execution_count": 2,
   "metadata": {
    "colab": {
     "base_uri": "https://localhost:8080/"
    },
    "id": "wovnhiZ1u9Ef",
    "outputId": "3e28c93e-5300-415d-9d47-8de38e297388"
   },
   "outputs": [],
   "source": [
    "# !cp drive/MyDrive/tomsk_digital_breakthrough.zip ./\n",
    "# !unzip tomsk_digital_breakthrough.zip\n",
    "\n",
    "# !mv '╨┤╨░╤В╨░╤Б╨╡╤В 15072022.xlsx' data.xlsx\n",
    "# !mv \"датасет 15072022.xlsx\" data.xlsx"
   ]
  },
  {
   "cell_type": "code",
   "execution_count": 3,
   "metadata": {
    "id": "FDjdoUB4wi0Y"
   },
   "outputs": [],
   "source": [
    "from collections import Counter\n",
    "import numpy as np\n",
    "import pandas as pd\n",
    "\n",
    "# from catboost import CatBoostClassifier, Pool\n",
    "\n",
    "from sklearn.model_selection import train_test_split\n",
    "from sklearn.ensemble import RandomForestClassifier\n",
    "from sklearn.feature_extraction.text import TfidfVectorizer\n",
    "from sklearn.metrics import f1_score\n",
    "from sklearn.metrics import accuracy_score\n",
    "from sklearn.preprocessing import MultiLabelBinarizer\n",
    "\n",
    "import pickle"
   ]
  },
  {
   "cell_type": "code",
   "execution_count": 4,
   "metadata": {
    "id": "7bVMQQP_wq0P"
   },
   "outputs": [],
   "source": [
    "df = pd.read_excel(\"data.xlsx\")"
   ]
  },
  {
   "cell_type": "code",
   "execution_count": 5,
   "metadata": {
    "colab": {
     "base_uri": "https://localhost:8080/",
     "height": 450
    },
    "id": "bM7g4mhZxnWb",
    "outputId": "f1c502ef-3b0c-46fa-cca2-11dde50fe551"
   },
   "outputs": [],
   "source": [
    "# df.head(3)"
   ]
  },
  {
   "cell_type": "code",
   "execution_count": 6,
   "metadata": {
    "colab": {
     "base_uri": "https://localhost:8080/"
    },
    "id": "0EbSRq2BxPwQ",
    "outputId": "4d3548c0-f6dd-4943-eca3-0347f0336cb9"
   },
   "outputs": [],
   "source": [
    "# for col in [\"Коды ТН ВЭД ЕАЭС\", \"Технические регламенты\", \"Группа продукции\"]:\n",
    "#     print(\"---\\n\"*3)\n",
    "#     print(col)\n",
    "#     counter = Counter()\n",
    "#     for i, row in df.iterrows():\n",
    "#         tnved_col = row[col]\n",
    "#         if type(tnved_col) != str:\n",
    "#             continue\n",
    "#         tnveds = {t for t in tnved_col.split(\"; \") if t}\n",
    "#         for t in tnveds:\n",
    "#             counter[t] += 1\n",
    "#     print(counter.most_common(30))\n",
    "#     print(len(counter))\n",
    "#     for i in [1, 2, 5, 10, 15, 20, 30, 40, 50, 100]:\n",
    "#         print(i, len([i for k, v in counter.items() if v >= i]))\n",
    "#         print(i, ([k for k, v in counter.items() if v == i][:10]))\n",
    "#     print(list(sorted(counter.keys()))[:20])\n",
    "#     print(list(sorted(counter.keys()))[-20:])"
   ]
  },
  {
   "cell_type": "code",
   "execution_count": 7,
   "metadata": {
    "colab": {
     "base_uri": "https://localhost:8080/",
     "height": 1000
    },
    "id": "TwV-ytFZ1Y7H",
    "outputId": "f80da32a-b7f9-4793-9a84-83b8e679f00d"
   },
   "outputs": [],
   "source": [
    "# df[df[\"Коды ТН ВЭД ЕАЭС\"].astype(str).str.contains(\"8518\")]"
   ]
  },
  {
   "cell_type": "code",
   "execution_count": 8,
   "metadata": {
    "id": "i6pMJHRepxfe"
   },
   "outputs": [],
   "source": [
    "# models = dict()\n",
    "# catboost_params = {\n",
    "#     'iterations': 500,\n",
    "#     'learning_rate': 0.1,\n",
    "#     \"loss_function\": 'MultiLogloss',\n",
    "#     # \"eval_metric\": 'TotalF1:average=Macro',\n",
    "#     'verbose': 10,\n",
    "#     # \"task_type\": \"GPU\",\n",
    "#     # \"devices\": '0',\n",
    "#     'early_stopping_rounds': 5,\n",
    "#     'random_seed': 42, \n",
    "#     'depth': 6,\n",
    "#     # \"dictionaries\": dictionaries\n",
    "# }"
   ]
  },
  {
   "cell_type": "code",
   "execution_count": 9,
   "metadata": {
    "colab": {
     "base_uri": "https://localhost:8080/",
     "height": 939,
     "referenced_widgets": [
      "2b5062437b204b5da10e79ceb0c34adb",
      "13ebdba610704e78aec9c2faeb77e04b"
     ]
    },
    "id": "E6m4gvv__sCa",
    "outputId": "2a6c5e38-bcb9-42bf-8df0-4c332a2bbcce"
   },
   "outputs": [],
   "source": [
    "# for TARGET_COL in [\"Технические регламенты\", \"Группа продукции\", \"Коды ТН ВЭД ЕАЭС\"]:\n",
    "#     tech_regulations_df = df[[\"Общее наименование продукции\", TARGET_COL]]\n",
    "#     tech_regulations_df = tech_regulations_df.dropna()\n",
    "#     print(tech_regulations_df.shape)\n",
    "#     tech_regulations_df = tech_regulations_df.drop_duplicates()\n",
    "#     tech_regulations_df[TARGET_COL] = tech_regulations_df[TARGET_COL].apply(\n",
    "#         lambda x: str(x).split(\"; \"))\n",
    "\n",
    "#     counter = Counter()\n",
    "#     for i, row in tech_regulations_df.iterrows():\n",
    "#         tnveds = row[TARGET_COL]\n",
    "#         for t in tnveds:\n",
    "#             counter[t] += 1\n",
    "#     good_cols = {k for k, v in counter.items() if v >= 5}\n",
    "#     tech_regulations_df = tech_regulations_df[\n",
    "#         tech_regulations_df[TARGET_COL].apply(\n",
    "#             lambda x: bool(set(x).intersection(good_cols)))\n",
    "#     ]\n",
    "#     print(tech_regulations_df.shape)\n",
    "#     # Уберем слишком много примеров из самых популярных классов\n",
    "#     seen_counter = Counter()\n",
    "#     to_drop_index = []\n",
    "#     min_val = sorted([v for v in counter.values()])[-5]\n",
    "#     for i, row in tech_regulations_df.iterrows():\n",
    "#         tnveds = row[TARGET_COL]\n",
    "#         for t in tnveds:\n",
    "#             seen_counter[t] += 1\n",
    "#         counts = min(seen_counter[t] for t in tnveds)\n",
    "#         if counts > min_val:\n",
    "#             to_drop_index.append(i)\n",
    "#     tech_regulations_df = tech_regulations_df[~tech_regulations_df.index.isin(to_drop_index)]\n",
    "\n",
    "#     tr_train, tr_val = train_test_split(tech_regulations_df, test_size=0.2, random_state=42)\n",
    "#     tr_val, tr_test = train_test_split(tr_val, test_size=0.5, random_state=42)\n",
    "\n",
    "#     mlb = MultiLabelBinarizer()\n",
    "#     mlb.fit(tr_train[TARGET_COL])\n",
    "#     models[f\"{TARGET_COL}_mlb\"] = mlb\n",
    "\n",
    "#     tfidf = TfidfVectorizer(analyzer=\"char\", ngram_range=(1, 2))\n",
    "#     tfidf.fit(tr_train[\"Общее наименование продукции\"])\n",
    "#     models[f\"{TARGET_COL}_tfidf\"] = tfidf\n",
    "#     print(\"tfidf trained\")\n",
    "\n",
    "#     catboost_params[\"class_names\"] = list(mlb.classes_)\n",
    "\n",
    "#     pools = dict()\n",
    "\n",
    "#     for dt_name, dt in [(\"train\", tr_train), (\"val\", tr_val), (\"test\", tr_test)]:\n",
    "#         vectors = np.array(\n",
    "#             tfidf.transform(dt[\"Общее наименование продукции\"]).todense())\n",
    "#         labels = mlb.transform(dt[TARGET_COL])\n",
    "#         pools[dt_name] = Pool(vectors, labels)\n",
    "\n",
    "#     print(\"pools created\")\n",
    "#     classifier = CatBoostClassifier(**catboost_params)\n",
    "\n",
    "#     classifier.fit(\n",
    "#         pools[\"train\"],\n",
    "#         eval_set=pools[\"val\"],\n",
    "#         early_stopping_rounds=10,\n",
    "#         plot=True\n",
    "#     )\n",
    "#     models[TARGET_COL] = classifier\n",
    "#     with open(\"drive/MyDrive/tomsk_models.pcl\", \"wb\") as f:\n",
    "#         pickle.dump(models, f)\n",
    "#     for pool_name, dt in [(\"val\", tr_val), (\"test\", tr_test)]:\n",
    "#         preds = classifier.predict(pools[pool_name])\n",
    "#         for average in (\"micro\", \"macro\"):\n",
    "#             score = f1_score(\n",
    "#                         mlb.transform(dt[TARGET_COL]),\n",
    "#                         preds,\n",
    "#                         average=average)\n",
    "#             print(pool_name, average, score)\n",
    "#             models[f\"{TARGET_COL}_{pool_name}_{average}\"] = score\n",
    "#     with open(\"drive/MyDrive/tomsk_models.pcl\", \"wb\") as f:\n",
    "#         pickle.dump(models, f)"
   ]
  },
  {
   "cell_type": "code",
   "execution_count": 10,
   "metadata": {
    "colab": {
     "base_uri": "https://localhost:8080/"
    },
    "id": "PyR-aZQ-En5d",
    "outputId": "e1458f06-cab4-4de3-9203-661a5a50a02b"
   },
   "outputs": [],
   "source": [
    "# ls \"./Группа продукции_trained\""
   ]
  },
  {
   "cell_type": "code",
   "execution_count": 11,
   "metadata": {
    "colab": {
     "base_uri": "https://localhost:8080/"
    },
    "id": "d0GiErXVEQeK",
    "outputId": "ef7c5349-a8ad-4f7e-cb5e-2a5af38b3de5"
   },
   "outputs": [],
   "source": [
    "# !zip -r product_model.zip \"./Группа продукции_trained/\""
   ]
  },
  {
   "cell_type": "code",
   "execution_count": 12,
   "metadata": {
    "id": "gC3FrDOVEwia"
   },
   "outputs": [],
   "source": [
    "# !cp product_model.zip drive/MyDrive/tomsk_product_model.zip"
   ]
  },
  {
   "cell_type": "code",
   "execution_count": null,
   "metadata": {
    "colab": {
     "base_uri": "https://localhost:8080/",
     "height": 1000,
     "referenced_widgets": [
      "e3451493aa814014a40153395ec65a5c",
      "63ff424012574585bf284d7d86e3f793",
      "f065d9d11d1444d887a98445f00c9659",
      "705fd58a8ecb45bb8c1ac9aeae8b59f6",
      "d6e1932ded1b4c3eb578544e25800e9a",
      "b43e1a1e540d4f7e9e278e0ea824ac4e",
      "a206aaa184ef419ca01a380541e2be43",
      "405136bf6b514e8a8ea69fedd1b1bab2",
      "8139ebe59e4f4f82a9b95f3530414cbf",
      "cfe72b48190340548ca9e89c5a49a37a",
      "e2c49aa111954e609e92308ff8903261",
      "47f64b4167bc470da0aeedf0ed3040fe",
      "f9c3f2e2784d4ea3b4ca7d5e06453d30",
      "0c9ab15f82bf416f91f8265601acab0f",
      "02fe14cc49414992a7939d9a20bd05d2",
      "9ff9817c363145eba7e9e5e3db679183",
      "255c985c8e944413a39b76fd2b43d1d4",
      "e70940d077c046c8b1dee3c5454dd65b",
      "28c3147d93064a3dbb044039cc3c6935",
      "a1503ef249c341acab7d7846b48e97fc",
      "93dd82a6ce9c40d78f7d13d80504ed1d",
      "fb3652afe95142cda9ed40b831d50f67",
      "8ff5f0fa110848b3b9952ad58237dc4e",
      "52b64903dd534d58b96fe772f683a35f",
      "ba3988b79d0b4edaa9658f0e569b6aa9",
      "0b514a8d469f408c978478911494d058",
      "aa291aad57c541448e48edfaf4bbeaba",
      "65039626f2554c78a081bb06687204cf",
      "4a5397558c2649dd89bf380561675f13",
      "48b20a7d80b04113ae7241c9177c66f1",
      "157079a1f737440c94408bc24587e44a",
      "3e5dc0af04f4423ab7869b054e78bf7e",
      "2a8eb994801c43e0bfcafd1cbfafb38e",
      "3c9071688e9e4496b5a744790ad55b57",
      "21d85791782e4af4849b70ef9971cd80",
      "a16334e7cf3e4d8caae6be2b87a1de53",
      "a6e4123642cc40cbbcb9a14b55de4b3c",
      "377b9157f3b94271bbe240608a42516c",
      "a51121471126493995d30f011d4502a1",
      "b845c28c6d3b4179af8d0082888cc240",
      "25b48f6062074c40a4a9546bdc8824aa",
      "ca1ed93523cb4d9da6aab20c9ea2151d",
      "09fefd5a217c44fcbc5ed484ba2380bc",
      "a562c3e6b795471295ddc2a1291018d5",
      "1f33ce9203d84c66832ded821796d103",
      "bac24e1f87ad46a48a23dd0ec59ba4dc",
      "1ab3bb07b19247169fc7385f15a816d6",
      "92261b303518410cb2a540d78f3fa7e5",
      "a8c88c5691404d42a7c37fda6c2b1c58",
      "1962b3cfd77c453fab9c3c5995f00aae",
      "105cc9c1efba499e8a33ba766113fa65",
      "dc9ba77ec0354d94a81325f7bad0bbde",
      "2efcfd0dc5a345d1b9461b4aa1256431",
      "bc184a9f473c4cbc852ac1fbdaed7c89",
      "63d12b97485c4c8dbb2f8b345688153a",
      "14abcd1ab5bf408cba1ceda8b6e46750",
      "a1b18c37132c4daeb36ff8b037f59c54",
      "22ae76dd13fd4d1082a2b80da420fccd",
      "55e9cc4ad5d84e5c9e9d2bd600d4db7a",
      "6f04df0a3a3f4ac7a010db5a715f4d12",
      "d4c914b585a042aa9c570a0f7d0fc6ae",
      "2002046fe4c54c0db1ccca870d213f59",
      "d7c4855f4fd14bc1855db22fc5d43300",
      "b40bf694389e46508e85b21f2e013015",
      "527d701caaf34225a2cd98dafbd60326",
      "c18ede86b08f4564a4bf309020616d78"
     ]
    },
    "id": "oElzWUlZVuuJ",
    "outputId": "f212efea-ca60-4c17-8f45-809e8b74751d"
   },
   "outputs": [
    {
     "name": "stdout",
     "output_type": "stream",
     "text": [
      "(49327, 2)\n",
      "(37453, 2)\n"
     ]
    },
    {
     "data": {
      "application/vnd.jupyter.widget-view+json": {
       "model_id": "1c99a236f85e46c1a29c55552cb3960f",
       "version_major": 2,
       "version_minor": 0
      },
      "text/plain": [
       "  0%|          | 0/22 [00:00<?, ?ba/s]"
      ]
     },
     "metadata": {},
     "output_type": "display_data"
    },
    {
     "name": "stderr",
     "output_type": "stream",
     "text": [
      "C:\\Users\\Admin\\anaconda3\\lib\\site-packages\\sklearn\\preprocessing\\_label.py:875: UserWarning: unknown class(es) ['XX'] will be ignored\n",
      "  warnings.warn(\n"
     ]
    },
    {
     "data": {
      "application/vnd.jupyter.widget-view+json": {
       "model_id": "39e37b3976a84ff2b1873cf1102f36bd",
       "version_major": 2,
       "version_minor": 0
      },
      "text/plain": [
       "  0%|          | 0/3 [00:00<?, ?ba/s]"
      ]
     },
     "metadata": {},
     "output_type": "display_data"
    },
    {
     "name": "stderr",
     "output_type": "stream",
     "text": [
      "C:\\Users\\Admin\\anaconda3\\lib\\site-packages\\sklearn\\preprocessing\\_label.py:875: UserWarning: unknown class(es) ['72', '81'] will be ignored\n",
      "  warnings.warn(\n"
     ]
    },
    {
     "data": {
      "application/vnd.jupyter.widget-view+json": {
       "model_id": "780269de25564996bf5c8c9dfb567626",
       "version_major": 2,
       "version_minor": 0
      },
      "text/plain": [
       "  0%|          | 0/3 [00:00<?, ?ba/s]"
      ]
     },
     "metadata": {},
     "output_type": "display_data"
    },
    {
     "name": "stderr",
     "output_type": "stream",
     "text": [
      "Some weights of the model checkpoint at cointegrated/rubert-tiny2 were not used when initializing BertForSequenceClassification: ['cls.seq_relationship.bias', 'cls.predictions.transform.dense.weight', 'cls.predictions.decoder.weight', 'cls.predictions.bias', 'cls.predictions.decoder.bias', 'cls.predictions.transform.LayerNorm.bias', 'cls.seq_relationship.weight', 'cls.predictions.transform.dense.bias', 'cls.predictions.transform.LayerNorm.weight']\n",
      "- This IS expected if you are initializing BertForSequenceClassification from the checkpoint of a model trained on another task or with another architecture (e.g. initializing a BertForSequenceClassification model from a BertForPreTraining model).\n",
      "- This IS NOT expected if you are initializing BertForSequenceClassification from the checkpoint of a model that you expect to be exactly identical (initializing a BertForSequenceClassification model from a BertForSequenceClassification model).\n",
      "Some weights of BertForSequenceClassification were not initialized from the model checkpoint at cointegrated/rubert-tiny2 and are newly initialized: ['classifier.bias', 'classifier.weight']\n",
      "You should probably TRAIN this model on a down-stream task to be able to use it for predictions and inference.\n",
      "The following columns in the evaluation set don't have a corresponding argument in `BertForSequenceClassification.forward` and have been ignored: __index_level_0__, Общее наименование продукции. If __index_level_0__, Общее наименование продукции are not expected by `BertForSequenceClassification.forward`,  you can safely ignore this message.\n",
      "***** Running Evaluation *****\n",
      "  Num examples = 2719\n",
      "  Batch size = 64\n"
     ]
    },
    {
     "data": {
      "text/html": [
       "\n",
       "    <div>\n",
       "      \n",
       "      <progress value='86' max='43' style='width:300px; height:20px; vertical-align: middle;'></progress>\n",
       "      [43/43 00:35]\n",
       "    </div>\n",
       "    "
      ],
      "text/plain": [
       "<IPython.core.display.HTML object>"
      ]
     },
     "metadata": {},
     "output_type": "display_data"
    },
    {
     "name": "stderr",
     "output_type": "stream",
     "text": [
      "C:\\Users\\Admin\\anaconda3\\lib\\site-packages\\sklearn\\metrics\\_classification.py:1580: UndefinedMetricWarning: F-score is ill-defined and being set to 0.0 in labels with no true nor predicted samples. Use `zero_division` parameter to control this behavior.\n",
      "  _warn_prf(average, \"true nor predicted\", \"F-score is\", len(true_sum))\n",
      "C:\\Users\\Admin\\anaconda3\\lib\\site-packages\\sklearn\\metrics\\_classification.py:1580: UndefinedMetricWarning: F-score is ill-defined and being set to 0.0 in labels with no true nor predicted samples. Use `zero_division` parameter to control this behavior.\n",
      "  _warn_prf(average, \"true nor predicted\", \"F-score is\", len(true_sum))\n",
      "The following columns in the training set don't have a corresponding argument in `BertForSequenceClassification.forward` and have been ignored: __index_level_0__, Общее наименование продукции. If __index_level_0__, Общее наименование продукции are not expected by `BertForSequenceClassification.forward`,  you can safely ignore this message.\n",
      "C:\\Users\\Admin\\anaconda3\\lib\\site-packages\\transformers\\optimization.py:306: FutureWarning: This implementation of AdamW is deprecated and will be removed in a future version. Use the PyTorch implementation torch.optim.AdamW instead, or set `no_deprecation_warning=True` to disable this warning\n",
      "  warnings.warn(\n",
      "***** Running training *****\n",
      "  Num examples = 21752\n",
      "  Num Epochs = 100\n",
      "  Instantaneous batch size per device = 64\n",
      "  Total train batch size (w. parallel, distributed & accumulation) = 64\n",
      "  Gradient Accumulation steps = 1\n",
      "  Total optimization steps = 34000\n"
     ]
    },
    {
     "data": {
      "text/html": [
       "\n",
       "    <div>\n",
       "      \n",
       "      <progress value='3740' max='34000' style='width:300px; height:20px; vertical-align: middle;'></progress>\n",
       "      [ 3740/34000 06:36 < 53:26, 9.44 it/s, Epoch 11/100]\n",
       "    </div>\n",
       "    <table border=\"1\" class=\"dataframe\">\n",
       "  <thead>\n",
       " <tr style=\"text-align: left;\">\n",
       "      <th>Epoch</th>\n",
       "      <th>Training Loss</th>\n",
       "      <th>Validation Loss</th>\n",
       "      <th>Accuracy Thresh</th>\n",
       "      <th>Accuracy</th>\n",
       "      <th>F1 Micro</th>\n",
       "      <th>F1 Macro</th>\n",
       "      <th>F1 0</th>\n",
       "      <th>F1 1</th>\n",
       "      <th>F1 2</th>\n",
       "      <th>F1 3</th>\n",
       "      <th>F1 4</th>\n",
       "      <th>F1 5</th>\n",
       "      <th>F1 6</th>\n",
       "      <th>F1 7</th>\n",
       "      <th>F1 8</th>\n",
       "      <th>F1 9</th>\n",
       "      <th>F1 10</th>\n",
       "      <th>F1 11</th>\n",
       "      <th>F1 12</th>\n",
       "      <th>F1 13</th>\n",
       "      <th>F1 14</th>\n",
       "      <th>F1 15</th>\n",
       "      <th>F1 16</th>\n",
       "      <th>F1 17</th>\n",
       "      <th>F1 18</th>\n",
       "      <th>F1 19</th>\n",
       "      <th>F1 20</th>\n",
       "      <th>F1 21</th>\n",
       "      <th>F1 22</th>\n",
       "      <th>F1 23</th>\n",
       "      <th>F1 24</th>\n",
       "      <th>F1 25</th>\n",
       "      <th>F1 26</th>\n",
       "      <th>F1 27</th>\n",
       "      <th>F1 28</th>\n",
       "      <th>F1 29</th>\n",
       "      <th>F1 30</th>\n",
       "      <th>F1 31</th>\n",
       "      <th>F1 32</th>\n",
       "      <th>F1 33</th>\n",
       "      <th>F1 34</th>\n",
       "      <th>F1 35</th>\n",
       "      <th>F1 36</th>\n",
       "      <th>F1 37</th>\n",
       "      <th>F1 38</th>\n",
       "      <th>F1 39</th>\n",
       "      <th>F1 40</th>\n",
       "      <th>F1 41</th>\n",
       "      <th>F1 42</th>\n",
       "      <th>F1 43</th>\n",
       "      <th>F1 44</th>\n",
       "      <th>F1 45</th>\n",
       "      <th>F1 46</th>\n",
       "      <th>F1 47</th>\n",
       "      <th>F1 48</th>\n",
       "      <th>F1 49</th>\n",
       "    </tr>\n",
       "  </thead>\n",
       "  <tbody>\n",
       "    <tr>\n",
       "      <td>1</td>\n",
       "      <td>No log</td>\n",
       "      <td>0.066626</td>\n",
       "      <td>0.978867</td>\n",
       "      <td>0.000000</td>\n",
       "      <td>0.000000</td>\n",
       "      <td>0.000000</td>\n",
       "      <td>0.000000</td>\n",
       "      <td>0.000000</td>\n",
       "      <td>0.000000</td>\n",
       "      <td>0.000000</td>\n",
       "      <td>0.000000</td>\n",
       "      <td>0.000000</td>\n",
       "      <td>0.000000</td>\n",
       "      <td>0.000000</td>\n",
       "      <td>0.000000</td>\n",
       "      <td>0.000000</td>\n",
       "      <td>0.000000</td>\n",
       "      <td>0.000000</td>\n",
       "      <td>0.000000</td>\n",
       "      <td>0.000000</td>\n",
       "      <td>0.000000</td>\n",
       "      <td>0.000000</td>\n",
       "      <td>0.000000</td>\n",
       "      <td>0.000000</td>\n",
       "      <td>0.000000</td>\n",
       "      <td>0.000000</td>\n",
       "      <td>0.000000</td>\n",
       "      <td>0.000000</td>\n",
       "      <td>0.000000</td>\n",
       "      <td>0.000000</td>\n",
       "      <td>0.000000</td>\n",
       "      <td>0.000000</td>\n",
       "      <td>0.000000</td>\n",
       "      <td>0.000000</td>\n",
       "      <td>0.000000</td>\n",
       "      <td>0.000000</td>\n",
       "      <td>0.000000</td>\n",
       "      <td>0.000000</td>\n",
       "      <td>0.000000</td>\n",
       "      <td>0.000000</td>\n",
       "      <td>0.000000</td>\n",
       "      <td>0.000000</td>\n",
       "      <td>0.000000</td>\n",
       "      <td>0.000000</td>\n",
       "      <td>0.000000</td>\n",
       "      <td>0.000000</td>\n",
       "      <td>0.000000</td>\n",
       "      <td>0.000000</td>\n",
       "      <td>0.000000</td>\n",
       "      <td>0.000000</td>\n",
       "      <td>0.000000</td>\n",
       "      <td>0.000000</td>\n",
       "      <td>0.000000</td>\n",
       "      <td>0.000000</td>\n",
       "      <td>0.000000</td>\n",
       "      <td>0.000000</td>\n",
       "    </tr>\n",
       "    <tr>\n",
       "      <td>2</td>\n",
       "      <td>0.080900</td>\n",
       "      <td>0.069170</td>\n",
       "      <td>0.978867</td>\n",
       "      <td>0.000000</td>\n",
       "      <td>0.000000</td>\n",
       "      <td>0.000000</td>\n",
       "      <td>0.000000</td>\n",
       "      <td>0.000000</td>\n",
       "      <td>0.000000</td>\n",
       "      <td>0.000000</td>\n",
       "      <td>0.000000</td>\n",
       "      <td>0.000000</td>\n",
       "      <td>0.000000</td>\n",
       "      <td>0.000000</td>\n",
       "      <td>0.000000</td>\n",
       "      <td>0.000000</td>\n",
       "      <td>0.000000</td>\n",
       "      <td>0.000000</td>\n",
       "      <td>0.000000</td>\n",
       "      <td>0.000000</td>\n",
       "      <td>0.000000</td>\n",
       "      <td>0.000000</td>\n",
       "      <td>0.000000</td>\n",
       "      <td>0.000000</td>\n",
       "      <td>0.000000</td>\n",
       "      <td>0.000000</td>\n",
       "      <td>0.000000</td>\n",
       "      <td>0.000000</td>\n",
       "      <td>0.000000</td>\n",
       "      <td>0.000000</td>\n",
       "      <td>0.000000</td>\n",
       "      <td>0.000000</td>\n",
       "      <td>0.000000</td>\n",
       "      <td>0.000000</td>\n",
       "      <td>0.000000</td>\n",
       "      <td>0.000000</td>\n",
       "      <td>0.000000</td>\n",
       "      <td>0.000000</td>\n",
       "      <td>0.000000</td>\n",
       "      <td>0.000000</td>\n",
       "      <td>0.000000</td>\n",
       "      <td>0.000000</td>\n",
       "      <td>0.000000</td>\n",
       "      <td>0.000000</td>\n",
       "      <td>0.000000</td>\n",
       "      <td>0.000000</td>\n",
       "      <td>0.000000</td>\n",
       "      <td>0.000000</td>\n",
       "      <td>0.000000</td>\n",
       "      <td>0.000000</td>\n",
       "      <td>0.000000</td>\n",
       "      <td>0.000000</td>\n",
       "      <td>0.000000</td>\n",
       "      <td>0.000000</td>\n",
       "      <td>0.000000</td>\n",
       "      <td>0.000000</td>\n",
       "    </tr>\n",
       "    <tr>\n",
       "      <td>3</td>\n",
       "      <td>0.071100</td>\n",
       "      <td>0.079172</td>\n",
       "      <td>0.978867</td>\n",
       "      <td>0.000000</td>\n",
       "      <td>0.000000</td>\n",
       "      <td>0.000000</td>\n",
       "      <td>0.000000</td>\n",
       "      <td>0.000000</td>\n",
       "      <td>0.000000</td>\n",
       "      <td>0.000000</td>\n",
       "      <td>0.000000</td>\n",
       "      <td>0.000000</td>\n",
       "      <td>0.000000</td>\n",
       "      <td>0.000000</td>\n",
       "      <td>0.000000</td>\n",
       "      <td>0.000000</td>\n",
       "      <td>0.000000</td>\n",
       "      <td>0.000000</td>\n",
       "      <td>0.000000</td>\n",
       "      <td>0.000000</td>\n",
       "      <td>0.000000</td>\n",
       "      <td>0.000000</td>\n",
       "      <td>0.000000</td>\n",
       "      <td>0.000000</td>\n",
       "      <td>0.000000</td>\n",
       "      <td>0.000000</td>\n",
       "      <td>0.000000</td>\n",
       "      <td>0.000000</td>\n",
       "      <td>0.000000</td>\n",
       "      <td>0.000000</td>\n",
       "      <td>0.000000</td>\n",
       "      <td>0.000000</td>\n",
       "      <td>0.000000</td>\n",
       "      <td>0.000000</td>\n",
       "      <td>0.000000</td>\n",
       "      <td>0.000000</td>\n",
       "      <td>0.000000</td>\n",
       "      <td>0.000000</td>\n",
       "      <td>0.000000</td>\n",
       "      <td>0.000000</td>\n",
       "      <td>0.000000</td>\n",
       "      <td>0.000000</td>\n",
       "      <td>0.000000</td>\n",
       "      <td>0.000000</td>\n",
       "      <td>0.000000</td>\n",
       "      <td>0.000000</td>\n",
       "      <td>0.000000</td>\n",
       "      <td>0.000000</td>\n",
       "      <td>0.000000</td>\n",
       "      <td>0.000000</td>\n",
       "      <td>0.000000</td>\n",
       "      <td>0.000000</td>\n",
       "      <td>0.000000</td>\n",
       "      <td>0.000000</td>\n",
       "      <td>0.000000</td>\n",
       "      <td>0.000000</td>\n",
       "    </tr>\n",
       "    <tr>\n",
       "      <td>4</td>\n",
       "      <td>0.071100</td>\n",
       "      <td>0.069233</td>\n",
       "      <td>0.978867</td>\n",
       "      <td>0.000000</td>\n",
       "      <td>0.000000</td>\n",
       "      <td>0.000000</td>\n",
       "      <td>0.000000</td>\n",
       "      <td>0.000000</td>\n",
       "      <td>0.000000</td>\n",
       "      <td>0.000000</td>\n",
       "      <td>0.000000</td>\n",
       "      <td>0.000000</td>\n",
       "      <td>0.000000</td>\n",
       "      <td>0.000000</td>\n",
       "      <td>0.000000</td>\n",
       "      <td>0.000000</td>\n",
       "      <td>0.000000</td>\n",
       "      <td>0.000000</td>\n",
       "      <td>0.000000</td>\n",
       "      <td>0.000000</td>\n",
       "      <td>0.000000</td>\n",
       "      <td>0.000000</td>\n",
       "      <td>0.000000</td>\n",
       "      <td>0.000000</td>\n",
       "      <td>0.000000</td>\n",
       "      <td>0.000000</td>\n",
       "      <td>0.000000</td>\n",
       "      <td>0.000000</td>\n",
       "      <td>0.000000</td>\n",
       "      <td>0.000000</td>\n",
       "      <td>0.000000</td>\n",
       "      <td>0.000000</td>\n",
       "      <td>0.000000</td>\n",
       "      <td>0.000000</td>\n",
       "      <td>0.000000</td>\n",
       "      <td>0.000000</td>\n",
       "      <td>0.000000</td>\n",
       "      <td>0.000000</td>\n",
       "      <td>0.000000</td>\n",
       "      <td>0.000000</td>\n",
       "      <td>0.000000</td>\n",
       "      <td>0.000000</td>\n",
       "      <td>0.000000</td>\n",
       "      <td>0.000000</td>\n",
       "      <td>0.000000</td>\n",
       "      <td>0.000000</td>\n",
       "      <td>0.000000</td>\n",
       "      <td>0.000000</td>\n",
       "      <td>0.000000</td>\n",
       "      <td>0.000000</td>\n",
       "      <td>0.000000</td>\n",
       "      <td>0.000000</td>\n",
       "      <td>0.000000</td>\n",
       "      <td>0.000000</td>\n",
       "      <td>0.000000</td>\n",
       "      <td>0.000000</td>\n",
       "    </tr>\n",
       "    <tr>\n",
       "      <td>5</td>\n",
       "      <td>0.071700</td>\n",
       "      <td>0.073765</td>\n",
       "      <td>0.978867</td>\n",
       "      <td>0.000000</td>\n",
       "      <td>0.000000</td>\n",
       "      <td>0.000000</td>\n",
       "      <td>0.000000</td>\n",
       "      <td>0.000000</td>\n",
       "      <td>0.000000</td>\n",
       "      <td>0.000000</td>\n",
       "      <td>0.000000</td>\n",
       "      <td>0.000000</td>\n",
       "      <td>0.000000</td>\n",
       "      <td>0.000000</td>\n",
       "      <td>0.000000</td>\n",
       "      <td>0.000000</td>\n",
       "      <td>0.000000</td>\n",
       "      <td>0.000000</td>\n",
       "      <td>0.000000</td>\n",
       "      <td>0.000000</td>\n",
       "      <td>0.000000</td>\n",
       "      <td>0.000000</td>\n",
       "      <td>0.000000</td>\n",
       "      <td>0.000000</td>\n",
       "      <td>0.000000</td>\n",
       "      <td>0.000000</td>\n",
       "      <td>0.000000</td>\n",
       "      <td>0.000000</td>\n",
       "      <td>0.000000</td>\n",
       "      <td>0.000000</td>\n",
       "      <td>0.000000</td>\n",
       "      <td>0.000000</td>\n",
       "      <td>0.000000</td>\n",
       "      <td>0.000000</td>\n",
       "      <td>0.000000</td>\n",
       "      <td>0.000000</td>\n",
       "      <td>0.000000</td>\n",
       "      <td>0.000000</td>\n",
       "      <td>0.000000</td>\n",
       "      <td>0.000000</td>\n",
       "      <td>0.000000</td>\n",
       "      <td>0.000000</td>\n",
       "      <td>0.000000</td>\n",
       "      <td>0.000000</td>\n",
       "      <td>0.000000</td>\n",
       "      <td>0.000000</td>\n",
       "      <td>0.000000</td>\n",
       "      <td>0.000000</td>\n",
       "      <td>0.000000</td>\n",
       "      <td>0.000000</td>\n",
       "      <td>0.000000</td>\n",
       "      <td>0.000000</td>\n",
       "      <td>0.000000</td>\n",
       "      <td>0.000000</td>\n",
       "      <td>0.000000</td>\n",
       "      <td>0.000000</td>\n",
       "    </tr>\n",
       "    <tr>\n",
       "      <td>6</td>\n",
       "      <td>0.072600</td>\n",
       "      <td>0.078976</td>\n",
       "      <td>0.978867</td>\n",
       "      <td>0.000000</td>\n",
       "      <td>0.000000</td>\n",
       "      <td>0.000000</td>\n",
       "      <td>0.000000</td>\n",
       "      <td>0.000000</td>\n",
       "      <td>0.000000</td>\n",
       "      <td>0.000000</td>\n",
       "      <td>0.000000</td>\n",
       "      <td>0.000000</td>\n",
       "      <td>0.000000</td>\n",
       "      <td>0.000000</td>\n",
       "      <td>0.000000</td>\n",
       "      <td>0.000000</td>\n",
       "      <td>0.000000</td>\n",
       "      <td>0.000000</td>\n",
       "      <td>0.000000</td>\n",
       "      <td>0.000000</td>\n",
       "      <td>0.000000</td>\n",
       "      <td>0.000000</td>\n",
       "      <td>0.000000</td>\n",
       "      <td>0.000000</td>\n",
       "      <td>0.000000</td>\n",
       "      <td>0.000000</td>\n",
       "      <td>0.000000</td>\n",
       "      <td>0.000000</td>\n",
       "      <td>0.000000</td>\n",
       "      <td>0.000000</td>\n",
       "      <td>0.000000</td>\n",
       "      <td>0.000000</td>\n",
       "      <td>0.000000</td>\n",
       "      <td>0.000000</td>\n",
       "      <td>0.000000</td>\n",
       "      <td>0.000000</td>\n",
       "      <td>0.000000</td>\n",
       "      <td>0.000000</td>\n",
       "      <td>0.000000</td>\n",
       "      <td>0.000000</td>\n",
       "      <td>0.000000</td>\n",
       "      <td>0.000000</td>\n",
       "      <td>0.000000</td>\n",
       "      <td>0.000000</td>\n",
       "      <td>0.000000</td>\n",
       "      <td>0.000000</td>\n",
       "      <td>0.000000</td>\n",
       "      <td>0.000000</td>\n",
       "      <td>0.000000</td>\n",
       "      <td>0.000000</td>\n",
       "      <td>0.000000</td>\n",
       "      <td>0.000000</td>\n",
       "      <td>0.000000</td>\n",
       "      <td>0.000000</td>\n",
       "      <td>0.000000</td>\n",
       "      <td>0.000000</td>\n",
       "    </tr>\n",
       "    <tr>\n",
       "      <td>7</td>\n",
       "      <td>0.072600</td>\n",
       "      <td>0.078777</td>\n",
       "      <td>0.978867</td>\n",
       "      <td>0.000000</td>\n",
       "      <td>0.000000</td>\n",
       "      <td>0.000000</td>\n",
       "      <td>0.000000</td>\n",
       "      <td>0.000000</td>\n",
       "      <td>0.000000</td>\n",
       "      <td>0.000000</td>\n",
       "      <td>0.000000</td>\n",
       "      <td>0.000000</td>\n",
       "      <td>0.000000</td>\n",
       "      <td>0.000000</td>\n",
       "      <td>0.000000</td>\n",
       "      <td>0.000000</td>\n",
       "      <td>0.000000</td>\n",
       "      <td>0.000000</td>\n",
       "      <td>0.000000</td>\n",
       "      <td>0.000000</td>\n",
       "      <td>0.000000</td>\n",
       "      <td>0.000000</td>\n",
       "      <td>0.000000</td>\n",
       "      <td>0.000000</td>\n",
       "      <td>0.000000</td>\n",
       "      <td>0.000000</td>\n",
       "      <td>0.000000</td>\n",
       "      <td>0.000000</td>\n",
       "      <td>0.000000</td>\n",
       "      <td>0.000000</td>\n",
       "      <td>0.000000</td>\n",
       "      <td>0.000000</td>\n",
       "      <td>0.000000</td>\n",
       "      <td>0.000000</td>\n",
       "      <td>0.000000</td>\n",
       "      <td>0.000000</td>\n",
       "      <td>0.000000</td>\n",
       "      <td>0.000000</td>\n",
       "      <td>0.000000</td>\n",
       "      <td>0.000000</td>\n",
       "      <td>0.000000</td>\n",
       "      <td>0.000000</td>\n",
       "      <td>0.000000</td>\n",
       "      <td>0.000000</td>\n",
       "      <td>0.000000</td>\n",
       "      <td>0.000000</td>\n",
       "      <td>0.000000</td>\n",
       "      <td>0.000000</td>\n",
       "      <td>0.000000</td>\n",
       "      <td>0.000000</td>\n",
       "      <td>0.000000</td>\n",
       "      <td>0.000000</td>\n",
       "      <td>0.000000</td>\n",
       "      <td>0.000000</td>\n",
       "      <td>0.000000</td>\n",
       "      <td>0.000000</td>\n",
       "    </tr>\n",
       "    <tr>\n",
       "      <td>8</td>\n",
       "      <td>0.077400</td>\n",
       "      <td>0.078368</td>\n",
       "      <td>0.978867</td>\n",
       "      <td>0.000000</td>\n",
       "      <td>0.000000</td>\n",
       "      <td>0.000000</td>\n",
       "      <td>0.000000</td>\n",
       "      <td>0.000000</td>\n",
       "      <td>0.000000</td>\n",
       "      <td>0.000000</td>\n",
       "      <td>0.000000</td>\n",
       "      <td>0.000000</td>\n",
       "      <td>0.000000</td>\n",
       "      <td>0.000000</td>\n",
       "      <td>0.000000</td>\n",
       "      <td>0.000000</td>\n",
       "      <td>0.000000</td>\n",
       "      <td>0.000000</td>\n",
       "      <td>0.000000</td>\n",
       "      <td>0.000000</td>\n",
       "      <td>0.000000</td>\n",
       "      <td>0.000000</td>\n",
       "      <td>0.000000</td>\n",
       "      <td>0.000000</td>\n",
       "      <td>0.000000</td>\n",
       "      <td>0.000000</td>\n",
       "      <td>0.000000</td>\n",
       "      <td>0.000000</td>\n",
       "      <td>0.000000</td>\n",
       "      <td>0.000000</td>\n",
       "      <td>0.000000</td>\n",
       "      <td>0.000000</td>\n",
       "      <td>0.000000</td>\n",
       "      <td>0.000000</td>\n",
       "      <td>0.000000</td>\n",
       "      <td>0.000000</td>\n",
       "      <td>0.000000</td>\n",
       "      <td>0.000000</td>\n",
       "      <td>0.000000</td>\n",
       "      <td>0.000000</td>\n",
       "      <td>0.000000</td>\n",
       "      <td>0.000000</td>\n",
       "      <td>0.000000</td>\n",
       "      <td>0.000000</td>\n",
       "      <td>0.000000</td>\n",
       "      <td>0.000000</td>\n",
       "      <td>0.000000</td>\n",
       "      <td>0.000000</td>\n",
       "      <td>0.000000</td>\n",
       "      <td>0.000000</td>\n",
       "      <td>0.000000</td>\n",
       "      <td>0.000000</td>\n",
       "      <td>0.000000</td>\n",
       "      <td>0.000000</td>\n",
       "      <td>0.000000</td>\n",
       "      <td>0.000000</td>\n",
       "    </tr>\n",
       "    <tr>\n",
       "      <td>9</td>\n",
       "      <td>0.077300</td>\n",
       "      <td>0.078374</td>\n",
       "      <td>0.978867</td>\n",
       "      <td>0.000000</td>\n",
       "      <td>0.000000</td>\n",
       "      <td>0.000000</td>\n",
       "      <td>0.000000</td>\n",
       "      <td>0.000000</td>\n",
       "      <td>0.000000</td>\n",
       "      <td>0.000000</td>\n",
       "      <td>0.000000</td>\n",
       "      <td>0.000000</td>\n",
       "      <td>0.000000</td>\n",
       "      <td>0.000000</td>\n",
       "      <td>0.000000</td>\n",
       "      <td>0.000000</td>\n",
       "      <td>0.000000</td>\n",
       "      <td>0.000000</td>\n",
       "      <td>0.000000</td>\n",
       "      <td>0.000000</td>\n",
       "      <td>0.000000</td>\n",
       "      <td>0.000000</td>\n",
       "      <td>0.000000</td>\n",
       "      <td>0.000000</td>\n",
       "      <td>0.000000</td>\n",
       "      <td>0.000000</td>\n",
       "      <td>0.000000</td>\n",
       "      <td>0.000000</td>\n",
       "      <td>0.000000</td>\n",
       "      <td>0.000000</td>\n",
       "      <td>0.000000</td>\n",
       "      <td>0.000000</td>\n",
       "      <td>0.000000</td>\n",
       "      <td>0.000000</td>\n",
       "      <td>0.000000</td>\n",
       "      <td>0.000000</td>\n",
       "      <td>0.000000</td>\n",
       "      <td>0.000000</td>\n",
       "      <td>0.000000</td>\n",
       "      <td>0.000000</td>\n",
       "      <td>0.000000</td>\n",
       "      <td>0.000000</td>\n",
       "      <td>0.000000</td>\n",
       "      <td>0.000000</td>\n",
       "      <td>0.000000</td>\n",
       "      <td>0.000000</td>\n",
       "      <td>0.000000</td>\n",
       "      <td>0.000000</td>\n",
       "      <td>0.000000</td>\n",
       "      <td>0.000000</td>\n",
       "      <td>0.000000</td>\n",
       "      <td>0.000000</td>\n",
       "      <td>0.000000</td>\n",
       "      <td>0.000000</td>\n",
       "      <td>0.000000</td>\n",
       "      <td>0.000000</td>\n",
       "    </tr>\n",
       "    <tr>\n",
       "      <td>10</td>\n",
       "      <td>0.077300</td>\n",
       "      <td>0.078505</td>\n",
       "      <td>0.978867</td>\n",
       "      <td>0.000000</td>\n",
       "      <td>0.000000</td>\n",
       "      <td>0.000000</td>\n",
       "      <td>0.000000</td>\n",
       "      <td>0.000000</td>\n",
       "      <td>0.000000</td>\n",
       "      <td>0.000000</td>\n",
       "      <td>0.000000</td>\n",
       "      <td>0.000000</td>\n",
       "      <td>0.000000</td>\n",
       "      <td>0.000000</td>\n",
       "      <td>0.000000</td>\n",
       "      <td>0.000000</td>\n",
       "      <td>0.000000</td>\n",
       "      <td>0.000000</td>\n",
       "      <td>0.000000</td>\n",
       "      <td>0.000000</td>\n",
       "      <td>0.000000</td>\n",
       "      <td>0.000000</td>\n",
       "      <td>0.000000</td>\n",
       "      <td>0.000000</td>\n",
       "      <td>0.000000</td>\n",
       "      <td>0.000000</td>\n",
       "      <td>0.000000</td>\n",
       "      <td>0.000000</td>\n",
       "      <td>0.000000</td>\n",
       "      <td>0.000000</td>\n",
       "      <td>0.000000</td>\n",
       "      <td>0.000000</td>\n",
       "      <td>0.000000</td>\n",
       "      <td>0.000000</td>\n",
       "      <td>0.000000</td>\n",
       "      <td>0.000000</td>\n",
       "      <td>0.000000</td>\n",
       "      <td>0.000000</td>\n",
       "      <td>0.000000</td>\n",
       "      <td>0.000000</td>\n",
       "      <td>0.000000</td>\n",
       "      <td>0.000000</td>\n",
       "      <td>0.000000</td>\n",
       "      <td>0.000000</td>\n",
       "      <td>0.000000</td>\n",
       "      <td>0.000000</td>\n",
       "      <td>0.000000</td>\n",
       "      <td>0.000000</td>\n",
       "      <td>0.000000</td>\n",
       "      <td>0.000000</td>\n",
       "      <td>0.000000</td>\n",
       "      <td>0.000000</td>\n",
       "      <td>0.000000</td>\n",
       "      <td>0.000000</td>\n",
       "      <td>0.000000</td>\n",
       "      <td>0.000000</td>\n",
       "    </tr>\n",
       "    <tr>\n",
       "      <td>11</td>\n",
       "      <td>0.077400</td>\n",
       "      <td>0.078953</td>\n",
       "      <td>0.978867</td>\n",
       "      <td>0.000000</td>\n",
       "      <td>0.000000</td>\n",
       "      <td>0.000000</td>\n",
       "      <td>0.000000</td>\n",
       "      <td>0.000000</td>\n",
       "      <td>0.000000</td>\n",
       "      <td>0.000000</td>\n",
       "      <td>0.000000</td>\n",
       "      <td>0.000000</td>\n",
       "      <td>0.000000</td>\n",
       "      <td>0.000000</td>\n",
       "      <td>0.000000</td>\n",
       "      <td>0.000000</td>\n",
       "      <td>0.000000</td>\n",
       "      <td>0.000000</td>\n",
       "      <td>0.000000</td>\n",
       "      <td>0.000000</td>\n",
       "      <td>0.000000</td>\n",
       "      <td>0.000000</td>\n",
       "      <td>0.000000</td>\n",
       "      <td>0.000000</td>\n",
       "      <td>0.000000</td>\n",
       "      <td>0.000000</td>\n",
       "      <td>0.000000</td>\n",
       "      <td>0.000000</td>\n",
       "      <td>0.000000</td>\n",
       "      <td>0.000000</td>\n",
       "      <td>0.000000</td>\n",
       "      <td>0.000000</td>\n",
       "      <td>0.000000</td>\n",
       "      <td>0.000000</td>\n",
       "      <td>0.000000</td>\n",
       "      <td>0.000000</td>\n",
       "      <td>0.000000</td>\n",
       "      <td>0.000000</td>\n",
       "      <td>0.000000</td>\n",
       "      <td>0.000000</td>\n",
       "      <td>0.000000</td>\n",
       "      <td>0.000000</td>\n",
       "      <td>0.000000</td>\n",
       "      <td>0.000000</td>\n",
       "      <td>0.000000</td>\n",
       "      <td>0.000000</td>\n",
       "      <td>0.000000</td>\n",
       "      <td>0.000000</td>\n",
       "      <td>0.000000</td>\n",
       "      <td>0.000000</td>\n",
       "      <td>0.000000</td>\n",
       "      <td>0.000000</td>\n",
       "      <td>0.000000</td>\n",
       "      <td>0.000000</td>\n",
       "      <td>0.000000</td>\n",
       "      <td>0.000000</td>\n",
       "    </tr>\n",
       "  </tbody>\n",
       "</table><p>"
      ],
      "text/plain": [
       "<IPython.core.display.HTML object>"
      ]
     },
     "metadata": {},
     "output_type": "display_data"
    },
    {
     "name": "stderr",
     "output_type": "stream",
     "text": [
      "The following columns in the evaluation set don't have a corresponding argument in `BertForSequenceClassification.forward` and have been ignored: __index_level_0__, Общее наименование продукции. If __index_level_0__, Общее наименование продукции are not expected by `BertForSequenceClassification.forward`,  you can safely ignore this message.\n",
      "***** Running Evaluation *****\n",
      "  Num examples = 2719\n",
      "  Batch size = 64\n",
      "C:\\Users\\Admin\\anaconda3\\lib\\site-packages\\sklearn\\metrics\\_classification.py:1580: UndefinedMetricWarning: F-score is ill-defined and being set to 0.0 in labels with no true nor predicted samples. Use `zero_division` parameter to control this behavior.\n",
      "  _warn_prf(average, \"true nor predicted\", \"F-score is\", len(true_sum))\n",
      "C:\\Users\\Admin\\anaconda3\\lib\\site-packages\\sklearn\\metrics\\_classification.py:1580: UndefinedMetricWarning: F-score is ill-defined and being set to 0.0 in labels with no true nor predicted samples. Use `zero_division` parameter to control this behavior.\n",
      "  _warn_prf(average, \"true nor predicted\", \"F-score is\", len(true_sum))\n",
      "Saving model checkpoint to multiclass_model\\checkpoint-340\n",
      "Configuration saved in multiclass_model\\checkpoint-340\\config.json\n",
      "Model weights saved in multiclass_model\\checkpoint-340\\pytorch_model.bin\n",
      "tokenizer config file saved in multiclass_model\\checkpoint-340\\tokenizer_config.json\n",
      "Special tokens file saved in multiclass_model\\checkpoint-340\\special_tokens_map.json\n",
      "Deleting older checkpoint [multiclass_model\\checkpoint-7140] due to args.save_total_limit\n",
      "The following columns in the evaluation set don't have a corresponding argument in `BertForSequenceClassification.forward` and have been ignored: __index_level_0__, Общее наименование продукции. If __index_level_0__, Общее наименование продукции are not expected by `BertForSequenceClassification.forward`,  you can safely ignore this message.\n",
      "***** Running Evaluation *****\n",
      "  Num examples = 2719\n",
      "  Batch size = 64\n",
      "C:\\Users\\Admin\\anaconda3\\lib\\site-packages\\sklearn\\metrics\\_classification.py:1580: UndefinedMetricWarning: F-score is ill-defined and being set to 0.0 in labels with no true nor predicted samples. Use `zero_division` parameter to control this behavior.\n",
      "  _warn_prf(average, \"true nor predicted\", \"F-score is\", len(true_sum))\n",
      "C:\\Users\\Admin\\anaconda3\\lib\\site-packages\\sklearn\\metrics\\_classification.py:1580: UndefinedMetricWarning: F-score is ill-defined and being set to 0.0 in labels with no true nor predicted samples. Use `zero_division` parameter to control this behavior.\n",
      "  _warn_prf(average, \"true nor predicted\", \"F-score is\", len(true_sum))\n",
      "Saving model checkpoint to multiclass_model\\checkpoint-680\n",
      "Configuration saved in multiclass_model\\checkpoint-680\\config.json\n",
      "Model weights saved in multiclass_model\\checkpoint-680\\pytorch_model.bin\n",
      "tokenizer config file saved in multiclass_model\\checkpoint-680\\tokenizer_config.json\n",
      "Special tokens file saved in multiclass_model\\checkpoint-680\\special_tokens_map.json\n",
      "Deleting older checkpoint [multiclass_model\\checkpoint-7480] due to args.save_total_limit\n",
      "The following columns in the evaluation set don't have a corresponding argument in `BertForSequenceClassification.forward` and have been ignored: __index_level_0__, Общее наименование продукции. If __index_level_0__, Общее наименование продукции are not expected by `BertForSequenceClassification.forward`,  you can safely ignore this message.\n",
      "***** Running Evaluation *****\n",
      "  Num examples = 2719\n",
      "  Batch size = 64\n",
      "C:\\Users\\Admin\\anaconda3\\lib\\site-packages\\sklearn\\metrics\\_classification.py:1580: UndefinedMetricWarning: F-score is ill-defined and being set to 0.0 in labels with no true nor predicted samples. Use `zero_division` parameter to control this behavior.\n",
      "  _warn_prf(average, \"true nor predicted\", \"F-score is\", len(true_sum))\n",
      "C:\\Users\\Admin\\anaconda3\\lib\\site-packages\\sklearn\\metrics\\_classification.py:1580: UndefinedMetricWarning: F-score is ill-defined and being set to 0.0 in labels with no true nor predicted samples. Use `zero_division` parameter to control this behavior.\n",
      "  _warn_prf(average, \"true nor predicted\", \"F-score is\", len(true_sum))\n",
      "Saving model checkpoint to multiclass_model\\checkpoint-1020\n",
      "Configuration saved in multiclass_model\\checkpoint-1020\\config.json\n",
      "Model weights saved in multiclass_model\\checkpoint-1020\\pytorch_model.bin\n",
      "tokenizer config file saved in multiclass_model\\checkpoint-1020\\tokenizer_config.json\n",
      "Special tokens file saved in multiclass_model\\checkpoint-1020\\special_tokens_map.json\n",
      "Deleting older checkpoint [multiclass_model\\checkpoint-7820] due to args.save_total_limit\n",
      "The following columns in the evaluation set don't have a corresponding argument in `BertForSequenceClassification.forward` and have been ignored: __index_level_0__, Общее наименование продукции. If __index_level_0__, Общее наименование продукции are not expected by `BertForSequenceClassification.forward`,  you can safely ignore this message.\n",
      "***** Running Evaluation *****\n",
      "  Num examples = 2719\n",
      "  Batch size = 64\n",
      "C:\\Users\\Admin\\anaconda3\\lib\\site-packages\\sklearn\\metrics\\_classification.py:1580: UndefinedMetricWarning: F-score is ill-defined and being set to 0.0 in labels with no true nor predicted samples. Use `zero_division` parameter to control this behavior.\n",
      "  _warn_prf(average, \"true nor predicted\", \"F-score is\", len(true_sum))\n",
      "C:\\Users\\Admin\\anaconda3\\lib\\site-packages\\sklearn\\metrics\\_classification.py:1580: UndefinedMetricWarning: F-score is ill-defined and being set to 0.0 in labels with no true nor predicted samples. Use `zero_division` parameter to control this behavior.\n",
      "  _warn_prf(average, \"true nor predicted\", \"F-score is\", len(true_sum))\n",
      "Saving model checkpoint to multiclass_model\\checkpoint-1360\n",
      "Configuration saved in multiclass_model\\checkpoint-1360\\config.json\n",
      "Model weights saved in multiclass_model\\checkpoint-1360\\pytorch_model.bin\n",
      "tokenizer config file saved in multiclass_model\\checkpoint-1360\\tokenizer_config.json\n",
      "Special tokens file saved in multiclass_model\\checkpoint-1360\\special_tokens_map.json\n",
      "Deleting older checkpoint [multiclass_model\\checkpoint-8160] due to args.save_total_limit\n",
      "The following columns in the evaluation set don't have a corresponding argument in `BertForSequenceClassification.forward` and have been ignored: __index_level_0__, Общее наименование продукции. If __index_level_0__, Общее наименование продукции are not expected by `BertForSequenceClassification.forward`,  you can safely ignore this message.\n",
      "***** Running Evaluation *****\n",
      "  Num examples = 2719\n",
      "  Batch size = 64\n",
      "C:\\Users\\Admin\\anaconda3\\lib\\site-packages\\sklearn\\metrics\\_classification.py:1580: UndefinedMetricWarning: F-score is ill-defined and being set to 0.0 in labels with no true nor predicted samples. Use `zero_division` parameter to control this behavior.\n",
      "  _warn_prf(average, \"true nor predicted\", \"F-score is\", len(true_sum))\n",
      "C:\\Users\\Admin\\anaconda3\\lib\\site-packages\\sklearn\\metrics\\_classification.py:1580: UndefinedMetricWarning: F-score is ill-defined and being set to 0.0 in labels with no true nor predicted samples. Use `zero_division` parameter to control this behavior.\n",
      "  _warn_prf(average, \"true nor predicted\", \"F-score is\", len(true_sum))\n",
      "Saving model checkpoint to multiclass_model\\checkpoint-1700\n",
      "Configuration saved in multiclass_model\\checkpoint-1700\\config.json\n",
      "Model weights saved in multiclass_model\\checkpoint-1700\\pytorch_model.bin\n",
      "tokenizer config file saved in multiclass_model\\checkpoint-1700\\tokenizer_config.json\n",
      "Special tokens file saved in multiclass_model\\checkpoint-1700\\special_tokens_map.json\n",
      "Deleting older checkpoint [multiclass_model\\checkpoint-8500] due to args.save_total_limit\n",
      "The following columns in the evaluation set don't have a corresponding argument in `BertForSequenceClassification.forward` and have been ignored: __index_level_0__, Общее наименование продукции. If __index_level_0__, Общее наименование продукции are not expected by `BertForSequenceClassification.forward`,  you can safely ignore this message.\n",
      "***** Running Evaluation *****\n",
      "  Num examples = 2719\n",
      "  Batch size = 64\n",
      "C:\\Users\\Admin\\anaconda3\\lib\\site-packages\\sklearn\\metrics\\_classification.py:1580: UndefinedMetricWarning: F-score is ill-defined and being set to 0.0 in labels with no true nor predicted samples. Use `zero_division` parameter to control this behavior.\n",
      "  _warn_prf(average, \"true nor predicted\", \"F-score is\", len(true_sum))\n",
      "C:\\Users\\Admin\\anaconda3\\lib\\site-packages\\sklearn\\metrics\\_classification.py:1580: UndefinedMetricWarning: F-score is ill-defined and being set to 0.0 in labels with no true nor predicted samples. Use `zero_division` parameter to control this behavior.\n",
      "  _warn_prf(average, \"true nor predicted\", \"F-score is\", len(true_sum))\n"
     ]
    },
    {
     "name": "stderr",
     "output_type": "stream",
     "text": [
      "Saving model checkpoint to multiclass_model\\checkpoint-2040\n",
      "Configuration saved in multiclass_model\\checkpoint-2040\\config.json\n",
      "Model weights saved in multiclass_model\\checkpoint-2040\\pytorch_model.bin\n",
      "tokenizer config file saved in multiclass_model\\checkpoint-2040\\tokenizer_config.json\n",
      "Special tokens file saved in multiclass_model\\checkpoint-2040\\special_tokens_map.json\n",
      "Deleting older checkpoint [multiclass_model\\checkpoint-680] due to args.save_total_limit\n",
      "The following columns in the evaluation set don't have a corresponding argument in `BertForSequenceClassification.forward` and have been ignored: __index_level_0__, Общее наименование продукции. If __index_level_0__, Общее наименование продукции are not expected by `BertForSequenceClassification.forward`,  you can safely ignore this message.\n",
      "***** Running Evaluation *****\n",
      "  Num examples = 2719\n",
      "  Batch size = 64\n",
      "C:\\Users\\Admin\\anaconda3\\lib\\site-packages\\sklearn\\metrics\\_classification.py:1580: UndefinedMetricWarning: F-score is ill-defined and being set to 0.0 in labels with no true nor predicted samples. Use `zero_division` parameter to control this behavior.\n",
      "  _warn_prf(average, \"true nor predicted\", \"F-score is\", len(true_sum))\n",
      "C:\\Users\\Admin\\anaconda3\\lib\\site-packages\\sklearn\\metrics\\_classification.py:1580: UndefinedMetricWarning: F-score is ill-defined and being set to 0.0 in labels with no true nor predicted samples. Use `zero_division` parameter to control this behavior.\n",
      "  _warn_prf(average, \"true nor predicted\", \"F-score is\", len(true_sum))\n",
      "Saving model checkpoint to multiclass_model\\checkpoint-2380\n",
      "Configuration saved in multiclass_model\\checkpoint-2380\\config.json\n",
      "Model weights saved in multiclass_model\\checkpoint-2380\\pytorch_model.bin\n",
      "tokenizer config file saved in multiclass_model\\checkpoint-2380\\tokenizer_config.json\n",
      "Special tokens file saved in multiclass_model\\checkpoint-2380\\special_tokens_map.json\n",
      "Deleting older checkpoint [multiclass_model\\checkpoint-1020] due to args.save_total_limit\n",
      "The following columns in the evaluation set don't have a corresponding argument in `BertForSequenceClassification.forward` and have been ignored: __index_level_0__, Общее наименование продукции. If __index_level_0__, Общее наименование продукции are not expected by `BertForSequenceClassification.forward`,  you can safely ignore this message.\n",
      "***** Running Evaluation *****\n",
      "  Num examples = 2719\n",
      "  Batch size = 64\n",
      "C:\\Users\\Admin\\anaconda3\\lib\\site-packages\\sklearn\\metrics\\_classification.py:1580: UndefinedMetricWarning: F-score is ill-defined and being set to 0.0 in labels with no true nor predicted samples. Use `zero_division` parameter to control this behavior.\n",
      "  _warn_prf(average, \"true nor predicted\", \"F-score is\", len(true_sum))\n",
      "C:\\Users\\Admin\\anaconda3\\lib\\site-packages\\sklearn\\metrics\\_classification.py:1580: UndefinedMetricWarning: F-score is ill-defined and being set to 0.0 in labels with no true nor predicted samples. Use `zero_division` parameter to control this behavior.\n",
      "  _warn_prf(average, \"true nor predicted\", \"F-score is\", len(true_sum))\n",
      "Saving model checkpoint to multiclass_model\\checkpoint-2720\n",
      "Configuration saved in multiclass_model\\checkpoint-2720\\config.json\n",
      "Model weights saved in multiclass_model\\checkpoint-2720\\pytorch_model.bin\n",
      "tokenizer config file saved in multiclass_model\\checkpoint-2720\\tokenizer_config.json\n",
      "Special tokens file saved in multiclass_model\\checkpoint-2720\\special_tokens_map.json\n",
      "Deleting older checkpoint [multiclass_model\\checkpoint-1360] due to args.save_total_limit\n",
      "The following columns in the evaluation set don't have a corresponding argument in `BertForSequenceClassification.forward` and have been ignored: __index_level_0__, Общее наименование продукции. If __index_level_0__, Общее наименование продукции are not expected by `BertForSequenceClassification.forward`,  you can safely ignore this message.\n",
      "***** Running Evaluation *****\n",
      "  Num examples = 2719\n",
      "  Batch size = 64\n",
      "C:\\Users\\Admin\\anaconda3\\lib\\site-packages\\sklearn\\metrics\\_classification.py:1580: UndefinedMetricWarning: F-score is ill-defined and being set to 0.0 in labels with no true nor predicted samples. Use `zero_division` parameter to control this behavior.\n",
      "  _warn_prf(average, \"true nor predicted\", \"F-score is\", len(true_sum))\n",
      "C:\\Users\\Admin\\anaconda3\\lib\\site-packages\\sklearn\\metrics\\_classification.py:1580: UndefinedMetricWarning: F-score is ill-defined and being set to 0.0 in labels with no true nor predicted samples. Use `zero_division` parameter to control this behavior.\n",
      "  _warn_prf(average, \"true nor predicted\", \"F-score is\", len(true_sum))\n",
      "Saving model checkpoint to multiclass_model\\checkpoint-3060\n",
      "Configuration saved in multiclass_model\\checkpoint-3060\\config.json\n",
      "Model weights saved in multiclass_model\\checkpoint-3060\\pytorch_model.bin\n",
      "tokenizer config file saved in multiclass_model\\checkpoint-3060\\tokenizer_config.json\n",
      "Special tokens file saved in multiclass_model\\checkpoint-3060\\special_tokens_map.json\n",
      "Deleting older checkpoint [multiclass_model\\checkpoint-1700] due to args.save_total_limit\n",
      "The following columns in the evaluation set don't have a corresponding argument in `BertForSequenceClassification.forward` and have been ignored: __index_level_0__, Общее наименование продукции. If __index_level_0__, Общее наименование продукции are not expected by `BertForSequenceClassification.forward`,  you can safely ignore this message.\n",
      "***** Running Evaluation *****\n",
      "  Num examples = 2719\n",
      "  Batch size = 64\n",
      "C:\\Users\\Admin\\anaconda3\\lib\\site-packages\\sklearn\\metrics\\_classification.py:1580: UndefinedMetricWarning: F-score is ill-defined and being set to 0.0 in labels with no true nor predicted samples. Use `zero_division` parameter to control this behavior.\n",
      "  _warn_prf(average, \"true nor predicted\", \"F-score is\", len(true_sum))\n",
      "C:\\Users\\Admin\\anaconda3\\lib\\site-packages\\sklearn\\metrics\\_classification.py:1580: UndefinedMetricWarning: F-score is ill-defined and being set to 0.0 in labels with no true nor predicted samples. Use `zero_division` parameter to control this behavior.\n",
      "  _warn_prf(average, \"true nor predicted\", \"F-score is\", len(true_sum))\n",
      "Saving model checkpoint to multiclass_model\\checkpoint-3400\n",
      "Configuration saved in multiclass_model\\checkpoint-3400\\config.json\n",
      "Model weights saved in multiclass_model\\checkpoint-3400\\pytorch_model.bin\n",
      "tokenizer config file saved in multiclass_model\\checkpoint-3400\\tokenizer_config.json\n",
      "Special tokens file saved in multiclass_model\\checkpoint-3400\\special_tokens_map.json\n",
      "Deleting older checkpoint [multiclass_model\\checkpoint-2040] due to args.save_total_limit\n",
      "The following columns in the evaluation set don't have a corresponding argument in `BertForSequenceClassification.forward` and have been ignored: __index_level_0__, Общее наименование продукции. If __index_level_0__, Общее наименование продукции are not expected by `BertForSequenceClassification.forward`,  you can safely ignore this message.\n",
      "***** Running Evaluation *****\n",
      "  Num examples = 2719\n",
      "  Batch size = 64\n",
      "C:\\Users\\Admin\\anaconda3\\lib\\site-packages\\sklearn\\metrics\\_classification.py:1580: UndefinedMetricWarning: F-score is ill-defined and being set to 0.0 in labels with no true nor predicted samples. Use `zero_division` parameter to control this behavior.\n",
      "  _warn_prf(average, \"true nor predicted\", \"F-score is\", len(true_sum))\n",
      "C:\\Users\\Admin\\anaconda3\\lib\\site-packages\\sklearn\\metrics\\_classification.py:1580: UndefinedMetricWarning: F-score is ill-defined and being set to 0.0 in labels with no true nor predicted samples. Use `zero_division` parameter to control this behavior.\n",
      "  _warn_prf(average, \"true nor predicted\", \"F-score is\", len(true_sum))\n",
      "Saving model checkpoint to multiclass_model\\checkpoint-3740\n",
      "Configuration saved in multiclass_model\\checkpoint-3740\\config.json\n",
      "Model weights saved in multiclass_model\\checkpoint-3740\\pytorch_model.bin\n",
      "tokenizer config file saved in multiclass_model\\checkpoint-3740\\tokenizer_config.json\n",
      "Special tokens file saved in multiclass_model\\checkpoint-3740\\special_tokens_map.json\n",
      "Deleting older checkpoint [multiclass_model\\checkpoint-2380] due to args.save_total_limit\n",
      "\n",
      "\n",
      "Training completed. Do not forget to share your model on huggingface.co/models =)\n",
      "\n",
      "\n"
     ]
    },
    {
     "name": "stderr",
     "output_type": "stream",
     "text": [
      "Loading best model from multiclass_model\\checkpoint-340 (score: 0.0).\n",
      "Saving model checkpoint to Коды ТН ВЭД ЕАЭС_trained_2\n",
      "Configuration saved in Коды ТН ВЭД ЕАЭС_trained_2\\config.json\n",
      "Model weights saved in Коды ТН ВЭД ЕАЭС_trained_2\\pytorch_model.bin\n",
      "tokenizer config file saved in Коды ТН ВЭД ЕАЭС_trained_2\\tokenizer_config.json\n",
      "Special tokens file saved in Коды ТН ВЭД ЕАЭС_trained_2\\special_tokens_map.json\n"
     ]
    },
    {
     "name": "stdout",
     "output_type": "stream",
     "text": [
      "updating: Коды ТН ВЭД ЕАЭС_trained_2/ (192 bytes security) (stored 0%)\n",
      "updating: Коды ТН ВЭД ЕАЭС_trained_2/config.json (172 bytes security) (deflated 70%)\n",
      "updating: Коды ТН ВЭД ЕАЭС_trained_2/pytorch_model.bin (172 bytes security) (deflated 8%)\n",
      "updating: Коды ТН ВЭД ЕАЭС_trained_2/special_tokens_map.json (172 bytes security) (deflated 40%)\n",
      "updating: Коды ТН ВЭД ЕАЭС_trained_2/tokenizer.json (172 bytes security) (deflated 73%)\n",
      "updating: Коды ТН ВЭД ЕАЭС_trained_2/tokenizer_config.json (172 bytes security) (deflated 42%)\n",
      "updating: Коды ТН ВЭД ЕАЭС_trained_2/training_args.bin (172 bytes security) (deflated 47%)\n",
      "updating: Коды ТН ВЭД ЕАЭС_trained_2/vocab.txt (172 bytes security) (deflated 64%)\n",
      "(49327, 2)\n",
      "(37063, 2)\n"
     ]
    },
    {
     "name": "stderr",
     "output_type": "stream",
     "text": [
      "loading file https://huggingface.co/cointegrated/rubert-tiny2/resolve/main/vocab.txt from cache at C:\\Users\\Admin/.cache\\huggingface\\transformers\\16af2afaa4ceaa8d50b689bd4c2f7ef7fe3bfac06c0aac7d82a5c1c72298b62a.cc3312d07ccf88871a3c2b7cb3442138e6785101efead94d9f77e96301cf7f4a\n",
      "loading file https://huggingface.co/cointegrated/rubert-tiny2/resolve/main/tokenizer.json from cache at C:\\Users\\Admin/.cache\\huggingface\\transformers\\cfa6d82dc8ecc7fe3f06deb449f38968cdd188bb84c8da0e06f0bbfddbede1e3.550ab7157d36210bf96c7c3b30e621933d37d635c5f2e290f7e88bd5f7c9198a\n",
      "loading file https://huggingface.co/cointegrated/rubert-tiny2/resolve/main/added_tokens.json from cache at None\n",
      "loading file https://huggingface.co/cointegrated/rubert-tiny2/resolve/main/special_tokens_map.json from cache at C:\\Users\\Admin/.cache\\huggingface\\transformers\\20317640533199c6b37a557395cd5ee5fcb8777be7c89bb1314bfd43058b35e9.dd8bd9bfd3664b530ea4e645105f557769387b3da9f79bdb55ed556bdd80611d\n",
      "loading file https://huggingface.co/cointegrated/rubert-tiny2/resolve/main/tokenizer_config.json from cache at C:\\Users\\Admin/.cache\\huggingface\\transformers\\e818c3e83969c6aa46da3b5b2eafe049b197e0e787503bf7c643ec64422a51fc.1cec470309dd45bda58f63ce3bb829fe84e2a93e1fc2857ceff76e77262d7944\n"
     ]
    },
    {
     "data": {
      "application/vnd.jupyter.widget-view+json": {
       "model_id": "0844af0910454099aa4ced975823f8c0",
       "version_major": 2,
       "version_minor": 0
      },
      "text/plain": [
       "  0%|          | 0/29 [00:00<?, ?ba/s]"
      ]
     },
     "metadata": {},
     "output_type": "display_data"
    },
    {
     "name": "stderr",
     "output_type": "stream",
     "text": [
      "C:\\Users\\Admin\\anaconda3\\lib\\site-packages\\sklearn\\preprocessing\\_label.py:875: UserWarning: unknown class(es) ['39191', '84119', '8418', '84388', '85041', '85433', 'XI'] will be ignored\n",
      "  warnings.warn(\n"
     ]
    },
    {
     "data": {
      "application/vnd.jupyter.widget-view+json": {
       "model_id": "8f67d7ab81104b7c8992d2f85782042f",
       "version_major": 2,
       "version_minor": 0
      },
      "text/plain": [
       "  0%|          | 0/4 [00:00<?, ?ba/s]"
      ]
     },
     "metadata": {},
     "output_type": "display_data"
    },
    {
     "name": "stderr",
     "output_type": "stream",
     "text": [
      "C:\\Users\\Admin\\anaconda3\\lib\\site-packages\\sklearn\\preprocessing\\_label.py:875: UserWarning: unknown class(es) ['3919', '40', '42023', '49119', '7310', '81089', '83100', '84118', '84388', '84629', '8508', '85433', '90019', '90106', '90330'] will be ignored\n",
      "  warnings.warn(\n"
     ]
    },
    {
     "data": {
      "application/vnd.jupyter.widget-view+json": {
       "model_id": "abfd70d5240443fda769712bb32c7497",
       "version_major": 2,
       "version_minor": 0
      },
      "text/plain": [
       "  0%|          | 0/4 [00:00<?, ?ba/s]"
      ]
     },
     "metadata": {},
     "output_type": "display_data"
    },
    {
     "name": "stderr",
     "output_type": "stream",
     "text": [
      "loading configuration file https://huggingface.co/cointegrated/rubert-tiny2/resolve/main/config.json from cache at C:\\Users\\Admin/.cache\\huggingface\\transformers\\726139048d10597682731a7a4c0b8ef0382927911bc0f6f050a4f7f0afb04c2a.149cdc07694f3925e290abc5528c57a543bcbc9af955c0202b1028584ad15cb4\n",
      "Model config BertConfig {\n",
      "  \"_name_or_path\": \"cointegrated/rubert-tiny2\",\n",
      "  \"architectures\": [\n",
      "    \"BertForPreTraining\"\n",
      "  ],\n",
      "  \"attention_probs_dropout_prob\": 0.1,\n",
      "  \"classifier_dropout\": null,\n",
      "  \"emb_size\": 312,\n",
      "  \"gradient_checkpointing\": false,\n",
      "  \"hidden_act\": \"gelu\",\n",
      "  \"hidden_dropout_prob\": 0.1,\n",
      "  \"hidden_size\": 312,\n",
      "  \"id2label\": {\n",
      "    \"0\": \"LABEL_0\",\n",
      "    \"1\": \"LABEL_1\",\n",
      "    \"2\": \"LABEL_2\",\n",
      "    \"3\": \"LABEL_3\",\n",
      "    \"4\": \"LABEL_4\",\n",
      "    \"5\": \"LABEL_5\",\n",
      "    \"6\": \"LABEL_6\",\n",
      "    \"7\": \"LABEL_7\",\n",
      "    \"8\": \"LABEL_8\",\n",
      "    \"9\": \"LABEL_9\",\n",
      "    \"10\": \"LABEL_10\",\n",
      "    \"11\": \"LABEL_11\",\n",
      "    \"12\": \"LABEL_12\",\n",
      "    \"13\": \"LABEL_13\",\n",
      "    \"14\": \"LABEL_14\",\n",
      "    \"15\": \"LABEL_15\",\n",
      "    \"16\": \"LABEL_16\",\n",
      "    \"17\": \"LABEL_17\",\n",
      "    \"18\": \"LABEL_18\",\n",
      "    \"19\": \"LABEL_19\",\n",
      "    \"20\": \"LABEL_20\",\n",
      "    \"21\": \"LABEL_21\",\n",
      "    \"22\": \"LABEL_22\",\n",
      "    \"23\": \"LABEL_23\",\n",
      "    \"24\": \"LABEL_24\",\n",
      "    \"25\": \"LABEL_25\",\n",
      "    \"26\": \"LABEL_26\",\n",
      "    \"27\": \"LABEL_27\",\n",
      "    \"28\": \"LABEL_28\",\n",
      "    \"29\": \"LABEL_29\",\n",
      "    \"30\": \"LABEL_30\",\n",
      "    \"31\": \"LABEL_31\",\n",
      "    \"32\": \"LABEL_32\",\n",
      "    \"33\": \"LABEL_33\",\n",
      "    \"34\": \"LABEL_34\",\n",
      "    \"35\": \"LABEL_35\",\n",
      "    \"36\": \"LABEL_36\",\n",
      "    \"37\": \"LABEL_37\",\n",
      "    \"38\": \"LABEL_38\",\n",
      "    \"39\": \"LABEL_39\",\n",
      "    \"40\": \"LABEL_40\",\n",
      "    \"41\": \"LABEL_41\",\n",
      "    \"42\": \"LABEL_42\",\n",
      "    \"43\": \"LABEL_43\",\n",
      "    \"44\": \"LABEL_44\",\n",
      "    \"45\": \"LABEL_45\",\n",
      "    \"46\": \"LABEL_46\",\n",
      "    \"47\": \"LABEL_47\",\n",
      "    \"48\": \"LABEL_48\",\n",
      "    \"49\": \"LABEL_49\",\n",
      "    \"50\": \"LABEL_50\",\n",
      "    \"51\": \"LABEL_51\",\n",
      "    \"52\": \"LABEL_52\",\n",
      "    \"53\": \"LABEL_53\",\n",
      "    \"54\": \"LABEL_54\",\n",
      "    \"55\": \"LABEL_55\",\n",
      "    \"56\": \"LABEL_56\",\n",
      "    \"57\": \"LABEL_57\",\n",
      "    \"58\": \"LABEL_58\",\n",
      "    \"59\": \"LABEL_59\",\n",
      "    \"60\": \"LABEL_60\",\n",
      "    \"61\": \"LABEL_61\",\n",
      "    \"62\": \"LABEL_62\",\n",
      "    \"63\": \"LABEL_63\",\n",
      "    \"64\": \"LABEL_64\",\n",
      "    \"65\": \"LABEL_65\",\n",
      "    \"66\": \"LABEL_66\",\n",
      "    \"67\": \"LABEL_67\",\n",
      "    \"68\": \"LABEL_68\",\n",
      "    \"69\": \"LABEL_69\",\n",
      "    \"70\": \"LABEL_70\",\n",
      "    \"71\": \"LABEL_71\",\n",
      "    \"72\": \"LABEL_72\",\n",
      "    \"73\": \"LABEL_73\",\n",
      "    \"74\": \"LABEL_74\",\n",
      "    \"75\": \"LABEL_75\",\n",
      "    \"76\": \"LABEL_76\",\n",
      "    \"77\": \"LABEL_77\",\n",
      "    \"78\": \"LABEL_78\",\n",
      "    \"79\": \"LABEL_79\",\n",
      "    \"80\": \"LABEL_80\",\n",
      "    \"81\": \"LABEL_81\",\n",
      "    \"82\": \"LABEL_82\",\n",
      "    \"83\": \"LABEL_83\",\n",
      "    \"84\": \"LABEL_84\",\n",
      "    \"85\": \"LABEL_85\",\n",
      "    \"86\": \"LABEL_86\",\n",
      "    \"87\": \"LABEL_87\",\n",
      "    \"88\": \"LABEL_88\",\n",
      "    \"89\": \"LABEL_89\",\n",
      "    \"90\": \"LABEL_90\",\n",
      "    \"91\": \"LABEL_91\",\n",
      "    \"92\": \"LABEL_92\",\n",
      "    \"93\": \"LABEL_93\",\n",
      "    \"94\": \"LABEL_94\",\n",
      "    \"95\": \"LABEL_95\",\n",
      "    \"96\": \"LABEL_96\",\n",
      "    \"97\": \"LABEL_97\",\n",
      "    \"98\": \"LABEL_98\",\n",
      "    \"99\": \"LABEL_99\",\n",
      "    \"100\": \"LABEL_100\",\n",
      "    \"101\": \"LABEL_101\",\n",
      "    \"102\": \"LABEL_102\",\n",
      "    \"103\": \"LABEL_103\",\n",
      "    \"104\": \"LABEL_104\",\n",
      "    \"105\": \"LABEL_105\",\n",
      "    \"106\": \"LABEL_106\",\n",
      "    \"107\": \"LABEL_107\",\n",
      "    \"108\": \"LABEL_108\",\n",
      "    \"109\": \"LABEL_109\",\n",
      "    \"110\": \"LABEL_110\",\n",
      "    \"111\": \"LABEL_111\",\n",
      "    \"112\": \"LABEL_112\",\n",
      "    \"113\": \"LABEL_113\",\n",
      "    \"114\": \"LABEL_114\",\n",
      "    \"115\": \"LABEL_115\",\n",
      "    \"116\": \"LABEL_116\",\n",
      "    \"117\": \"LABEL_117\",\n",
      "    \"118\": \"LABEL_118\",\n",
      "    \"119\": \"LABEL_119\",\n",
      "    \"120\": \"LABEL_120\",\n",
      "    \"121\": \"LABEL_121\",\n",
      "    \"122\": \"LABEL_122\",\n",
      "    \"123\": \"LABEL_123\",\n",
      "    \"124\": \"LABEL_124\",\n",
      "    \"125\": \"LABEL_125\",\n",
      "    \"126\": \"LABEL_126\",\n",
      "    \"127\": \"LABEL_127\",\n",
      "    \"128\": \"LABEL_128\",\n",
      "    \"129\": \"LABEL_129\",\n",
      "    \"130\": \"LABEL_130\",\n",
      "    \"131\": \"LABEL_131\",\n",
      "    \"132\": \"LABEL_132\",\n",
      "    \"133\": \"LABEL_133\",\n",
      "    \"134\": \"LABEL_134\",\n",
      "    \"135\": \"LABEL_135\",\n",
      "    \"136\": \"LABEL_136\",\n",
      "    \"137\": \"LABEL_137\",\n",
      "    \"138\": \"LABEL_138\",\n",
      "    \"139\": \"LABEL_139\",\n",
      "    \"140\": \"LABEL_140\",\n",
      "    \"141\": \"LABEL_141\",\n",
      "    \"142\": \"LABEL_142\",\n",
      "    \"143\": \"LABEL_143\",\n",
      "    \"144\": \"LABEL_144\",\n",
      "    \"145\": \"LABEL_145\",\n",
      "    \"146\": \"LABEL_146\",\n",
      "    \"147\": \"LABEL_147\",\n",
      "    \"148\": \"LABEL_148\",\n",
      "    \"149\": \"LABEL_149\",\n",
      "    \"150\": \"LABEL_150\",\n",
      "    \"151\": \"LABEL_151\",\n",
      "    \"152\": \"LABEL_152\",\n",
      "    \"153\": \"LABEL_153\",\n",
      "    \"154\": \"LABEL_154\",\n",
      "    \"155\": \"LABEL_155\",\n",
      "    \"156\": \"LABEL_156\",\n",
      "    \"157\": \"LABEL_157\",\n",
      "    \"158\": \"LABEL_158\",\n",
      "    \"159\": \"LABEL_159\",\n",
      "    \"160\": \"LABEL_160\",\n",
      "    \"161\": \"LABEL_161\",\n",
      "    \"162\": \"LABEL_162\",\n",
      "    \"163\": \"LABEL_163\",\n",
      "    \"164\": \"LABEL_164\",\n",
      "    \"165\": \"LABEL_165\",\n",
      "    \"166\": \"LABEL_166\",\n",
      "    \"167\": \"LABEL_167\",\n",
      "    \"168\": \"LABEL_168\",\n",
      "    \"169\": \"LABEL_169\",\n",
      "    \"170\": \"LABEL_170\",\n",
      "    \"171\": \"LABEL_171\",\n",
      "    \"172\": \"LABEL_172\",\n",
      "    \"173\": \"LABEL_173\",\n",
      "    \"174\": \"LABEL_174\",\n",
      "    \"175\": \"LABEL_175\",\n",
      "    \"176\": \"LABEL_176\",\n",
      "    \"177\": \"LABEL_177\",\n",
      "    \"178\": \"LABEL_178\",\n",
      "    \"179\": \"LABEL_179\",\n",
      "    \"180\": \"LABEL_180\",\n",
      "    \"181\": \"LABEL_181\",\n",
      "    \"182\": \"LABEL_182\",\n",
      "    \"183\": \"LABEL_183\",\n",
      "    \"184\": \"LABEL_184\",\n",
      "    \"185\": \"LABEL_185\",\n",
      "    \"186\": \"LABEL_186\",\n",
      "    \"187\": \"LABEL_187\",\n",
      "    \"188\": \"LABEL_188\",\n",
      "    \"189\": \"LABEL_189\",\n",
      "    \"190\": \"LABEL_190\",\n",
      "    \"191\": \"LABEL_191\",\n",
      "    \"192\": \"LABEL_192\",\n",
      "    \"193\": \"LABEL_193\",\n",
      "    \"194\": \"LABEL_194\",\n",
      "    \"195\": \"LABEL_195\",\n",
      "    \"196\": \"LABEL_196\",\n",
      "    \"197\": \"LABEL_197\",\n",
      "    \"198\": \"LABEL_198\",\n",
      "    \"199\": \"LABEL_199\",\n",
      "    \"200\": \"LABEL_200\",\n",
      "    \"201\": \"LABEL_201\",\n",
      "    \"202\": \"LABEL_202\",\n",
      "    \"203\": \"LABEL_203\",\n",
      "    \"204\": \"LABEL_204\",\n",
      "    \"205\": \"LABEL_205\",\n",
      "    \"206\": \"LABEL_206\",\n",
      "    \"207\": \"LABEL_207\",\n",
      "    \"208\": \"LABEL_208\",\n",
      "    \"209\": \"LABEL_209\",\n",
      "    \"210\": \"LABEL_210\",\n",
      "    \"211\": \"LABEL_211\",\n",
      "    \"212\": \"LABEL_212\",\n",
      "    \"213\": \"LABEL_213\",\n",
      "    \"214\": \"LABEL_214\",\n",
      "    \"215\": \"LABEL_215\",\n",
      "    \"216\": \"LABEL_216\",\n",
      "    \"217\": \"LABEL_217\",\n",
      "    \"218\": \"LABEL_218\",\n",
      "    \"219\": \"LABEL_219\",\n",
      "    \"220\": \"LABEL_220\",\n",
      "    \"221\": \"LABEL_221\",\n",
      "    \"222\": \"LABEL_222\",\n",
      "    \"223\": \"LABEL_223\",\n",
      "    \"224\": \"LABEL_224\",\n",
      "    \"225\": \"LABEL_225\",\n",
      "    \"226\": \"LABEL_226\",\n",
      "    \"227\": \"LABEL_227\",\n",
      "    \"228\": \"LABEL_228\",\n",
      "    \"229\": \"LABEL_229\",\n",
      "    \"230\": \"LABEL_230\",\n",
      "    \"231\": \"LABEL_231\",\n",
      "    \"232\": \"LABEL_232\",\n",
      "    \"233\": \"LABEL_233\",\n",
      "    \"234\": \"LABEL_234\",\n",
      "    \"235\": \"LABEL_235\",\n",
      "    \"236\": \"LABEL_236\",\n",
      "    \"237\": \"LABEL_237\",\n",
      "    \"238\": \"LABEL_238\",\n",
      "    \"239\": \"LABEL_239\",\n",
      "    \"240\": \"LABEL_240\",\n",
      "    \"241\": \"LABEL_241\",\n",
      "    \"242\": \"LABEL_242\",\n",
      "    \"243\": \"LABEL_243\",\n",
      "    \"244\": \"LABEL_244\",\n",
      "    \"245\": \"LABEL_245\",\n",
      "    \"246\": \"LABEL_246\",\n",
      "    \"247\": \"LABEL_247\",\n",
      "    \"248\": \"LABEL_248\",\n",
      "    \"249\": \"LABEL_249\",\n",
      "    \"250\": \"LABEL_250\",\n",
      "    \"251\": \"LABEL_251\",\n",
      "    \"252\": \"LABEL_252\",\n",
      "    \"253\": \"LABEL_253\",\n",
      "    \"254\": \"LABEL_254\",\n",
      "    \"255\": \"LABEL_255\",\n",
      "    \"256\": \"LABEL_256\",\n",
      "    \"257\": \"LABEL_257\",\n",
      "    \"258\": \"LABEL_258\",\n",
      "    \"259\": \"LABEL_259\",\n",
      "    \"260\": \"LABEL_260\",\n",
      "    \"261\": \"LABEL_261\",\n",
      "    \"262\": \"LABEL_262\",\n",
      "    \"263\": \"LABEL_263\",\n",
      "    \"264\": \"LABEL_264\",\n",
      "    \"265\": \"LABEL_265\",\n",
      "    \"266\": \"LABEL_266\",\n",
      "    \"267\": \"LABEL_267\",\n",
      "    \"268\": \"LABEL_268\",\n",
      "    \"269\": \"LABEL_269\",\n",
      "    \"270\": \"LABEL_270\",\n",
      "    \"271\": \"LABEL_271\",\n",
      "    \"272\": \"LABEL_272\",\n",
      "    \"273\": \"LABEL_273\",\n",
      "    \"274\": \"LABEL_274\",\n",
      "    \"275\": \"LABEL_275\",\n",
      "    \"276\": \"LABEL_276\",\n",
      "    \"277\": \"LABEL_277\",\n",
      "    \"278\": \"LABEL_278\",\n",
      "    \"279\": \"LABEL_279\",\n",
      "    \"280\": \"LABEL_280\",\n",
      "    \"281\": \"LABEL_281\",\n",
      "    \"282\": \"LABEL_282\",\n",
      "    \"283\": \"LABEL_283\",\n",
      "    \"284\": \"LABEL_284\",\n",
      "    \"285\": \"LABEL_285\",\n",
      "    \"286\": \"LABEL_286\",\n",
      "    \"287\": \"LABEL_287\",\n",
      "    \"288\": \"LABEL_288\",\n",
      "    \"289\": \"LABEL_289\",\n",
      "    \"290\": \"LABEL_290\",\n",
      "    \"291\": \"LABEL_291\",\n",
      "    \"292\": \"LABEL_292\",\n",
      "    \"293\": \"LABEL_293\",\n",
      "    \"294\": \"LABEL_294\",\n",
      "    \"295\": \"LABEL_295\",\n",
      "    \"296\": \"LABEL_296\",\n",
      "    \"297\": \"LABEL_297\",\n",
      "    \"298\": \"LABEL_298\",\n",
      "    \"299\": \"LABEL_299\",\n",
      "    \"300\": \"LABEL_300\",\n",
      "    \"301\": \"LABEL_301\",\n",
      "    \"302\": \"LABEL_302\",\n",
      "    \"303\": \"LABEL_303\",\n",
      "    \"304\": \"LABEL_304\",\n",
      "    \"305\": \"LABEL_305\",\n",
      "    \"306\": \"LABEL_306\",\n",
      "    \"307\": \"LABEL_307\",\n",
      "    \"308\": \"LABEL_308\",\n",
      "    \"309\": \"LABEL_309\",\n",
      "    \"310\": \"LABEL_310\",\n",
      "    \"311\": \"LABEL_311\",\n",
      "    \"312\": \"LABEL_312\",\n",
      "    \"313\": \"LABEL_313\",\n",
      "    \"314\": \"LABEL_314\",\n",
      "    \"315\": \"LABEL_315\",\n",
      "    \"316\": \"LABEL_316\",\n",
      "    \"317\": \"LABEL_317\",\n",
      "    \"318\": \"LABEL_318\",\n",
      "    \"319\": \"LABEL_319\",\n",
      "    \"320\": \"LABEL_320\",\n",
      "    \"321\": \"LABEL_321\",\n",
      "    \"322\": \"LABEL_322\",\n",
      "    \"323\": \"LABEL_323\",\n",
      "    \"324\": \"LABEL_324\",\n",
      "    \"325\": \"LABEL_325\",\n",
      "    \"326\": \"LABEL_326\",\n",
      "    \"327\": \"LABEL_327\",\n",
      "    \"328\": \"LABEL_328\",\n",
      "    \"329\": \"LABEL_329\",\n",
      "    \"330\": \"LABEL_330\",\n",
      "    \"331\": \"LABEL_331\",\n",
      "    \"332\": \"LABEL_332\",\n",
      "    \"333\": \"LABEL_333\",\n",
      "    \"334\": \"LABEL_334\",\n",
      "    \"335\": \"LABEL_335\",\n",
      "    \"336\": \"LABEL_336\",\n",
      "    \"337\": \"LABEL_337\",\n",
      "    \"338\": \"LABEL_338\",\n",
      "    \"339\": \"LABEL_339\",\n",
      "    \"340\": \"LABEL_340\",\n",
      "    \"341\": \"LABEL_341\",\n",
      "    \"342\": \"LABEL_342\",\n",
      "    \"343\": \"LABEL_343\",\n",
      "    \"344\": \"LABEL_344\",\n",
      "    \"345\": \"LABEL_345\",\n",
      "    \"346\": \"LABEL_346\",\n",
      "    \"347\": \"LABEL_347\",\n",
      "    \"348\": \"LABEL_348\",\n",
      "    \"349\": \"LABEL_349\",\n",
      "    \"350\": \"LABEL_350\",\n",
      "    \"351\": \"LABEL_351\",\n",
      "    \"352\": \"LABEL_352\",\n",
      "    \"353\": \"LABEL_353\",\n",
      "    \"354\": \"LABEL_354\",\n",
      "    \"355\": \"LABEL_355\",\n",
      "    \"356\": \"LABEL_356\",\n",
      "    \"357\": \"LABEL_357\",\n",
      "    \"358\": \"LABEL_358\",\n",
      "    \"359\": \"LABEL_359\",\n",
      "    \"360\": \"LABEL_360\",\n",
      "    \"361\": \"LABEL_361\",\n",
      "    \"362\": \"LABEL_362\",\n",
      "    \"363\": \"LABEL_363\",\n",
      "    \"364\": \"LABEL_364\",\n",
      "    \"365\": \"LABEL_365\",\n",
      "    \"366\": \"LABEL_366\",\n",
      "    \"367\": \"LABEL_367\",\n",
      "    \"368\": \"LABEL_368\",\n",
      "    \"369\": \"LABEL_369\",\n",
      "    \"370\": \"LABEL_370\",\n",
      "    \"371\": \"LABEL_371\",\n",
      "    \"372\": \"LABEL_372\",\n",
      "    \"373\": \"LABEL_373\",\n",
      "    \"374\": \"LABEL_374\",\n",
      "    \"375\": \"LABEL_375\",\n",
      "    \"376\": \"LABEL_376\",\n",
      "    \"377\": \"LABEL_377\",\n",
      "    \"378\": \"LABEL_378\",\n",
      "    \"379\": \"LABEL_379\",\n",
      "    \"380\": \"LABEL_380\",\n",
      "    \"381\": \"LABEL_381\",\n",
      "    \"382\": \"LABEL_382\",\n",
      "    \"383\": \"LABEL_383\",\n",
      "    \"384\": \"LABEL_384\",\n",
      "    \"385\": \"LABEL_385\",\n",
      "    \"386\": \"LABEL_386\",\n",
      "    \"387\": \"LABEL_387\",\n",
      "    \"388\": \"LABEL_388\",\n",
      "    \"389\": \"LABEL_389\",\n",
      "    \"390\": \"LABEL_390\",\n",
      "    \"391\": \"LABEL_391\",\n",
      "    \"392\": \"LABEL_392\",\n",
      "    \"393\": \"LABEL_393\",\n",
      "    \"394\": \"LABEL_394\",\n",
      "    \"395\": \"LABEL_395\",\n",
      "    \"396\": \"LABEL_396\",\n",
      "    \"397\": \"LABEL_397\",\n",
      "    \"398\": \"LABEL_398\",\n",
      "    \"399\": \"LABEL_399\",\n",
      "    \"400\": \"LABEL_400\",\n",
      "    \"401\": \"LABEL_401\",\n",
      "    \"402\": \"LABEL_402\",\n",
      "    \"403\": \"LABEL_403\",\n",
      "    \"404\": \"LABEL_404\",\n",
      "    \"405\": \"LABEL_405\",\n",
      "    \"406\": \"LABEL_406\",\n",
      "    \"407\": \"LABEL_407\",\n",
      "    \"408\": \"LABEL_408\",\n",
      "    \"409\": \"LABEL_409\",\n",
      "    \"410\": \"LABEL_410\",\n",
      "    \"411\": \"LABEL_411\",\n",
      "    \"412\": \"LABEL_412\",\n",
      "    \"413\": \"LABEL_413\",\n",
      "    \"414\": \"LABEL_414\",\n",
      "    \"415\": \"LABEL_415\",\n",
      "    \"416\": \"LABEL_416\",\n",
      "    \"417\": \"LABEL_417\",\n",
      "    \"418\": \"LABEL_418\",\n",
      "    \"419\": \"LABEL_419\",\n",
      "    \"420\": \"LABEL_420\",\n",
      "    \"421\": \"LABEL_421\",\n",
      "    \"422\": \"LABEL_422\",\n",
      "    \"423\": \"LABEL_423\",\n",
      "    \"424\": \"LABEL_424\",\n",
      "    \"425\": \"LABEL_425\",\n",
      "    \"426\": \"LABEL_426\",\n",
      "    \"427\": \"LABEL_427\",\n",
      "    \"428\": \"LABEL_428\",\n",
      "    \"429\": \"LABEL_429\",\n",
      "    \"430\": \"LABEL_430\",\n",
      "    \"431\": \"LABEL_431\",\n",
      "    \"432\": \"LABEL_432\",\n",
      "    \"433\": \"LABEL_433\",\n",
      "    \"434\": \"LABEL_434\",\n",
      "    \"435\": \"LABEL_435\",\n",
      "    \"436\": \"LABEL_436\",\n",
      "    \"437\": \"LABEL_437\",\n",
      "    \"438\": \"LABEL_438\",\n",
      "    \"439\": \"LABEL_439\",\n",
      "    \"440\": \"LABEL_440\",\n",
      "    \"441\": \"LABEL_441\",\n",
      "    \"442\": \"LABEL_442\",\n",
      "    \"443\": \"LABEL_443\",\n",
      "    \"444\": \"LABEL_444\",\n",
      "    \"445\": \"LABEL_445\",\n",
      "    \"446\": \"LABEL_446\",\n",
      "    \"447\": \"LABEL_447\",\n",
      "    \"448\": \"LABEL_448\",\n",
      "    \"449\": \"LABEL_449\",\n",
      "    \"450\": \"LABEL_450\",\n",
      "    \"451\": \"LABEL_451\",\n",
      "    \"452\": \"LABEL_452\",\n",
      "    \"453\": \"LABEL_453\",\n",
      "    \"454\": \"LABEL_454\",\n",
      "    \"455\": \"LABEL_455\",\n",
      "    \"456\": \"LABEL_456\",\n",
      "    \"457\": \"LABEL_457\",\n",
      "    \"458\": \"LABEL_458\",\n",
      "    \"459\": \"LABEL_459\",\n",
      "    \"460\": \"LABEL_460\",\n",
      "    \"461\": \"LABEL_461\",\n",
      "    \"462\": \"LABEL_462\",\n",
      "    \"463\": \"LABEL_463\",\n",
      "    \"464\": \"LABEL_464\",\n",
      "    \"465\": \"LABEL_465\",\n",
      "    \"466\": \"LABEL_466\",\n",
      "    \"467\": \"LABEL_467\",\n",
      "    \"468\": \"LABEL_468\",\n",
      "    \"469\": \"LABEL_469\",\n",
      "    \"470\": \"LABEL_470\",\n",
      "    \"471\": \"LABEL_471\",\n",
      "    \"472\": \"LABEL_472\",\n",
      "    \"473\": \"LABEL_473\",\n",
      "    \"474\": \"LABEL_474\",\n",
      "    \"475\": \"LABEL_475\",\n",
      "    \"476\": \"LABEL_476\",\n",
      "    \"477\": \"LABEL_477\",\n",
      "    \"478\": \"LABEL_478\",\n",
      "    \"479\": \"LABEL_479\",\n",
      "    \"480\": \"LABEL_480\",\n",
      "    \"481\": \"LABEL_481\",\n",
      "    \"482\": \"LABEL_482\",\n",
      "    \"483\": \"LABEL_483\",\n",
      "    \"484\": \"LABEL_484\",\n",
      "    \"485\": \"LABEL_485\",\n",
      "    \"486\": \"LABEL_486\",\n",
      "    \"487\": \"LABEL_487\",\n",
      "    \"488\": \"LABEL_488\",\n",
      "    \"489\": \"LABEL_489\",\n",
      "    \"490\": \"LABEL_490\",\n",
      "    \"491\": \"LABEL_491\",\n",
      "    \"492\": \"LABEL_492\",\n",
      "    \"493\": \"LABEL_493\",\n",
      "    \"494\": \"LABEL_494\",\n",
      "    \"495\": \"LABEL_495\",\n",
      "    \"496\": \"LABEL_496\",\n",
      "    \"497\": \"LABEL_497\",\n",
      "    \"498\": \"LABEL_498\",\n",
      "    \"499\": \"LABEL_499\",\n",
      "    \"500\": \"LABEL_500\",\n",
      "    \"501\": \"LABEL_501\",\n",
      "    \"502\": \"LABEL_502\",\n",
      "    \"503\": \"LABEL_503\",\n",
      "    \"504\": \"LABEL_504\",\n",
      "    \"505\": \"LABEL_505\",\n",
      "    \"506\": \"LABEL_506\",\n",
      "    \"507\": \"LABEL_507\",\n",
      "    \"508\": \"LABEL_508\",\n",
      "    \"509\": \"LABEL_509\",\n",
      "    \"510\": \"LABEL_510\",\n",
      "    \"511\": \"LABEL_511\",\n",
      "    \"512\": \"LABEL_512\",\n",
      "    \"513\": \"LABEL_513\",\n",
      "    \"514\": \"LABEL_514\",\n",
      "    \"515\": \"LABEL_515\",\n",
      "    \"516\": \"LABEL_516\",\n",
      "    \"517\": \"LABEL_517\",\n",
      "    \"518\": \"LABEL_518\",\n",
      "    \"519\": \"LABEL_519\",\n",
      "    \"520\": \"LABEL_520\",\n",
      "    \"521\": \"LABEL_521\",\n",
      "    \"522\": \"LABEL_522\",\n",
      "    \"523\": \"LABEL_523\",\n",
      "    \"524\": \"LABEL_524\",\n",
      "    \"525\": \"LABEL_525\",\n",
      "    \"526\": \"LABEL_526\",\n",
      "    \"527\": \"LABEL_527\",\n",
      "    \"528\": \"LABEL_528\",\n",
      "    \"529\": \"LABEL_529\",\n",
      "    \"530\": \"LABEL_530\",\n",
      "    \"531\": \"LABEL_531\",\n",
      "    \"532\": \"LABEL_532\",\n",
      "    \"533\": \"LABEL_533\",\n",
      "    \"534\": \"LABEL_534\",\n",
      "    \"535\": \"LABEL_535\",\n",
      "    \"536\": \"LABEL_536\",\n",
      "    \"537\": \"LABEL_537\",\n",
      "    \"538\": \"LABEL_538\",\n",
      "    \"539\": \"LABEL_539\",\n",
      "    \"540\": \"LABEL_540\",\n",
      "    \"541\": \"LABEL_541\",\n",
      "    \"542\": \"LABEL_542\",\n",
      "    \"543\": \"LABEL_543\",\n",
      "    \"544\": \"LABEL_544\",\n",
      "    \"545\": \"LABEL_545\",\n",
      "    \"546\": \"LABEL_546\",\n",
      "    \"547\": \"LABEL_547\",\n",
      "    \"548\": \"LABEL_548\",\n",
      "    \"549\": \"LABEL_549\",\n",
      "    \"550\": \"LABEL_550\",\n",
      "    \"551\": \"LABEL_551\",\n",
      "    \"552\": \"LABEL_552\",\n",
      "    \"553\": \"LABEL_553\",\n",
      "    \"554\": \"LABEL_554\",\n",
      "    \"555\": \"LABEL_555\",\n",
      "    \"556\": \"LABEL_556\",\n",
      "    \"557\": \"LABEL_557\",\n",
      "    \"558\": \"LABEL_558\",\n",
      "    \"559\": \"LABEL_559\",\n",
      "    \"560\": \"LABEL_560\",\n",
      "    \"561\": \"LABEL_561\",\n",
      "    \"562\": \"LABEL_562\",\n",
      "    \"563\": \"LABEL_563\",\n",
      "    \"564\": \"LABEL_564\",\n",
      "    \"565\": \"LABEL_565\",\n",
      "    \"566\": \"LABEL_566\",\n",
      "    \"567\": \"LABEL_567\",\n",
      "    \"568\": \"LABEL_568\",\n",
      "    \"569\": \"LABEL_569\",\n",
      "    \"570\": \"LABEL_570\",\n",
      "    \"571\": \"LABEL_571\",\n",
      "    \"572\": \"LABEL_572\",\n",
      "    \"573\": \"LABEL_573\",\n",
      "    \"574\": \"LABEL_574\",\n",
      "    \"575\": \"LABEL_575\",\n",
      "    \"576\": \"LABEL_576\",\n",
      "    \"577\": \"LABEL_577\",\n",
      "    \"578\": \"LABEL_578\",\n",
      "    \"579\": \"LABEL_579\",\n",
      "    \"580\": \"LABEL_580\",\n",
      "    \"581\": \"LABEL_581\",\n",
      "    \"582\": \"LABEL_582\",\n",
      "    \"583\": \"LABEL_583\",\n",
      "    \"584\": \"LABEL_584\",\n",
      "    \"585\": \"LABEL_585\",\n",
      "    \"586\": \"LABEL_586\",\n",
      "    \"587\": \"LABEL_587\",\n",
      "    \"588\": \"LABEL_588\",\n",
      "    \"589\": \"LABEL_589\",\n",
      "    \"590\": \"LABEL_590\",\n",
      "    \"591\": \"LABEL_591\",\n",
      "    \"592\": \"LABEL_592\",\n",
      "    \"593\": \"LABEL_593\",\n",
      "    \"594\": \"LABEL_594\",\n",
      "    \"595\": \"LABEL_595\",\n",
      "    \"596\": \"LABEL_596\",\n",
      "    \"597\": \"LABEL_597\",\n",
      "    \"598\": \"LABEL_598\",\n",
      "    \"599\": \"LABEL_599\",\n",
      "    \"600\": \"LABEL_600\",\n",
      "    \"601\": \"LABEL_601\",\n",
      "    \"602\": \"LABEL_602\",\n",
      "    \"603\": \"LABEL_603\",\n",
      "    \"604\": \"LABEL_604\",\n",
      "    \"605\": \"LABEL_605\",\n",
      "    \"606\": \"LABEL_606\",\n",
      "    \"607\": \"LABEL_607\",\n",
      "    \"608\": \"LABEL_608\",\n",
      "    \"609\": \"LABEL_609\",\n",
      "    \"610\": \"LABEL_610\",\n",
      "    \"611\": \"LABEL_611\",\n",
      "    \"612\": \"LABEL_612\",\n",
      "    \"613\": \"LABEL_613\",\n",
      "    \"614\": \"LABEL_614\",\n",
      "    \"615\": \"LABEL_615\",\n",
      "    \"616\": \"LABEL_616\",\n",
      "    \"617\": \"LABEL_617\",\n",
      "    \"618\": \"LABEL_618\",\n",
      "    \"619\": \"LABEL_619\",\n",
      "    \"620\": \"LABEL_620\",\n",
      "    \"621\": \"LABEL_621\",\n",
      "    \"622\": \"LABEL_622\",\n",
      "    \"623\": \"LABEL_623\",\n",
      "    \"624\": \"LABEL_624\",\n",
      "    \"625\": \"LABEL_625\",\n",
      "    \"626\": \"LABEL_626\",\n",
      "    \"627\": \"LABEL_627\",\n",
      "    \"628\": \"LABEL_628\",\n",
      "    \"629\": \"LABEL_629\",\n",
      "    \"630\": \"LABEL_630\",\n",
      "    \"631\": \"LABEL_631\",\n",
      "    \"632\": \"LABEL_632\",\n",
      "    \"633\": \"LABEL_633\",\n",
      "    \"634\": \"LABEL_634\",\n",
      "    \"635\": \"LABEL_635\",\n",
      "    \"636\": \"LABEL_636\",\n",
      "    \"637\": \"LABEL_637\",\n",
      "    \"638\": \"LABEL_638\",\n",
      "    \"639\": \"LABEL_639\",\n",
      "    \"640\": \"LABEL_640\",\n",
      "    \"641\": \"LABEL_641\",\n",
      "    \"642\": \"LABEL_642\",\n",
      "    \"643\": \"LABEL_643\",\n",
      "    \"644\": \"LABEL_644\",\n",
      "    \"645\": \"LABEL_645\",\n",
      "    \"646\": \"LABEL_646\",\n",
      "    \"647\": \"LABEL_647\",\n",
      "    \"648\": \"LABEL_648\",\n",
      "    \"649\": \"LABEL_649\",\n",
      "    \"650\": \"LABEL_650\",\n",
      "    \"651\": \"LABEL_651\",\n",
      "    \"652\": \"LABEL_652\",\n",
      "    \"653\": \"LABEL_653\",\n",
      "    \"654\": \"LABEL_654\",\n",
      "    \"655\": \"LABEL_655\",\n",
      "    \"656\": \"LABEL_656\",\n",
      "    \"657\": \"LABEL_657\",\n",
      "    \"658\": \"LABEL_658\",\n",
      "    \"659\": \"LABEL_659\",\n",
      "    \"660\": \"LABEL_660\",\n",
      "    \"661\": \"LABEL_661\",\n",
      "    \"662\": \"LABEL_662\",\n",
      "    \"663\": \"LABEL_663\",\n",
      "    \"664\": \"LABEL_664\",\n",
      "    \"665\": \"LABEL_665\",\n",
      "    \"666\": \"LABEL_666\",\n",
      "    \"667\": \"LABEL_667\",\n",
      "    \"668\": \"LABEL_668\",\n",
      "    \"669\": \"LABEL_669\",\n",
      "    \"670\": \"LABEL_670\",\n",
      "    \"671\": \"LABEL_671\",\n",
      "    \"672\": \"LABEL_672\",\n",
      "    \"673\": \"LABEL_673\",\n",
      "    \"674\": \"LABEL_674\",\n",
      "    \"675\": \"LABEL_675\",\n",
      "    \"676\": \"LABEL_676\",\n",
      "    \"677\": \"LABEL_677\",\n",
      "    \"678\": \"LABEL_678\",\n",
      "    \"679\": \"LABEL_679\",\n",
      "    \"680\": \"LABEL_680\",\n",
      "    \"681\": \"LABEL_681\",\n",
      "    \"682\": \"LABEL_682\",\n",
      "    \"683\": \"LABEL_683\",\n",
      "    \"684\": \"LABEL_684\",\n",
      "    \"685\": \"LABEL_685\",\n",
      "    \"686\": \"LABEL_686\",\n",
      "    \"687\": \"LABEL_687\",\n",
      "    \"688\": \"LABEL_688\",\n",
      "    \"689\": \"LABEL_689\",\n",
      "    \"690\": \"LABEL_690\",\n",
      "    \"691\": \"LABEL_691\",\n",
      "    \"692\": \"LABEL_692\",\n",
      "    \"693\": \"LABEL_693\",\n",
      "    \"694\": \"LABEL_694\",\n",
      "    \"695\": \"LABEL_695\",\n",
      "    \"696\": \"LABEL_696\",\n",
      "    \"697\": \"LABEL_697\",\n",
      "    \"698\": \"LABEL_698\",\n",
      "    \"699\": \"LABEL_699\",\n",
      "    \"700\": \"LABEL_700\",\n",
      "    \"701\": \"LABEL_701\",\n",
      "    \"702\": \"LABEL_702\",\n",
      "    \"703\": \"LABEL_703\",\n",
      "    \"704\": \"LABEL_704\",\n",
      "    \"705\": \"LABEL_705\",\n",
      "    \"706\": \"LABEL_706\",\n",
      "    \"707\": \"LABEL_707\",\n",
      "    \"708\": \"LABEL_708\",\n",
      "    \"709\": \"LABEL_709\",\n",
      "    \"710\": \"LABEL_710\",\n",
      "    \"711\": \"LABEL_711\",\n",
      "    \"712\": \"LABEL_712\",\n",
      "    \"713\": \"LABEL_713\",\n",
      "    \"714\": \"LABEL_714\",\n",
      "    \"715\": \"LABEL_715\",\n",
      "    \"716\": \"LABEL_716\",\n",
      "    \"717\": \"LABEL_717\",\n",
      "    \"718\": \"LABEL_718\",\n",
      "    \"719\": \"LABEL_719\",\n",
      "    \"720\": \"LABEL_720\",\n",
      "    \"721\": \"LABEL_721\",\n",
      "    \"722\": \"LABEL_722\",\n",
      "    \"723\": \"LABEL_723\",\n",
      "    \"724\": \"LABEL_724\",\n",
      "    \"725\": \"LABEL_725\",\n",
      "    \"726\": \"LABEL_726\",\n",
      "    \"727\": \"LABEL_727\",\n",
      "    \"728\": \"LABEL_728\",\n",
      "    \"729\": \"LABEL_729\",\n",
      "    \"730\": \"LABEL_730\",\n",
      "    \"731\": \"LABEL_731\",\n",
      "    \"732\": \"LABEL_732\",\n",
      "    \"733\": \"LABEL_733\",\n",
      "    \"734\": \"LABEL_734\",\n",
      "    \"735\": \"LABEL_735\",\n",
      "    \"736\": \"LABEL_736\",\n",
      "    \"737\": \"LABEL_737\",\n",
      "    \"738\": \"LABEL_738\",\n",
      "    \"739\": \"LABEL_739\",\n",
      "    \"740\": \"LABEL_740\",\n",
      "    \"741\": \"LABEL_741\",\n",
      "    \"742\": \"LABEL_742\",\n",
      "    \"743\": \"LABEL_743\",\n",
      "    \"744\": \"LABEL_744\",\n",
      "    \"745\": \"LABEL_745\",\n",
      "    \"746\": \"LABEL_746\",\n",
      "    \"747\": \"LABEL_747\",\n",
      "    \"748\": \"LABEL_748\",\n",
      "    \"749\": \"LABEL_749\",\n",
      "    \"750\": \"LABEL_750\",\n",
      "    \"751\": \"LABEL_751\",\n",
      "    \"752\": \"LABEL_752\",\n",
      "    \"753\": \"LABEL_753\",\n",
      "    \"754\": \"LABEL_754\",\n",
      "    \"755\": \"LABEL_755\",\n",
      "    \"756\": \"LABEL_756\",\n",
      "    \"757\": \"LABEL_757\",\n",
      "    \"758\": \"LABEL_758\",\n",
      "    \"759\": \"LABEL_759\",\n",
      "    \"760\": \"LABEL_760\",\n",
      "    \"761\": \"LABEL_761\",\n",
      "    \"762\": \"LABEL_762\",\n",
      "    \"763\": \"LABEL_763\",\n",
      "    \"764\": \"LABEL_764\",\n",
      "    \"765\": \"LABEL_765\",\n",
      "    \"766\": \"LABEL_766\",\n",
      "    \"767\": \"LABEL_767\",\n",
      "    \"768\": \"LABEL_768\",\n",
      "    \"769\": \"LABEL_769\",\n",
      "    \"770\": \"LABEL_770\",\n",
      "    \"771\": \"LABEL_771\",\n",
      "    \"772\": \"LABEL_772\",\n",
      "    \"773\": \"LABEL_773\",\n",
      "    \"774\": \"LABEL_774\",\n",
      "    \"775\": \"LABEL_775\",\n",
      "    \"776\": \"LABEL_776\",\n",
      "    \"777\": \"LABEL_777\",\n",
      "    \"778\": \"LABEL_778\",\n",
      "    \"779\": \"LABEL_779\",\n",
      "    \"780\": \"LABEL_780\",\n",
      "    \"781\": \"LABEL_781\",\n",
      "    \"782\": \"LABEL_782\",\n",
      "    \"783\": \"LABEL_783\",\n",
      "    \"784\": \"LABEL_784\",\n",
      "    \"785\": \"LABEL_785\",\n",
      "    \"786\": \"LABEL_786\",\n",
      "    \"787\": \"LABEL_787\",\n",
      "    \"788\": \"LABEL_788\",\n",
      "    \"789\": \"LABEL_789\",\n",
      "    \"790\": \"LABEL_790\",\n",
      "    \"791\": \"LABEL_791\",\n",
      "    \"792\": \"LABEL_792\",\n",
      "    \"793\": \"LABEL_793\",\n",
      "    \"794\": \"LABEL_794\",\n",
      "    \"795\": \"LABEL_795\",\n",
      "    \"796\": \"LABEL_796\",\n",
      "    \"797\": \"LABEL_797\",\n",
      "    \"798\": \"LABEL_798\",\n",
      "    \"799\": \"LABEL_799\",\n",
      "    \"800\": \"LABEL_800\",\n",
      "    \"801\": \"LABEL_801\",\n",
      "    \"802\": \"LABEL_802\",\n",
      "    \"803\": \"LABEL_803\",\n",
      "    \"804\": \"LABEL_804\",\n",
      "    \"805\": \"LABEL_805\",\n",
      "    \"806\": \"LABEL_806\",\n",
      "    \"807\": \"LABEL_807\",\n",
      "    \"808\": \"LABEL_808\",\n",
      "    \"809\": \"LABEL_809\",\n",
      "    \"810\": \"LABEL_810\",\n",
      "    \"811\": \"LABEL_811\",\n",
      "    \"812\": \"LABEL_812\",\n",
      "    \"813\": \"LABEL_813\",\n",
      "    \"814\": \"LABEL_814\",\n",
      "    \"815\": \"LABEL_815\",\n",
      "    \"816\": \"LABEL_816\",\n",
      "    \"817\": \"LABEL_817\",\n",
      "    \"818\": \"LABEL_818\",\n",
      "    \"819\": \"LABEL_819\",\n",
      "    \"820\": \"LABEL_820\",\n",
      "    \"821\": \"LABEL_821\",\n",
      "    \"822\": \"LABEL_822\",\n",
      "    \"823\": \"LABEL_823\",\n",
      "    \"824\": \"LABEL_824\",\n",
      "    \"825\": \"LABEL_825\",\n",
      "    \"826\": \"LABEL_826\",\n",
      "    \"827\": \"LABEL_827\",\n",
      "    \"828\": \"LABEL_828\",\n",
      "    \"829\": \"LABEL_829\"\n",
      "  },\n",
      "  \"initializer_range\": 0.02,\n",
      "  \"intermediate_size\": 600,\n",
      "  \"label2id\": {\n",
      "    \"LABEL_0\": 0,\n",
      "    \"LABEL_1\": 1,\n",
      "    \"LABEL_10\": 10,\n",
      "    \"LABEL_100\": 100,\n",
      "    \"LABEL_101\": 101,\n",
      "    \"LABEL_102\": 102,\n",
      "    \"LABEL_103\": 103,\n",
      "    \"LABEL_104\": 104,\n",
      "    \"LABEL_105\": 105,\n",
      "    \"LABEL_106\": 106,\n",
      "    \"LABEL_107\": 107,\n",
      "    \"LABEL_108\": 108,\n",
      "    \"LABEL_109\": 109,\n",
      "    \"LABEL_11\": 11,\n",
      "    \"LABEL_110\": 110,\n",
      "    \"LABEL_111\": 111,\n",
      "    \"LABEL_112\": 112,\n",
      "    \"LABEL_113\": 113,\n",
      "    \"LABEL_114\": 114,\n",
      "    \"LABEL_115\": 115,\n",
      "    \"LABEL_116\": 116,\n",
      "    \"LABEL_117\": 117,\n",
      "    \"LABEL_118\": 118,\n",
      "    \"LABEL_119\": 119,\n",
      "    \"LABEL_12\": 12,\n",
      "    \"LABEL_120\": 120,\n",
      "    \"LABEL_121\": 121,\n",
      "    \"LABEL_122\": 122,\n",
      "    \"LABEL_123\": 123,\n",
      "    \"LABEL_124\": 124,\n",
      "    \"LABEL_125\": 125,\n",
      "    \"LABEL_126\": 126,\n",
      "    \"LABEL_127\": 127,\n",
      "    \"LABEL_128\": 128,\n",
      "    \"LABEL_129\": 129,\n",
      "    \"LABEL_13\": 13,\n",
      "    \"LABEL_130\": 130,\n",
      "    \"LABEL_131\": 131,\n",
      "    \"LABEL_132\": 132,\n",
      "    \"LABEL_133\": 133,\n",
      "    \"LABEL_134\": 134,\n",
      "    \"LABEL_135\": 135,\n",
      "    \"LABEL_136\": 136,\n",
      "    \"LABEL_137\": 137,\n",
      "    \"LABEL_138\": 138,\n",
      "    \"LABEL_139\": 139,\n",
      "    \"LABEL_14\": 14,\n",
      "    \"LABEL_140\": 140,\n",
      "    \"LABEL_141\": 141,\n",
      "    \"LABEL_142\": 142,\n",
      "    \"LABEL_143\": 143,\n",
      "    \"LABEL_144\": 144,\n",
      "    \"LABEL_145\": 145,\n",
      "    \"LABEL_146\": 146,\n",
      "    \"LABEL_147\": 147,\n",
      "    \"LABEL_148\": 148,\n",
      "    \"LABEL_149\": 149,\n",
      "    \"LABEL_15\": 15,\n",
      "    \"LABEL_150\": 150,\n",
      "    \"LABEL_151\": 151,\n",
      "    \"LABEL_152\": 152,\n",
      "    \"LABEL_153\": 153,\n",
      "    \"LABEL_154\": 154,\n",
      "    \"LABEL_155\": 155,\n",
      "    \"LABEL_156\": 156,\n",
      "    \"LABEL_157\": 157,\n",
      "    \"LABEL_158\": 158,\n",
      "    \"LABEL_159\": 159,\n",
      "    \"LABEL_16\": 16,\n",
      "    \"LABEL_160\": 160,\n",
      "    \"LABEL_161\": 161,\n",
      "    \"LABEL_162\": 162,\n",
      "    \"LABEL_163\": 163,\n",
      "    \"LABEL_164\": 164,\n",
      "    \"LABEL_165\": 165,\n",
      "    \"LABEL_166\": 166,\n",
      "    \"LABEL_167\": 167,\n",
      "    \"LABEL_168\": 168,\n",
      "    \"LABEL_169\": 169,\n",
      "    \"LABEL_17\": 17,\n",
      "    \"LABEL_170\": 170,\n",
      "    \"LABEL_171\": 171,\n",
      "    \"LABEL_172\": 172,\n",
      "    \"LABEL_173\": 173,\n",
      "    \"LABEL_174\": 174,\n",
      "    \"LABEL_175\": 175,\n",
      "    \"LABEL_176\": 176,\n",
      "    \"LABEL_177\": 177,\n",
      "    \"LABEL_178\": 178,\n",
      "    \"LABEL_179\": 179,\n",
      "    \"LABEL_18\": 18,\n",
      "    \"LABEL_180\": 180,\n",
      "    \"LABEL_181\": 181,\n",
      "    \"LABEL_182\": 182,\n",
      "    \"LABEL_183\": 183,\n",
      "    \"LABEL_184\": 184,\n",
      "    \"LABEL_185\": 185,\n",
      "    \"LABEL_186\": 186,\n",
      "    \"LABEL_187\": 187,\n",
      "    \"LABEL_188\": 188,\n",
      "    \"LABEL_189\": 189,\n",
      "    \"LABEL_19\": 19,\n",
      "    \"LABEL_190\": 190,\n",
      "    \"LABEL_191\": 191,\n",
      "    \"LABEL_192\": 192,\n",
      "    \"LABEL_193\": 193,\n",
      "    \"LABEL_194\": 194,\n",
      "    \"LABEL_195\": 195,\n",
      "    \"LABEL_196\": 196,\n",
      "    \"LABEL_197\": 197,\n",
      "    \"LABEL_198\": 198,\n",
      "    \"LABEL_199\": 199,\n",
      "    \"LABEL_2\": 2,\n",
      "    \"LABEL_20\": 20,\n",
      "    \"LABEL_200\": 200,\n",
      "    \"LABEL_201\": 201,\n",
      "    \"LABEL_202\": 202,\n",
      "    \"LABEL_203\": 203,\n",
      "    \"LABEL_204\": 204,\n",
      "    \"LABEL_205\": 205,\n",
      "    \"LABEL_206\": 206,\n",
      "    \"LABEL_207\": 207,\n",
      "    \"LABEL_208\": 208,\n",
      "    \"LABEL_209\": 209,\n",
      "    \"LABEL_21\": 21,\n",
      "    \"LABEL_210\": 210,\n",
      "    \"LABEL_211\": 211,\n",
      "    \"LABEL_212\": 212,\n",
      "    \"LABEL_213\": 213,\n",
      "    \"LABEL_214\": 214,\n",
      "    \"LABEL_215\": 215,\n",
      "    \"LABEL_216\": 216,\n",
      "    \"LABEL_217\": 217,\n",
      "    \"LABEL_218\": 218,\n",
      "    \"LABEL_219\": 219,\n",
      "    \"LABEL_22\": 22,\n",
      "    \"LABEL_220\": 220,\n",
      "    \"LABEL_221\": 221,\n",
      "    \"LABEL_222\": 222,\n",
      "    \"LABEL_223\": 223,\n",
      "    \"LABEL_224\": 224,\n",
      "    \"LABEL_225\": 225,\n",
      "    \"LABEL_226\": 226,\n",
      "    \"LABEL_227\": 227,\n",
      "    \"LABEL_228\": 228,\n",
      "    \"LABEL_229\": 229,\n",
      "    \"LABEL_23\": 23,\n",
      "    \"LABEL_230\": 230,\n",
      "    \"LABEL_231\": 231,\n",
      "    \"LABEL_232\": 232,\n",
      "    \"LABEL_233\": 233,\n",
      "    \"LABEL_234\": 234,\n",
      "    \"LABEL_235\": 235,\n",
      "    \"LABEL_236\": 236,\n",
      "    \"LABEL_237\": 237,\n",
      "    \"LABEL_238\": 238,\n",
      "    \"LABEL_239\": 239,\n",
      "    \"LABEL_24\": 24,\n",
      "    \"LABEL_240\": 240,\n",
      "    \"LABEL_241\": 241,\n",
      "    \"LABEL_242\": 242,\n",
      "    \"LABEL_243\": 243,\n",
      "    \"LABEL_244\": 244,\n",
      "    \"LABEL_245\": 245,\n",
      "    \"LABEL_246\": 246,\n",
      "    \"LABEL_247\": 247,\n",
      "    \"LABEL_248\": 248,\n",
      "    \"LABEL_249\": 249,\n",
      "    \"LABEL_25\": 25,\n",
      "    \"LABEL_250\": 250,\n",
      "    \"LABEL_251\": 251,\n",
      "    \"LABEL_252\": 252,\n",
      "    \"LABEL_253\": 253,\n",
      "    \"LABEL_254\": 254,\n",
      "    \"LABEL_255\": 255,\n",
      "    \"LABEL_256\": 256,\n",
      "    \"LABEL_257\": 257,\n",
      "    \"LABEL_258\": 258,\n",
      "    \"LABEL_259\": 259,\n",
      "    \"LABEL_26\": 26,\n",
      "    \"LABEL_260\": 260,\n",
      "    \"LABEL_261\": 261,\n",
      "    \"LABEL_262\": 262,\n",
      "    \"LABEL_263\": 263,\n",
      "    \"LABEL_264\": 264,\n",
      "    \"LABEL_265\": 265,\n",
      "    \"LABEL_266\": 266,\n",
      "    \"LABEL_267\": 267,\n",
      "    \"LABEL_268\": 268,\n",
      "    \"LABEL_269\": 269,\n",
      "    \"LABEL_27\": 27,\n",
      "    \"LABEL_270\": 270,\n",
      "    \"LABEL_271\": 271,\n",
      "    \"LABEL_272\": 272,\n",
      "    \"LABEL_273\": 273,\n",
      "    \"LABEL_274\": 274,\n",
      "    \"LABEL_275\": 275,\n",
      "    \"LABEL_276\": 276,\n",
      "    \"LABEL_277\": 277,\n",
      "    \"LABEL_278\": 278,\n",
      "    \"LABEL_279\": 279,\n",
      "    \"LABEL_28\": 28,\n",
      "    \"LABEL_280\": 280,\n",
      "    \"LABEL_281\": 281,\n",
      "    \"LABEL_282\": 282,\n",
      "    \"LABEL_283\": 283,\n",
      "    \"LABEL_284\": 284,\n",
      "    \"LABEL_285\": 285,\n",
      "    \"LABEL_286\": 286,\n",
      "    \"LABEL_287\": 287,\n",
      "    \"LABEL_288\": 288,\n",
      "    \"LABEL_289\": 289,\n",
      "    \"LABEL_29\": 29,\n",
      "    \"LABEL_290\": 290,\n",
      "    \"LABEL_291\": 291,\n",
      "    \"LABEL_292\": 292,\n",
      "    \"LABEL_293\": 293,\n",
      "    \"LABEL_294\": 294,\n",
      "    \"LABEL_295\": 295,\n",
      "    \"LABEL_296\": 296,\n",
      "    \"LABEL_297\": 297,\n",
      "    \"LABEL_298\": 298,\n",
      "    \"LABEL_299\": 299,\n",
      "    \"LABEL_3\": 3,\n",
      "    \"LABEL_30\": 30,\n",
      "    \"LABEL_300\": 300,\n",
      "    \"LABEL_301\": 301,\n",
      "    \"LABEL_302\": 302,\n",
      "    \"LABEL_303\": 303,\n",
      "    \"LABEL_304\": 304,\n",
      "    \"LABEL_305\": 305,\n",
      "    \"LABEL_306\": 306,\n",
      "    \"LABEL_307\": 307,\n",
      "    \"LABEL_308\": 308,\n",
      "    \"LABEL_309\": 309,\n",
      "    \"LABEL_31\": 31,\n",
      "    \"LABEL_310\": 310,\n",
      "    \"LABEL_311\": 311,\n",
      "    \"LABEL_312\": 312,\n",
      "    \"LABEL_313\": 313,\n",
      "    \"LABEL_314\": 314,\n",
      "    \"LABEL_315\": 315,\n",
      "    \"LABEL_316\": 316,\n",
      "    \"LABEL_317\": 317,\n",
      "    \"LABEL_318\": 318,\n",
      "    \"LABEL_319\": 319,\n",
      "    \"LABEL_32\": 32,\n",
      "    \"LABEL_320\": 320,\n",
      "    \"LABEL_321\": 321,\n",
      "    \"LABEL_322\": 322,\n",
      "    \"LABEL_323\": 323,\n",
      "    \"LABEL_324\": 324,\n",
      "    \"LABEL_325\": 325,\n",
      "    \"LABEL_326\": 326,\n",
      "    \"LABEL_327\": 327,\n",
      "    \"LABEL_328\": 328,\n",
      "    \"LABEL_329\": 329,\n",
      "    \"LABEL_33\": 33,\n",
      "    \"LABEL_330\": 330,\n",
      "    \"LABEL_331\": 331,\n",
      "    \"LABEL_332\": 332,\n",
      "    \"LABEL_333\": 333,\n",
      "    \"LABEL_334\": 334,\n",
      "    \"LABEL_335\": 335,\n",
      "    \"LABEL_336\": 336,\n",
      "    \"LABEL_337\": 337,\n",
      "    \"LABEL_338\": 338,\n",
      "    \"LABEL_339\": 339,\n",
      "    \"LABEL_34\": 34,\n",
      "    \"LABEL_340\": 340,\n",
      "    \"LABEL_341\": 341,\n",
      "    \"LABEL_342\": 342,\n",
      "    \"LABEL_343\": 343,\n",
      "    \"LABEL_344\": 344,\n",
      "    \"LABEL_345\": 345,\n",
      "    \"LABEL_346\": 346,\n",
      "    \"LABEL_347\": 347,\n",
      "    \"LABEL_348\": 348,\n",
      "    \"LABEL_349\": 349,\n",
      "    \"LABEL_35\": 35,\n",
      "    \"LABEL_350\": 350,\n",
      "    \"LABEL_351\": 351,\n",
      "    \"LABEL_352\": 352,\n",
      "    \"LABEL_353\": 353,\n",
      "    \"LABEL_354\": 354,\n",
      "    \"LABEL_355\": 355,\n",
      "    \"LABEL_356\": 356,\n",
      "    \"LABEL_357\": 357,\n",
      "    \"LABEL_358\": 358,\n",
      "    \"LABEL_359\": 359,\n",
      "    \"LABEL_36\": 36,\n",
      "    \"LABEL_360\": 360,\n",
      "    \"LABEL_361\": 361,\n",
      "    \"LABEL_362\": 362,\n",
      "    \"LABEL_363\": 363,\n",
      "    \"LABEL_364\": 364,\n",
      "    \"LABEL_365\": 365,\n",
      "    \"LABEL_366\": 366,\n",
      "    \"LABEL_367\": 367,\n",
      "    \"LABEL_368\": 368,\n",
      "    \"LABEL_369\": 369,\n",
      "    \"LABEL_37\": 37,\n",
      "    \"LABEL_370\": 370,\n",
      "    \"LABEL_371\": 371,\n",
      "    \"LABEL_372\": 372,\n",
      "    \"LABEL_373\": 373,\n",
      "    \"LABEL_374\": 374,\n",
      "    \"LABEL_375\": 375,\n",
      "    \"LABEL_376\": 376,\n",
      "    \"LABEL_377\": 377,\n",
      "    \"LABEL_378\": 378,\n",
      "    \"LABEL_379\": 379,\n",
      "    \"LABEL_38\": 38,\n",
      "    \"LABEL_380\": 380,\n",
      "    \"LABEL_381\": 381,\n",
      "    \"LABEL_382\": 382,\n",
      "    \"LABEL_383\": 383,\n",
      "    \"LABEL_384\": 384,\n",
      "    \"LABEL_385\": 385,\n",
      "    \"LABEL_386\": 386,\n",
      "    \"LABEL_387\": 387,\n",
      "    \"LABEL_388\": 388,\n",
      "    \"LABEL_389\": 389,\n",
      "    \"LABEL_39\": 39,\n",
      "    \"LABEL_390\": 390,\n",
      "    \"LABEL_391\": 391,\n",
      "    \"LABEL_392\": 392,\n",
      "    \"LABEL_393\": 393,\n",
      "    \"LABEL_394\": 394,\n",
      "    \"LABEL_395\": 395,\n",
      "    \"LABEL_396\": 396,\n",
      "    \"LABEL_397\": 397,\n",
      "    \"LABEL_398\": 398,\n",
      "    \"LABEL_399\": 399,\n",
      "    \"LABEL_4\": 4,\n",
      "    \"LABEL_40\": 40,\n",
      "    \"LABEL_400\": 400,\n",
      "    \"LABEL_401\": 401,\n",
      "    \"LABEL_402\": 402,\n",
      "    \"LABEL_403\": 403,\n",
      "    \"LABEL_404\": 404,\n",
      "    \"LABEL_405\": 405,\n",
      "    \"LABEL_406\": 406,\n",
      "    \"LABEL_407\": 407,\n",
      "    \"LABEL_408\": 408,\n",
      "    \"LABEL_409\": 409,\n",
      "    \"LABEL_41\": 41,\n",
      "    \"LABEL_410\": 410,\n",
      "    \"LABEL_411\": 411,\n",
      "    \"LABEL_412\": 412,\n",
      "    \"LABEL_413\": 413,\n",
      "    \"LABEL_414\": 414,\n",
      "    \"LABEL_415\": 415,\n",
      "    \"LABEL_416\": 416,\n",
      "    \"LABEL_417\": 417,\n",
      "    \"LABEL_418\": 418,\n",
      "    \"LABEL_419\": 419,\n",
      "    \"LABEL_42\": 42,\n",
      "    \"LABEL_420\": 420,\n",
      "    \"LABEL_421\": 421,\n",
      "    \"LABEL_422\": 422,\n",
      "    \"LABEL_423\": 423,\n",
      "    \"LABEL_424\": 424,\n",
      "    \"LABEL_425\": 425,\n",
      "    \"LABEL_426\": 426,\n",
      "    \"LABEL_427\": 427,\n",
      "    \"LABEL_428\": 428,\n",
      "    \"LABEL_429\": 429,\n",
      "    \"LABEL_43\": 43,\n",
      "    \"LABEL_430\": 430,\n",
      "    \"LABEL_431\": 431,\n",
      "    \"LABEL_432\": 432,\n",
      "    \"LABEL_433\": 433,\n",
      "    \"LABEL_434\": 434,\n",
      "    \"LABEL_435\": 435,\n",
      "    \"LABEL_436\": 436,\n",
      "    \"LABEL_437\": 437,\n",
      "    \"LABEL_438\": 438,\n",
      "    \"LABEL_439\": 439,\n",
      "    \"LABEL_44\": 44,\n",
      "    \"LABEL_440\": 440,\n",
      "    \"LABEL_441\": 441,\n",
      "    \"LABEL_442\": 442,\n",
      "    \"LABEL_443\": 443,\n",
      "    \"LABEL_444\": 444,\n",
      "    \"LABEL_445\": 445,\n",
      "    \"LABEL_446\": 446,\n",
      "    \"LABEL_447\": 447,\n",
      "    \"LABEL_448\": 448,\n",
      "    \"LABEL_449\": 449,\n",
      "    \"LABEL_45\": 45,\n",
      "    \"LABEL_450\": 450,\n",
      "    \"LABEL_451\": 451,\n",
      "    \"LABEL_452\": 452,\n",
      "    \"LABEL_453\": 453,\n",
      "    \"LABEL_454\": 454,\n",
      "    \"LABEL_455\": 455,\n",
      "    \"LABEL_456\": 456,\n",
      "    \"LABEL_457\": 457,\n",
      "    \"LABEL_458\": 458,\n",
      "    \"LABEL_459\": 459,\n",
      "    \"LABEL_46\": 46,\n",
      "    \"LABEL_460\": 460,\n",
      "    \"LABEL_461\": 461,\n",
      "    \"LABEL_462\": 462,\n",
      "    \"LABEL_463\": 463,\n",
      "    \"LABEL_464\": 464,\n",
      "    \"LABEL_465\": 465,\n",
      "    \"LABEL_466\": 466,\n",
      "    \"LABEL_467\": 467,\n",
      "    \"LABEL_468\": 468,\n",
      "    \"LABEL_469\": 469,\n",
      "    \"LABEL_47\": 47,\n",
      "    \"LABEL_470\": 470,\n",
      "    \"LABEL_471\": 471,\n",
      "    \"LABEL_472\": 472,\n",
      "    \"LABEL_473\": 473,\n",
      "    \"LABEL_474\": 474,\n",
      "    \"LABEL_475\": 475,\n",
      "    \"LABEL_476\": 476,\n",
      "    \"LABEL_477\": 477,\n",
      "    \"LABEL_478\": 478,\n",
      "    \"LABEL_479\": 479,\n",
      "    \"LABEL_48\": 48,\n",
      "    \"LABEL_480\": 480,\n",
      "    \"LABEL_481\": 481,\n",
      "    \"LABEL_482\": 482,\n",
      "    \"LABEL_483\": 483,\n",
      "    \"LABEL_484\": 484,\n",
      "    \"LABEL_485\": 485,\n",
      "    \"LABEL_486\": 486,\n",
      "    \"LABEL_487\": 487,\n",
      "    \"LABEL_488\": 488,\n",
      "    \"LABEL_489\": 489,\n",
      "    \"LABEL_49\": 49,\n",
      "    \"LABEL_490\": 490,\n",
      "    \"LABEL_491\": 491,\n",
      "    \"LABEL_492\": 492,\n",
      "    \"LABEL_493\": 493,\n",
      "    \"LABEL_494\": 494,\n",
      "    \"LABEL_495\": 495,\n",
      "    \"LABEL_496\": 496,\n",
      "    \"LABEL_497\": 497,\n",
      "    \"LABEL_498\": 498,\n",
      "    \"LABEL_499\": 499,\n",
      "    \"LABEL_5\": 5,\n",
      "    \"LABEL_50\": 50,\n",
      "    \"LABEL_500\": 500,\n",
      "    \"LABEL_501\": 501,\n",
      "    \"LABEL_502\": 502,\n",
      "    \"LABEL_503\": 503,\n",
      "    \"LABEL_504\": 504,\n",
      "    \"LABEL_505\": 505,\n",
      "    \"LABEL_506\": 506,\n",
      "    \"LABEL_507\": 507,\n",
      "    \"LABEL_508\": 508,\n",
      "    \"LABEL_509\": 509,\n",
      "    \"LABEL_51\": 51,\n",
      "    \"LABEL_510\": 510,\n",
      "    \"LABEL_511\": 511,\n",
      "    \"LABEL_512\": 512,\n",
      "    \"LABEL_513\": 513,\n",
      "    \"LABEL_514\": 514,\n",
      "    \"LABEL_515\": 515,\n",
      "    \"LABEL_516\": 516,\n",
      "    \"LABEL_517\": 517,\n",
      "    \"LABEL_518\": 518,\n",
      "    \"LABEL_519\": 519,\n",
      "    \"LABEL_52\": 52,\n",
      "    \"LABEL_520\": 520,\n",
      "    \"LABEL_521\": 521,\n",
      "    \"LABEL_522\": 522,\n",
      "    \"LABEL_523\": 523,\n",
      "    \"LABEL_524\": 524,\n",
      "    \"LABEL_525\": 525,\n",
      "    \"LABEL_526\": 526,\n",
      "    \"LABEL_527\": 527,\n",
      "    \"LABEL_528\": 528,\n",
      "    \"LABEL_529\": 529,\n",
      "    \"LABEL_53\": 53,\n",
      "    \"LABEL_530\": 530,\n",
      "    \"LABEL_531\": 531,\n",
      "    \"LABEL_532\": 532,\n",
      "    \"LABEL_533\": 533,\n",
      "    \"LABEL_534\": 534,\n",
      "    \"LABEL_535\": 535,\n",
      "    \"LABEL_536\": 536,\n",
      "    \"LABEL_537\": 537,\n",
      "    \"LABEL_538\": 538,\n",
      "    \"LABEL_539\": 539,\n",
      "    \"LABEL_54\": 54,\n",
      "    \"LABEL_540\": 540,\n",
      "    \"LABEL_541\": 541,\n",
      "    \"LABEL_542\": 542,\n",
      "    \"LABEL_543\": 543,\n",
      "    \"LABEL_544\": 544,\n",
      "    \"LABEL_545\": 545,\n",
      "    \"LABEL_546\": 546,\n",
      "    \"LABEL_547\": 547,\n",
      "    \"LABEL_548\": 548,\n",
      "    \"LABEL_549\": 549,\n",
      "    \"LABEL_55\": 55,\n",
      "    \"LABEL_550\": 550,\n",
      "    \"LABEL_551\": 551,\n",
      "    \"LABEL_552\": 552,\n",
      "    \"LABEL_553\": 553,\n",
      "    \"LABEL_554\": 554,\n",
      "    \"LABEL_555\": 555,\n",
      "    \"LABEL_556\": 556,\n",
      "    \"LABEL_557\": 557,\n",
      "    \"LABEL_558\": 558,\n",
      "    \"LABEL_559\": 559,\n",
      "    \"LABEL_56\": 56,\n",
      "    \"LABEL_560\": 560,\n",
      "    \"LABEL_561\": 561,\n",
      "    \"LABEL_562\": 562,\n",
      "    \"LABEL_563\": 563,\n",
      "    \"LABEL_564\": 564,\n",
      "    \"LABEL_565\": 565,\n",
      "    \"LABEL_566\": 566,\n",
      "    \"LABEL_567\": 567,\n",
      "    \"LABEL_568\": 568,\n",
      "    \"LABEL_569\": 569,\n",
      "    \"LABEL_57\": 57,\n",
      "    \"LABEL_570\": 570,\n",
      "    \"LABEL_571\": 571,\n",
      "    \"LABEL_572\": 572,\n",
      "    \"LABEL_573\": 573,\n",
      "    \"LABEL_574\": 574,\n",
      "    \"LABEL_575\": 575,\n",
      "    \"LABEL_576\": 576,\n",
      "    \"LABEL_577\": 577,\n",
      "    \"LABEL_578\": 578,\n",
      "    \"LABEL_579\": 579,\n",
      "    \"LABEL_58\": 58,\n",
      "    \"LABEL_580\": 580,\n",
      "    \"LABEL_581\": 581,\n",
      "    \"LABEL_582\": 582,\n",
      "    \"LABEL_583\": 583,\n",
      "    \"LABEL_584\": 584,\n",
      "    \"LABEL_585\": 585,\n",
      "    \"LABEL_586\": 586,\n",
      "    \"LABEL_587\": 587,\n",
      "    \"LABEL_588\": 588,\n",
      "    \"LABEL_589\": 589,\n",
      "    \"LABEL_59\": 59,\n",
      "    \"LABEL_590\": 590,\n",
      "    \"LABEL_591\": 591,\n",
      "    \"LABEL_592\": 592,\n",
      "    \"LABEL_593\": 593,\n",
      "    \"LABEL_594\": 594,\n",
      "    \"LABEL_595\": 595,\n",
      "    \"LABEL_596\": 596,\n",
      "    \"LABEL_597\": 597,\n",
      "    \"LABEL_598\": 598,\n",
      "    \"LABEL_599\": 599,\n",
      "    \"LABEL_6\": 6,\n",
      "    \"LABEL_60\": 60,\n",
      "    \"LABEL_600\": 600,\n",
      "    \"LABEL_601\": 601,\n",
      "    \"LABEL_602\": 602,\n",
      "    \"LABEL_603\": 603,\n",
      "    \"LABEL_604\": 604,\n",
      "    \"LABEL_605\": 605,\n",
      "    \"LABEL_606\": 606,\n",
      "    \"LABEL_607\": 607,\n",
      "    \"LABEL_608\": 608,\n",
      "    \"LABEL_609\": 609,\n",
      "    \"LABEL_61\": 61,\n",
      "    \"LABEL_610\": 610,\n",
      "    \"LABEL_611\": 611,\n",
      "    \"LABEL_612\": 612,\n",
      "    \"LABEL_613\": 613,\n",
      "    \"LABEL_614\": 614,\n",
      "    \"LABEL_615\": 615,\n",
      "    \"LABEL_616\": 616,\n",
      "    \"LABEL_617\": 617,\n",
      "    \"LABEL_618\": 618,\n",
      "    \"LABEL_619\": 619,\n",
      "    \"LABEL_62\": 62,\n",
      "    \"LABEL_620\": 620,\n",
      "    \"LABEL_621\": 621,\n",
      "    \"LABEL_622\": 622,\n",
      "    \"LABEL_623\": 623,\n",
      "    \"LABEL_624\": 624,\n",
      "    \"LABEL_625\": 625,\n",
      "    \"LABEL_626\": 626,\n",
      "    \"LABEL_627\": 627,\n",
      "    \"LABEL_628\": 628,\n",
      "    \"LABEL_629\": 629,\n",
      "    \"LABEL_63\": 63,\n",
      "    \"LABEL_630\": 630,\n",
      "    \"LABEL_631\": 631,\n",
      "    \"LABEL_632\": 632,\n",
      "    \"LABEL_633\": 633,\n",
      "    \"LABEL_634\": 634,\n",
      "    \"LABEL_635\": 635,\n",
      "    \"LABEL_636\": 636,\n",
      "    \"LABEL_637\": 637,\n",
      "    \"LABEL_638\": 638,\n",
      "    \"LABEL_639\": 639,\n",
      "    \"LABEL_64\": 64,\n",
      "    \"LABEL_640\": 640,\n",
      "    \"LABEL_641\": 641,\n",
      "    \"LABEL_642\": 642,\n",
      "    \"LABEL_643\": 643,\n",
      "    \"LABEL_644\": 644,\n",
      "    \"LABEL_645\": 645,\n",
      "    \"LABEL_646\": 646,\n",
      "    \"LABEL_647\": 647,\n",
      "    \"LABEL_648\": 648,\n",
      "    \"LABEL_649\": 649,\n",
      "    \"LABEL_65\": 65,\n",
      "    \"LABEL_650\": 650,\n",
      "    \"LABEL_651\": 651,\n",
      "    \"LABEL_652\": 652,\n",
      "    \"LABEL_653\": 653,\n",
      "    \"LABEL_654\": 654,\n",
      "    \"LABEL_655\": 655,\n",
      "    \"LABEL_656\": 656,\n",
      "    \"LABEL_657\": 657,\n",
      "    \"LABEL_658\": 658,\n",
      "    \"LABEL_659\": 659,\n",
      "    \"LABEL_66\": 66,\n",
      "    \"LABEL_660\": 660,\n",
      "    \"LABEL_661\": 661,\n",
      "    \"LABEL_662\": 662,\n",
      "    \"LABEL_663\": 663,\n",
      "    \"LABEL_664\": 664,\n",
      "    \"LABEL_665\": 665,\n",
      "    \"LABEL_666\": 666,\n",
      "    \"LABEL_667\": 667,\n",
      "    \"LABEL_668\": 668,\n",
      "    \"LABEL_669\": 669,\n",
      "    \"LABEL_67\": 67,\n",
      "    \"LABEL_670\": 670,\n",
      "    \"LABEL_671\": 671,\n",
      "    \"LABEL_672\": 672,\n",
      "    \"LABEL_673\": 673,\n",
      "    \"LABEL_674\": 674,\n",
      "    \"LABEL_675\": 675,\n",
      "    \"LABEL_676\": 676,\n",
      "    \"LABEL_677\": 677,\n",
      "    \"LABEL_678\": 678,\n",
      "    \"LABEL_679\": 679,\n",
      "    \"LABEL_68\": 68,\n",
      "    \"LABEL_680\": 680,\n",
      "    \"LABEL_681\": 681,\n",
      "    \"LABEL_682\": 682,\n",
      "    \"LABEL_683\": 683,\n",
      "    \"LABEL_684\": 684,\n",
      "    \"LABEL_685\": 685,\n",
      "    \"LABEL_686\": 686,\n",
      "    \"LABEL_687\": 687,\n",
      "    \"LABEL_688\": 688,\n",
      "    \"LABEL_689\": 689,\n",
      "    \"LABEL_69\": 69,\n",
      "    \"LABEL_690\": 690,\n",
      "    \"LABEL_691\": 691,\n",
      "    \"LABEL_692\": 692,\n",
      "    \"LABEL_693\": 693,\n",
      "    \"LABEL_694\": 694,\n",
      "    \"LABEL_695\": 695,\n",
      "    \"LABEL_696\": 696,\n",
      "    \"LABEL_697\": 697,\n",
      "    \"LABEL_698\": 698,\n",
      "    \"LABEL_699\": 699,\n",
      "    \"LABEL_7\": 7,\n",
      "    \"LABEL_70\": 70,\n",
      "    \"LABEL_700\": 700,\n",
      "    \"LABEL_701\": 701,\n",
      "    \"LABEL_702\": 702,\n",
      "    \"LABEL_703\": 703,\n",
      "    \"LABEL_704\": 704,\n",
      "    \"LABEL_705\": 705,\n",
      "    \"LABEL_706\": 706,\n",
      "    \"LABEL_707\": 707,\n",
      "    \"LABEL_708\": 708,\n",
      "    \"LABEL_709\": 709,\n",
      "    \"LABEL_71\": 71,\n",
      "    \"LABEL_710\": 710,\n",
      "    \"LABEL_711\": 711,\n",
      "    \"LABEL_712\": 712,\n",
      "    \"LABEL_713\": 713,\n",
      "    \"LABEL_714\": 714,\n",
      "    \"LABEL_715\": 715,\n",
      "    \"LABEL_716\": 716,\n",
      "    \"LABEL_717\": 717,\n",
      "    \"LABEL_718\": 718,\n",
      "    \"LABEL_719\": 719,\n",
      "    \"LABEL_72\": 72,\n",
      "    \"LABEL_720\": 720,\n",
      "    \"LABEL_721\": 721,\n",
      "    \"LABEL_722\": 722,\n",
      "    \"LABEL_723\": 723,\n",
      "    \"LABEL_724\": 724,\n",
      "    \"LABEL_725\": 725,\n",
      "    \"LABEL_726\": 726,\n",
      "    \"LABEL_727\": 727,\n",
      "    \"LABEL_728\": 728,\n",
      "    \"LABEL_729\": 729,\n",
      "    \"LABEL_73\": 73,\n",
      "    \"LABEL_730\": 730,\n",
      "    \"LABEL_731\": 731,\n",
      "    \"LABEL_732\": 732,\n",
      "    \"LABEL_733\": 733,\n",
      "    \"LABEL_734\": 734,\n",
      "    \"LABEL_735\": 735,\n",
      "    \"LABEL_736\": 736,\n",
      "    \"LABEL_737\": 737,\n",
      "    \"LABEL_738\": 738,\n",
      "    \"LABEL_739\": 739,\n",
      "    \"LABEL_74\": 74,\n",
      "    \"LABEL_740\": 740,\n",
      "    \"LABEL_741\": 741,\n",
      "    \"LABEL_742\": 742,\n",
      "    \"LABEL_743\": 743,\n",
      "    \"LABEL_744\": 744,\n",
      "    \"LABEL_745\": 745,\n",
      "    \"LABEL_746\": 746,\n",
      "    \"LABEL_747\": 747,\n",
      "    \"LABEL_748\": 748,\n",
      "    \"LABEL_749\": 749,\n",
      "    \"LABEL_75\": 75,\n",
      "    \"LABEL_750\": 750,\n",
      "    \"LABEL_751\": 751,\n",
      "    \"LABEL_752\": 752,\n",
      "    \"LABEL_753\": 753,\n",
      "    \"LABEL_754\": 754,\n",
      "    \"LABEL_755\": 755,\n",
      "    \"LABEL_756\": 756,\n",
      "    \"LABEL_757\": 757,\n",
      "    \"LABEL_758\": 758,\n",
      "    \"LABEL_759\": 759,\n",
      "    \"LABEL_76\": 76,\n",
      "    \"LABEL_760\": 760,\n",
      "    \"LABEL_761\": 761,\n",
      "    \"LABEL_762\": 762,\n",
      "    \"LABEL_763\": 763,\n",
      "    \"LABEL_764\": 764,\n",
      "    \"LABEL_765\": 765,\n",
      "    \"LABEL_766\": 766,\n",
      "    \"LABEL_767\": 767,\n",
      "    \"LABEL_768\": 768,\n",
      "    \"LABEL_769\": 769,\n",
      "    \"LABEL_77\": 77,\n",
      "    \"LABEL_770\": 770,\n",
      "    \"LABEL_771\": 771,\n",
      "    \"LABEL_772\": 772,\n",
      "    \"LABEL_773\": 773,\n",
      "    \"LABEL_774\": 774,\n",
      "    \"LABEL_775\": 775,\n",
      "    \"LABEL_776\": 776,\n",
      "    \"LABEL_777\": 777,\n",
      "    \"LABEL_778\": 778,\n",
      "    \"LABEL_779\": 779,\n",
      "    \"LABEL_78\": 78,\n",
      "    \"LABEL_780\": 780,\n",
      "    \"LABEL_781\": 781,\n",
      "    \"LABEL_782\": 782,\n",
      "    \"LABEL_783\": 783,\n",
      "    \"LABEL_784\": 784,\n",
      "    \"LABEL_785\": 785,\n",
      "    \"LABEL_786\": 786,\n",
      "    \"LABEL_787\": 787,\n",
      "    \"LABEL_788\": 788,\n",
      "    \"LABEL_789\": 789,\n",
      "    \"LABEL_79\": 79,\n",
      "    \"LABEL_790\": 790,\n",
      "    \"LABEL_791\": 791,\n",
      "    \"LABEL_792\": 792,\n",
      "    \"LABEL_793\": 793,\n",
      "    \"LABEL_794\": 794,\n",
      "    \"LABEL_795\": 795,\n",
      "    \"LABEL_796\": 796,\n",
      "    \"LABEL_797\": 797,\n",
      "    \"LABEL_798\": 798,\n",
      "    \"LABEL_799\": 799,\n",
      "    \"LABEL_8\": 8,\n",
      "    \"LABEL_80\": 80,\n",
      "    \"LABEL_800\": 800,\n",
      "    \"LABEL_801\": 801,\n",
      "    \"LABEL_802\": 802,\n",
      "    \"LABEL_803\": 803,\n",
      "    \"LABEL_804\": 804,\n",
      "    \"LABEL_805\": 805,\n",
      "    \"LABEL_806\": 806,\n",
      "    \"LABEL_807\": 807,\n",
      "    \"LABEL_808\": 808,\n",
      "    \"LABEL_809\": 809,\n",
      "    \"LABEL_81\": 81,\n",
      "    \"LABEL_810\": 810,\n",
      "    \"LABEL_811\": 811,\n",
      "    \"LABEL_812\": 812,\n",
      "    \"LABEL_813\": 813,\n",
      "    \"LABEL_814\": 814,\n",
      "    \"LABEL_815\": 815,\n",
      "    \"LABEL_816\": 816,\n",
      "    \"LABEL_817\": 817,\n",
      "    \"LABEL_818\": 818,\n",
      "    \"LABEL_819\": 819,\n",
      "    \"LABEL_82\": 82,\n",
      "    \"LABEL_820\": 820,\n",
      "    \"LABEL_821\": 821,\n",
      "    \"LABEL_822\": 822,\n",
      "    \"LABEL_823\": 823,\n",
      "    \"LABEL_824\": 824,\n",
      "    \"LABEL_825\": 825,\n",
      "    \"LABEL_826\": 826,\n",
      "    \"LABEL_827\": 827,\n",
      "    \"LABEL_828\": 828,\n",
      "    \"LABEL_829\": 829,\n",
      "    \"LABEL_83\": 83,\n",
      "    \"LABEL_84\": 84,\n",
      "    \"LABEL_85\": 85,\n",
      "    \"LABEL_86\": 86,\n",
      "    \"LABEL_87\": 87,\n",
      "    \"LABEL_88\": 88,\n",
      "    \"LABEL_89\": 89,\n",
      "    \"LABEL_9\": 9,\n",
      "    \"LABEL_90\": 90,\n",
      "    \"LABEL_91\": 91,\n",
      "    \"LABEL_92\": 92,\n",
      "    \"LABEL_93\": 93,\n",
      "    \"LABEL_94\": 94,\n",
      "    \"LABEL_95\": 95,\n",
      "    \"LABEL_96\": 96,\n",
      "    \"LABEL_97\": 97,\n",
      "    \"LABEL_98\": 98,\n",
      "    \"LABEL_99\": 99\n",
      "  },\n",
      "  \"layer_norm_eps\": 1e-12,\n",
      "  \"max_position_embeddings\": 2048,\n",
      "  \"model_type\": \"bert\",\n",
      "  \"num_attention_heads\": 12,\n",
      "  \"num_hidden_layers\": 3,\n",
      "  \"pad_token_id\": 0,\n",
      "  \"position_embedding_type\": \"absolute\",\n",
      "  \"problem_type\": \"single_label_classification\",\n",
      "  \"torch_dtype\": \"float32\",\n",
      "  \"transformers_version\": \"4.19.4\",\n",
      "  \"type_vocab_size\": 2,\n",
      "  \"use_cache\": true,\n",
      "  \"vocab_size\": 83828\n",
      "}\n",
      "\n"
     ]
    },
    {
     "name": "stderr",
     "output_type": "stream",
     "text": [
      "loading weights file https://huggingface.co/cointegrated/rubert-tiny2/resolve/main/pytorch_model.bin from cache at C:\\Users\\Admin/.cache\\huggingface\\transformers\\a04241e554166e7b53f251768f0155f1b8a3f631c8e61b632fb38b3fa4a11314.6ea1ba06b786dd5a8753d0d1da827629b627d560c1d01af937410f09ce3e3983\n",
      "Some weights of the model checkpoint at cointegrated/rubert-tiny2 were not used when initializing BertForSequenceClassification: ['cls.seq_relationship.bias', 'cls.predictions.transform.dense.weight', 'cls.predictions.decoder.weight', 'cls.predictions.bias', 'cls.predictions.decoder.bias', 'cls.predictions.transform.LayerNorm.bias', 'cls.seq_relationship.weight', 'cls.predictions.transform.dense.bias', 'cls.predictions.transform.LayerNorm.weight']\n",
      "- This IS expected if you are initializing BertForSequenceClassification from the checkpoint of a model trained on another task or with another architecture (e.g. initializing a BertForSequenceClassification model from a BertForPreTraining model).\n",
      "- This IS NOT expected if you are initializing BertForSequenceClassification from the checkpoint of a model that you expect to be exactly identical (initializing a BertForSequenceClassification model from a BertForSequenceClassification model).\n",
      "Some weights of BertForSequenceClassification were not initialized from the model checkpoint at cointegrated/rubert-tiny2 and are newly initialized: ['classifier.bias', 'classifier.weight']\n",
      "You should probably TRAIN this model on a down-stream task to be able to use it for predictions and inference.\n",
      "PyTorch: setting up devices\n",
      "The default value for the training argument `--report_to` will change in v5 (from all installed integrations to none). In v5, you will need to use `--report_to all` to get the same behavior as now. You should start updating your code and make this info disappear :-).\n",
      "The following columns in the evaluation set don't have a corresponding argument in `BertForSequenceClassification.forward` and have been ignored: __index_level_0__, Общее наименование продукции. If __index_level_0__, Общее наименование продукции are not expected by `BertForSequenceClassification.forward`,  you can safely ignore this message.\n",
      "***** Running Evaluation *****\n",
      "  Num examples = 3545\n",
      "  Batch size = 64\n"
     ]
    },
    {
     "data": {
      "text/html": [
       "\n",
       "    <div>\n",
       "      \n",
       "      <progress value='112' max='56' style='width:300px; height:20px; vertical-align: middle;'></progress>\n",
       "      [56/56 00:58]\n",
       "    </div>\n",
       "    "
      ],
      "text/plain": [
       "<IPython.core.display.HTML object>"
      ]
     },
     "metadata": {},
     "output_type": "display_data"
    },
    {
     "name": "stderr",
     "output_type": "stream",
     "text": [
      "C:\\Users\\Admin\\anaconda3\\lib\\site-packages\\sklearn\\metrics\\_classification.py:1580: UndefinedMetricWarning: F-score is ill-defined and being set to 0.0 in labels with no true nor predicted samples. Use `zero_division` parameter to control this behavior.\n",
      "  _warn_prf(average, \"true nor predicted\", \"F-score is\", len(true_sum))\n",
      "C:\\Users\\Admin\\anaconda3\\lib\\site-packages\\sklearn\\metrics\\_classification.py:1580: UndefinedMetricWarning: F-score is ill-defined and being set to 0.0 in labels with no true nor predicted samples. Use `zero_division` parameter to control this behavior.\n",
      "  _warn_prf(average, \"true nor predicted\", \"F-score is\", len(true_sum))\n",
      "The following columns in the training set don't have a corresponding argument in `BertForSequenceClassification.forward` and have been ignored: __index_level_0__, Общее наименование продукции. If __index_level_0__, Общее наименование продукции are not expected by `BertForSequenceClassification.forward`,  you can safely ignore this message.\n",
      "C:\\Users\\Admin\\anaconda3\\lib\\site-packages\\transformers\\optimization.py:306: FutureWarning: This implementation of AdamW is deprecated and will be removed in a future version. Use the PyTorch implementation torch.optim.AdamW instead, or set `no_deprecation_warning=True` to disable this warning\n",
      "  warnings.warn(\n",
      "***** Running training *****\n",
      "  Num examples = 28357\n",
      "  Num Epochs = 100\n",
      "  Instantaneous batch size per device = 64\n",
      "  Total train batch size (w. parallel, distributed & accumulation) = 64\n",
      "  Gradient Accumulation steps = 1\n",
      "  Total optimization steps = 44400\n"
     ]
    },
    {
     "data": {
      "text/html": [
       "\n",
       "    <div>\n",
       "      \n",
       "      <progress value='1653' max='44400' style='width:300px; height:20px; vertical-align: middle;'></progress>\n",
       "      [ 1653/44400 03:35 < 1:33:11, 7.64 it/s, Epoch 3.72/100]\n",
       "    </div>\n",
       "    <table border=\"1\" class=\"dataframe\">\n",
       "  <thead>\n",
       " <tr style=\"text-align: left;\">\n",
       "      <th>Epoch</th>\n",
       "      <th>Training Loss</th>\n",
       "      <th>Validation Loss</th>\n",
       "      <th>Accuracy Thresh</th>\n",
       "      <th>Accuracy</th>\n",
       "      <th>F1 Micro</th>\n",
       "      <th>F1 Macro</th>\n",
       "      <th>F1 0</th>\n",
       "      <th>F1 1</th>\n",
       "      <th>F1 2</th>\n",
       "      <th>F1 3</th>\n",
       "      <th>F1 4</th>\n",
       "      <th>F1 5</th>\n",
       "      <th>F1 6</th>\n",
       "      <th>F1 7</th>\n",
       "      <th>F1 8</th>\n",
       "      <th>F1 9</th>\n",
       "      <th>F1 10</th>\n",
       "      <th>F1 11</th>\n",
       "      <th>F1 12</th>\n",
       "      <th>F1 13</th>\n",
       "      <th>F1 14</th>\n",
       "      <th>F1 15</th>\n",
       "      <th>F1 16</th>\n",
       "      <th>F1 17</th>\n",
       "      <th>F1 18</th>\n",
       "      <th>F1 19</th>\n",
       "      <th>F1 20</th>\n",
       "      <th>F1 21</th>\n",
       "      <th>F1 22</th>\n",
       "      <th>F1 23</th>\n",
       "      <th>F1 24</th>\n",
       "      <th>F1 25</th>\n",
       "      <th>F1 26</th>\n",
       "      <th>F1 27</th>\n",
       "      <th>F1 28</th>\n",
       "      <th>F1 29</th>\n",
       "      <th>F1 30</th>\n",
       "      <th>F1 31</th>\n",
       "      <th>F1 32</th>\n",
       "      <th>F1 33</th>\n",
       "      <th>F1 34</th>\n",
       "      <th>F1 35</th>\n",
       "      <th>F1 36</th>\n",
       "      <th>F1 37</th>\n",
       "      <th>F1 38</th>\n",
       "      <th>F1 39</th>\n",
       "      <th>F1 40</th>\n",
       "      <th>F1 41</th>\n",
       "      <th>F1 42</th>\n",
       "      <th>F1 43</th>\n",
       "      <th>F1 44</th>\n",
       "      <th>F1 45</th>\n",
       "      <th>F1 46</th>\n",
       "      <th>F1 47</th>\n",
       "      <th>F1 48</th>\n",
       "      <th>F1 49</th>\n",
       "      <th>F1 50</th>\n",
       "      <th>F1 51</th>\n",
       "      <th>F1 52</th>\n",
       "      <th>F1 53</th>\n",
       "      <th>F1 54</th>\n",
       "      <th>F1 55</th>\n",
       "      <th>F1 56</th>\n",
       "      <th>F1 57</th>\n",
       "      <th>F1 58</th>\n",
       "      <th>F1 59</th>\n",
       "      <th>F1 60</th>\n",
       "      <th>F1 61</th>\n",
       "      <th>F1 62</th>\n",
       "      <th>F1 63</th>\n",
       "      <th>F1 64</th>\n",
       "      <th>F1 65</th>\n",
       "      <th>F1 66</th>\n",
       "      <th>F1 67</th>\n",
       "      <th>F1 68</th>\n",
       "      <th>F1 69</th>\n",
       "      <th>F1 70</th>\n",
       "      <th>F1 71</th>\n",
       "      <th>F1 72</th>\n",
       "      <th>F1 73</th>\n",
       "      <th>F1 74</th>\n",
       "      <th>F1 75</th>\n",
       "      <th>F1 76</th>\n",
       "      <th>F1 77</th>\n",
       "      <th>F1 78</th>\n",
       "      <th>F1 79</th>\n",
       "      <th>F1 80</th>\n",
       "      <th>F1 81</th>\n",
       "      <th>F1 82</th>\n",
       "      <th>F1 83</th>\n",
       "      <th>F1 84</th>\n",
       "      <th>F1 85</th>\n",
       "      <th>F1 86</th>\n",
       "      <th>F1 87</th>\n",
       "      <th>F1 88</th>\n",
       "      <th>F1 89</th>\n",
       "      <th>F1 90</th>\n",
       "      <th>F1 91</th>\n",
       "      <th>F1 92</th>\n",
       "      <th>F1 93</th>\n",
       "      <th>F1 94</th>\n",
       "      <th>F1 95</th>\n",
       "      <th>F1 96</th>\n",
       "      <th>F1 97</th>\n",
       "      <th>F1 98</th>\n",
       "      <th>F1 99</th>\n",
       "      <th>F1 100</th>\n",
       "      <th>F1 101</th>\n",
       "      <th>F1 102</th>\n",
       "      <th>F1 103</th>\n",
       "      <th>F1 104</th>\n",
       "      <th>F1 105</th>\n",
       "      <th>F1 106</th>\n",
       "      <th>F1 107</th>\n",
       "      <th>F1 108</th>\n",
       "      <th>F1 109</th>\n",
       "      <th>F1 110</th>\n",
       "      <th>F1 111</th>\n",
       "      <th>F1 112</th>\n",
       "      <th>F1 113</th>\n",
       "      <th>F1 114</th>\n",
       "      <th>F1 115</th>\n",
       "      <th>F1 116</th>\n",
       "      <th>F1 117</th>\n",
       "      <th>F1 118</th>\n",
       "      <th>F1 119</th>\n",
       "      <th>F1 120</th>\n",
       "      <th>F1 121</th>\n",
       "      <th>F1 122</th>\n",
       "      <th>F1 123</th>\n",
       "      <th>F1 124</th>\n",
       "      <th>F1 125</th>\n",
       "      <th>F1 126</th>\n",
       "      <th>F1 127</th>\n",
       "      <th>F1 128</th>\n",
       "      <th>F1 129</th>\n",
       "      <th>F1 130</th>\n",
       "      <th>F1 131</th>\n",
       "      <th>F1 132</th>\n",
       "      <th>F1 133</th>\n",
       "      <th>F1 134</th>\n",
       "      <th>F1 135</th>\n",
       "      <th>F1 136</th>\n",
       "      <th>F1 137</th>\n",
       "      <th>F1 138</th>\n",
       "      <th>F1 139</th>\n",
       "      <th>F1 140</th>\n",
       "      <th>F1 141</th>\n",
       "      <th>F1 142</th>\n",
       "      <th>F1 143</th>\n",
       "      <th>F1 144</th>\n",
       "      <th>F1 145</th>\n",
       "      <th>F1 146</th>\n",
       "      <th>F1 147</th>\n",
       "      <th>F1 148</th>\n",
       "      <th>F1 149</th>\n",
       "      <th>F1 150</th>\n",
       "      <th>F1 151</th>\n",
       "      <th>F1 152</th>\n",
       "      <th>F1 153</th>\n",
       "      <th>F1 154</th>\n",
       "      <th>F1 155</th>\n",
       "      <th>F1 156</th>\n",
       "      <th>F1 157</th>\n",
       "      <th>F1 158</th>\n",
       "      <th>F1 159</th>\n",
       "      <th>F1 160</th>\n",
       "      <th>F1 161</th>\n",
       "      <th>F1 162</th>\n",
       "      <th>F1 163</th>\n",
       "      <th>F1 164</th>\n",
       "      <th>F1 165</th>\n",
       "      <th>F1 166</th>\n",
       "      <th>F1 167</th>\n",
       "      <th>F1 168</th>\n",
       "      <th>F1 169</th>\n",
       "      <th>F1 170</th>\n",
       "      <th>F1 171</th>\n",
       "      <th>F1 172</th>\n",
       "      <th>F1 173</th>\n",
       "      <th>F1 174</th>\n",
       "      <th>F1 175</th>\n",
       "      <th>F1 176</th>\n",
       "      <th>F1 177</th>\n",
       "      <th>F1 178</th>\n",
       "      <th>F1 179</th>\n",
       "      <th>F1 180</th>\n",
       "      <th>F1 181</th>\n",
       "      <th>F1 182</th>\n",
       "      <th>F1 183</th>\n",
       "      <th>F1 184</th>\n",
       "      <th>F1 185</th>\n",
       "      <th>F1 186</th>\n",
       "      <th>F1 187</th>\n",
       "      <th>F1 188</th>\n",
       "      <th>F1 189</th>\n",
       "      <th>F1 190</th>\n",
       "      <th>F1 191</th>\n",
       "      <th>F1 192</th>\n",
       "      <th>F1 193</th>\n",
       "      <th>F1 194</th>\n",
       "      <th>F1 195</th>\n",
       "      <th>F1 196</th>\n",
       "      <th>F1 197</th>\n",
       "      <th>F1 198</th>\n",
       "      <th>F1 199</th>\n",
       "      <th>F1 200</th>\n",
       "      <th>F1 201</th>\n",
       "      <th>F1 202</th>\n",
       "      <th>F1 203</th>\n",
       "      <th>F1 204</th>\n",
       "      <th>F1 205</th>\n",
       "      <th>F1 206</th>\n",
       "      <th>F1 207</th>\n",
       "      <th>F1 208</th>\n",
       "      <th>F1 209</th>\n",
       "      <th>F1 210</th>\n",
       "      <th>F1 211</th>\n",
       "      <th>F1 212</th>\n",
       "      <th>F1 213</th>\n",
       "      <th>F1 214</th>\n",
       "      <th>F1 215</th>\n",
       "      <th>F1 216</th>\n",
       "      <th>F1 217</th>\n",
       "      <th>F1 218</th>\n",
       "      <th>F1 219</th>\n",
       "      <th>F1 220</th>\n",
       "      <th>F1 221</th>\n",
       "      <th>F1 222</th>\n",
       "      <th>F1 223</th>\n",
       "      <th>F1 224</th>\n",
       "      <th>F1 225</th>\n",
       "      <th>F1 226</th>\n",
       "      <th>F1 227</th>\n",
       "      <th>F1 228</th>\n",
       "      <th>F1 229</th>\n",
       "      <th>F1 230</th>\n",
       "      <th>F1 231</th>\n",
       "      <th>F1 232</th>\n",
       "      <th>F1 233</th>\n",
       "      <th>F1 234</th>\n",
       "      <th>F1 235</th>\n",
       "      <th>F1 236</th>\n",
       "      <th>F1 237</th>\n",
       "      <th>F1 238</th>\n",
       "      <th>F1 239</th>\n",
       "      <th>F1 240</th>\n",
       "      <th>F1 241</th>\n",
       "      <th>F1 242</th>\n",
       "      <th>F1 243</th>\n",
       "      <th>F1 244</th>\n",
       "      <th>F1 245</th>\n",
       "      <th>F1 246</th>\n",
       "      <th>F1 247</th>\n",
       "      <th>F1 248</th>\n",
       "      <th>F1 249</th>\n",
       "      <th>F1 250</th>\n",
       "      <th>F1 251</th>\n",
       "      <th>F1 252</th>\n",
       "      <th>F1 253</th>\n",
       "      <th>F1 254</th>\n",
       "      <th>F1 255</th>\n",
       "      <th>F1 256</th>\n",
       "      <th>F1 257</th>\n",
       "      <th>F1 258</th>\n",
       "      <th>F1 259</th>\n",
       "      <th>F1 260</th>\n",
       "      <th>F1 261</th>\n",
       "      <th>F1 262</th>\n",
       "      <th>F1 263</th>\n",
       "      <th>F1 264</th>\n",
       "      <th>F1 265</th>\n",
       "      <th>F1 266</th>\n",
       "      <th>F1 267</th>\n",
       "      <th>F1 268</th>\n",
       "      <th>F1 269</th>\n",
       "      <th>F1 270</th>\n",
       "      <th>F1 271</th>\n",
       "      <th>F1 272</th>\n",
       "      <th>F1 273</th>\n",
       "      <th>F1 274</th>\n",
       "      <th>F1 275</th>\n",
       "      <th>F1 276</th>\n",
       "      <th>F1 277</th>\n",
       "      <th>F1 278</th>\n",
       "      <th>F1 279</th>\n",
       "      <th>F1 280</th>\n",
       "      <th>F1 281</th>\n",
       "      <th>F1 282</th>\n",
       "      <th>F1 283</th>\n",
       "      <th>F1 284</th>\n",
       "      <th>F1 285</th>\n",
       "      <th>F1 286</th>\n",
       "      <th>F1 287</th>\n",
       "      <th>F1 288</th>\n",
       "      <th>F1 289</th>\n",
       "      <th>F1 290</th>\n",
       "      <th>F1 291</th>\n",
       "      <th>F1 292</th>\n",
       "      <th>F1 293</th>\n",
       "      <th>F1 294</th>\n",
       "      <th>F1 295</th>\n",
       "      <th>F1 296</th>\n",
       "      <th>F1 297</th>\n",
       "      <th>F1 298</th>\n",
       "      <th>F1 299</th>\n",
       "      <th>F1 300</th>\n",
       "      <th>F1 301</th>\n",
       "      <th>F1 302</th>\n",
       "      <th>F1 303</th>\n",
       "      <th>F1 304</th>\n",
       "      <th>F1 305</th>\n",
       "      <th>F1 306</th>\n",
       "      <th>F1 307</th>\n",
       "      <th>F1 308</th>\n",
       "      <th>F1 309</th>\n",
       "      <th>F1 310</th>\n",
       "      <th>F1 311</th>\n",
       "      <th>F1 312</th>\n",
       "      <th>F1 313</th>\n",
       "      <th>F1 314</th>\n",
       "      <th>F1 315</th>\n",
       "      <th>F1 316</th>\n",
       "      <th>F1 317</th>\n",
       "      <th>F1 318</th>\n",
       "      <th>F1 319</th>\n",
       "      <th>F1 320</th>\n",
       "      <th>F1 321</th>\n",
       "      <th>F1 322</th>\n",
       "      <th>F1 323</th>\n",
       "      <th>F1 324</th>\n",
       "      <th>F1 325</th>\n",
       "      <th>F1 326</th>\n",
       "      <th>F1 327</th>\n",
       "      <th>F1 328</th>\n",
       "      <th>F1 329</th>\n",
       "      <th>F1 330</th>\n",
       "      <th>F1 331</th>\n",
       "      <th>F1 332</th>\n",
       "      <th>F1 333</th>\n",
       "      <th>F1 334</th>\n",
       "      <th>F1 335</th>\n",
       "      <th>F1 336</th>\n",
       "      <th>F1 337</th>\n",
       "      <th>F1 338</th>\n",
       "      <th>F1 339</th>\n",
       "      <th>F1 340</th>\n",
       "      <th>F1 341</th>\n",
       "      <th>F1 342</th>\n",
       "      <th>F1 343</th>\n",
       "      <th>F1 344</th>\n",
       "      <th>F1 345</th>\n",
       "      <th>F1 346</th>\n",
       "      <th>F1 347</th>\n",
       "      <th>F1 348</th>\n",
       "      <th>F1 349</th>\n",
       "      <th>F1 350</th>\n",
       "      <th>F1 351</th>\n",
       "      <th>F1 352</th>\n",
       "      <th>F1 353</th>\n",
       "      <th>F1 354</th>\n",
       "      <th>F1 355</th>\n",
       "      <th>F1 356</th>\n",
       "      <th>F1 357</th>\n",
       "      <th>F1 358</th>\n",
       "      <th>F1 359</th>\n",
       "      <th>F1 360</th>\n",
       "      <th>F1 361</th>\n",
       "      <th>F1 362</th>\n",
       "      <th>F1 363</th>\n",
       "      <th>F1 364</th>\n",
       "      <th>F1 365</th>\n",
       "      <th>F1 366</th>\n",
       "      <th>F1 367</th>\n",
       "      <th>F1 368</th>\n",
       "      <th>F1 369</th>\n",
       "      <th>F1 370</th>\n",
       "      <th>F1 371</th>\n",
       "      <th>F1 372</th>\n",
       "      <th>F1 373</th>\n",
       "      <th>F1 374</th>\n",
       "      <th>F1 375</th>\n",
       "      <th>F1 376</th>\n",
       "      <th>F1 377</th>\n",
       "      <th>F1 378</th>\n",
       "      <th>F1 379</th>\n",
       "      <th>F1 380</th>\n",
       "      <th>F1 381</th>\n",
       "      <th>F1 382</th>\n",
       "      <th>F1 383</th>\n",
       "      <th>F1 384</th>\n",
       "      <th>F1 385</th>\n",
       "      <th>F1 386</th>\n",
       "      <th>F1 387</th>\n",
       "      <th>F1 388</th>\n",
       "      <th>F1 389</th>\n",
       "      <th>F1 390</th>\n",
       "      <th>F1 391</th>\n",
       "      <th>F1 392</th>\n",
       "      <th>F1 393</th>\n",
       "      <th>F1 394</th>\n",
       "      <th>F1 395</th>\n",
       "      <th>F1 396</th>\n",
       "      <th>F1 397</th>\n",
       "      <th>F1 398</th>\n",
       "      <th>F1 399</th>\n",
       "      <th>F1 400</th>\n",
       "      <th>F1 401</th>\n",
       "      <th>F1 402</th>\n",
       "      <th>F1 403</th>\n",
       "      <th>F1 404</th>\n",
       "      <th>F1 405</th>\n",
       "      <th>F1 406</th>\n",
       "      <th>F1 407</th>\n",
       "      <th>F1 408</th>\n",
       "      <th>F1 409</th>\n",
       "      <th>F1 410</th>\n",
       "      <th>F1 411</th>\n",
       "      <th>F1 412</th>\n",
       "      <th>F1 413</th>\n",
       "      <th>F1 414</th>\n",
       "      <th>F1 415</th>\n",
       "      <th>F1 416</th>\n",
       "      <th>F1 417</th>\n",
       "      <th>F1 418</th>\n",
       "      <th>F1 419</th>\n",
       "      <th>F1 420</th>\n",
       "      <th>F1 421</th>\n",
       "      <th>F1 422</th>\n",
       "      <th>F1 423</th>\n",
       "      <th>F1 424</th>\n",
       "      <th>F1 425</th>\n",
       "      <th>F1 426</th>\n",
       "      <th>F1 427</th>\n",
       "      <th>F1 428</th>\n",
       "      <th>F1 429</th>\n",
       "      <th>F1 430</th>\n",
       "      <th>F1 431</th>\n",
       "      <th>F1 432</th>\n",
       "      <th>F1 433</th>\n",
       "      <th>F1 434</th>\n",
       "      <th>F1 435</th>\n",
       "      <th>F1 436</th>\n",
       "      <th>F1 437</th>\n",
       "      <th>F1 438</th>\n",
       "      <th>F1 439</th>\n",
       "      <th>F1 440</th>\n",
       "      <th>F1 441</th>\n",
       "      <th>F1 442</th>\n",
       "      <th>F1 443</th>\n",
       "      <th>F1 444</th>\n",
       "      <th>F1 445</th>\n",
       "      <th>F1 446</th>\n",
       "      <th>F1 447</th>\n",
       "      <th>F1 448</th>\n",
       "      <th>F1 449</th>\n",
       "      <th>F1 450</th>\n",
       "      <th>F1 451</th>\n",
       "      <th>F1 452</th>\n",
       "      <th>F1 453</th>\n",
       "      <th>F1 454</th>\n",
       "      <th>F1 455</th>\n",
       "      <th>F1 456</th>\n",
       "      <th>F1 457</th>\n",
       "      <th>F1 458</th>\n",
       "      <th>F1 459</th>\n",
       "      <th>F1 460</th>\n",
       "      <th>F1 461</th>\n",
       "      <th>F1 462</th>\n",
       "      <th>F1 463</th>\n",
       "      <th>F1 464</th>\n",
       "      <th>F1 465</th>\n",
       "      <th>F1 466</th>\n",
       "      <th>F1 467</th>\n",
       "      <th>F1 468</th>\n",
       "      <th>F1 469</th>\n",
       "      <th>F1 470</th>\n",
       "      <th>F1 471</th>\n",
       "      <th>F1 472</th>\n",
       "      <th>F1 473</th>\n",
       "      <th>F1 474</th>\n",
       "      <th>F1 475</th>\n",
       "      <th>F1 476</th>\n",
       "      <th>F1 477</th>\n",
       "      <th>F1 478</th>\n",
       "      <th>F1 479</th>\n",
       "      <th>F1 480</th>\n",
       "      <th>F1 481</th>\n",
       "      <th>F1 482</th>\n",
       "      <th>F1 483</th>\n",
       "      <th>F1 484</th>\n",
       "      <th>F1 485</th>\n",
       "      <th>F1 486</th>\n",
       "      <th>F1 487</th>\n",
       "      <th>F1 488</th>\n",
       "      <th>F1 489</th>\n",
       "      <th>F1 490</th>\n",
       "      <th>F1 491</th>\n",
       "      <th>F1 492</th>\n",
       "      <th>F1 493</th>\n",
       "      <th>F1 494</th>\n",
       "      <th>F1 495</th>\n",
       "      <th>F1 496</th>\n",
       "      <th>F1 497</th>\n",
       "      <th>F1 498</th>\n",
       "      <th>F1 499</th>\n",
       "      <th>F1 500</th>\n",
       "      <th>F1 501</th>\n",
       "      <th>F1 502</th>\n",
       "      <th>F1 503</th>\n",
       "      <th>F1 504</th>\n",
       "      <th>F1 505</th>\n",
       "      <th>F1 506</th>\n",
       "      <th>F1 507</th>\n",
       "      <th>F1 508</th>\n",
       "      <th>F1 509</th>\n",
       "      <th>F1 510</th>\n",
       "      <th>F1 511</th>\n",
       "      <th>F1 512</th>\n",
       "      <th>F1 513</th>\n",
       "      <th>F1 514</th>\n",
       "      <th>F1 515</th>\n",
       "      <th>F1 516</th>\n",
       "      <th>F1 517</th>\n",
       "      <th>F1 518</th>\n",
       "      <th>F1 519</th>\n",
       "      <th>F1 520</th>\n",
       "      <th>F1 521</th>\n",
       "      <th>F1 522</th>\n",
       "      <th>F1 523</th>\n",
       "      <th>F1 524</th>\n",
       "      <th>F1 525</th>\n",
       "      <th>F1 526</th>\n",
       "      <th>F1 527</th>\n",
       "      <th>F1 528</th>\n",
       "      <th>F1 529</th>\n",
       "      <th>F1 530</th>\n",
       "      <th>F1 531</th>\n",
       "      <th>F1 532</th>\n",
       "      <th>F1 533</th>\n",
       "      <th>F1 534</th>\n",
       "      <th>F1 535</th>\n",
       "      <th>F1 536</th>\n",
       "      <th>F1 537</th>\n",
       "      <th>F1 538</th>\n",
       "      <th>F1 539</th>\n",
       "      <th>F1 540</th>\n",
       "      <th>F1 541</th>\n",
       "      <th>F1 542</th>\n",
       "      <th>F1 543</th>\n",
       "      <th>F1 544</th>\n",
       "      <th>F1 545</th>\n",
       "      <th>F1 546</th>\n",
       "      <th>F1 547</th>\n",
       "      <th>F1 548</th>\n",
       "      <th>F1 549</th>\n",
       "      <th>F1 550</th>\n",
       "      <th>F1 551</th>\n",
       "      <th>F1 552</th>\n",
       "      <th>F1 553</th>\n",
       "      <th>F1 554</th>\n",
       "      <th>F1 555</th>\n",
       "      <th>F1 556</th>\n",
       "      <th>F1 557</th>\n",
       "      <th>F1 558</th>\n",
       "      <th>F1 559</th>\n",
       "      <th>F1 560</th>\n",
       "      <th>F1 561</th>\n",
       "      <th>F1 562</th>\n",
       "      <th>F1 563</th>\n",
       "      <th>F1 564</th>\n",
       "      <th>F1 565</th>\n",
       "      <th>F1 566</th>\n",
       "      <th>F1 567</th>\n",
       "      <th>F1 568</th>\n",
       "      <th>F1 569</th>\n",
       "      <th>F1 570</th>\n",
       "      <th>F1 571</th>\n",
       "      <th>F1 572</th>\n",
       "      <th>F1 573</th>\n",
       "      <th>F1 574</th>\n",
       "      <th>F1 575</th>\n",
       "      <th>F1 576</th>\n",
       "      <th>F1 577</th>\n",
       "      <th>F1 578</th>\n",
       "      <th>F1 579</th>\n",
       "      <th>F1 580</th>\n",
       "      <th>F1 581</th>\n",
       "      <th>F1 582</th>\n",
       "      <th>F1 583</th>\n",
       "      <th>F1 584</th>\n",
       "      <th>F1 585</th>\n",
       "      <th>F1 586</th>\n",
       "      <th>F1 587</th>\n",
       "      <th>F1 588</th>\n",
       "      <th>F1 589</th>\n",
       "      <th>F1 590</th>\n",
       "      <th>F1 591</th>\n",
       "      <th>F1 592</th>\n",
       "      <th>F1 593</th>\n",
       "      <th>F1 594</th>\n",
       "      <th>F1 595</th>\n",
       "      <th>F1 596</th>\n",
       "      <th>F1 597</th>\n",
       "      <th>F1 598</th>\n",
       "      <th>F1 599</th>\n",
       "      <th>F1 600</th>\n",
       "      <th>F1 601</th>\n",
       "      <th>F1 602</th>\n",
       "      <th>F1 603</th>\n",
       "      <th>F1 604</th>\n",
       "      <th>F1 605</th>\n",
       "      <th>F1 606</th>\n",
       "      <th>F1 607</th>\n",
       "      <th>F1 608</th>\n",
       "      <th>F1 609</th>\n",
       "      <th>F1 610</th>\n",
       "      <th>F1 611</th>\n",
       "      <th>F1 612</th>\n",
       "      <th>F1 613</th>\n",
       "      <th>F1 614</th>\n",
       "      <th>F1 615</th>\n",
       "      <th>F1 616</th>\n",
       "      <th>F1 617</th>\n",
       "      <th>F1 618</th>\n",
       "      <th>F1 619</th>\n",
       "      <th>F1 620</th>\n",
       "      <th>F1 621</th>\n",
       "      <th>F1 622</th>\n",
       "      <th>F1 623</th>\n",
       "      <th>F1 624</th>\n",
       "      <th>F1 625</th>\n",
       "      <th>F1 626</th>\n",
       "      <th>F1 627</th>\n",
       "      <th>F1 628</th>\n",
       "      <th>F1 629</th>\n",
       "      <th>F1 630</th>\n",
       "      <th>F1 631</th>\n",
       "      <th>F1 632</th>\n",
       "      <th>F1 633</th>\n",
       "      <th>F1 634</th>\n",
       "      <th>F1 635</th>\n",
       "      <th>F1 636</th>\n",
       "      <th>F1 637</th>\n",
       "      <th>F1 638</th>\n",
       "      <th>F1 639</th>\n",
       "      <th>F1 640</th>\n",
       "      <th>F1 641</th>\n",
       "      <th>F1 642</th>\n",
       "      <th>F1 643</th>\n",
       "      <th>F1 644</th>\n",
       "      <th>F1 645</th>\n",
       "      <th>F1 646</th>\n",
       "      <th>F1 647</th>\n",
       "      <th>F1 648</th>\n",
       "      <th>F1 649</th>\n",
       "      <th>F1 650</th>\n",
       "      <th>F1 651</th>\n",
       "      <th>F1 652</th>\n",
       "      <th>F1 653</th>\n",
       "      <th>F1 654</th>\n",
       "      <th>F1 655</th>\n",
       "      <th>F1 656</th>\n",
       "      <th>F1 657</th>\n",
       "      <th>F1 658</th>\n",
       "      <th>F1 659</th>\n",
       "      <th>F1 660</th>\n",
       "      <th>F1 661</th>\n",
       "      <th>F1 662</th>\n",
       "      <th>F1 663</th>\n",
       "      <th>F1 664</th>\n",
       "      <th>F1 665</th>\n",
       "      <th>F1 666</th>\n",
       "      <th>F1 667</th>\n",
       "      <th>F1 668</th>\n",
       "      <th>F1 669</th>\n",
       "      <th>F1 670</th>\n",
       "      <th>F1 671</th>\n",
       "      <th>F1 672</th>\n",
       "      <th>F1 673</th>\n",
       "      <th>F1 674</th>\n",
       "      <th>F1 675</th>\n",
       "      <th>F1 676</th>\n",
       "      <th>F1 677</th>\n",
       "      <th>F1 678</th>\n",
       "      <th>F1 679</th>\n",
       "      <th>F1 680</th>\n",
       "      <th>F1 681</th>\n",
       "      <th>F1 682</th>\n",
       "      <th>F1 683</th>\n",
       "      <th>F1 684</th>\n",
       "      <th>F1 685</th>\n",
       "      <th>F1 686</th>\n",
       "      <th>F1 687</th>\n",
       "      <th>F1 688</th>\n",
       "      <th>F1 689</th>\n",
       "      <th>F1 690</th>\n",
       "      <th>F1 691</th>\n",
       "      <th>F1 692</th>\n",
       "      <th>F1 693</th>\n",
       "      <th>F1 694</th>\n",
       "      <th>F1 695</th>\n",
       "      <th>F1 696</th>\n",
       "      <th>F1 697</th>\n",
       "      <th>F1 698</th>\n",
       "      <th>F1 699</th>\n",
       "      <th>F1 700</th>\n",
       "      <th>F1 701</th>\n",
       "      <th>F1 702</th>\n",
       "      <th>F1 703</th>\n",
       "      <th>F1 704</th>\n",
       "      <th>F1 705</th>\n",
       "      <th>F1 706</th>\n",
       "      <th>F1 707</th>\n",
       "      <th>F1 708</th>\n",
       "      <th>F1 709</th>\n",
       "      <th>F1 710</th>\n",
       "      <th>F1 711</th>\n",
       "      <th>F1 712</th>\n",
       "      <th>F1 713</th>\n",
       "      <th>F1 714</th>\n",
       "      <th>F1 715</th>\n",
       "      <th>F1 716</th>\n",
       "      <th>F1 717</th>\n",
       "      <th>F1 718</th>\n",
       "      <th>F1 719</th>\n",
       "      <th>F1 720</th>\n",
       "      <th>F1 721</th>\n",
       "      <th>F1 722</th>\n",
       "      <th>F1 723</th>\n",
       "      <th>F1 724</th>\n",
       "      <th>F1 725</th>\n",
       "      <th>F1 726</th>\n",
       "      <th>F1 727</th>\n",
       "      <th>F1 728</th>\n",
       "      <th>F1 729</th>\n",
       "      <th>F1 730</th>\n",
       "      <th>F1 731</th>\n",
       "      <th>F1 732</th>\n",
       "      <th>F1 733</th>\n",
       "      <th>F1 734</th>\n",
       "      <th>F1 735</th>\n",
       "      <th>F1 736</th>\n",
       "      <th>F1 737</th>\n",
       "      <th>F1 738</th>\n",
       "      <th>F1 739</th>\n",
       "      <th>F1 740</th>\n",
       "      <th>F1 741</th>\n",
       "      <th>F1 742</th>\n",
       "      <th>F1 743</th>\n",
       "      <th>F1 744</th>\n",
       "      <th>F1 745</th>\n",
       "      <th>F1 746</th>\n",
       "      <th>F1 747</th>\n",
       "      <th>F1 748</th>\n",
       "      <th>F1 749</th>\n",
       "      <th>F1 750</th>\n",
       "      <th>F1 751</th>\n",
       "      <th>F1 752</th>\n",
       "      <th>F1 753</th>\n",
       "      <th>F1 754</th>\n",
       "      <th>F1 755</th>\n",
       "      <th>F1 756</th>\n",
       "      <th>F1 757</th>\n",
       "      <th>F1 758</th>\n",
       "      <th>F1 759</th>\n",
       "      <th>F1 760</th>\n",
       "      <th>F1 761</th>\n",
       "      <th>F1 762</th>\n",
       "      <th>F1 763</th>\n",
       "      <th>F1 764</th>\n",
       "      <th>F1 765</th>\n",
       "      <th>F1 766</th>\n",
       "      <th>F1 767</th>\n",
       "      <th>F1 768</th>\n",
       "      <th>F1 769</th>\n",
       "      <th>F1 770</th>\n",
       "      <th>F1 771</th>\n",
       "      <th>F1 772</th>\n",
       "      <th>F1 773</th>\n",
       "      <th>F1 774</th>\n",
       "      <th>F1 775</th>\n",
       "      <th>F1 776</th>\n",
       "      <th>F1 777</th>\n",
       "      <th>F1 778</th>\n",
       "      <th>F1 779</th>\n",
       "      <th>F1 780</th>\n",
       "      <th>F1 781</th>\n",
       "      <th>F1 782</th>\n",
       "      <th>F1 783</th>\n",
       "      <th>F1 784</th>\n",
       "      <th>F1 785</th>\n",
       "      <th>F1 786</th>\n",
       "      <th>F1 787</th>\n",
       "      <th>F1 788</th>\n",
       "      <th>F1 789</th>\n",
       "      <th>F1 790</th>\n",
       "      <th>F1 791</th>\n",
       "      <th>F1 792</th>\n",
       "      <th>F1 793</th>\n",
       "      <th>F1 794</th>\n",
       "      <th>F1 795</th>\n",
       "      <th>F1 796</th>\n",
       "      <th>F1 797</th>\n",
       "      <th>F1 798</th>\n",
       "      <th>F1 799</th>\n",
       "      <th>F1 800</th>\n",
       "      <th>F1 801</th>\n",
       "      <th>F1 802</th>\n",
       "      <th>F1 803</th>\n",
       "      <th>F1 804</th>\n",
       "      <th>F1 805</th>\n",
       "      <th>F1 806</th>\n",
       "      <th>F1 807</th>\n",
       "      <th>F1 808</th>\n",
       "      <th>F1 809</th>\n",
       "      <th>F1 810</th>\n",
       "      <th>F1 811</th>\n",
       "      <th>F1 812</th>\n",
       "      <th>F1 813</th>\n",
       "      <th>F1 814</th>\n",
       "      <th>F1 815</th>\n",
       "      <th>F1 816</th>\n",
       "      <th>F1 817</th>\n",
       "      <th>F1 818</th>\n",
       "      <th>F1 819</th>\n",
       "      <th>F1 820</th>\n",
       "      <th>F1 821</th>\n",
       "      <th>F1 822</th>\n",
       "      <th>F1 823</th>\n",
       "      <th>F1 824</th>\n",
       "      <th>F1 825</th>\n",
       "      <th>F1 826</th>\n",
       "      <th>F1 827</th>\n",
       "      <th>F1 828</th>\n",
       "      <th>F1 829</th>\n",
       "    </tr>\n",
       "  </thead>\n",
       "  <tbody>\n",
       "    <tr>\n",
       "      <td>1</td>\n",
       "      <td>No log</td>\n",
       "      <td>0.013391</td>\n",
       "      <td>0.997803</td>\n",
       "      <td>0.000564</td>\n",
       "      <td>0.000000</td>\n",
       "      <td>0.000000</td>\n",
       "      <td>0.000000</td>\n",
       "      <td>0.000000</td>\n",
       "      <td>0.000000</td>\n",
       "      <td>0.000000</td>\n",
       "      <td>0.000000</td>\n",
       "      <td>0.000000</td>\n",
       "      <td>0.000000</td>\n",
       "      <td>0.000000</td>\n",
       "      <td>0.000000</td>\n",
       "      <td>0.000000</td>\n",
       "      <td>0.000000</td>\n",
       "      <td>0.000000</td>\n",
       "      <td>0.000000</td>\n",
       "      <td>0.000000</td>\n",
       "      <td>0.000000</td>\n",
       "      <td>0.000000</td>\n",
       "      <td>0.000000</td>\n",
       "      <td>0.000000</td>\n",
       "      <td>0.000000</td>\n",
       "      <td>0.000000</td>\n",
       "      <td>0.000000</td>\n",
       "      <td>0.000000</td>\n",
       "      <td>0.000000</td>\n",
       "      <td>0.000000</td>\n",
       "      <td>0.000000</td>\n",
       "      <td>0.000000</td>\n",
       "      <td>0.000000</td>\n",
       "      <td>0.000000</td>\n",
       "      <td>0.000000</td>\n",
       "      <td>0.000000</td>\n",
       "      <td>0.000000</td>\n",
       "      <td>0.000000</td>\n",
       "      <td>0.000000</td>\n",
       "      <td>0.000000</td>\n",
       "      <td>0.000000</td>\n",
       "      <td>0.000000</td>\n",
       "      <td>0.000000</td>\n",
       "      <td>0.000000</td>\n",
       "      <td>0.000000</td>\n",
       "      <td>0.000000</td>\n",
       "      <td>0.000000</td>\n",
       "      <td>0.000000</td>\n",
       "      <td>0.000000</td>\n",
       "      <td>0.000000</td>\n",
       "      <td>0.000000</td>\n",
       "      <td>0.000000</td>\n",
       "      <td>0.000000</td>\n",
       "      <td>0.000000</td>\n",
       "      <td>0.000000</td>\n",
       "      <td>0.000000</td>\n",
       "      <td>0.000000</td>\n",
       "      <td>0.000000</td>\n",
       "      <td>0.000000</td>\n",
       "      <td>0.000000</td>\n",
       "      <td>0.000000</td>\n",
       "      <td>0.000000</td>\n",
       "      <td>0.000000</td>\n",
       "      <td>0.000000</td>\n",
       "      <td>0.000000</td>\n",
       "      <td>0.000000</td>\n",
       "      <td>0.000000</td>\n",
       "      <td>0.000000</td>\n",
       "      <td>0.000000</td>\n",
       "      <td>0.000000</td>\n",
       "      <td>0.000000</td>\n",
       "      <td>0.000000</td>\n",
       "      <td>0.000000</td>\n",
       "      <td>0.000000</td>\n",
       "      <td>0.000000</td>\n",
       "      <td>0.000000</td>\n",
       "      <td>0.000000</td>\n",
       "      <td>0.000000</td>\n",
       "      <td>0.000000</td>\n",
       "      <td>0.000000</td>\n",
       "      <td>0.000000</td>\n",
       "      <td>0.000000</td>\n",
       "      <td>0.000000</td>\n",
       "      <td>0.000000</td>\n",
       "      <td>0.000000</td>\n",
       "      <td>0.000000</td>\n",
       "      <td>0.000000</td>\n",
       "      <td>0.000000</td>\n",
       "      <td>0.000000</td>\n",
       "      <td>0.000000</td>\n",
       "      <td>0.000000</td>\n",
       "      <td>0.000000</td>\n",
       "      <td>0.000000</td>\n",
       "      <td>0.000000</td>\n",
       "      <td>0.000000</td>\n",
       "      <td>0.000000</td>\n",
       "      <td>0.000000</td>\n",
       "      <td>0.000000</td>\n",
       "      <td>0.000000</td>\n",
       "      <td>0.000000</td>\n",
       "      <td>0.000000</td>\n",
       "      <td>0.000000</td>\n",
       "      <td>0.000000</td>\n",
       "      <td>0.000000</td>\n",
       "      <td>0.000000</td>\n",
       "      <td>0.000000</td>\n",
       "      <td>0.000000</td>\n",
       "      <td>0.000000</td>\n",
       "      <td>0.000000</td>\n",
       "      <td>0.000000</td>\n",
       "      <td>0.000000</td>\n",
       "      <td>0.000000</td>\n",
       "      <td>0.000000</td>\n",
       "      <td>0.000000</td>\n",
       "      <td>0.000000</td>\n",
       "      <td>0.000000</td>\n",
       "      <td>0.000000</td>\n",
       "      <td>0.000000</td>\n",
       "      <td>0.000000</td>\n",
       "      <td>0.000000</td>\n",
       "      <td>0.000000</td>\n",
       "      <td>0.000000</td>\n",
       "      <td>0.000000</td>\n",
       "      <td>0.000000</td>\n",
       "      <td>0.000000</td>\n",
       "      <td>0.000000</td>\n",
       "      <td>0.000000</td>\n",
       "      <td>0.000000</td>\n",
       "      <td>0.000000</td>\n",
       "      <td>0.000000</td>\n",
       "      <td>0.000000</td>\n",
       "      <td>0.000000</td>\n",
       "      <td>0.000000</td>\n",
       "      <td>0.000000</td>\n",
       "      <td>0.000000</td>\n",
       "      <td>0.000000</td>\n",
       "      <td>0.000000</td>\n",
       "      <td>0.000000</td>\n",
       "      <td>0.000000</td>\n",
       "      <td>0.000000</td>\n",
       "      <td>0.000000</td>\n",
       "      <td>0.000000</td>\n",
       "      <td>0.000000</td>\n",
       "      <td>0.000000</td>\n",
       "      <td>0.000000</td>\n",
       "      <td>0.000000</td>\n",
       "      <td>0.000000</td>\n",
       "      <td>0.000000</td>\n",
       "      <td>0.000000</td>\n",
       "      <td>0.000000</td>\n",
       "      <td>0.000000</td>\n",
       "      <td>0.000000</td>\n",
       "      <td>0.000000</td>\n",
       "      <td>0.000000</td>\n",
       "      <td>0.000000</td>\n",
       "      <td>0.000000</td>\n",
       "      <td>0.000000</td>\n",
       "      <td>0.000000</td>\n",
       "      <td>0.000000</td>\n",
       "      <td>0.000000</td>\n",
       "      <td>0.000000</td>\n",
       "      <td>0.000000</td>\n",
       "      <td>0.000000</td>\n",
       "      <td>0.000000</td>\n",
       "      <td>0.000000</td>\n",
       "      <td>0.000000</td>\n",
       "      <td>0.000000</td>\n",
       "      <td>0.000000</td>\n",
       "      <td>0.000000</td>\n",
       "      <td>0.000000</td>\n",
       "      <td>0.000000</td>\n",
       "      <td>0.000000</td>\n",
       "      <td>0.000000</td>\n",
       "      <td>0.000000</td>\n",
       "      <td>0.000000</td>\n",
       "      <td>0.000000</td>\n",
       "      <td>0.000000</td>\n",
       "      <td>0.000000</td>\n",
       "      <td>0.000000</td>\n",
       "      <td>0.000000</td>\n",
       "      <td>0.000000</td>\n",
       "      <td>0.000000</td>\n",
       "      <td>0.000000</td>\n",
       "      <td>0.000000</td>\n",
       "      <td>0.000000</td>\n",
       "      <td>0.000000</td>\n",
       "      <td>0.000000</td>\n",
       "      <td>0.000000</td>\n",
       "      <td>0.000000</td>\n",
       "      <td>0.000000</td>\n",
       "      <td>0.000000</td>\n",
       "      <td>0.000000</td>\n",
       "      <td>0.000000</td>\n",
       "      <td>0.000000</td>\n",
       "      <td>0.000000</td>\n",
       "      <td>0.000000</td>\n",
       "      <td>0.000000</td>\n",
       "      <td>0.000000</td>\n",
       "      <td>0.000000</td>\n",
       "      <td>0.000000</td>\n",
       "      <td>0.000000</td>\n",
       "      <td>0.000000</td>\n",
       "      <td>0.000000</td>\n",
       "      <td>0.000000</td>\n",
       "      <td>0.000000</td>\n",
       "      <td>0.000000</td>\n",
       "      <td>0.000000</td>\n",
       "      <td>0.000000</td>\n",
       "      <td>0.000000</td>\n",
       "      <td>0.000000</td>\n",
       "      <td>0.000000</td>\n",
       "      <td>0.000000</td>\n",
       "      <td>0.000000</td>\n",
       "      <td>0.000000</td>\n",
       "      <td>0.000000</td>\n",
       "      <td>0.000000</td>\n",
       "      <td>0.000000</td>\n",
       "      <td>0.000000</td>\n",
       "      <td>0.000000</td>\n",
       "      <td>0.000000</td>\n",
       "      <td>0.000000</td>\n",
       "      <td>0.000000</td>\n",
       "      <td>0.000000</td>\n",
       "      <td>0.000000</td>\n",
       "      <td>0.000000</td>\n",
       "      <td>0.000000</td>\n",
       "      <td>0.000000</td>\n",
       "      <td>0.000000</td>\n",
       "      <td>0.000000</td>\n",
       "      <td>0.000000</td>\n",
       "      <td>0.000000</td>\n",
       "      <td>0.000000</td>\n",
       "      <td>0.000000</td>\n",
       "      <td>0.000000</td>\n",
       "      <td>0.000000</td>\n",
       "      <td>0.000000</td>\n",
       "      <td>0.000000</td>\n",
       "      <td>0.000000</td>\n",
       "      <td>0.000000</td>\n",
       "      <td>0.000000</td>\n",
       "      <td>0.000000</td>\n",
       "      <td>0.000000</td>\n",
       "      <td>0.000000</td>\n",
       "      <td>0.000000</td>\n",
       "      <td>0.000000</td>\n",
       "      <td>0.000000</td>\n",
       "      <td>0.000000</td>\n",
       "      <td>0.000000</td>\n",
       "      <td>0.000000</td>\n",
       "      <td>0.000000</td>\n",
       "      <td>0.000000</td>\n",
       "      <td>0.000000</td>\n",
       "      <td>0.000000</td>\n",
       "      <td>0.000000</td>\n",
       "      <td>0.000000</td>\n",
       "      <td>0.000000</td>\n",
       "      <td>0.000000</td>\n",
       "      <td>0.000000</td>\n",
       "      <td>0.000000</td>\n",
       "      <td>0.000000</td>\n",
       "      <td>0.000000</td>\n",
       "      <td>0.000000</td>\n",
       "      <td>0.000000</td>\n",
       "      <td>0.000000</td>\n",
       "      <td>0.000000</td>\n",
       "      <td>0.000000</td>\n",
       "      <td>0.000000</td>\n",
       "      <td>0.000000</td>\n",
       "      <td>0.000000</td>\n",
       "      <td>0.000000</td>\n",
       "      <td>0.000000</td>\n",
       "      <td>0.000000</td>\n",
       "      <td>0.000000</td>\n",
       "      <td>0.000000</td>\n",
       "      <td>0.000000</td>\n",
       "      <td>0.000000</td>\n",
       "      <td>0.000000</td>\n",
       "      <td>0.000000</td>\n",
       "      <td>0.000000</td>\n",
       "      <td>0.000000</td>\n",
       "      <td>0.000000</td>\n",
       "      <td>0.000000</td>\n",
       "      <td>0.000000</td>\n",
       "      <td>0.000000</td>\n",
       "      <td>0.000000</td>\n",
       "      <td>0.000000</td>\n",
       "      <td>0.000000</td>\n",
       "      <td>0.000000</td>\n",
       "      <td>0.000000</td>\n",
       "      <td>0.000000</td>\n",
       "      <td>0.000000</td>\n",
       "      <td>0.000000</td>\n",
       "      <td>0.000000</td>\n",
       "      <td>0.000000</td>\n",
       "      <td>0.000000</td>\n",
       "      <td>0.000000</td>\n",
       "      <td>0.000000</td>\n",
       "      <td>0.000000</td>\n",
       "      <td>0.000000</td>\n",
       "      <td>0.000000</td>\n",
       "      <td>0.000000</td>\n",
       "      <td>0.000000</td>\n",
       "      <td>0.000000</td>\n",
       "      <td>0.000000</td>\n",
       "      <td>0.000000</td>\n",
       "      <td>0.000000</td>\n",
       "      <td>0.000000</td>\n",
       "      <td>0.000000</td>\n",
       "      <td>0.000000</td>\n",
       "      <td>0.000000</td>\n",
       "      <td>0.000000</td>\n",
       "      <td>0.000000</td>\n",
       "      <td>0.000000</td>\n",
       "      <td>0.000000</td>\n",
       "      <td>0.000000</td>\n",
       "      <td>0.000000</td>\n",
       "      <td>0.000000</td>\n",
       "      <td>0.000000</td>\n",
       "      <td>0.000000</td>\n",
       "      <td>0.000000</td>\n",
       "      <td>0.000000</td>\n",
       "      <td>0.000000</td>\n",
       "      <td>0.000000</td>\n",
       "      <td>0.000000</td>\n",
       "      <td>0.000000</td>\n",
       "      <td>0.000000</td>\n",
       "      <td>0.000000</td>\n",
       "      <td>0.000000</td>\n",
       "      <td>0.000000</td>\n",
       "      <td>0.000000</td>\n",
       "      <td>0.000000</td>\n",
       "      <td>0.000000</td>\n",
       "      <td>0.000000</td>\n",
       "      <td>0.000000</td>\n",
       "      <td>0.000000</td>\n",
       "      <td>0.000000</td>\n",
       "      <td>0.000000</td>\n",
       "      <td>0.000000</td>\n",
       "      <td>0.000000</td>\n",
       "      <td>0.000000</td>\n",
       "      <td>0.000000</td>\n",
       "      <td>0.000000</td>\n",
       "      <td>0.000000</td>\n",
       "      <td>0.000000</td>\n",
       "      <td>0.000000</td>\n",
       "      <td>0.000000</td>\n",
       "      <td>0.000000</td>\n",
       "      <td>0.000000</td>\n",
       "      <td>0.000000</td>\n",
       "      <td>0.000000</td>\n",
       "      <td>0.000000</td>\n",
       "      <td>0.000000</td>\n",
       "      <td>0.000000</td>\n",
       "      <td>0.000000</td>\n",
       "      <td>0.000000</td>\n",
       "      <td>0.000000</td>\n",
       "      <td>0.000000</td>\n",
       "      <td>0.000000</td>\n",
       "      <td>0.000000</td>\n",
       "      <td>0.000000</td>\n",
       "      <td>0.000000</td>\n",
       "      <td>0.000000</td>\n",
       "      <td>0.000000</td>\n",
       "      <td>0.000000</td>\n",
       "      <td>0.000000</td>\n",
       "      <td>0.000000</td>\n",
       "      <td>0.000000</td>\n",
       "      <td>0.000000</td>\n",
       "      <td>0.000000</td>\n",
       "      <td>0.000000</td>\n",
       "      <td>0.000000</td>\n",
       "      <td>0.000000</td>\n",
       "      <td>0.000000</td>\n",
       "      <td>0.000000</td>\n",
       "      <td>0.000000</td>\n",
       "      <td>0.000000</td>\n",
       "      <td>0.000000</td>\n",
       "      <td>0.000000</td>\n",
       "      <td>0.000000</td>\n",
       "      <td>0.000000</td>\n",
       "      <td>0.000000</td>\n",
       "      <td>0.000000</td>\n",
       "      <td>0.000000</td>\n",
       "      <td>0.000000</td>\n",
       "      <td>0.000000</td>\n",
       "      <td>0.000000</td>\n",
       "      <td>0.000000</td>\n",
       "      <td>0.000000</td>\n",
       "      <td>0.000000</td>\n",
       "      <td>0.000000</td>\n",
       "      <td>0.000000</td>\n",
       "      <td>0.000000</td>\n",
       "      <td>0.000000</td>\n",
       "      <td>0.000000</td>\n",
       "      <td>0.000000</td>\n",
       "      <td>0.000000</td>\n",
       "      <td>0.000000</td>\n",
       "      <td>0.000000</td>\n",
       "      <td>0.000000</td>\n",
       "      <td>0.000000</td>\n",
       "      <td>0.000000</td>\n",
       "      <td>0.000000</td>\n",
       "      <td>0.000000</td>\n",
       "      <td>0.000000</td>\n",
       "      <td>0.000000</td>\n",
       "      <td>0.000000</td>\n",
       "      <td>0.000000</td>\n",
       "      <td>0.000000</td>\n",
       "      <td>0.000000</td>\n",
       "      <td>0.000000</td>\n",
       "      <td>0.000000</td>\n",
       "      <td>0.000000</td>\n",
       "      <td>0.000000</td>\n",
       "      <td>0.000000</td>\n",
       "      <td>0.000000</td>\n",
       "      <td>0.000000</td>\n",
       "      <td>0.000000</td>\n",
       "      <td>0.000000</td>\n",
       "      <td>0.000000</td>\n",
       "      <td>0.000000</td>\n",
       "      <td>0.000000</td>\n",
       "      <td>0.000000</td>\n",
       "      <td>0.000000</td>\n",
       "      <td>0.000000</td>\n",
       "      <td>0.000000</td>\n",
       "      <td>0.000000</td>\n",
       "      <td>0.000000</td>\n",
       "      <td>0.000000</td>\n",
       "      <td>0.000000</td>\n",
       "      <td>0.000000</td>\n",
       "      <td>0.000000</td>\n",
       "      <td>0.000000</td>\n",
       "      <td>0.000000</td>\n",
       "      <td>0.000000</td>\n",
       "      <td>0.000000</td>\n",
       "      <td>0.000000</td>\n",
       "      <td>0.000000</td>\n",
       "      <td>0.000000</td>\n",
       "      <td>0.000000</td>\n",
       "      <td>0.000000</td>\n",
       "      <td>0.000000</td>\n",
       "      <td>0.000000</td>\n",
       "      <td>0.000000</td>\n",
       "      <td>0.000000</td>\n",
       "      <td>0.000000</td>\n",
       "      <td>0.000000</td>\n",
       "      <td>0.000000</td>\n",
       "      <td>0.000000</td>\n",
       "      <td>0.000000</td>\n",
       "      <td>0.000000</td>\n",
       "      <td>0.000000</td>\n",
       "      <td>0.000000</td>\n",
       "      <td>0.000000</td>\n",
       "      <td>0.000000</td>\n",
       "      <td>0.000000</td>\n",
       "      <td>0.000000</td>\n",
       "      <td>0.000000</td>\n",
       "      <td>0.000000</td>\n",
       "      <td>0.000000</td>\n",
       "      <td>0.000000</td>\n",
       "      <td>0.000000</td>\n",
       "      <td>0.000000</td>\n",
       "      <td>0.000000</td>\n",
       "      <td>0.000000</td>\n",
       "      <td>0.000000</td>\n",
       "      <td>0.000000</td>\n",
       "      <td>0.000000</td>\n",
       "      <td>0.000000</td>\n",
       "      <td>0.000000</td>\n",
       "      <td>0.000000</td>\n",
       "      <td>0.000000</td>\n",
       "      <td>0.000000</td>\n",
       "      <td>0.000000</td>\n",
       "      <td>0.000000</td>\n",
       "      <td>0.000000</td>\n",
       "      <td>0.000000</td>\n",
       "      <td>0.000000</td>\n",
       "      <td>0.000000</td>\n",
       "      <td>0.000000</td>\n",
       "      <td>0.000000</td>\n",
       "      <td>0.000000</td>\n",
       "      <td>0.000000</td>\n",
       "      <td>0.000000</td>\n",
       "      <td>0.000000</td>\n",
       "      <td>0.000000</td>\n",
       "      <td>0.000000</td>\n",
       "      <td>0.000000</td>\n",
       "      <td>0.000000</td>\n",
       "      <td>0.000000</td>\n",
       "      <td>0.000000</td>\n",
       "      <td>0.000000</td>\n",
       "      <td>0.000000</td>\n",
       "      <td>0.000000</td>\n",
       "      <td>0.000000</td>\n",
       "      <td>0.000000</td>\n",
       "      <td>0.000000</td>\n",
       "      <td>0.000000</td>\n",
       "      <td>0.000000</td>\n",
       "      <td>0.000000</td>\n",
       "      <td>0.000000</td>\n",
       "      <td>0.000000</td>\n",
       "      <td>0.000000</td>\n",
       "      <td>0.000000</td>\n",
       "      <td>0.000000</td>\n",
       "      <td>0.000000</td>\n",
       "      <td>0.000000</td>\n",
       "      <td>0.000000</td>\n",
       "      <td>0.000000</td>\n",
       "      <td>0.000000</td>\n",
       "      <td>0.000000</td>\n",
       "      <td>0.000000</td>\n",
       "      <td>0.000000</td>\n",
       "      <td>0.000000</td>\n",
       "      <td>0.000000</td>\n",
       "      <td>0.000000</td>\n",
       "      <td>0.000000</td>\n",
       "      <td>0.000000</td>\n",
       "      <td>0.000000</td>\n",
       "      <td>0.000000</td>\n",
       "      <td>0.000000</td>\n",
       "      <td>0.000000</td>\n",
       "      <td>0.000000</td>\n",
       "      <td>0.000000</td>\n",
       "      <td>0.000000</td>\n",
       "      <td>0.000000</td>\n",
       "      <td>0.000000</td>\n",
       "      <td>0.000000</td>\n",
       "      <td>0.000000</td>\n",
       "      <td>0.000000</td>\n",
       "      <td>0.000000</td>\n",
       "      <td>0.000000</td>\n",
       "      <td>0.000000</td>\n",
       "      <td>0.000000</td>\n",
       "      <td>0.000000</td>\n",
       "      <td>0.000000</td>\n",
       "      <td>0.000000</td>\n",
       "      <td>0.000000</td>\n",
       "      <td>0.000000</td>\n",
       "      <td>0.000000</td>\n",
       "      <td>0.000000</td>\n",
       "      <td>0.000000</td>\n",
       "      <td>0.000000</td>\n",
       "      <td>0.000000</td>\n",
       "      <td>0.000000</td>\n",
       "      <td>0.000000</td>\n",
       "      <td>0.000000</td>\n",
       "      <td>0.000000</td>\n",
       "      <td>0.000000</td>\n",
       "      <td>0.000000</td>\n",
       "      <td>0.000000</td>\n",
       "      <td>0.000000</td>\n",
       "      <td>0.000000</td>\n",
       "      <td>0.000000</td>\n",
       "      <td>0.000000</td>\n",
       "      <td>0.000000</td>\n",
       "      <td>0.000000</td>\n",
       "      <td>0.000000</td>\n",
       "      <td>0.000000</td>\n",
       "      <td>0.000000</td>\n",
       "      <td>0.000000</td>\n",
       "      <td>0.000000</td>\n",
       "      <td>0.000000</td>\n",
       "      <td>0.000000</td>\n",
       "      <td>0.000000</td>\n",
       "      <td>0.000000</td>\n",
       "      <td>0.000000</td>\n",
       "      <td>0.000000</td>\n",
       "      <td>0.000000</td>\n",
       "      <td>0.000000</td>\n",
       "      <td>0.000000</td>\n",
       "      <td>0.000000</td>\n",
       "      <td>0.000000</td>\n",
       "      <td>0.000000</td>\n",
       "      <td>0.000000</td>\n",
       "      <td>0.000000</td>\n",
       "      <td>0.000000</td>\n",
       "      <td>0.000000</td>\n",
       "      <td>0.000000</td>\n",
       "      <td>0.000000</td>\n",
       "      <td>0.000000</td>\n",
       "      <td>0.000000</td>\n",
       "      <td>0.000000</td>\n",
       "      <td>0.000000</td>\n",
       "      <td>0.000000</td>\n",
       "      <td>0.000000</td>\n",
       "      <td>0.000000</td>\n",
       "      <td>0.000000</td>\n",
       "      <td>0.000000</td>\n",
       "      <td>0.000000</td>\n",
       "      <td>0.000000</td>\n",
       "      <td>0.000000</td>\n",
       "      <td>0.000000</td>\n",
       "      <td>0.000000</td>\n",
       "      <td>0.000000</td>\n",
       "      <td>0.000000</td>\n",
       "      <td>0.000000</td>\n",
       "      <td>0.000000</td>\n",
       "      <td>0.000000</td>\n",
       "      <td>0.000000</td>\n",
       "      <td>0.000000</td>\n",
       "      <td>0.000000</td>\n",
       "      <td>0.000000</td>\n",
       "      <td>0.000000</td>\n",
       "      <td>0.000000</td>\n",
       "      <td>0.000000</td>\n",
       "      <td>0.000000</td>\n",
       "      <td>0.000000</td>\n",
       "      <td>0.000000</td>\n",
       "      <td>0.000000</td>\n",
       "      <td>0.000000</td>\n",
       "      <td>0.000000</td>\n",
       "      <td>0.000000</td>\n",
       "      <td>0.000000</td>\n",
       "      <td>0.000000</td>\n",
       "      <td>0.000000</td>\n",
       "      <td>0.000000</td>\n",
       "      <td>0.000000</td>\n",
       "      <td>0.000000</td>\n",
       "      <td>0.000000</td>\n",
       "      <td>0.000000</td>\n",
       "      <td>0.000000</td>\n",
       "      <td>0.000000</td>\n",
       "      <td>0.000000</td>\n",
       "      <td>0.000000</td>\n",
       "      <td>0.000000</td>\n",
       "      <td>0.000000</td>\n",
       "      <td>0.000000</td>\n",
       "      <td>0.000000</td>\n",
       "      <td>0.000000</td>\n",
       "      <td>0.000000</td>\n",
       "      <td>0.000000</td>\n",
       "      <td>0.000000</td>\n",
       "      <td>0.000000</td>\n",
       "      <td>0.000000</td>\n",
       "      <td>0.000000</td>\n",
       "      <td>0.000000</td>\n",
       "      <td>0.000000</td>\n",
       "      <td>0.000000</td>\n",
       "      <td>0.000000</td>\n",
       "      <td>0.000000</td>\n",
       "      <td>0.000000</td>\n",
       "      <td>0.000000</td>\n",
       "      <td>0.000000</td>\n",
       "      <td>0.000000</td>\n",
       "      <td>0.000000</td>\n",
       "      <td>0.000000</td>\n",
       "      <td>0.000000</td>\n",
       "      <td>0.000000</td>\n",
       "      <td>0.000000</td>\n",
       "      <td>0.000000</td>\n",
       "      <td>0.000000</td>\n",
       "      <td>0.000000</td>\n",
       "      <td>0.000000</td>\n",
       "      <td>0.000000</td>\n",
       "      <td>0.000000</td>\n",
       "      <td>0.000000</td>\n",
       "      <td>0.000000</td>\n",
       "      <td>0.000000</td>\n",
       "      <td>0.000000</td>\n",
       "      <td>0.000000</td>\n",
       "      <td>0.000000</td>\n",
       "      <td>0.000000</td>\n",
       "      <td>0.000000</td>\n",
       "      <td>0.000000</td>\n",
       "      <td>0.000000</td>\n",
       "      <td>0.000000</td>\n",
       "      <td>0.000000</td>\n",
       "      <td>0.000000</td>\n",
       "      <td>0.000000</td>\n",
       "      <td>0.000000</td>\n",
       "      <td>0.000000</td>\n",
       "      <td>0.000000</td>\n",
       "      <td>0.000000</td>\n",
       "      <td>0.000000</td>\n",
       "      <td>0.000000</td>\n",
       "      <td>0.000000</td>\n",
       "      <td>0.000000</td>\n",
       "      <td>0.000000</td>\n",
       "      <td>0.000000</td>\n",
       "      <td>0.000000</td>\n",
       "      <td>0.000000</td>\n",
       "      <td>0.000000</td>\n",
       "      <td>0.000000</td>\n",
       "      <td>0.000000</td>\n",
       "      <td>0.000000</td>\n",
       "      <td>0.000000</td>\n",
       "      <td>0.000000</td>\n",
       "      <td>0.000000</td>\n",
       "      <td>0.000000</td>\n",
       "      <td>0.000000</td>\n",
       "      <td>0.000000</td>\n",
       "      <td>0.000000</td>\n",
       "      <td>0.000000</td>\n",
       "      <td>0.000000</td>\n",
       "      <td>0.000000</td>\n",
       "      <td>0.000000</td>\n",
       "      <td>0.000000</td>\n",
       "      <td>0.000000</td>\n",
       "      <td>0.000000</td>\n",
       "      <td>0.000000</td>\n",
       "      <td>0.000000</td>\n",
       "      <td>0.000000</td>\n",
       "      <td>0.000000</td>\n",
       "      <td>0.000000</td>\n",
       "      <td>0.000000</td>\n",
       "      <td>0.000000</td>\n",
       "      <td>0.000000</td>\n",
       "      <td>0.000000</td>\n",
       "      <td>0.000000</td>\n",
       "      <td>0.000000</td>\n",
       "      <td>0.000000</td>\n",
       "      <td>0.000000</td>\n",
       "      <td>0.000000</td>\n",
       "      <td>0.000000</td>\n",
       "      <td>0.000000</td>\n",
       "      <td>0.000000</td>\n",
       "      <td>0.000000</td>\n",
       "      <td>0.000000</td>\n",
       "      <td>0.000000</td>\n",
       "      <td>0.000000</td>\n",
       "      <td>0.000000</td>\n",
       "      <td>0.000000</td>\n",
       "      <td>0.000000</td>\n",
       "      <td>0.000000</td>\n",
       "      <td>0.000000</td>\n",
       "      <td>0.000000</td>\n",
       "      <td>0.000000</td>\n",
       "      <td>0.000000</td>\n",
       "      <td>0.000000</td>\n",
       "      <td>0.000000</td>\n",
       "      <td>0.000000</td>\n",
       "      <td>0.000000</td>\n",
       "      <td>0.000000</td>\n",
       "      <td>0.000000</td>\n",
       "      <td>0.000000</td>\n",
       "      <td>0.000000</td>\n",
       "      <td>0.000000</td>\n",
       "      <td>0.000000</td>\n",
       "      <td>0.000000</td>\n",
       "      <td>0.000000</td>\n",
       "      <td>0.000000</td>\n",
       "      <td>0.000000</td>\n",
       "      <td>0.000000</td>\n",
       "      <td>0.000000</td>\n",
       "      <td>0.000000</td>\n",
       "      <td>0.000000</td>\n",
       "      <td>0.000000</td>\n",
       "      <td>0.000000</td>\n",
       "      <td>0.000000</td>\n",
       "      <td>0.000000</td>\n",
       "      <td>0.000000</td>\n",
       "      <td>0.000000</td>\n",
       "      <td>0.000000</td>\n",
       "      <td>0.000000</td>\n",
       "      <td>0.000000</td>\n",
       "      <td>0.000000</td>\n",
       "      <td>0.000000</td>\n",
       "      <td>0.000000</td>\n",
       "      <td>0.000000</td>\n",
       "      <td>0.000000</td>\n",
       "      <td>0.000000</td>\n",
       "      <td>0.000000</td>\n",
       "      <td>0.000000</td>\n",
       "      <td>0.000000</td>\n",
       "      <td>0.000000</td>\n",
       "      <td>0.000000</td>\n",
       "      <td>0.000000</td>\n",
       "      <td>0.000000</td>\n",
       "      <td>0.000000</td>\n",
       "      <td>0.000000</td>\n",
       "      <td>0.000000</td>\n",
       "      <td>0.000000</td>\n",
       "      <td>0.000000</td>\n",
       "      <td>0.000000</td>\n",
       "      <td>0.000000</td>\n",
       "      <td>0.000000</td>\n",
       "      <td>0.000000</td>\n",
       "      <td>0.000000</td>\n",
       "      <td>0.000000</td>\n",
       "      <td>0.000000</td>\n",
       "      <td>0.000000</td>\n",
       "      <td>0.000000</td>\n",
       "      <td>0.000000</td>\n",
       "      <td>0.000000</td>\n",
       "      <td>0.000000</td>\n",
       "      <td>0.000000</td>\n",
       "      <td>0.000000</td>\n",
       "      <td>0.000000</td>\n",
       "      <td>0.000000</td>\n",
       "      <td>0.000000</td>\n",
       "      <td>0.000000</td>\n",
       "      <td>0.000000</td>\n",
       "      <td>0.000000</td>\n",
       "      <td>0.000000</td>\n",
       "      <td>0.000000</td>\n",
       "      <td>0.000000</td>\n",
       "      <td>0.000000</td>\n",
       "      <td>0.000000</td>\n",
       "      <td>0.000000</td>\n",
       "      <td>0.000000</td>\n",
       "      <td>0.000000</td>\n",
       "      <td>0.000000</td>\n",
       "      <td>0.000000</td>\n",
       "      <td>0.000000</td>\n",
       "      <td>0.000000</td>\n",
       "      <td>0.000000</td>\n",
       "      <td>0.000000</td>\n",
       "      <td>0.000000</td>\n",
       "      <td>0.000000</td>\n",
       "      <td>0.000000</td>\n",
       "      <td>0.000000</td>\n",
       "      <td>0.000000</td>\n",
       "      <td>0.000000</td>\n",
       "      <td>0.000000</td>\n",
       "      <td>0.000000</td>\n",
       "      <td>0.000000</td>\n",
       "      <td>0.000000</td>\n",
       "      <td>0.000000</td>\n",
       "      <td>0.000000</td>\n",
       "      <td>0.000000</td>\n",
       "      <td>0.000000</td>\n",
       "      <td>0.000000</td>\n",
       "      <td>0.000000</td>\n",
       "      <td>0.000000</td>\n",
       "      <td>0.000000</td>\n",
       "      <td>0.000000</td>\n",
       "      <td>0.000000</td>\n",
       "      <td>0.000000</td>\n",
       "      <td>0.000000</td>\n",
       "      <td>0.000000</td>\n",
       "      <td>0.000000</td>\n",
       "      <td>0.000000</td>\n",
       "      <td>0.000000</td>\n",
       "      <td>0.000000</td>\n",
       "      <td>0.000000</td>\n",
       "      <td>0.000000</td>\n",
       "    </tr>\n",
       "    <tr>\n",
       "      <td>2</td>\n",
       "      <td>0.021500</td>\n",
       "      <td>0.013410</td>\n",
       "      <td>0.997803</td>\n",
       "      <td>0.000564</td>\n",
       "      <td>0.000000</td>\n",
       "      <td>0.000000</td>\n",
       "      <td>0.000000</td>\n",
       "      <td>0.000000</td>\n",
       "      <td>0.000000</td>\n",
       "      <td>0.000000</td>\n",
       "      <td>0.000000</td>\n",
       "      <td>0.000000</td>\n",
       "      <td>0.000000</td>\n",
       "      <td>0.000000</td>\n",
       "      <td>0.000000</td>\n",
       "      <td>0.000000</td>\n",
       "      <td>0.000000</td>\n",
       "      <td>0.000000</td>\n",
       "      <td>0.000000</td>\n",
       "      <td>0.000000</td>\n",
       "      <td>0.000000</td>\n",
       "      <td>0.000000</td>\n",
       "      <td>0.000000</td>\n",
       "      <td>0.000000</td>\n",
       "      <td>0.000000</td>\n",
       "      <td>0.000000</td>\n",
       "      <td>0.000000</td>\n",
       "      <td>0.000000</td>\n",
       "      <td>0.000000</td>\n",
       "      <td>0.000000</td>\n",
       "      <td>0.000000</td>\n",
       "      <td>0.000000</td>\n",
       "      <td>0.000000</td>\n",
       "      <td>0.000000</td>\n",
       "      <td>0.000000</td>\n",
       "      <td>0.000000</td>\n",
       "      <td>0.000000</td>\n",
       "      <td>0.000000</td>\n",
       "      <td>0.000000</td>\n",
       "      <td>0.000000</td>\n",
       "      <td>0.000000</td>\n",
       "      <td>0.000000</td>\n",
       "      <td>0.000000</td>\n",
       "      <td>0.000000</td>\n",
       "      <td>0.000000</td>\n",
       "      <td>0.000000</td>\n",
       "      <td>0.000000</td>\n",
       "      <td>0.000000</td>\n",
       "      <td>0.000000</td>\n",
       "      <td>0.000000</td>\n",
       "      <td>0.000000</td>\n",
       "      <td>0.000000</td>\n",
       "      <td>0.000000</td>\n",
       "      <td>0.000000</td>\n",
       "      <td>0.000000</td>\n",
       "      <td>0.000000</td>\n",
       "      <td>0.000000</td>\n",
       "      <td>0.000000</td>\n",
       "      <td>0.000000</td>\n",
       "      <td>0.000000</td>\n",
       "      <td>0.000000</td>\n",
       "      <td>0.000000</td>\n",
       "      <td>0.000000</td>\n",
       "      <td>0.000000</td>\n",
       "      <td>0.000000</td>\n",
       "      <td>0.000000</td>\n",
       "      <td>0.000000</td>\n",
       "      <td>0.000000</td>\n",
       "      <td>0.000000</td>\n",
       "      <td>0.000000</td>\n",
       "      <td>0.000000</td>\n",
       "      <td>0.000000</td>\n",
       "      <td>0.000000</td>\n",
       "      <td>0.000000</td>\n",
       "      <td>0.000000</td>\n",
       "      <td>0.000000</td>\n",
       "      <td>0.000000</td>\n",
       "      <td>0.000000</td>\n",
       "      <td>0.000000</td>\n",
       "      <td>0.000000</td>\n",
       "      <td>0.000000</td>\n",
       "      <td>0.000000</td>\n",
       "      <td>0.000000</td>\n",
       "      <td>0.000000</td>\n",
       "      <td>0.000000</td>\n",
       "      <td>0.000000</td>\n",
       "      <td>0.000000</td>\n",
       "      <td>0.000000</td>\n",
       "      <td>0.000000</td>\n",
       "      <td>0.000000</td>\n",
       "      <td>0.000000</td>\n",
       "      <td>0.000000</td>\n",
       "      <td>0.000000</td>\n",
       "      <td>0.000000</td>\n",
       "      <td>0.000000</td>\n",
       "      <td>0.000000</td>\n",
       "      <td>0.000000</td>\n",
       "      <td>0.000000</td>\n",
       "      <td>0.000000</td>\n",
       "      <td>0.000000</td>\n",
       "      <td>0.000000</td>\n",
       "      <td>0.000000</td>\n",
       "      <td>0.000000</td>\n",
       "      <td>0.000000</td>\n",
       "      <td>0.000000</td>\n",
       "      <td>0.000000</td>\n",
       "      <td>0.000000</td>\n",
       "      <td>0.000000</td>\n",
       "      <td>0.000000</td>\n",
       "      <td>0.000000</td>\n",
       "      <td>0.000000</td>\n",
       "      <td>0.000000</td>\n",
       "      <td>0.000000</td>\n",
       "      <td>0.000000</td>\n",
       "      <td>0.000000</td>\n",
       "      <td>0.000000</td>\n",
       "      <td>0.000000</td>\n",
       "      <td>0.000000</td>\n",
       "      <td>0.000000</td>\n",
       "      <td>0.000000</td>\n",
       "      <td>0.000000</td>\n",
       "      <td>0.000000</td>\n",
       "      <td>0.000000</td>\n",
       "      <td>0.000000</td>\n",
       "      <td>0.000000</td>\n",
       "      <td>0.000000</td>\n",
       "      <td>0.000000</td>\n",
       "      <td>0.000000</td>\n",
       "      <td>0.000000</td>\n",
       "      <td>0.000000</td>\n",
       "      <td>0.000000</td>\n",
       "      <td>0.000000</td>\n",
       "      <td>0.000000</td>\n",
       "      <td>0.000000</td>\n",
       "      <td>0.000000</td>\n",
       "      <td>0.000000</td>\n",
       "      <td>0.000000</td>\n",
       "      <td>0.000000</td>\n",
       "      <td>0.000000</td>\n",
       "      <td>0.000000</td>\n",
       "      <td>0.000000</td>\n",
       "      <td>0.000000</td>\n",
       "      <td>0.000000</td>\n",
       "      <td>0.000000</td>\n",
       "      <td>0.000000</td>\n",
       "      <td>0.000000</td>\n",
       "      <td>0.000000</td>\n",
       "      <td>0.000000</td>\n",
       "      <td>0.000000</td>\n",
       "      <td>0.000000</td>\n",
       "      <td>0.000000</td>\n",
       "      <td>0.000000</td>\n",
       "      <td>0.000000</td>\n",
       "      <td>0.000000</td>\n",
       "      <td>0.000000</td>\n",
       "      <td>0.000000</td>\n",
       "      <td>0.000000</td>\n",
       "      <td>0.000000</td>\n",
       "      <td>0.000000</td>\n",
       "      <td>0.000000</td>\n",
       "      <td>0.000000</td>\n",
       "      <td>0.000000</td>\n",
       "      <td>0.000000</td>\n",
       "      <td>0.000000</td>\n",
       "      <td>0.000000</td>\n",
       "      <td>0.000000</td>\n",
       "      <td>0.000000</td>\n",
       "      <td>0.000000</td>\n",
       "      <td>0.000000</td>\n",
       "      <td>0.000000</td>\n",
       "      <td>0.000000</td>\n",
       "      <td>0.000000</td>\n",
       "      <td>0.000000</td>\n",
       "      <td>0.000000</td>\n",
       "      <td>0.000000</td>\n",
       "      <td>0.000000</td>\n",
       "      <td>0.000000</td>\n",
       "      <td>0.000000</td>\n",
       "      <td>0.000000</td>\n",
       "      <td>0.000000</td>\n",
       "      <td>0.000000</td>\n",
       "      <td>0.000000</td>\n",
       "      <td>0.000000</td>\n",
       "      <td>0.000000</td>\n",
       "      <td>0.000000</td>\n",
       "      <td>0.000000</td>\n",
       "      <td>0.000000</td>\n",
       "      <td>0.000000</td>\n",
       "      <td>0.000000</td>\n",
       "      <td>0.000000</td>\n",
       "      <td>0.000000</td>\n",
       "      <td>0.000000</td>\n",
       "      <td>0.000000</td>\n",
       "      <td>0.000000</td>\n",
       "      <td>0.000000</td>\n",
       "      <td>0.000000</td>\n",
       "      <td>0.000000</td>\n",
       "      <td>0.000000</td>\n",
       "      <td>0.000000</td>\n",
       "      <td>0.000000</td>\n",
       "      <td>0.000000</td>\n",
       "      <td>0.000000</td>\n",
       "      <td>0.000000</td>\n",
       "      <td>0.000000</td>\n",
       "      <td>0.000000</td>\n",
       "      <td>0.000000</td>\n",
       "      <td>0.000000</td>\n",
       "      <td>0.000000</td>\n",
       "      <td>0.000000</td>\n",
       "      <td>0.000000</td>\n",
       "      <td>0.000000</td>\n",
       "      <td>0.000000</td>\n",
       "      <td>0.000000</td>\n",
       "      <td>0.000000</td>\n",
       "      <td>0.000000</td>\n",
       "      <td>0.000000</td>\n",
       "      <td>0.000000</td>\n",
       "      <td>0.000000</td>\n",
       "      <td>0.000000</td>\n",
       "      <td>0.000000</td>\n",
       "      <td>0.000000</td>\n",
       "      <td>0.000000</td>\n",
       "      <td>0.000000</td>\n",
       "      <td>0.000000</td>\n",
       "      <td>0.000000</td>\n",
       "      <td>0.000000</td>\n",
       "      <td>0.000000</td>\n",
       "      <td>0.000000</td>\n",
       "      <td>0.000000</td>\n",
       "      <td>0.000000</td>\n",
       "      <td>0.000000</td>\n",
       "      <td>0.000000</td>\n",
       "      <td>0.000000</td>\n",
       "      <td>0.000000</td>\n",
       "      <td>0.000000</td>\n",
       "      <td>0.000000</td>\n",
       "      <td>0.000000</td>\n",
       "      <td>0.000000</td>\n",
       "      <td>0.000000</td>\n",
       "      <td>0.000000</td>\n",
       "      <td>0.000000</td>\n",
       "      <td>0.000000</td>\n",
       "      <td>0.000000</td>\n",
       "      <td>0.000000</td>\n",
       "      <td>0.000000</td>\n",
       "      <td>0.000000</td>\n",
       "      <td>0.000000</td>\n",
       "      <td>0.000000</td>\n",
       "      <td>0.000000</td>\n",
       "      <td>0.000000</td>\n",
       "      <td>0.000000</td>\n",
       "      <td>0.000000</td>\n",
       "      <td>0.000000</td>\n",
       "      <td>0.000000</td>\n",
       "      <td>0.000000</td>\n",
       "      <td>0.000000</td>\n",
       "      <td>0.000000</td>\n",
       "      <td>0.000000</td>\n",
       "      <td>0.000000</td>\n",
       "      <td>0.000000</td>\n",
       "      <td>0.000000</td>\n",
       "      <td>0.000000</td>\n",
       "      <td>0.000000</td>\n",
       "      <td>0.000000</td>\n",
       "      <td>0.000000</td>\n",
       "      <td>0.000000</td>\n",
       "      <td>0.000000</td>\n",
       "      <td>0.000000</td>\n",
       "      <td>0.000000</td>\n",
       "      <td>0.000000</td>\n",
       "      <td>0.000000</td>\n",
       "      <td>0.000000</td>\n",
       "      <td>0.000000</td>\n",
       "      <td>0.000000</td>\n",
       "      <td>0.000000</td>\n",
       "      <td>0.000000</td>\n",
       "      <td>0.000000</td>\n",
       "      <td>0.000000</td>\n",
       "      <td>0.000000</td>\n",
       "      <td>0.000000</td>\n",
       "      <td>0.000000</td>\n",
       "      <td>0.000000</td>\n",
       "      <td>0.000000</td>\n",
       "      <td>0.000000</td>\n",
       "      <td>0.000000</td>\n",
       "      <td>0.000000</td>\n",
       "      <td>0.000000</td>\n",
       "      <td>0.000000</td>\n",
       "      <td>0.000000</td>\n",
       "      <td>0.000000</td>\n",
       "      <td>0.000000</td>\n",
       "      <td>0.000000</td>\n",
       "      <td>0.000000</td>\n",
       "      <td>0.000000</td>\n",
       "      <td>0.000000</td>\n",
       "      <td>0.000000</td>\n",
       "      <td>0.000000</td>\n",
       "      <td>0.000000</td>\n",
       "      <td>0.000000</td>\n",
       "      <td>0.000000</td>\n",
       "      <td>0.000000</td>\n",
       "      <td>0.000000</td>\n",
       "      <td>0.000000</td>\n",
       "      <td>0.000000</td>\n",
       "      <td>0.000000</td>\n",
       "      <td>0.000000</td>\n",
       "      <td>0.000000</td>\n",
       "      <td>0.000000</td>\n",
       "      <td>0.000000</td>\n",
       "      <td>0.000000</td>\n",
       "      <td>0.000000</td>\n",
       "      <td>0.000000</td>\n",
       "      <td>0.000000</td>\n",
       "      <td>0.000000</td>\n",
       "      <td>0.000000</td>\n",
       "      <td>0.000000</td>\n",
       "      <td>0.000000</td>\n",
       "      <td>0.000000</td>\n",
       "      <td>0.000000</td>\n",
       "      <td>0.000000</td>\n",
       "      <td>0.000000</td>\n",
       "      <td>0.000000</td>\n",
       "      <td>0.000000</td>\n",
       "      <td>0.000000</td>\n",
       "      <td>0.000000</td>\n",
       "      <td>0.000000</td>\n",
       "      <td>0.000000</td>\n",
       "      <td>0.000000</td>\n",
       "      <td>0.000000</td>\n",
       "      <td>0.000000</td>\n",
       "      <td>0.000000</td>\n",
       "      <td>0.000000</td>\n",
       "      <td>0.000000</td>\n",
       "      <td>0.000000</td>\n",
       "      <td>0.000000</td>\n",
       "      <td>0.000000</td>\n",
       "      <td>0.000000</td>\n",
       "      <td>0.000000</td>\n",
       "      <td>0.000000</td>\n",
       "      <td>0.000000</td>\n",
       "      <td>0.000000</td>\n",
       "      <td>0.000000</td>\n",
       "      <td>0.000000</td>\n",
       "      <td>0.000000</td>\n",
       "      <td>0.000000</td>\n",
       "      <td>0.000000</td>\n",
       "      <td>0.000000</td>\n",
       "      <td>0.000000</td>\n",
       "      <td>0.000000</td>\n",
       "      <td>0.000000</td>\n",
       "      <td>0.000000</td>\n",
       "      <td>0.000000</td>\n",
       "      <td>0.000000</td>\n",
       "      <td>0.000000</td>\n",
       "      <td>0.000000</td>\n",
       "      <td>0.000000</td>\n",
       "      <td>0.000000</td>\n",
       "      <td>0.000000</td>\n",
       "      <td>0.000000</td>\n",
       "      <td>0.000000</td>\n",
       "      <td>0.000000</td>\n",
       "      <td>0.000000</td>\n",
       "      <td>0.000000</td>\n",
       "      <td>0.000000</td>\n",
       "      <td>0.000000</td>\n",
       "      <td>0.000000</td>\n",
       "      <td>0.000000</td>\n",
       "      <td>0.000000</td>\n",
       "      <td>0.000000</td>\n",
       "      <td>0.000000</td>\n",
       "      <td>0.000000</td>\n",
       "      <td>0.000000</td>\n",
       "      <td>0.000000</td>\n",
       "      <td>0.000000</td>\n",
       "      <td>0.000000</td>\n",
       "      <td>0.000000</td>\n",
       "      <td>0.000000</td>\n",
       "      <td>0.000000</td>\n",
       "      <td>0.000000</td>\n",
       "      <td>0.000000</td>\n",
       "      <td>0.000000</td>\n",
       "      <td>0.000000</td>\n",
       "      <td>0.000000</td>\n",
       "      <td>0.000000</td>\n",
       "      <td>0.000000</td>\n",
       "      <td>0.000000</td>\n",
       "      <td>0.000000</td>\n",
       "      <td>0.000000</td>\n",
       "      <td>0.000000</td>\n",
       "      <td>0.000000</td>\n",
       "      <td>0.000000</td>\n",
       "      <td>0.000000</td>\n",
       "      <td>0.000000</td>\n",
       "      <td>0.000000</td>\n",
       "      <td>0.000000</td>\n",
       "      <td>0.000000</td>\n",
       "      <td>0.000000</td>\n",
       "      <td>0.000000</td>\n",
       "      <td>0.000000</td>\n",
       "      <td>0.000000</td>\n",
       "      <td>0.000000</td>\n",
       "      <td>0.000000</td>\n",
       "      <td>0.000000</td>\n",
       "      <td>0.000000</td>\n",
       "      <td>0.000000</td>\n",
       "      <td>0.000000</td>\n",
       "      <td>0.000000</td>\n",
       "      <td>0.000000</td>\n",
       "      <td>0.000000</td>\n",
       "      <td>0.000000</td>\n",
       "      <td>0.000000</td>\n",
       "      <td>0.000000</td>\n",
       "      <td>0.000000</td>\n",
       "      <td>0.000000</td>\n",
       "      <td>0.000000</td>\n",
       "      <td>0.000000</td>\n",
       "      <td>0.000000</td>\n",
       "      <td>0.000000</td>\n",
       "      <td>0.000000</td>\n",
       "      <td>0.000000</td>\n",
       "      <td>0.000000</td>\n",
       "      <td>0.000000</td>\n",
       "      <td>0.000000</td>\n",
       "      <td>0.000000</td>\n",
       "      <td>0.000000</td>\n",
       "      <td>0.000000</td>\n",
       "      <td>0.000000</td>\n",
       "      <td>0.000000</td>\n",
       "      <td>0.000000</td>\n",
       "      <td>0.000000</td>\n",
       "      <td>0.000000</td>\n",
       "      <td>0.000000</td>\n",
       "      <td>0.000000</td>\n",
       "      <td>0.000000</td>\n",
       "      <td>0.000000</td>\n",
       "      <td>0.000000</td>\n",
       "      <td>0.000000</td>\n",
       "      <td>0.000000</td>\n",
       "      <td>0.000000</td>\n",
       "      <td>0.000000</td>\n",
       "      <td>0.000000</td>\n",
       "      <td>0.000000</td>\n",
       "      <td>0.000000</td>\n",
       "      <td>0.000000</td>\n",
       "      <td>0.000000</td>\n",
       "      <td>0.000000</td>\n",
       "      <td>0.000000</td>\n",
       "      <td>0.000000</td>\n",
       "      <td>0.000000</td>\n",
       "      <td>0.000000</td>\n",
       "      <td>0.000000</td>\n",
       "      <td>0.000000</td>\n",
       "      <td>0.000000</td>\n",
       "      <td>0.000000</td>\n",
       "      <td>0.000000</td>\n",
       "      <td>0.000000</td>\n",
       "      <td>0.000000</td>\n",
       "      <td>0.000000</td>\n",
       "      <td>0.000000</td>\n",
       "      <td>0.000000</td>\n",
       "      <td>0.000000</td>\n",
       "      <td>0.000000</td>\n",
       "      <td>0.000000</td>\n",
       "      <td>0.000000</td>\n",
       "      <td>0.000000</td>\n",
       "      <td>0.000000</td>\n",
       "      <td>0.000000</td>\n",
       "      <td>0.000000</td>\n",
       "      <td>0.000000</td>\n",
       "      <td>0.000000</td>\n",
       "      <td>0.000000</td>\n",
       "      <td>0.000000</td>\n",
       "      <td>0.000000</td>\n",
       "      <td>0.000000</td>\n",
       "      <td>0.000000</td>\n",
       "      <td>0.000000</td>\n",
       "      <td>0.000000</td>\n",
       "      <td>0.000000</td>\n",
       "      <td>0.000000</td>\n",
       "      <td>0.000000</td>\n",
       "      <td>0.000000</td>\n",
       "      <td>0.000000</td>\n",
       "      <td>0.000000</td>\n",
       "      <td>0.000000</td>\n",
       "      <td>0.000000</td>\n",
       "      <td>0.000000</td>\n",
       "      <td>0.000000</td>\n",
       "      <td>0.000000</td>\n",
       "      <td>0.000000</td>\n",
       "      <td>0.000000</td>\n",
       "      <td>0.000000</td>\n",
       "      <td>0.000000</td>\n",
       "      <td>0.000000</td>\n",
       "      <td>0.000000</td>\n",
       "      <td>0.000000</td>\n",
       "      <td>0.000000</td>\n",
       "      <td>0.000000</td>\n",
       "      <td>0.000000</td>\n",
       "      <td>0.000000</td>\n",
       "      <td>0.000000</td>\n",
       "      <td>0.000000</td>\n",
       "      <td>0.000000</td>\n",
       "      <td>0.000000</td>\n",
       "      <td>0.000000</td>\n",
       "      <td>0.000000</td>\n",
       "      <td>0.000000</td>\n",
       "      <td>0.000000</td>\n",
       "      <td>0.000000</td>\n",
       "      <td>0.000000</td>\n",
       "      <td>0.000000</td>\n",
       "      <td>0.000000</td>\n",
       "      <td>0.000000</td>\n",
       "      <td>0.000000</td>\n",
       "      <td>0.000000</td>\n",
       "      <td>0.000000</td>\n",
       "      <td>0.000000</td>\n",
       "      <td>0.000000</td>\n",
       "      <td>0.000000</td>\n",
       "      <td>0.000000</td>\n",
       "      <td>0.000000</td>\n",
       "      <td>0.000000</td>\n",
       "      <td>0.000000</td>\n",
       "      <td>0.000000</td>\n",
       "      <td>0.000000</td>\n",
       "      <td>0.000000</td>\n",
       "      <td>0.000000</td>\n",
       "      <td>0.000000</td>\n",
       "      <td>0.000000</td>\n",
       "      <td>0.000000</td>\n",
       "      <td>0.000000</td>\n",
       "      <td>0.000000</td>\n",
       "      <td>0.000000</td>\n",
       "      <td>0.000000</td>\n",
       "      <td>0.000000</td>\n",
       "      <td>0.000000</td>\n",
       "      <td>0.000000</td>\n",
       "      <td>0.000000</td>\n",
       "      <td>0.000000</td>\n",
       "      <td>0.000000</td>\n",
       "      <td>0.000000</td>\n",
       "      <td>0.000000</td>\n",
       "      <td>0.000000</td>\n",
       "      <td>0.000000</td>\n",
       "      <td>0.000000</td>\n",
       "      <td>0.000000</td>\n",
       "      <td>0.000000</td>\n",
       "      <td>0.000000</td>\n",
       "      <td>0.000000</td>\n",
       "      <td>0.000000</td>\n",
       "      <td>0.000000</td>\n",
       "      <td>0.000000</td>\n",
       "      <td>0.000000</td>\n",
       "      <td>0.000000</td>\n",
       "      <td>0.000000</td>\n",
       "      <td>0.000000</td>\n",
       "      <td>0.000000</td>\n",
       "      <td>0.000000</td>\n",
       "      <td>0.000000</td>\n",
       "      <td>0.000000</td>\n",
       "      <td>0.000000</td>\n",
       "      <td>0.000000</td>\n",
       "      <td>0.000000</td>\n",
       "      <td>0.000000</td>\n",
       "      <td>0.000000</td>\n",
       "      <td>0.000000</td>\n",
       "      <td>0.000000</td>\n",
       "      <td>0.000000</td>\n",
       "      <td>0.000000</td>\n",
       "      <td>0.000000</td>\n",
       "      <td>0.000000</td>\n",
       "      <td>0.000000</td>\n",
       "      <td>0.000000</td>\n",
       "      <td>0.000000</td>\n",
       "      <td>0.000000</td>\n",
       "      <td>0.000000</td>\n",
       "      <td>0.000000</td>\n",
       "      <td>0.000000</td>\n",
       "      <td>0.000000</td>\n",
       "      <td>0.000000</td>\n",
       "      <td>0.000000</td>\n",
       "      <td>0.000000</td>\n",
       "      <td>0.000000</td>\n",
       "      <td>0.000000</td>\n",
       "      <td>0.000000</td>\n",
       "      <td>0.000000</td>\n",
       "      <td>0.000000</td>\n",
       "      <td>0.000000</td>\n",
       "      <td>0.000000</td>\n",
       "      <td>0.000000</td>\n",
       "      <td>0.000000</td>\n",
       "      <td>0.000000</td>\n",
       "      <td>0.000000</td>\n",
       "      <td>0.000000</td>\n",
       "      <td>0.000000</td>\n",
       "      <td>0.000000</td>\n",
       "      <td>0.000000</td>\n",
       "      <td>0.000000</td>\n",
       "      <td>0.000000</td>\n",
       "      <td>0.000000</td>\n",
       "      <td>0.000000</td>\n",
       "      <td>0.000000</td>\n",
       "      <td>0.000000</td>\n",
       "      <td>0.000000</td>\n",
       "      <td>0.000000</td>\n",
       "      <td>0.000000</td>\n",
       "      <td>0.000000</td>\n",
       "      <td>0.000000</td>\n",
       "      <td>0.000000</td>\n",
       "      <td>0.000000</td>\n",
       "      <td>0.000000</td>\n",
       "      <td>0.000000</td>\n",
       "      <td>0.000000</td>\n",
       "      <td>0.000000</td>\n",
       "      <td>0.000000</td>\n",
       "      <td>0.000000</td>\n",
       "      <td>0.000000</td>\n",
       "      <td>0.000000</td>\n",
       "      <td>0.000000</td>\n",
       "      <td>0.000000</td>\n",
       "      <td>0.000000</td>\n",
       "      <td>0.000000</td>\n",
       "      <td>0.000000</td>\n",
       "      <td>0.000000</td>\n",
       "      <td>0.000000</td>\n",
       "      <td>0.000000</td>\n",
       "      <td>0.000000</td>\n",
       "      <td>0.000000</td>\n",
       "      <td>0.000000</td>\n",
       "      <td>0.000000</td>\n",
       "      <td>0.000000</td>\n",
       "      <td>0.000000</td>\n",
       "      <td>0.000000</td>\n",
       "      <td>0.000000</td>\n",
       "      <td>0.000000</td>\n",
       "      <td>0.000000</td>\n",
       "      <td>0.000000</td>\n",
       "      <td>0.000000</td>\n",
       "      <td>0.000000</td>\n",
       "      <td>0.000000</td>\n",
       "      <td>0.000000</td>\n",
       "      <td>0.000000</td>\n",
       "      <td>0.000000</td>\n",
       "      <td>0.000000</td>\n",
       "      <td>0.000000</td>\n",
       "      <td>0.000000</td>\n",
       "      <td>0.000000</td>\n",
       "      <td>0.000000</td>\n",
       "      <td>0.000000</td>\n",
       "      <td>0.000000</td>\n",
       "      <td>0.000000</td>\n",
       "      <td>0.000000</td>\n",
       "      <td>0.000000</td>\n",
       "      <td>0.000000</td>\n",
       "      <td>0.000000</td>\n",
       "      <td>0.000000</td>\n",
       "      <td>0.000000</td>\n",
       "      <td>0.000000</td>\n",
       "      <td>0.000000</td>\n",
       "      <td>0.000000</td>\n",
       "      <td>0.000000</td>\n",
       "      <td>0.000000</td>\n",
       "      <td>0.000000</td>\n",
       "      <td>0.000000</td>\n",
       "      <td>0.000000</td>\n",
       "      <td>0.000000</td>\n",
       "      <td>0.000000</td>\n",
       "      <td>0.000000</td>\n",
       "      <td>0.000000</td>\n",
       "      <td>0.000000</td>\n",
       "      <td>0.000000</td>\n",
       "      <td>0.000000</td>\n",
       "      <td>0.000000</td>\n",
       "      <td>0.000000</td>\n",
       "      <td>0.000000</td>\n",
       "      <td>0.000000</td>\n",
       "      <td>0.000000</td>\n",
       "      <td>0.000000</td>\n",
       "      <td>0.000000</td>\n",
       "      <td>0.000000</td>\n",
       "      <td>0.000000</td>\n",
       "      <td>0.000000</td>\n",
       "      <td>0.000000</td>\n",
       "      <td>0.000000</td>\n",
       "      <td>0.000000</td>\n",
       "      <td>0.000000</td>\n",
       "      <td>0.000000</td>\n",
       "      <td>0.000000</td>\n",
       "      <td>0.000000</td>\n",
       "      <td>0.000000</td>\n",
       "      <td>0.000000</td>\n",
       "      <td>0.000000</td>\n",
       "      <td>0.000000</td>\n",
       "      <td>0.000000</td>\n",
       "      <td>0.000000</td>\n",
       "      <td>0.000000</td>\n",
       "      <td>0.000000</td>\n",
       "      <td>0.000000</td>\n",
       "      <td>0.000000</td>\n",
       "      <td>0.000000</td>\n",
       "      <td>0.000000</td>\n",
       "      <td>0.000000</td>\n",
       "      <td>0.000000</td>\n",
       "      <td>0.000000</td>\n",
       "      <td>0.000000</td>\n",
       "      <td>0.000000</td>\n",
       "      <td>0.000000</td>\n",
       "      <td>0.000000</td>\n",
       "      <td>0.000000</td>\n",
       "      <td>0.000000</td>\n",
       "      <td>0.000000</td>\n",
       "      <td>0.000000</td>\n",
       "      <td>0.000000</td>\n",
       "      <td>0.000000</td>\n",
       "      <td>0.000000</td>\n",
       "      <td>0.000000</td>\n",
       "      <td>0.000000</td>\n",
       "      <td>0.000000</td>\n",
       "      <td>0.000000</td>\n",
       "      <td>0.000000</td>\n",
       "      <td>0.000000</td>\n",
       "      <td>0.000000</td>\n",
       "      <td>0.000000</td>\n",
       "      <td>0.000000</td>\n",
       "      <td>0.000000</td>\n",
       "      <td>0.000000</td>\n",
       "      <td>0.000000</td>\n",
       "      <td>0.000000</td>\n",
       "      <td>0.000000</td>\n",
       "      <td>0.000000</td>\n",
       "      <td>0.000000</td>\n",
       "      <td>0.000000</td>\n",
       "      <td>0.000000</td>\n",
       "      <td>0.000000</td>\n",
       "      <td>0.000000</td>\n",
       "      <td>0.000000</td>\n",
       "      <td>0.000000</td>\n",
       "      <td>0.000000</td>\n",
       "      <td>0.000000</td>\n",
       "      <td>0.000000</td>\n",
       "      <td>0.000000</td>\n",
       "      <td>0.000000</td>\n",
       "      <td>0.000000</td>\n",
       "      <td>0.000000</td>\n",
       "      <td>0.000000</td>\n",
       "      <td>0.000000</td>\n",
       "      <td>0.000000</td>\n",
       "      <td>0.000000</td>\n",
       "      <td>0.000000</td>\n",
       "      <td>0.000000</td>\n",
       "      <td>0.000000</td>\n",
       "      <td>0.000000</td>\n",
       "      <td>0.000000</td>\n",
       "      <td>0.000000</td>\n",
       "      <td>0.000000</td>\n",
       "      <td>0.000000</td>\n",
       "      <td>0.000000</td>\n",
       "      <td>0.000000</td>\n",
       "      <td>0.000000</td>\n",
       "      <td>0.000000</td>\n",
       "      <td>0.000000</td>\n",
       "      <td>0.000000</td>\n",
       "      <td>0.000000</td>\n",
       "      <td>0.000000</td>\n",
       "      <td>0.000000</td>\n",
       "      <td>0.000000</td>\n",
       "      <td>0.000000</td>\n",
       "      <td>0.000000</td>\n",
       "      <td>0.000000</td>\n",
       "      <td>0.000000</td>\n",
       "      <td>0.000000</td>\n",
       "      <td>0.000000</td>\n",
       "      <td>0.000000</td>\n",
       "      <td>0.000000</td>\n",
       "      <td>0.000000</td>\n",
       "      <td>0.000000</td>\n",
       "      <td>0.000000</td>\n",
       "      <td>0.000000</td>\n",
       "      <td>0.000000</td>\n",
       "      <td>0.000000</td>\n",
       "      <td>0.000000</td>\n",
       "      <td>0.000000</td>\n",
       "      <td>0.000000</td>\n",
       "      <td>0.000000</td>\n",
       "      <td>0.000000</td>\n",
       "      <td>0.000000</td>\n",
       "      <td>0.000000</td>\n",
       "      <td>0.000000</td>\n",
       "      <td>0.000000</td>\n",
       "      <td>0.000000</td>\n",
       "      <td>0.000000</td>\n",
       "      <td>0.000000</td>\n",
       "      <td>0.000000</td>\n",
       "      <td>0.000000</td>\n",
       "      <td>0.000000</td>\n",
       "      <td>0.000000</td>\n",
       "      <td>0.000000</td>\n",
       "      <td>0.000000</td>\n",
       "      <td>0.000000</td>\n",
       "      <td>0.000000</td>\n",
       "      <td>0.000000</td>\n",
       "      <td>0.000000</td>\n",
       "      <td>0.000000</td>\n",
       "      <td>0.000000</td>\n",
       "      <td>0.000000</td>\n",
       "      <td>0.000000</td>\n",
       "      <td>0.000000</td>\n",
       "      <td>0.000000</td>\n",
       "      <td>0.000000</td>\n",
       "      <td>0.000000</td>\n",
       "      <td>0.000000</td>\n",
       "      <td>0.000000</td>\n",
       "      <td>0.000000</td>\n",
       "      <td>0.000000</td>\n",
       "      <td>0.000000</td>\n",
       "      <td>0.000000</td>\n",
       "      <td>0.000000</td>\n",
       "      <td>0.000000</td>\n",
       "      <td>0.000000</td>\n",
       "      <td>0.000000</td>\n",
       "      <td>0.000000</td>\n",
       "      <td>0.000000</td>\n",
       "      <td>0.000000</td>\n",
       "      <td>0.000000</td>\n",
       "      <td>0.000000</td>\n",
       "      <td>0.000000</td>\n",
       "      <td>0.000000</td>\n",
       "      <td>0.000000</td>\n",
       "      <td>0.000000</td>\n",
       "      <td>0.000000</td>\n",
       "      <td>0.000000</td>\n",
       "      <td>0.000000</td>\n",
       "      <td>0.000000</td>\n",
       "      <td>0.000000</td>\n",
       "      <td>0.000000</td>\n",
       "      <td>0.000000</td>\n",
       "      <td>0.000000</td>\n",
       "    </tr>\n",
       "    <tr>\n",
       "      <td>3</td>\n",
       "      <td>0.013400</td>\n",
       "      <td>0.013448</td>\n",
       "      <td>0.997803</td>\n",
       "      <td>0.000564</td>\n",
       "      <td>0.000000</td>\n",
       "      <td>0.000000</td>\n",
       "      <td>0.000000</td>\n",
       "      <td>0.000000</td>\n",
       "      <td>0.000000</td>\n",
       "      <td>0.000000</td>\n",
       "      <td>0.000000</td>\n",
       "      <td>0.000000</td>\n",
       "      <td>0.000000</td>\n",
       "      <td>0.000000</td>\n",
       "      <td>0.000000</td>\n",
       "      <td>0.000000</td>\n",
       "      <td>0.000000</td>\n",
       "      <td>0.000000</td>\n",
       "      <td>0.000000</td>\n",
       "      <td>0.000000</td>\n",
       "      <td>0.000000</td>\n",
       "      <td>0.000000</td>\n",
       "      <td>0.000000</td>\n",
       "      <td>0.000000</td>\n",
       "      <td>0.000000</td>\n",
       "      <td>0.000000</td>\n",
       "      <td>0.000000</td>\n",
       "      <td>0.000000</td>\n",
       "      <td>0.000000</td>\n",
       "      <td>0.000000</td>\n",
       "      <td>0.000000</td>\n",
       "      <td>0.000000</td>\n",
       "      <td>0.000000</td>\n",
       "      <td>0.000000</td>\n",
       "      <td>0.000000</td>\n",
       "      <td>0.000000</td>\n",
       "      <td>0.000000</td>\n",
       "      <td>0.000000</td>\n",
       "      <td>0.000000</td>\n",
       "      <td>0.000000</td>\n",
       "      <td>0.000000</td>\n",
       "      <td>0.000000</td>\n",
       "      <td>0.000000</td>\n",
       "      <td>0.000000</td>\n",
       "      <td>0.000000</td>\n",
       "      <td>0.000000</td>\n",
       "      <td>0.000000</td>\n",
       "      <td>0.000000</td>\n",
       "      <td>0.000000</td>\n",
       "      <td>0.000000</td>\n",
       "      <td>0.000000</td>\n",
       "      <td>0.000000</td>\n",
       "      <td>0.000000</td>\n",
       "      <td>0.000000</td>\n",
       "      <td>0.000000</td>\n",
       "      <td>0.000000</td>\n",
       "      <td>0.000000</td>\n",
       "      <td>0.000000</td>\n",
       "      <td>0.000000</td>\n",
       "      <td>0.000000</td>\n",
       "      <td>0.000000</td>\n",
       "      <td>0.000000</td>\n",
       "      <td>0.000000</td>\n",
       "      <td>0.000000</td>\n",
       "      <td>0.000000</td>\n",
       "      <td>0.000000</td>\n",
       "      <td>0.000000</td>\n",
       "      <td>0.000000</td>\n",
       "      <td>0.000000</td>\n",
       "      <td>0.000000</td>\n",
       "      <td>0.000000</td>\n",
       "      <td>0.000000</td>\n",
       "      <td>0.000000</td>\n",
       "      <td>0.000000</td>\n",
       "      <td>0.000000</td>\n",
       "      <td>0.000000</td>\n",
       "      <td>0.000000</td>\n",
       "      <td>0.000000</td>\n",
       "      <td>0.000000</td>\n",
       "      <td>0.000000</td>\n",
       "      <td>0.000000</td>\n",
       "      <td>0.000000</td>\n",
       "      <td>0.000000</td>\n",
       "      <td>0.000000</td>\n",
       "      <td>0.000000</td>\n",
       "      <td>0.000000</td>\n",
       "      <td>0.000000</td>\n",
       "      <td>0.000000</td>\n",
       "      <td>0.000000</td>\n",
       "      <td>0.000000</td>\n",
       "      <td>0.000000</td>\n",
       "      <td>0.000000</td>\n",
       "      <td>0.000000</td>\n",
       "      <td>0.000000</td>\n",
       "      <td>0.000000</td>\n",
       "      <td>0.000000</td>\n",
       "      <td>0.000000</td>\n",
       "      <td>0.000000</td>\n",
       "      <td>0.000000</td>\n",
       "      <td>0.000000</td>\n",
       "      <td>0.000000</td>\n",
       "      <td>0.000000</td>\n",
       "      <td>0.000000</td>\n",
       "      <td>0.000000</td>\n",
       "      <td>0.000000</td>\n",
       "      <td>0.000000</td>\n",
       "      <td>0.000000</td>\n",
       "      <td>0.000000</td>\n",
       "      <td>0.000000</td>\n",
       "      <td>0.000000</td>\n",
       "      <td>0.000000</td>\n",
       "      <td>0.000000</td>\n",
       "      <td>0.000000</td>\n",
       "      <td>0.000000</td>\n",
       "      <td>0.000000</td>\n",
       "      <td>0.000000</td>\n",
       "      <td>0.000000</td>\n",
       "      <td>0.000000</td>\n",
       "      <td>0.000000</td>\n",
       "      <td>0.000000</td>\n",
       "      <td>0.000000</td>\n",
       "      <td>0.000000</td>\n",
       "      <td>0.000000</td>\n",
       "      <td>0.000000</td>\n",
       "      <td>0.000000</td>\n",
       "      <td>0.000000</td>\n",
       "      <td>0.000000</td>\n",
       "      <td>0.000000</td>\n",
       "      <td>0.000000</td>\n",
       "      <td>0.000000</td>\n",
       "      <td>0.000000</td>\n",
       "      <td>0.000000</td>\n",
       "      <td>0.000000</td>\n",
       "      <td>0.000000</td>\n",
       "      <td>0.000000</td>\n",
       "      <td>0.000000</td>\n",
       "      <td>0.000000</td>\n",
       "      <td>0.000000</td>\n",
       "      <td>0.000000</td>\n",
       "      <td>0.000000</td>\n",
       "      <td>0.000000</td>\n",
       "      <td>0.000000</td>\n",
       "      <td>0.000000</td>\n",
       "      <td>0.000000</td>\n",
       "      <td>0.000000</td>\n",
       "      <td>0.000000</td>\n",
       "      <td>0.000000</td>\n",
       "      <td>0.000000</td>\n",
       "      <td>0.000000</td>\n",
       "      <td>0.000000</td>\n",
       "      <td>0.000000</td>\n",
       "      <td>0.000000</td>\n",
       "      <td>0.000000</td>\n",
       "      <td>0.000000</td>\n",
       "      <td>0.000000</td>\n",
       "      <td>0.000000</td>\n",
       "      <td>0.000000</td>\n",
       "      <td>0.000000</td>\n",
       "      <td>0.000000</td>\n",
       "      <td>0.000000</td>\n",
       "      <td>0.000000</td>\n",
       "      <td>0.000000</td>\n",
       "      <td>0.000000</td>\n",
       "      <td>0.000000</td>\n",
       "      <td>0.000000</td>\n",
       "      <td>0.000000</td>\n",
       "      <td>0.000000</td>\n",
       "      <td>0.000000</td>\n",
       "      <td>0.000000</td>\n",
       "      <td>0.000000</td>\n",
       "      <td>0.000000</td>\n",
       "      <td>0.000000</td>\n",
       "      <td>0.000000</td>\n",
       "      <td>0.000000</td>\n",
       "      <td>0.000000</td>\n",
       "      <td>0.000000</td>\n",
       "      <td>0.000000</td>\n",
       "      <td>0.000000</td>\n",
       "      <td>0.000000</td>\n",
       "      <td>0.000000</td>\n",
       "      <td>0.000000</td>\n",
       "      <td>0.000000</td>\n",
       "      <td>0.000000</td>\n",
       "      <td>0.000000</td>\n",
       "      <td>0.000000</td>\n",
       "      <td>0.000000</td>\n",
       "      <td>0.000000</td>\n",
       "      <td>0.000000</td>\n",
       "      <td>0.000000</td>\n",
       "      <td>0.000000</td>\n",
       "      <td>0.000000</td>\n",
       "      <td>0.000000</td>\n",
       "      <td>0.000000</td>\n",
       "      <td>0.000000</td>\n",
       "      <td>0.000000</td>\n",
       "      <td>0.000000</td>\n",
       "      <td>0.000000</td>\n",
       "      <td>0.000000</td>\n",
       "      <td>0.000000</td>\n",
       "      <td>0.000000</td>\n",
       "      <td>0.000000</td>\n",
       "      <td>0.000000</td>\n",
       "      <td>0.000000</td>\n",
       "      <td>0.000000</td>\n",
       "      <td>0.000000</td>\n",
       "      <td>0.000000</td>\n",
       "      <td>0.000000</td>\n",
       "      <td>0.000000</td>\n",
       "      <td>0.000000</td>\n",
       "      <td>0.000000</td>\n",
       "      <td>0.000000</td>\n",
       "      <td>0.000000</td>\n",
       "      <td>0.000000</td>\n",
       "      <td>0.000000</td>\n",
       "      <td>0.000000</td>\n",
       "      <td>0.000000</td>\n",
       "      <td>0.000000</td>\n",
       "      <td>0.000000</td>\n",
       "      <td>0.000000</td>\n",
       "      <td>0.000000</td>\n",
       "      <td>0.000000</td>\n",
       "      <td>0.000000</td>\n",
       "      <td>0.000000</td>\n",
       "      <td>0.000000</td>\n",
       "      <td>0.000000</td>\n",
       "      <td>0.000000</td>\n",
       "      <td>0.000000</td>\n",
       "      <td>0.000000</td>\n",
       "      <td>0.000000</td>\n",
       "      <td>0.000000</td>\n",
       "      <td>0.000000</td>\n",
       "      <td>0.000000</td>\n",
       "      <td>0.000000</td>\n",
       "      <td>0.000000</td>\n",
       "      <td>0.000000</td>\n",
       "      <td>0.000000</td>\n",
       "      <td>0.000000</td>\n",
       "      <td>0.000000</td>\n",
       "      <td>0.000000</td>\n",
       "      <td>0.000000</td>\n",
       "      <td>0.000000</td>\n",
       "      <td>0.000000</td>\n",
       "      <td>0.000000</td>\n",
       "      <td>0.000000</td>\n",
       "      <td>0.000000</td>\n",
       "      <td>0.000000</td>\n",
       "      <td>0.000000</td>\n",
       "      <td>0.000000</td>\n",
       "      <td>0.000000</td>\n",
       "      <td>0.000000</td>\n",
       "      <td>0.000000</td>\n",
       "      <td>0.000000</td>\n",
       "      <td>0.000000</td>\n",
       "      <td>0.000000</td>\n",
       "      <td>0.000000</td>\n",
       "      <td>0.000000</td>\n",
       "      <td>0.000000</td>\n",
       "      <td>0.000000</td>\n",
       "      <td>0.000000</td>\n",
       "      <td>0.000000</td>\n",
       "      <td>0.000000</td>\n",
       "      <td>0.000000</td>\n",
       "      <td>0.000000</td>\n",
       "      <td>0.000000</td>\n",
       "      <td>0.000000</td>\n",
       "      <td>0.000000</td>\n",
       "      <td>0.000000</td>\n",
       "      <td>0.000000</td>\n",
       "      <td>0.000000</td>\n",
       "      <td>0.000000</td>\n",
       "      <td>0.000000</td>\n",
       "      <td>0.000000</td>\n",
       "      <td>0.000000</td>\n",
       "      <td>0.000000</td>\n",
       "      <td>0.000000</td>\n",
       "      <td>0.000000</td>\n",
       "      <td>0.000000</td>\n",
       "      <td>0.000000</td>\n",
       "      <td>0.000000</td>\n",
       "      <td>0.000000</td>\n",
       "      <td>0.000000</td>\n",
       "      <td>0.000000</td>\n",
       "      <td>0.000000</td>\n",
       "      <td>0.000000</td>\n",
       "      <td>0.000000</td>\n",
       "      <td>0.000000</td>\n",
       "      <td>0.000000</td>\n",
       "      <td>0.000000</td>\n",
       "      <td>0.000000</td>\n",
       "      <td>0.000000</td>\n",
       "      <td>0.000000</td>\n",
       "      <td>0.000000</td>\n",
       "      <td>0.000000</td>\n",
       "      <td>0.000000</td>\n",
       "      <td>0.000000</td>\n",
       "      <td>0.000000</td>\n",
       "      <td>0.000000</td>\n",
       "      <td>0.000000</td>\n",
       "      <td>0.000000</td>\n",
       "      <td>0.000000</td>\n",
       "      <td>0.000000</td>\n",
       "      <td>0.000000</td>\n",
       "      <td>0.000000</td>\n",
       "      <td>0.000000</td>\n",
       "      <td>0.000000</td>\n",
       "      <td>0.000000</td>\n",
       "      <td>0.000000</td>\n",
       "      <td>0.000000</td>\n",
       "      <td>0.000000</td>\n",
       "      <td>0.000000</td>\n",
       "      <td>0.000000</td>\n",
       "      <td>0.000000</td>\n",
       "      <td>0.000000</td>\n",
       "      <td>0.000000</td>\n",
       "      <td>0.000000</td>\n",
       "      <td>0.000000</td>\n",
       "      <td>0.000000</td>\n",
       "      <td>0.000000</td>\n",
       "      <td>0.000000</td>\n",
       "      <td>0.000000</td>\n",
       "      <td>0.000000</td>\n",
       "      <td>0.000000</td>\n",
       "      <td>0.000000</td>\n",
       "      <td>0.000000</td>\n",
       "      <td>0.000000</td>\n",
       "      <td>0.000000</td>\n",
       "      <td>0.000000</td>\n",
       "      <td>0.000000</td>\n",
       "      <td>0.000000</td>\n",
       "      <td>0.000000</td>\n",
       "      <td>0.000000</td>\n",
       "      <td>0.000000</td>\n",
       "      <td>0.000000</td>\n",
       "      <td>0.000000</td>\n",
       "      <td>0.000000</td>\n",
       "      <td>0.000000</td>\n",
       "      <td>0.000000</td>\n",
       "      <td>0.000000</td>\n",
       "      <td>0.000000</td>\n",
       "      <td>0.000000</td>\n",
       "      <td>0.000000</td>\n",
       "      <td>0.000000</td>\n",
       "      <td>0.000000</td>\n",
       "      <td>0.000000</td>\n",
       "      <td>0.000000</td>\n",
       "      <td>0.000000</td>\n",
       "      <td>0.000000</td>\n",
       "      <td>0.000000</td>\n",
       "      <td>0.000000</td>\n",
       "      <td>0.000000</td>\n",
       "      <td>0.000000</td>\n",
       "      <td>0.000000</td>\n",
       "      <td>0.000000</td>\n",
       "      <td>0.000000</td>\n",
       "      <td>0.000000</td>\n",
       "      <td>0.000000</td>\n",
       "      <td>0.000000</td>\n",
       "      <td>0.000000</td>\n",
       "      <td>0.000000</td>\n",
       "      <td>0.000000</td>\n",
       "      <td>0.000000</td>\n",
       "      <td>0.000000</td>\n",
       "      <td>0.000000</td>\n",
       "      <td>0.000000</td>\n",
       "      <td>0.000000</td>\n",
       "      <td>0.000000</td>\n",
       "      <td>0.000000</td>\n",
       "      <td>0.000000</td>\n",
       "      <td>0.000000</td>\n",
       "      <td>0.000000</td>\n",
       "      <td>0.000000</td>\n",
       "      <td>0.000000</td>\n",
       "      <td>0.000000</td>\n",
       "      <td>0.000000</td>\n",
       "      <td>0.000000</td>\n",
       "      <td>0.000000</td>\n",
       "      <td>0.000000</td>\n",
       "      <td>0.000000</td>\n",
       "      <td>0.000000</td>\n",
       "      <td>0.000000</td>\n",
       "      <td>0.000000</td>\n",
       "      <td>0.000000</td>\n",
       "      <td>0.000000</td>\n",
       "      <td>0.000000</td>\n",
       "      <td>0.000000</td>\n",
       "      <td>0.000000</td>\n",
       "      <td>0.000000</td>\n",
       "      <td>0.000000</td>\n",
       "      <td>0.000000</td>\n",
       "      <td>0.000000</td>\n",
       "      <td>0.000000</td>\n",
       "      <td>0.000000</td>\n",
       "      <td>0.000000</td>\n",
       "      <td>0.000000</td>\n",
       "      <td>0.000000</td>\n",
       "      <td>0.000000</td>\n",
       "      <td>0.000000</td>\n",
       "      <td>0.000000</td>\n",
       "      <td>0.000000</td>\n",
       "      <td>0.000000</td>\n",
       "      <td>0.000000</td>\n",
       "      <td>0.000000</td>\n",
       "      <td>0.000000</td>\n",
       "      <td>0.000000</td>\n",
       "      <td>0.000000</td>\n",
       "      <td>0.000000</td>\n",
       "      <td>0.000000</td>\n",
       "      <td>0.000000</td>\n",
       "      <td>0.000000</td>\n",
       "      <td>0.000000</td>\n",
       "      <td>0.000000</td>\n",
       "      <td>0.000000</td>\n",
       "      <td>0.000000</td>\n",
       "      <td>0.000000</td>\n",
       "      <td>0.000000</td>\n",
       "      <td>0.000000</td>\n",
       "      <td>0.000000</td>\n",
       "      <td>0.000000</td>\n",
       "      <td>0.000000</td>\n",
       "      <td>0.000000</td>\n",
       "      <td>0.000000</td>\n",
       "      <td>0.000000</td>\n",
       "      <td>0.000000</td>\n",
       "      <td>0.000000</td>\n",
       "      <td>0.000000</td>\n",
       "      <td>0.000000</td>\n",
       "      <td>0.000000</td>\n",
       "      <td>0.000000</td>\n",
       "      <td>0.000000</td>\n",
       "      <td>0.000000</td>\n",
       "      <td>0.000000</td>\n",
       "      <td>0.000000</td>\n",
       "      <td>0.000000</td>\n",
       "      <td>0.000000</td>\n",
       "      <td>0.000000</td>\n",
       "      <td>0.000000</td>\n",
       "      <td>0.000000</td>\n",
       "      <td>0.000000</td>\n",
       "      <td>0.000000</td>\n",
       "      <td>0.000000</td>\n",
       "      <td>0.000000</td>\n",
       "      <td>0.000000</td>\n",
       "      <td>0.000000</td>\n",
       "      <td>0.000000</td>\n",
       "      <td>0.000000</td>\n",
       "      <td>0.000000</td>\n",
       "      <td>0.000000</td>\n",
       "      <td>0.000000</td>\n",
       "      <td>0.000000</td>\n",
       "      <td>0.000000</td>\n",
       "      <td>0.000000</td>\n",
       "      <td>0.000000</td>\n",
       "      <td>0.000000</td>\n",
       "      <td>0.000000</td>\n",
       "      <td>0.000000</td>\n",
       "      <td>0.000000</td>\n",
       "      <td>0.000000</td>\n",
       "      <td>0.000000</td>\n",
       "      <td>0.000000</td>\n",
       "      <td>0.000000</td>\n",
       "      <td>0.000000</td>\n",
       "      <td>0.000000</td>\n",
       "      <td>0.000000</td>\n",
       "      <td>0.000000</td>\n",
       "      <td>0.000000</td>\n",
       "      <td>0.000000</td>\n",
       "      <td>0.000000</td>\n",
       "      <td>0.000000</td>\n",
       "      <td>0.000000</td>\n",
       "      <td>0.000000</td>\n",
       "      <td>0.000000</td>\n",
       "      <td>0.000000</td>\n",
       "      <td>0.000000</td>\n",
       "      <td>0.000000</td>\n",
       "      <td>0.000000</td>\n",
       "      <td>0.000000</td>\n",
       "      <td>0.000000</td>\n",
       "      <td>0.000000</td>\n",
       "      <td>0.000000</td>\n",
       "      <td>0.000000</td>\n",
       "      <td>0.000000</td>\n",
       "      <td>0.000000</td>\n",
       "      <td>0.000000</td>\n",
       "      <td>0.000000</td>\n",
       "      <td>0.000000</td>\n",
       "      <td>0.000000</td>\n",
       "      <td>0.000000</td>\n",
       "      <td>0.000000</td>\n",
       "      <td>0.000000</td>\n",
       "      <td>0.000000</td>\n",
       "      <td>0.000000</td>\n",
       "      <td>0.000000</td>\n",
       "      <td>0.000000</td>\n",
       "      <td>0.000000</td>\n",
       "      <td>0.000000</td>\n",
       "      <td>0.000000</td>\n",
       "      <td>0.000000</td>\n",
       "      <td>0.000000</td>\n",
       "      <td>0.000000</td>\n",
       "      <td>0.000000</td>\n",
       "      <td>0.000000</td>\n",
       "      <td>0.000000</td>\n",
       "      <td>0.000000</td>\n",
       "      <td>0.000000</td>\n",
       "      <td>0.000000</td>\n",
       "      <td>0.000000</td>\n",
       "      <td>0.000000</td>\n",
       "      <td>0.000000</td>\n",
       "      <td>0.000000</td>\n",
       "      <td>0.000000</td>\n",
       "      <td>0.000000</td>\n",
       "      <td>0.000000</td>\n",
       "      <td>0.000000</td>\n",
       "      <td>0.000000</td>\n",
       "      <td>0.000000</td>\n",
       "      <td>0.000000</td>\n",
       "      <td>0.000000</td>\n",
       "      <td>0.000000</td>\n",
       "      <td>0.000000</td>\n",
       "      <td>0.000000</td>\n",
       "      <td>0.000000</td>\n",
       "      <td>0.000000</td>\n",
       "      <td>0.000000</td>\n",
       "      <td>0.000000</td>\n",
       "      <td>0.000000</td>\n",
       "      <td>0.000000</td>\n",
       "      <td>0.000000</td>\n",
       "      <td>0.000000</td>\n",
       "      <td>0.000000</td>\n",
       "      <td>0.000000</td>\n",
       "      <td>0.000000</td>\n",
       "      <td>0.000000</td>\n",
       "      <td>0.000000</td>\n",
       "      <td>0.000000</td>\n",
       "      <td>0.000000</td>\n",
       "      <td>0.000000</td>\n",
       "      <td>0.000000</td>\n",
       "      <td>0.000000</td>\n",
       "      <td>0.000000</td>\n",
       "      <td>0.000000</td>\n",
       "      <td>0.000000</td>\n",
       "      <td>0.000000</td>\n",
       "      <td>0.000000</td>\n",
       "      <td>0.000000</td>\n",
       "      <td>0.000000</td>\n",
       "      <td>0.000000</td>\n",
       "      <td>0.000000</td>\n",
       "      <td>0.000000</td>\n",
       "      <td>0.000000</td>\n",
       "      <td>0.000000</td>\n",
       "      <td>0.000000</td>\n",
       "      <td>0.000000</td>\n",
       "      <td>0.000000</td>\n",
       "      <td>0.000000</td>\n",
       "      <td>0.000000</td>\n",
       "      <td>0.000000</td>\n",
       "      <td>0.000000</td>\n",
       "      <td>0.000000</td>\n",
       "      <td>0.000000</td>\n",
       "      <td>0.000000</td>\n",
       "      <td>0.000000</td>\n",
       "      <td>0.000000</td>\n",
       "      <td>0.000000</td>\n",
       "      <td>0.000000</td>\n",
       "      <td>0.000000</td>\n",
       "      <td>0.000000</td>\n",
       "      <td>0.000000</td>\n",
       "      <td>0.000000</td>\n",
       "      <td>0.000000</td>\n",
       "      <td>0.000000</td>\n",
       "      <td>0.000000</td>\n",
       "      <td>0.000000</td>\n",
       "      <td>0.000000</td>\n",
       "      <td>0.000000</td>\n",
       "      <td>0.000000</td>\n",
       "      <td>0.000000</td>\n",
       "      <td>0.000000</td>\n",
       "      <td>0.000000</td>\n",
       "      <td>0.000000</td>\n",
       "      <td>0.000000</td>\n",
       "      <td>0.000000</td>\n",
       "      <td>0.000000</td>\n",
       "      <td>0.000000</td>\n",
       "      <td>0.000000</td>\n",
       "      <td>0.000000</td>\n",
       "      <td>0.000000</td>\n",
       "      <td>0.000000</td>\n",
       "      <td>0.000000</td>\n",
       "      <td>0.000000</td>\n",
       "      <td>0.000000</td>\n",
       "      <td>0.000000</td>\n",
       "      <td>0.000000</td>\n",
       "      <td>0.000000</td>\n",
       "      <td>0.000000</td>\n",
       "      <td>0.000000</td>\n",
       "      <td>0.000000</td>\n",
       "      <td>0.000000</td>\n",
       "      <td>0.000000</td>\n",
       "      <td>0.000000</td>\n",
       "      <td>0.000000</td>\n",
       "      <td>0.000000</td>\n",
       "      <td>0.000000</td>\n",
       "      <td>0.000000</td>\n",
       "      <td>0.000000</td>\n",
       "      <td>0.000000</td>\n",
       "      <td>0.000000</td>\n",
       "      <td>0.000000</td>\n",
       "      <td>0.000000</td>\n",
       "      <td>0.000000</td>\n",
       "      <td>0.000000</td>\n",
       "      <td>0.000000</td>\n",
       "      <td>0.000000</td>\n",
       "      <td>0.000000</td>\n",
       "      <td>0.000000</td>\n",
       "      <td>0.000000</td>\n",
       "      <td>0.000000</td>\n",
       "      <td>0.000000</td>\n",
       "      <td>0.000000</td>\n",
       "      <td>0.000000</td>\n",
       "      <td>0.000000</td>\n",
       "      <td>0.000000</td>\n",
       "      <td>0.000000</td>\n",
       "      <td>0.000000</td>\n",
       "      <td>0.000000</td>\n",
       "      <td>0.000000</td>\n",
       "      <td>0.000000</td>\n",
       "      <td>0.000000</td>\n",
       "      <td>0.000000</td>\n",
       "      <td>0.000000</td>\n",
       "      <td>0.000000</td>\n",
       "      <td>0.000000</td>\n",
       "      <td>0.000000</td>\n",
       "      <td>0.000000</td>\n",
       "      <td>0.000000</td>\n",
       "      <td>0.000000</td>\n",
       "      <td>0.000000</td>\n",
       "      <td>0.000000</td>\n",
       "      <td>0.000000</td>\n",
       "      <td>0.000000</td>\n",
       "      <td>0.000000</td>\n",
       "      <td>0.000000</td>\n",
       "      <td>0.000000</td>\n",
       "      <td>0.000000</td>\n",
       "      <td>0.000000</td>\n",
       "      <td>0.000000</td>\n",
       "      <td>0.000000</td>\n",
       "      <td>0.000000</td>\n",
       "      <td>0.000000</td>\n",
       "      <td>0.000000</td>\n",
       "      <td>0.000000</td>\n",
       "      <td>0.000000</td>\n",
       "      <td>0.000000</td>\n",
       "      <td>0.000000</td>\n",
       "      <td>0.000000</td>\n",
       "      <td>0.000000</td>\n",
       "      <td>0.000000</td>\n",
       "      <td>0.000000</td>\n",
       "      <td>0.000000</td>\n",
       "      <td>0.000000</td>\n",
       "      <td>0.000000</td>\n",
       "      <td>0.000000</td>\n",
       "      <td>0.000000</td>\n",
       "      <td>0.000000</td>\n",
       "      <td>0.000000</td>\n",
       "      <td>0.000000</td>\n",
       "      <td>0.000000</td>\n",
       "      <td>0.000000</td>\n",
       "      <td>0.000000</td>\n",
       "      <td>0.000000</td>\n",
       "      <td>0.000000</td>\n",
       "      <td>0.000000</td>\n",
       "      <td>0.000000</td>\n",
       "      <td>0.000000</td>\n",
       "      <td>0.000000</td>\n",
       "      <td>0.000000</td>\n",
       "      <td>0.000000</td>\n",
       "      <td>0.000000</td>\n",
       "      <td>0.000000</td>\n",
       "      <td>0.000000</td>\n",
       "      <td>0.000000</td>\n",
       "      <td>0.000000</td>\n",
       "      <td>0.000000</td>\n",
       "      <td>0.000000</td>\n",
       "      <td>0.000000</td>\n",
       "      <td>0.000000</td>\n",
       "      <td>0.000000</td>\n",
       "      <td>0.000000</td>\n",
       "      <td>0.000000</td>\n",
       "      <td>0.000000</td>\n",
       "      <td>0.000000</td>\n",
       "      <td>0.000000</td>\n",
       "      <td>0.000000</td>\n",
       "      <td>0.000000</td>\n",
       "      <td>0.000000</td>\n",
       "      <td>0.000000</td>\n",
       "      <td>0.000000</td>\n",
       "      <td>0.000000</td>\n",
       "      <td>0.000000</td>\n",
       "      <td>0.000000</td>\n",
       "      <td>0.000000</td>\n",
       "      <td>0.000000</td>\n",
       "      <td>0.000000</td>\n",
       "      <td>0.000000</td>\n",
       "      <td>0.000000</td>\n",
       "      <td>0.000000</td>\n",
       "      <td>0.000000</td>\n",
       "      <td>0.000000</td>\n",
       "      <td>0.000000</td>\n",
       "      <td>0.000000</td>\n",
       "      <td>0.000000</td>\n",
       "      <td>0.000000</td>\n",
       "      <td>0.000000</td>\n",
       "      <td>0.000000</td>\n",
       "      <td>0.000000</td>\n",
       "      <td>0.000000</td>\n",
       "      <td>0.000000</td>\n",
       "      <td>0.000000</td>\n",
       "      <td>0.000000</td>\n",
       "      <td>0.000000</td>\n",
       "      <td>0.000000</td>\n",
       "      <td>0.000000</td>\n",
       "      <td>0.000000</td>\n",
       "      <td>0.000000</td>\n",
       "      <td>0.000000</td>\n",
       "      <td>0.000000</td>\n",
       "      <td>0.000000</td>\n",
       "      <td>0.000000</td>\n",
       "      <td>0.000000</td>\n",
       "      <td>0.000000</td>\n",
       "      <td>0.000000</td>\n",
       "      <td>0.000000</td>\n",
       "      <td>0.000000</td>\n",
       "      <td>0.000000</td>\n",
       "      <td>0.000000</td>\n",
       "      <td>0.000000</td>\n",
       "      <td>0.000000</td>\n",
       "      <td>0.000000</td>\n",
       "      <td>0.000000</td>\n",
       "      <td>0.000000</td>\n",
       "      <td>0.000000</td>\n",
       "      <td>0.000000</td>\n",
       "      <td>0.000000</td>\n",
       "      <td>0.000000</td>\n",
       "      <td>0.000000</td>\n",
       "      <td>0.000000</td>\n",
       "      <td>0.000000</td>\n",
       "      <td>0.000000</td>\n",
       "      <td>0.000000</td>\n",
       "      <td>0.000000</td>\n",
       "      <td>0.000000</td>\n",
       "      <td>0.000000</td>\n",
       "      <td>0.000000</td>\n",
       "      <td>0.000000</td>\n",
       "      <td>0.000000</td>\n",
       "      <td>0.000000</td>\n",
       "      <td>0.000000</td>\n",
       "      <td>0.000000</td>\n",
       "      <td>0.000000</td>\n",
       "      <td>0.000000</td>\n",
       "      <td>0.000000</td>\n",
       "      <td>0.000000</td>\n",
       "      <td>0.000000</td>\n",
       "      <td>0.000000</td>\n",
       "      <td>0.000000</td>\n",
       "      <td>0.000000</td>\n",
       "      <td>0.000000</td>\n",
       "      <td>0.000000</td>\n",
       "      <td>0.000000</td>\n",
       "      <td>0.000000</td>\n",
       "      <td>0.000000</td>\n",
       "      <td>0.000000</td>\n",
       "      <td>0.000000</td>\n",
       "      <td>0.000000</td>\n",
       "      <td>0.000000</td>\n",
       "      <td>0.000000</td>\n",
       "      <td>0.000000</td>\n",
       "      <td>0.000000</td>\n",
       "      <td>0.000000</td>\n",
       "      <td>0.000000</td>\n",
       "      <td>0.000000</td>\n",
       "      <td>0.000000</td>\n",
       "      <td>0.000000</td>\n",
       "      <td>0.000000</td>\n",
       "      <td>0.000000</td>\n",
       "      <td>0.000000</td>\n",
       "      <td>0.000000</td>\n",
       "      <td>0.000000</td>\n",
       "      <td>0.000000</td>\n",
       "      <td>0.000000</td>\n",
       "      <td>0.000000</td>\n",
       "      <td>0.000000</td>\n",
       "      <td>0.000000</td>\n",
       "      <td>0.000000</td>\n",
       "      <td>0.000000</td>\n",
       "      <td>0.000000</td>\n",
       "      <td>0.000000</td>\n",
       "      <td>0.000000</td>\n",
       "      <td>0.000000</td>\n",
       "      <td>0.000000</td>\n",
       "      <td>0.000000</td>\n",
       "      <td>0.000000</td>\n",
       "      <td>0.000000</td>\n",
       "      <td>0.000000</td>\n",
       "      <td>0.000000</td>\n",
       "      <td>0.000000</td>\n",
       "      <td>0.000000</td>\n",
       "      <td>0.000000</td>\n",
       "      <td>0.000000</td>\n",
       "      <td>0.000000</td>\n",
       "      <td>0.000000</td>\n",
       "      <td>0.000000</td>\n",
       "      <td>0.000000</td>\n",
       "      <td>0.000000</td>\n",
       "      <td>0.000000</td>\n",
       "      <td>0.000000</td>\n",
       "      <td>0.000000</td>\n",
       "      <td>0.000000</td>\n",
       "      <td>0.000000</td>\n",
       "      <td>0.000000</td>\n",
       "      <td>0.000000</td>\n",
       "      <td>0.000000</td>\n",
       "      <td>0.000000</td>\n",
       "      <td>0.000000</td>\n",
       "      <td>0.000000</td>\n",
       "      <td>0.000000</td>\n",
       "      <td>0.000000</td>\n",
       "      <td>0.000000</td>\n",
       "      <td>0.000000</td>\n",
       "      <td>0.000000</td>\n",
       "      <td>0.000000</td>\n",
       "      <td>0.000000</td>\n",
       "      <td>0.000000</td>\n",
       "      <td>0.000000</td>\n",
       "      <td>0.000000</td>\n",
       "      <td>0.000000</td>\n",
       "      <td>0.000000</td>\n",
       "    </tr>\n",
       "  </tbody>\n",
       "</table><p>"
      ],
      "text/plain": [
       "<IPython.core.display.HTML object>"
      ]
     },
     "metadata": {},
     "output_type": "display_data"
    },
    {
     "name": "stderr",
     "output_type": "stream",
     "text": [
      "The following columns in the evaluation set don't have a corresponding argument in `BertForSequenceClassification.forward` and have been ignored: __index_level_0__, Общее наименование продукции. If __index_level_0__, Общее наименование продукции are not expected by `BertForSequenceClassification.forward`,  you can safely ignore this message.\n",
      "***** Running Evaluation *****\n",
      "  Num examples = 3545\n",
      "  Batch size = 64\n",
      "C:\\Users\\Admin\\anaconda3\\lib\\site-packages\\sklearn\\metrics\\_classification.py:1580: UndefinedMetricWarning: F-score is ill-defined and being set to 0.0 in labels with no true nor predicted samples. Use `zero_division` parameter to control this behavior.\n",
      "  _warn_prf(average, \"true nor predicted\", \"F-score is\", len(true_sum))\n",
      "C:\\Users\\Admin\\anaconda3\\lib\\site-packages\\sklearn\\metrics\\_classification.py:1580: UndefinedMetricWarning: F-score is ill-defined and being set to 0.0 in labels with no true nor predicted samples. Use `zero_division` parameter to control this behavior.\n",
      "  _warn_prf(average, \"true nor predicted\", \"F-score is\", len(true_sum))\n",
      "Saving model checkpoint to multiclass_model\\checkpoint-444\n",
      "Configuration saved in multiclass_model\\checkpoint-444\\config.json\n",
      "Model weights saved in multiclass_model\\checkpoint-444\\pytorch_model.bin\n",
      "tokenizer config file saved in multiclass_model\\checkpoint-444\\tokenizer_config.json\n",
      "Special tokens file saved in multiclass_model\\checkpoint-444\\special_tokens_map.json\n",
      "Deleting older checkpoint [multiclass_model\\checkpoint-340] due to args.save_total_limit\n",
      "The following columns in the evaluation set don't have a corresponding argument in `BertForSequenceClassification.forward` and have been ignored: __index_level_0__, Общее наименование продукции. If __index_level_0__, Общее наименование продукции are not expected by `BertForSequenceClassification.forward`,  you can safely ignore this message.\n",
      "***** Running Evaluation *****\n",
      "  Num examples = 3545\n",
      "  Batch size = 64\n",
      "C:\\Users\\Admin\\anaconda3\\lib\\site-packages\\sklearn\\metrics\\_classification.py:1580: UndefinedMetricWarning: F-score is ill-defined and being set to 0.0 in labels with no true nor predicted samples. Use `zero_division` parameter to control this behavior.\n",
      "  _warn_prf(average, \"true nor predicted\", \"F-score is\", len(true_sum))\n",
      "C:\\Users\\Admin\\anaconda3\\lib\\site-packages\\sklearn\\metrics\\_classification.py:1580: UndefinedMetricWarning: F-score is ill-defined and being set to 0.0 in labels with no true nor predicted samples. Use `zero_division` parameter to control this behavior.\n",
      "  _warn_prf(average, \"true nor predicted\", \"F-score is\", len(true_sum))\n",
      "Saving model checkpoint to multiclass_model\\checkpoint-888\n",
      "Configuration saved in multiclass_model\\checkpoint-888\\config.json\n",
      "Model weights saved in multiclass_model\\checkpoint-888\\pytorch_model.bin\n",
      "tokenizer config file saved in multiclass_model\\checkpoint-888\\tokenizer_config.json\n",
      "Special tokens file saved in multiclass_model\\checkpoint-888\\special_tokens_map.json\n",
      "Deleting older checkpoint [multiclass_model\\checkpoint-2720] due to args.save_total_limit\n",
      "The following columns in the evaluation set don't have a corresponding argument in `BertForSequenceClassification.forward` and have been ignored: __index_level_0__, Общее наименование продукции. If __index_level_0__, Общее наименование продукции are not expected by `BertForSequenceClassification.forward`,  you can safely ignore this message.\n",
      "***** Running Evaluation *****\n",
      "  Num examples = 3545\n",
      "  Batch size = 64\n",
      "C:\\Users\\Admin\\anaconda3\\lib\\site-packages\\sklearn\\metrics\\_classification.py:1580: UndefinedMetricWarning: F-score is ill-defined and being set to 0.0 in labels with no true nor predicted samples. Use `zero_division` parameter to control this behavior.\n",
      "  _warn_prf(average, \"true nor predicted\", \"F-score is\", len(true_sum))\n",
      "C:\\Users\\Admin\\anaconda3\\lib\\site-packages\\sklearn\\metrics\\_classification.py:1580: UndefinedMetricWarning: F-score is ill-defined and being set to 0.0 in labels with no true nor predicted samples. Use `zero_division` parameter to control this behavior.\n",
      "  _warn_prf(average, \"true nor predicted\", \"F-score is\", len(true_sum))\n",
      "Saving model checkpoint to multiclass_model\\checkpoint-1332\n",
      "Configuration saved in multiclass_model\\checkpoint-1332\\config.json\n",
      "Model weights saved in multiclass_model\\checkpoint-1332\\pytorch_model.bin\n",
      "tokenizer config file saved in multiclass_model\\checkpoint-1332\\tokenizer_config.json\n",
      "Special tokens file saved in multiclass_model\\checkpoint-1332\\special_tokens_map.json\n",
      "Deleting older checkpoint [multiclass_model\\checkpoint-3060] due to args.save_total_limit\n"
     ]
    }
   ],
   "source": [
    "from datasets import Dataset\n",
    "from transformers import (AutoTokenizer, AutoModelForSequenceClassification, \n",
    "                          TrainingArguments, Trainer)\n",
    "from transformers import EarlyStoppingCallback\n",
    "import torch\n",
    "\n",
    "models = dict()\n",
    "\n",
    "def accuracy_thresh(y_pred, y_true, thresh=0.5, sigmoid=True): \n",
    "    y_pred = torch.from_numpy(y_pred)\n",
    "    y_true = torch.from_numpy(y_true)\n",
    "    if sigmoid: \n",
    "      y_pred = y_pred.sigmoid()\n",
    "    return ((y_pred>thresh)==y_true.bool()).float().mean().item()\n",
    "\n",
    "def compute_metrics(eval_pred):\n",
    "    predictions, labels = eval_pred\n",
    "    accuracy = accuracy_score(\n",
    "        labels,\n",
    "        (predictions > 0.5).astype(int),\n",
    "    )\n",
    "    f1_results = f1_score(labels,\n",
    "                          (predictions > 0.5).astype(int),\n",
    "                          average=None)\n",
    "    f1_micro = f1_score(labels,\n",
    "                        (predictions > 0.5).astype(int),\n",
    "                        average=\"micro\")\n",
    "    f1_macro = f1_score(labels,\n",
    "                        (predictions > 0.5).astype(int),\n",
    "                        average=\"macro\")\n",
    "    \n",
    "    output = {'accuracy_thresh': accuracy_thresh(predictions, labels),\n",
    "              'accuracy': accuracy,\n",
    "              'f1_micro': f1_micro,\n",
    "              'f1_macro': f1_macro,\n",
    "              }\n",
    "    for i, f1 in enumerate(f1_results):\n",
    "        output[f\"f1_{i}\"] = f1_results[i]\n",
    "    return output\n",
    "\n",
    "def tokenize_function(examples):\n",
    "    return tokenizer(\n",
    "        examples[\"Общее наименование продукции\"],\n",
    "        max_length=128,\n",
    "        padding='max_length',\n",
    "        truncation=True)\n",
    "\n",
    "for TARGET_COL in [\n",
    "                   \"Технические регламенты\",\n",
    "                   \"Группа продукции\",\n",
    "                   \"Коды ТН ВЭД ЕАЭС_2\",\n",
    "                   \"Коды ТН ВЭД ЕАЭС_5\",\n",
    "                   \"Коды ТН ВЭД ЕАЭС\"\n",
    "                   ][2:]:\n",
    "    tnved_slice = None\n",
    "    if \"Коды ТН ВЭД ЕАЭС\" in TARGET_COL and TARGET_COL != \"Коды ТН ВЭД ЕАЭС\":\n",
    "        tnved_slice = int(TARGET_COL[-1])\n",
    "        TARGET_COL = \"Коды ТН ВЭД ЕАЭС\"\n",
    "    tech_regulations_df = df[[\"Общее наименование продукции\", TARGET_COL]]\n",
    "    tech_regulations_df = tech_regulations_df.dropna()\n",
    "    print(tech_regulations_df.shape)\n",
    "    tech_regulations_df = tech_regulations_df.drop_duplicates()\n",
    "    tech_regulations_df[TARGET_COL] = tech_regulations_df[TARGET_COL].apply(\n",
    "        lambda x: str(x).split(\"; \"))\n",
    "    tech_regulations_df[TARGET_COL] = tech_regulations_df[TARGET_COL].apply(\n",
    "        lambda x: [tnved.strip() for tnved in x]\n",
    "    )\n",
    "    if tnved_slice:\n",
    "        tech_regulations_df[TARGET_COL] = tech_regulations_df[TARGET_COL].apply(\n",
    "            lambda x: [tnved[:tnved_slice] for tnved in x]\n",
    "        )\n",
    "\n",
    "    counter = Counter()\n",
    "    for i, row in tech_regulations_df.iterrows():\n",
    "        tnveds = row[TARGET_COL]\n",
    "        for t in tnveds:\n",
    "            counter[t] += 1\n",
    "    good_cols = {k for k, v in counter.items() if v >= 5}\n",
    "    tech_regulations_df = tech_regulations_df[\n",
    "        tech_regulations_df[TARGET_COL].apply(\n",
    "            lambda x: bool(set(x).intersection(good_cols)))\n",
    "    ]\n",
    "    print(tech_regulations_df.shape)\n",
    "    # Уберем слишком много примеров из самых популярных классов\n",
    "    seen_counter = Counter()\n",
    "    to_drop_index = []\n",
    "    min_val = sorted([v for v in counter.values()])[-5]\n",
    "    for i, row in tech_regulations_df.iterrows():\n",
    "        tnveds = row[TARGET_COL]\n",
    "        for t in tnveds:\n",
    "            seen_counter[t] += 1\n",
    "        counts = min(seen_counter[t] for t in tnveds)\n",
    "        if counts > min_val:\n",
    "            to_drop_index.append(i)\n",
    "    tech_regulations_df = tech_regulations_df[~tech_regulations_df.index.isin(to_drop_index)]\n",
    "\n",
    "    tr_train, tr_val = train_test_split(tech_regulations_df, test_size=0.2, random_state=42)\n",
    "    tr_val, tr_test = train_test_split(tr_val, test_size=0.5, random_state=42)\n",
    "\n",
    "    mlb = MultiLabelBinarizer()\n",
    "    mlb.fit(tr_train[TARGET_COL])\n",
    "    models[f\"{TARGET_COL}_mlb\"] = mlb\n",
    "    with open(\"tomsk_models_mlb_{TARGET_COL}_{tnved_slice}.pcl\", \"wb\") as f:\n",
    "        pickle.dump(models, f)\n",
    "    model_ckpt = \"cointegrated/rubert-tiny2\"\n",
    "    tokenizer = AutoTokenizer.from_pretrained(\n",
    "        model_ckpt, problem_type=\"multi_label_classification\")\n",
    "\n",
    "    hf_datasets = dict()\n",
    "    for key, value in [(\"train\", tr_train), (\"val\", tr_val), (\"test\", tr_test)]:\n",
    "        value = value.copy()\n",
    "        labels = mlb.transform(value[TARGET_COL])\n",
    "        value[\"labels\"] = list([list(li) for li in labels])\n",
    "        value = value.drop(TARGET_COL, axis=1)\n",
    "        dataset = Dataset.from_pandas(value, split=\"key\")\n",
    "        hf_datasets[key] = dataset.map(tokenize_function, batched=True)\n",
    "\n",
    "\n",
    "    num_labels = len(mlb.classes_)\n",
    "    model = AutoModelForSequenceClassification.from_pretrained(\n",
    "        model_ckpt,\n",
    "        num_labels=num_labels,\n",
    "        problem_type=\"single_label_classification\"\n",
    "    ).to('cuda')\n",
    "\n",
    "    batch_size = 64\n",
    "\n",
    "    args = TrainingArguments(\n",
    "        output_dir=\"multiclass_model\",\n",
    "        evaluation_strategy=\"epoch\",\n",
    "        save_strategy=\"epoch\",\n",
    "        metric_for_best_model=\"f1_macro\",\n",
    "        load_best_model_at_end=True,\n",
    "        learning_rate=1e-3,\n",
    "        per_device_train_batch_size=batch_size,\n",
    "        per_device_eval_batch_size=batch_size,\n",
    "        num_train_epochs=100,\n",
    "        weight_decay=0.01,\n",
    "        save_total_limit=5\n",
    "    )\n",
    "\n",
    "    class MultilabelTrainer(Trainer):\n",
    "        def compute_loss(self, model, inputs, return_outputs=False):\n",
    "            # print(\"inputs\", inputs.keys())\n",
    "            labels = inputs.pop(\"labels\")\n",
    "            outputs = model(**inputs)\n",
    "            logits = outputs.logits\n",
    "            loss_fct = torch.nn.BCEWithLogitsLoss()\n",
    "            loss = loss_fct(logits.view(-1, self.model.config.num_labels), \n",
    "                            labels.float().view(-1, self.model.config.num_labels))\n",
    "            return (loss, outputs) if return_outputs else loss\n",
    "\n",
    "    multi_trainer = MultilabelTrainer(\n",
    "        model,\n",
    "        args,\n",
    "        train_dataset=hf_datasets[\"train\"],\n",
    "        eval_dataset=hf_datasets[\"val\"],\n",
    "        compute_metrics=compute_metrics,\n",
    "        tokenizer=tokenizer,\n",
    "        callbacks = [EarlyStoppingCallback(early_stopping_patience=10)]\n",
    "    )\n",
    "\n",
    "    multi_trainer.evaluate()\n",
    "\n",
    "    multi_trainer.train()\n",
    "    folder = f\"{TARGET_COL}_trained_{tnved_slice}\"\n",
    "    multi_trainer.save_model(folder)\n",
    "    !zip -r \"{folder}.zip\" \"./{folder}/\"\n",
    "    "
   ]
  },
  {
   "cell_type": "code",
   "execution_count": null,
   "metadata": {
    "id": "1HXiMKVTHFuR"
   },
   "outputs": [],
   "source": [
    "# dictionaries = [\n",
    "#     {\n",
    "#         'dictionary_id': 'Unigram',\n",
    "#         'max_dictionary_size': '50000',\n",
    "#         'gram_count': '1',\n",
    "#     },\n",
    "#     {\n",
    "#         'dictionary_id': 'Bigram',\n",
    "#         'max_dictionary_size': '50000',\n",
    "#         'gram_count': '2',\n",
    "#     }\n",
    "# ]\n",
    "\n",
    "\n"
   ]
  },
  {
   "cell_type": "code",
   "execution_count": null,
   "metadata": {
    "id": "-kgCf7A0lzfY"
   },
   "outputs": [],
   "source": []
  },
  {
   "cell_type": "code",
   "execution_count": null,
   "metadata": {
    "id": "S4m6dn4pJiY1"
   },
   "outputs": [],
   "source": [
    "# pools = dict()\n",
    "\n",
    "# for dt_name, dt in [(\"train\", tr_train), (\"val\", tr_val), (\"test\", tr_test)]:\n",
    "#     text_dt = dt.drop(\"Технические регламенты\", axis=1)\n",
    "#     pools[dt_name] = Pool(\n",
    "#         text_dt,\n",
    "#         mlb.transform(dt[\"Технические регламенты\"]),\n",
    "#         text_features=[\"Общее наименование продукции\"],\n",
    "#     ) \n",
    "# print(\"pools created\")\n",
    "# # classifier = CatBoostClassifier(**catboost_params)\n",
    "# classifier = CatBoostClassifier(\n",
    "#     loss_function='MultiLogloss',\n",
    "#     # eval_metric='HammingLoss',\n",
    "#     iterations=500,\n",
    "#     class_names=list(mlb.classes_)\n",
    "# )\n",
    "\n",
    "# # train_pool = Pool(dt[[\"Общее наименование продукции\"]].reset_index().drop(\"index\", axis=1)[:375], Y_train, text_features=[\"Общее наименование продукции\"])\n",
    "# train_pool = Pool(tr_train.drop(\"Технические регламенты\", axis=1), mlb.transform(tr_train[\"Технические регламенты\"]), text_features=[\"Общее наименование продукции\"])\n",
    "# # test_pool = Pool(X_test, Y_test)\n",
    "# # classifier.fit(train_pool, metric_period=10, plot=True, verbose=50)\n",
    "# classifier.fit(\n",
    "#     # pools[\"train\"],\n",
    "#     # eval_set=pools[\"val\"],\n",
    "#     train_pool,\n",
    "#     early_stopping_rounds=10,\n",
    "#     metric_period=10,\n",
    "#     plot=True\n",
    "# )\n",
    "\n",
    "# # clf = CatBoostClassifier(\n",
    "# #     loss_function='MultiLogloss',\n",
    "# #     eval_metric='HammingLoss',\n",
    "# #     iterations=500,\n",
    "# #     class_names=['A', 'B', 'C', 'D', 'E']\n",
    "# # )\n",
    "# # clf.fit(train_pool, metric_period=10, plot=True, verbose=50)\n",
    "\n",
    "# for pool_name, dt in [(\"val\", tr_val), (\"test\", tr_test)]:\n",
    "#     preds = classifier.predict(pools[pool_name])\n",
    "#     for average in (\"micro\", \"macro\"):\n",
    "#         print(\n",
    "#             average,\n",
    "#             f1_score(dt[\"Технические регламенты\"],\n",
    "#                      preds,\n",
    "#                      average=average)\n",
    "#         )"
   ]
  },
  {
   "cell_type": "code",
   "execution_count": null,
   "metadata": {
    "id": "W4wkfWv3bFWA"
   },
   "outputs": [],
   "source": [
    "# from catboost import CatBoostClassifier, Pool\n",
    "# from catboost.utils import eval_metric\n",
    "# from sklearn.datasets import make_multilabel_classification\n",
    "# from sklearn.model_selection import train_test_split\n",
    "\n",
    "# X, Y = make_multilabel_classification(n_samples=500, n_features=20, n_classes=5, random_state=0)\n",
    "# X_train, X_test, Y_train, Y_test = train_test_split(X, Y)\n",
    "# train_pool = Pool(X_train, Y_train)\n",
    "# test_pool = Pool(X_test, Y_test)\n",
    "\n",
    "# clf = CatBoostClassifier(\n",
    "#     loss_function='MultiLogloss',\n",
    "#     eval_metric='HammingLoss',\n",
    "#     iterations=500,\n",
    "#     class_names=['A', 'B', 'C', 'D', 'E']\n",
    "# )\n",
    "# clf.fit(train_pool, eval_set=test_pool, metric_period=10, plot=True, verbose=50)"
   ]
  }
 ],
 "metadata": {
  "accelerator": "TPU",
  "colab": {
   "collapsed_sections": [],
   "name": "reading_data.ipynb",
   "provenance": []
  },
  "gpuClass": "standard",
  "kernelspec": {
   "display_name": "Python 3 (ipykernel)",
   "language": "python",
   "name": "python3"
  },
  "language_info": {
   "codemirror_mode": {
    "name": "ipython",
    "version": 3
   },
   "file_extension": ".py",
   "mimetype": "text/x-python",
   "name": "python",
   "nbconvert_exporter": "python",
   "pygments_lexer": "ipython3",
   "version": "3.9.12"
  },
  "widgets": {
   "application/vnd.jupyter.widget-state+json": {
    "02fe14cc49414992a7939d9a20bd05d2": {
     "model_module": "@jupyter-widgets/controls",
     "model_module_version": "1.5.0",
     "model_name": "HTMLModel",
     "state": {
      "_dom_classes": [],
      "_model_module": "@jupyter-widgets/controls",
      "_model_module_version": "1.5.0",
      "_model_name": "HTMLModel",
      "_view_count": null,
      "_view_module": "@jupyter-widgets/controls",
      "_view_module_version": "1.5.0",
      "_view_name": "HTMLView",
      "description": "",
      "description_tooltip": null,
      "layout": "IPY_MODEL_93dd82a6ce9c40d78f7d13d80504ed1d",
      "placeholder": "​",
      "style": "IPY_MODEL_fb3652afe95142cda9ed40b831d50f67",
      "value": " 3/3 [00:00&lt;00:00,  5.99ba/s]"
     }
    },
    "09fefd5a217c44fcbc5ed484ba2380bc": {
     "model_module": "@jupyter-widgets/base",
     "model_module_version": "1.2.0",
     "model_name": "LayoutModel",
     "state": {
      "_model_module": "@jupyter-widgets/base",
      "_model_module_version": "1.2.0",
      "_model_name": "LayoutModel",
      "_view_count": null,
      "_view_module": "@jupyter-widgets/base",
      "_view_module_version": "1.2.0",
      "_view_name": "LayoutView",
      "align_content": null,
      "align_items": null,
      "align_self": null,
      "border": null,
      "bottom": null,
      "display": null,
      "flex": null,
      "flex_flow": null,
      "grid_area": null,
      "grid_auto_columns": null,
      "grid_auto_flow": null,
      "grid_auto_rows": null,
      "grid_column": null,
      "grid_gap": null,
      "grid_row": null,
      "grid_template_areas": null,
      "grid_template_columns": null,
      "grid_template_rows": null,
      "height": null,
      "justify_content": null,
      "justify_items": null,
      "left": null,
      "margin": null,
      "max_height": null,
      "max_width": null,
      "min_height": null,
      "min_width": null,
      "object_fit": null,
      "object_position": null,
      "order": null,
      "overflow": null,
      "overflow_x": null,
      "overflow_y": null,
      "padding": null,
      "right": null,
      "top": null,
      "visibility": null,
      "width": null
     }
    },
    "0b514a8d469f408c978478911494d058": {
     "model_module": "@jupyter-widgets/controls",
     "model_module_version": "1.5.0",
     "model_name": "HTMLModel",
     "state": {
      "_dom_classes": [],
      "_model_module": "@jupyter-widgets/controls",
      "_model_module_version": "1.5.0",
      "_model_name": "HTMLModel",
      "_view_count": null,
      "_view_module": "@jupyter-widgets/controls",
      "_view_module_version": "1.5.0",
      "_view_name": "HTMLView",
      "description": "",
      "description_tooltip": null,
      "layout": "IPY_MODEL_3e5dc0af04f4423ab7869b054e78bf7e",
      "placeholder": "​",
      "style": "IPY_MODEL_2a8eb994801c43e0bfcafd1cbfafb38e",
      "value": " 3/3 [00:00&lt;00:00,  5.72ba/s]"
     }
    },
    "0c9ab15f82bf416f91f8265601acab0f": {
     "model_module": "@jupyter-widgets/controls",
     "model_module_version": "1.5.0",
     "model_name": "FloatProgressModel",
     "state": {
      "_dom_classes": [],
      "_model_module": "@jupyter-widgets/controls",
      "_model_module_version": "1.5.0",
      "_model_name": "FloatProgressModel",
      "_view_count": null,
      "_view_module": "@jupyter-widgets/controls",
      "_view_module_version": "1.5.0",
      "_view_name": "ProgressView",
      "bar_style": "success",
      "description": "",
      "description_tooltip": null,
      "layout": "IPY_MODEL_28c3147d93064a3dbb044039cc3c6935",
      "max": 3,
      "min": 0,
      "orientation": "horizontal",
      "style": "IPY_MODEL_a1503ef249c341acab7d7846b48e97fc",
      "value": 3
     }
    },
    "105cc9c1efba499e8a33ba766113fa65": {
     "model_module": "@jupyter-widgets/controls",
     "model_module_version": "1.5.0",
     "model_name": "DescriptionStyleModel",
     "state": {
      "_model_module": "@jupyter-widgets/controls",
      "_model_module_version": "1.5.0",
      "_model_name": "DescriptionStyleModel",
      "_view_count": null,
      "_view_module": "@jupyter-widgets/base",
      "_view_module_version": "1.2.0",
      "_view_name": "StyleView",
      "description_width": ""
     }
    },
    "13ebdba610704e78aec9c2faeb77e04b": {
     "model_module": "catboost-widget",
     "model_module_version": "^1.0.0",
     "model_name": "CatboostWidgetModel",
     "state": {
      "_dom_classes": [],
      "_model_module": "catboost-widget",
      "_model_module_version": "^1.0.0",
      "_model_name": "CatboostWidgetModel",
      "_view_count": null,
      "_view_module": "catboost-widget",
      "_view_module_version": "^1.0.0",
      "_view_name": "CatboostWidgetView",
      "data": {
       "catboost_info": {
        "content": {
         "data": {
          "iterations": [
           {
            "iteration": 0,
            "learn": [
             0.396241926
            ],
            "passed_time": 534.6544507,
            "remaining_time": 266792.5709,
            "test": [
             0.3960711246
            ]
           },
           {
            "iteration": 1,
            "learn": [
             0.2305384565
            ],
            "passed_time": 1080.101328,
            "remaining_time": 268945.2306,
            "test": [
             0.2304414133
            ]
           }
          ],
          "meta": {
           "iteration_count": 500,
           "launch_mode": "Train",
           "learn_metrics": [
            {
             "best_value": "Min",
             "name": "MultiLogloss"
            }
           ],
           "learn_sets": [
            "learn"
           ],
           "name": "experiment",
           "parameters": "",
           "test_metrics": [
            {
             "best_value": "Min",
             "name": "MultiLogloss"
            }
           ],
           "test_sets": [
            "test"
           ]
          }
         },
         "passed_iterations": 1,
         "total_iterations": 500
        },
        "name": "catboost_info",
        "path": "catboost_info"
       }
      },
      "layout": "IPY_MODEL_930d8239116e4a26aea4d828131dc0f0"
     }
    },
    "14abcd1ab5bf408cba1ceda8b6e46750": {
     "model_module": "@jupyter-widgets/controls",
     "model_module_version": "1.5.0",
     "model_name": "HBoxModel",
     "state": {
      "_dom_classes": [],
      "_model_module": "@jupyter-widgets/controls",
      "_model_module_version": "1.5.0",
      "_model_name": "HBoxModel",
      "_view_count": null,
      "_view_module": "@jupyter-widgets/controls",
      "_view_module_version": "1.5.0",
      "_view_name": "HBoxView",
      "box_style": "",
      "children": [
       "IPY_MODEL_a1b18c37132c4daeb36ff8b037f59c54",
       "IPY_MODEL_22ae76dd13fd4d1082a2b80da420fccd",
       "IPY_MODEL_55e9cc4ad5d84e5c9e9d2bd600d4db7a"
      ],
      "layout": "IPY_MODEL_6f04df0a3a3f4ac7a010db5a715f4d12"
     }
    },
    "157079a1f737440c94408bc24587e44a": {
     "model_module": "@jupyter-widgets/controls",
     "model_module_version": "1.5.0",
     "model_name": "ProgressStyleModel",
     "state": {
      "_model_module": "@jupyter-widgets/controls",
      "_model_module_version": "1.5.0",
      "_model_name": "ProgressStyleModel",
      "_view_count": null,
      "_view_module": "@jupyter-widgets/base",
      "_view_module_version": "1.2.0",
      "_view_name": "StyleView",
      "bar_color": null,
      "description_width": ""
     }
    },
    "1962b3cfd77c453fab9c3c5995f00aae": {
     "model_module": "@jupyter-widgets/base",
     "model_module_version": "1.2.0",
     "model_name": "LayoutModel",
     "state": {
      "_model_module": "@jupyter-widgets/base",
      "_model_module_version": "1.2.0",
      "_model_name": "LayoutModel",
      "_view_count": null,
      "_view_module": "@jupyter-widgets/base",
      "_view_module_version": "1.2.0",
      "_view_name": "LayoutView",
      "align_content": null,
      "align_items": null,
      "align_self": null,
      "border": null,
      "bottom": null,
      "display": null,
      "flex": null,
      "flex_flow": null,
      "grid_area": null,
      "grid_auto_columns": null,
      "grid_auto_flow": null,
      "grid_auto_rows": null,
      "grid_column": null,
      "grid_gap": null,
      "grid_row": null,
      "grid_template_areas": null,
      "grid_template_columns": null,
      "grid_template_rows": null,
      "height": null,
      "justify_content": null,
      "justify_items": null,
      "left": null,
      "margin": null,
      "max_height": null,
      "max_width": null,
      "min_height": null,
      "min_width": null,
      "object_fit": null,
      "object_position": null,
      "order": null,
      "overflow": null,
      "overflow_x": null,
      "overflow_y": null,
      "padding": null,
      "right": null,
      "top": null,
      "visibility": null,
      "width": null
     }
    },
    "1ab3bb07b19247169fc7385f15a816d6": {
     "model_module": "@jupyter-widgets/controls",
     "model_module_version": "1.5.0",
     "model_name": "FloatProgressModel",
     "state": {
      "_dom_classes": [],
      "_model_module": "@jupyter-widgets/controls",
      "_model_module_version": "1.5.0",
      "_model_name": "FloatProgressModel",
      "_view_count": null,
      "_view_module": "@jupyter-widgets/controls",
      "_view_module_version": "1.5.0",
      "_view_name": "ProgressView",
      "bar_style": "success",
      "description": "",
      "description_tooltip": null,
      "layout": "IPY_MODEL_dc9ba77ec0354d94a81325f7bad0bbde",
      "max": 4,
      "min": 0,
      "orientation": "horizontal",
      "style": "IPY_MODEL_2efcfd0dc5a345d1b9461b4aa1256431",
      "value": 4
     }
    },
    "1f33ce9203d84c66832ded821796d103": {
     "model_module": "@jupyter-widgets/controls",
     "model_module_version": "1.5.0",
     "model_name": "HBoxModel",
     "state": {
      "_dom_classes": [],
      "_model_module": "@jupyter-widgets/controls",
      "_model_module_version": "1.5.0",
      "_model_name": "HBoxModel",
      "_view_count": null,
      "_view_module": "@jupyter-widgets/controls",
      "_view_module_version": "1.5.0",
      "_view_name": "HBoxView",
      "box_style": "",
      "children": [
       "IPY_MODEL_bac24e1f87ad46a48a23dd0ec59ba4dc",
       "IPY_MODEL_1ab3bb07b19247169fc7385f15a816d6",
       "IPY_MODEL_92261b303518410cb2a540d78f3fa7e5"
      ],
      "layout": "IPY_MODEL_a8c88c5691404d42a7c37fda6c2b1c58"
     }
    },
    "2002046fe4c54c0db1ccca870d213f59": {
     "model_module": "@jupyter-widgets/controls",
     "model_module_version": "1.5.0",
     "model_name": "DescriptionStyleModel",
     "state": {
      "_model_module": "@jupyter-widgets/controls",
      "_model_module_version": "1.5.0",
      "_model_name": "DescriptionStyleModel",
      "_view_count": null,
      "_view_module": "@jupyter-widgets/base",
      "_view_module_version": "1.2.0",
      "_view_name": "StyleView",
      "description_width": ""
     }
    },
    "21d85791782e4af4849b70ef9971cd80": {
     "model_module": "@jupyter-widgets/controls",
     "model_module_version": "1.5.0",
     "model_name": "HTMLModel",
     "state": {
      "_dom_classes": [],
      "_model_module": "@jupyter-widgets/controls",
      "_model_module_version": "1.5.0",
      "_model_name": "HTMLModel",
      "_view_count": null,
      "_view_module": "@jupyter-widgets/controls",
      "_view_module_version": "1.5.0",
      "_view_name": "HTMLView",
      "description": "",
      "description_tooltip": null,
      "layout": "IPY_MODEL_a51121471126493995d30f011d4502a1",
      "placeholder": "​",
      "style": "IPY_MODEL_b845c28c6d3b4179af8d0082888cc240",
      "value": "100%"
     }
    },
    "22ae76dd13fd4d1082a2b80da420fccd": {
     "model_module": "@jupyter-widgets/controls",
     "model_module_version": "1.5.0",
     "model_name": "FloatProgressModel",
     "state": {
      "_dom_classes": [],
      "_model_module": "@jupyter-widgets/controls",
      "_model_module_version": "1.5.0",
      "_model_name": "FloatProgressModel",
      "_view_count": null,
      "_view_module": "@jupyter-widgets/controls",
      "_view_module_version": "1.5.0",
      "_view_name": "ProgressView",
      "bar_style": "success",
      "description": "",
      "description_tooltip": null,
      "layout": "IPY_MODEL_d7c4855f4fd14bc1855db22fc5d43300",
      "max": 4,
      "min": 0,
      "orientation": "horizontal",
      "style": "IPY_MODEL_b40bf694389e46508e85b21f2e013015",
      "value": 4
     }
    },
    "255c985c8e944413a39b76fd2b43d1d4": {
     "model_module": "@jupyter-widgets/base",
     "model_module_version": "1.2.0",
     "model_name": "LayoutModel",
     "state": {
      "_model_module": "@jupyter-widgets/base",
      "_model_module_version": "1.2.0",
      "_model_name": "LayoutModel",
      "_view_count": null,
      "_view_module": "@jupyter-widgets/base",
      "_view_module_version": "1.2.0",
      "_view_name": "LayoutView",
      "align_content": null,
      "align_items": null,
      "align_self": null,
      "border": null,
      "bottom": null,
      "display": null,
      "flex": null,
      "flex_flow": null,
      "grid_area": null,
      "grid_auto_columns": null,
      "grid_auto_flow": null,
      "grid_auto_rows": null,
      "grid_column": null,
      "grid_gap": null,
      "grid_row": null,
      "grid_template_areas": null,
      "grid_template_columns": null,
      "grid_template_rows": null,
      "height": null,
      "justify_content": null,
      "justify_items": null,
      "left": null,
      "margin": null,
      "max_height": null,
      "max_width": null,
      "min_height": null,
      "min_width": null,
      "object_fit": null,
      "object_position": null,
      "order": null,
      "overflow": null,
      "overflow_x": null,
      "overflow_y": null,
      "padding": null,
      "right": null,
      "top": null,
      "visibility": null,
      "width": null
     }
    },
    "25b48f6062074c40a4a9546bdc8824aa": {
     "model_module": "@jupyter-widgets/base",
     "model_module_version": "1.2.0",
     "model_name": "LayoutModel",
     "state": {
      "_model_module": "@jupyter-widgets/base",
      "_model_module_version": "1.2.0",
      "_model_name": "LayoutModel",
      "_view_count": null,
      "_view_module": "@jupyter-widgets/base",
      "_view_module_version": "1.2.0",
      "_view_name": "LayoutView",
      "align_content": null,
      "align_items": null,
      "align_self": null,
      "border": null,
      "bottom": null,
      "display": null,
      "flex": null,
      "flex_flow": null,
      "grid_area": null,
      "grid_auto_columns": null,
      "grid_auto_flow": null,
      "grid_auto_rows": null,
      "grid_column": null,
      "grid_gap": null,
      "grid_row": null,
      "grid_template_areas": null,
      "grid_template_columns": null,
      "grid_template_rows": null,
      "height": null,
      "justify_content": null,
      "justify_items": null,
      "left": null,
      "margin": null,
      "max_height": null,
      "max_width": null,
      "min_height": null,
      "min_width": null,
      "object_fit": null,
      "object_position": null,
      "order": null,
      "overflow": null,
      "overflow_x": null,
      "overflow_y": null,
      "padding": null,
      "right": null,
      "top": null,
      "visibility": null,
      "width": null
     }
    },
    "28c3147d93064a3dbb044039cc3c6935": {
     "model_module": "@jupyter-widgets/base",
     "model_module_version": "1.2.0",
     "model_name": "LayoutModel",
     "state": {
      "_model_module": "@jupyter-widgets/base",
      "_model_module_version": "1.2.0",
      "_model_name": "LayoutModel",
      "_view_count": null,
      "_view_module": "@jupyter-widgets/base",
      "_view_module_version": "1.2.0",
      "_view_name": "LayoutView",
      "align_content": null,
      "align_items": null,
      "align_self": null,
      "border": null,
      "bottom": null,
      "display": null,
      "flex": null,
      "flex_flow": null,
      "grid_area": null,
      "grid_auto_columns": null,
      "grid_auto_flow": null,
      "grid_auto_rows": null,
      "grid_column": null,
      "grid_gap": null,
      "grid_row": null,
      "grid_template_areas": null,
      "grid_template_columns": null,
      "grid_template_rows": null,
      "height": null,
      "justify_content": null,
      "justify_items": null,
      "left": null,
      "margin": null,
      "max_height": null,
      "max_width": null,
      "min_height": null,
      "min_width": null,
      "object_fit": null,
      "object_position": null,
      "order": null,
      "overflow": null,
      "overflow_x": null,
      "overflow_y": null,
      "padding": null,
      "right": null,
      "top": null,
      "visibility": null,
      "width": null
     }
    },
    "2a8eb994801c43e0bfcafd1cbfafb38e": {
     "model_module": "@jupyter-widgets/controls",
     "model_module_version": "1.5.0",
     "model_name": "DescriptionStyleModel",
     "state": {
      "_model_module": "@jupyter-widgets/controls",
      "_model_module_version": "1.5.0",
      "_model_name": "DescriptionStyleModel",
      "_view_count": null,
      "_view_module": "@jupyter-widgets/base",
      "_view_module_version": "1.2.0",
      "_view_name": "StyleView",
      "description_width": ""
     }
    },
    "2b5062437b204b5da10e79ceb0c34adb": {
     "model_module": "catboost-widget",
     "model_module_version": "^1.0.0",
     "model_name": "CatboostWidgetModel",
     "state": {
      "_dom_classes": [],
      "_model_module": "catboost-widget",
      "_model_module_version": "^1.0.0",
      "_model_name": "CatboostWidgetModel",
      "_view_count": null,
      "_view_module": "catboost-widget",
      "_view_module_version": "^1.0.0",
      "_view_name": "CatboostWidgetView",
      "data": {
       "catboost_info": {
        "content": {
         "data": {
          "iterations": [
           {
            "iteration": 0,
            "learn": [
             0.5173857179
            ],
            "passed_time": 14.0181379,
            "remaining_time": 6995.050811,
            "test": [
             0.5172160207
            ]
           },
           {
            "iteration": 1,
            "learn": [
             0.373757704
            ],
            "passed_time": 27.78183595,
            "remaining_time": 6917.677151,
            "test": [
             0.3734159359
            ]
           },
           {
            "iteration": 2,
            "learn": [
             0.2866558947
            ],
            "passed_time": 41.7796881,
            "remaining_time": 6921.501662,
            "test": [
             0.2863050122
            ]
           },
           {
            "iteration": 3,
            "learn": [
             0.2274939663
            ],
            "passed_time": 56.44726541,
            "remaining_time": 6999.46091,
            "test": [
             0.2268510305
            ]
           },
           {
            "iteration": 4,
            "learn": [
             0.1854811278
            ],
            "passed_time": 71.22178163,
            "remaining_time": 7050.956382,
            "test": [
             0.1847969179
            ]
           },
           {
            "iteration": 5,
            "learn": [
             0.1567023151
            ],
            "passed_time": 85.43521495,
            "remaining_time": 7034.166031,
            "test": [
             0.1561142697
            ]
           },
           {
            "iteration": 6,
            "learn": [
             0.1368567805
            ],
            "passed_time": 98.86725868,
            "remaining_time": 6963.07979,
            "test": [
             0.1366416556
            ]
           },
           {
            "iteration": 7,
            "learn": [
             0.1211559168
            ],
            "passed_time": 112.9796215,
            "remaining_time": 6948.246725,
            "test": [
             0.1212670512
            ]
           },
           {
            "iteration": 8,
            "learn": [
             0.1114305342
            ],
            "passed_time": 126.7126932,
            "remaining_time": 6912.881375,
            "test": [
             0.1116755723
            ]
           },
           {
            "iteration": 9,
            "learn": [
             0.1029836913
            ],
            "passed_time": 142.5870655,
            "remaining_time": 6986.766212,
            "test": [
             0.1033274256
            ]
           },
           {
            "iteration": 10,
            "learn": [
             0.0972299616
            ],
            "passed_time": 156.3910253,
            "remaining_time": 6952.291941,
            "test": [
             0.0975741046
            ]
           },
           {
            "iteration": 11,
            "learn": [
             0.09197907843
            ],
            "passed_time": 170.6716675,
            "remaining_time": 6940.64781,
            "test": [
             0.09235000439
            ]
           },
           {
            "iteration": 12,
            "learn": [
             0.08831486358
            ],
            "passed_time": 184.4792253,
            "remaining_time": 6910.875594,
            "test": [
             0.08881629269
            ]
           },
           {
            "iteration": 13,
            "learn": [
             0.08391850343
            ],
            "passed_time": 198.0377808,
            "remaining_time": 6874.740106,
            "test": [
             0.08441665686
            ]
           },
           {
            "iteration": 14,
            "learn": [
             0.08074678477
            ],
            "passed_time": 211.5591219,
            "remaining_time": 6840.411607,
            "test": [
             0.08137148319
            ]
           },
           {
            "iteration": 15,
            "learn": [
             0.07832933596
            ],
            "passed_time": 229.1727336,
            "remaining_time": 6932.475191,
            "test": [
             0.07902747128
            ]
           },
           {
            "iteration": 16,
            "learn": [
             0.07611520577
            ],
            "passed_time": 242.6502049,
            "remaining_time": 6894.120528,
            "test": [
             0.07682281769
            ]
           },
           {
            "iteration": 17,
            "learn": [
             0.07427680205
            ],
            "passed_time": 256.439124,
            "remaining_time": 6866.869876,
            "test": [
             0.07499774392
            ]
           },
           {
            "iteration": 18,
            "learn": [
             0.07243016702
            ],
            "passed_time": 270.3191907,
            "remaining_time": 6843.343721,
            "test": [
             0.07315842291
            ]
           },
           {
            "iteration": 19,
            "learn": [
             0.0706528176
            ],
            "passed_time": 284.304807,
            "remaining_time": 6823.315367,
            "test": [
             0.07145149778
            ]
           },
           {
            "iteration": 20,
            "learn": [
             0.06911821316
            ],
            "passed_time": 300.4138009,
            "remaining_time": 6852.295745,
            "test": [
             0.07002079007
            ]
           },
           {
            "iteration": 21,
            "learn": [
             0.06713178278
            ],
            "passed_time": 314.4105399,
            "remaining_time": 6831.283549,
            "test": [
             0.06809393828
            ]
           },
           {
            "iteration": 22,
            "learn": [
             0.06606589932
            ],
            "passed_time": 328.3383967,
            "remaining_time": 6809.452835,
            "test": [
             0.06712072619
            ]
           },
           {
            "iteration": 23,
            "learn": [
             0.065234503
            ],
            "passed_time": 341.9425857,
            "remaining_time": 6781.861283,
            "test": [
             0.06638920128
            ]
           },
           {
            "iteration": 24,
            "learn": [
             0.06403444339
            ],
            "passed_time": 356.0935153,
            "remaining_time": 6765.776791,
            "test": [
             0.06527997545
            ]
           },
           {
            "iteration": 25,
            "learn": [
             0.06263383336
            ],
            "passed_time": 369.5729041,
            "remaining_time": 6737.598328,
            "test": [
             0.0639018271
            ]
           },
           {
            "iteration": 26,
            "learn": [
             0.06168782876
            ],
            "passed_time": 385.5973587,
            "remaining_time": 6755.094469,
            "test": [
             0.0630138782
            ]
           },
           {
            "iteration": 27,
            "learn": [
             0.06086145201
            ],
            "passed_time": 398.9347151,
            "remaining_time": 6724.899483,
            "test": [
             0.06227526015
            ]
           },
           {
            "iteration": 28,
            "learn": [
             0.05973463193
            ],
            "passed_time": 413.0243433,
            "remaining_time": 6708.085024,
            "test": [
             0.06121546507
            ]
           },
           {
            "iteration": 29,
            "learn": [
             0.0584789638
            ],
            "passed_time": 426.3189385,
            "remaining_time": 6678.996703,
            "test": [
             0.06000609087
            ]
           },
           {
            "iteration": 30,
            "learn": [
             0.05759546924
            ],
            "passed_time": 439.6459397,
            "remaining_time": 6651.417603,
            "test": [
             0.05914942975
            ]
           },
           {
            "iteration": 31,
            "learn": [
             0.05684346173
            ],
            "passed_time": 462.0659892,
            "remaining_time": 6757.715091,
            "test": [
             0.05839488305
            ]
           },
           {
            "iteration": 32,
            "learn": [
             0.05615477302
            ],
            "passed_time": 476.1414888,
            "remaining_time": 6738.123493,
            "test": [
             0.05774887253
            ]
           },
           {
            "iteration": 33,
            "learn": [
             0.05561528193
            ],
            "passed_time": 490.0021483,
            "remaining_time": 6715.911797,
            "test": [
             0.05725351965
            ]
           },
           {
            "iteration": 34,
            "learn": [
             0.05488070908
            ],
            "passed_time": 504.0483306,
            "remaining_time": 6696.642107,
            "test": [
             0.05655965173
            ]
           },
           {
            "iteration": 35,
            "learn": [
             0.05440542278
            ],
            "passed_time": 518.2119331,
            "remaining_time": 6679.176026,
            "test": [
             0.05614983903
            ]
           },
           {
            "iteration": 36,
            "learn": [
             0.05390925661
            ],
            "passed_time": 532.4414564,
            "remaining_time": 6662.71336,
            "test": [
             0.05572427928
            ]
           },
           {
            "iteration": 37,
            "learn": [
             0.05313597409
            ],
            "passed_time": 548.479794,
            "remaining_time": 6668.3596,
            "test": [
             0.05502957651
            ]
           },
           {
            "iteration": 38,
            "learn": [
             0.05238465479
            ],
            "passed_time": 562.5345697,
            "remaining_time": 6649.447093,
            "test": [
             0.05429055601
            ]
           },
           {
            "iteration": 39,
            "learn": [
             0.05175859084
            ],
            "passed_time": 575.6635951,
            "remaining_time": 6620.131344,
            "test": [
             0.05370271813
            ]
           },
           {
            "iteration": 40,
            "learn": [
             0.05097748033
            ],
            "passed_time": 589.4863561,
            "remaining_time": 6599.371645,
            "test": [
             0.05296719222
            ]
           },
           {
            "iteration": 41,
            "learn": [
             0.05059192822
            ],
            "passed_time": 603.1394213,
            "remaining_time": 6577.091785,
            "test": [
             0.05263457544
            ]
           },
           {
            "iteration": 42,
            "learn": [
             0.05027981644
            ],
            "passed_time": 616.9347174,
            "remaining_time": 6556.724787,
            "test": [
             0.05236467517
            ]
           },
           {
            "iteration": 43,
            "learn": [
             0.04976636293
            ],
            "passed_time": 632.787689,
            "remaining_time": 6557.981504,
            "test": [
             0.05193558059
            ]
           },
           {
            "iteration": 44,
            "learn": [
             0.04906450505
            ],
            "passed_time": 646.5080585,
            "remaining_time": 6536.914814,
            "test": [
             0.051316309
            ]
           },
           {
            "iteration": 45,
            "learn": [
             0.04850035686
            ],
            "passed_time": 660.1506174,
            "remaining_time": 6515.399572,
            "test": [
             0.05076854075
            ]
           },
           {
            "iteration": 46,
            "learn": [
             0.0481430144
            ],
            "passed_time": 674.3774268,
            "remaining_time": 6499.850518,
            "test": [
             0.05042409202
            ]
           },
           {
            "iteration": 47,
            "learn": [
             0.04773034128
            ],
            "passed_time": 688.1145349,
            "remaining_time": 6479.745203,
            "test": [
             0.05006953372
            ]
           },
           {
            "iteration": 48,
            "learn": [
             0.0473337236
            ],
            "passed_time": 703.6897519,
            "remaining_time": 6476.817921,
            "test": [
             0.04970337829
            ]
           },
           {
            "iteration": 49,
            "learn": [
             0.04687515003
            ],
            "passed_time": 717.7563308,
            "remaining_time": 6459.806977,
            "test": [
             0.04927491449
            ]
           },
           {
            "iteration": 50,
            "learn": [
             0.04650001802
            ],
            "passed_time": 731.7177701,
            "remaining_time": 6441.985858,
            "test": [
             0.04892472613
            ]
           },
           {
            "iteration": 51,
            "learn": [
             0.04607874611
            ],
            "passed_time": 745.7231194,
            "remaining_time": 6424.69149,
            "test": [
             0.04853134233
            ]
           },
           {
            "iteration": 52,
            "learn": [
             0.04571348772
            ],
            "passed_time": 759.5551678,
            "remaining_time": 6406.059623,
            "test": [
             0.04821150155
            ]
           },
           {
            "iteration": 53,
            "learn": [
             0.04549611173
            ],
            "passed_time": 773.5558345,
            "remaining_time": 6388.998188,
            "test": [
             0.0480124743
            ]
           },
           {
            "iteration": 54,
            "learn": [
             0.04512117844
            ],
            "passed_time": 789.4421892,
            "remaining_time": 6387.304985,
            "test": [
             0.04762189661
            ]
           },
           {
            "iteration": 55,
            "learn": [
             0.04472407233
            ],
            "passed_time": 803.2274899,
            "remaining_time": 6368.446527,
            "test": [
             0.04727031965
            ]
           },
           {
            "iteration": 56,
            "learn": [
             0.04427831431
            ],
            "passed_time": 817.1621462,
            "remaining_time": 6350.926855,
            "test": [
             0.04685102344
            ]
           },
           {
            "iteration": 57,
            "learn": [
             0.04372808012
            ],
            "passed_time": 830.9130945,
            "remaining_time": 6332.130823,
            "test": [
             0.04635931667
            ]
           },
           {
            "iteration": 58,
            "learn": [
             0.04352992447
            ],
            "passed_time": 844.7200078,
            "remaining_time": 6313.924126,
            "test": [
             0.0461843701
            ]
           },
           {
            "iteration": 59,
            "learn": [
             0.04308140562
            ],
            "passed_time": 858.2410828,
            "remaining_time": 6293.76794,
            "test": [
             0.04579110456
            ]
           },
           {
            "iteration": 60,
            "learn": [
             0.0428086683
            ],
            "passed_time": 873.6583756,
            "remaining_time": 6287.475851,
            "test": [
             0.04553119178
            ]
           },
           {
            "iteration": 61,
            "learn": [
             0.0425515918
            ],
            "passed_time": 887.418721,
            "remaining_time": 6269.183868,
            "test": [
             0.0452818405
            ]
           },
           {
            "iteration": 62,
            "learn": [
             0.04226569759
            ],
            "passed_time": 901.6478725,
            "remaining_time": 6254.287623,
            "test": [
             0.04503565284
            ]
           },
           {
            "iteration": 63,
            "learn": [
             0.04194082563
            ],
            "passed_time": 915.6035569,
            "remaining_time": 6237.549232,
            "test": [
             0.04473890101
            ]
           },
           {
            "iteration": 64,
            "learn": [
             0.04175989659
            ],
            "passed_time": 929.2450507,
            "remaining_time": 6218.793801,
            "test": [
             0.04456754525
            ]
           },
           {
            "iteration": 65,
            "learn": [
             0.04136386775
            ],
            "passed_time": 943.3731928,
            "remaining_time": 6203.393419,
            "test": [
             0.04419135694
            ]
           },
           {
            "iteration": 66,
            "learn": [
             0.04115159203
            ],
            "passed_time": 959.3144132,
            "remaining_time": 6199.748372,
            "test": [
             0.04400141124
            ]
           },
           {
            "iteration": 67,
            "learn": [
             0.04085781039
            ],
            "passed_time": 973.3435107,
            "remaining_time": 6183.594068,
            "test": [
             0.04372191651
            ]
           },
           {
            "iteration": 68,
            "learn": [
             0.04051972989
            ],
            "passed_time": 986.9320699,
            "remaining_time": 6164.749596,
            "test": [
             0.04337372946
            ]
           },
           {
            "iteration": 69,
            "learn": [
             0.04029691849
            ],
            "passed_time": 1000.42041,
            "remaining_time": 6145.439659,
            "test": [
             0.04316834093
            ]
           },
           {
            "iteration": 70,
            "learn": [
             0.03990281377
            ],
            "passed_time": 1014.094442,
            "remaining_time": 6127.415714,
            "test": [
             0.04275909063
            ]
           },
           {
            "iteration": 71,
            "learn": [
             0.03968448568
            ],
            "passed_time": 1030.049216,
            "remaining_time": 6123.070341,
            "test": [
             0.04257262922
            ]
           },
           {
            "iteration": 72,
            "learn": [
             0.03944892389
            ],
            "passed_time": 1044.102882,
            "remaining_time": 6107.286723,
            "test": [
             0.04234874889
            ]
           },
           {
            "iteration": 73,
            "learn": [
             0.03922279706
            ],
            "passed_time": 1057.909817,
            "remaining_time": 6090.129489,
            "test": [
             0.04211369781
            ]
           },
           {
            "iteration": 74,
            "learn": [
             0.03905056195
            ],
            "passed_time": 1071.852118,
            "remaining_time": 6073.828667,
            "test": [
             0.04197726815
            ]
           },
           {
            "iteration": 75,
            "learn": [
             0.03890042384
            ],
            "passed_time": 1085.822826,
            "remaining_time": 6057.7484,
            "test": [
             0.04182472394
            ]
           },
           {
            "iteration": 76,
            "learn": [
             0.0386682035
            ],
            "passed_time": 1099.376006,
            "remaining_time": 6039.429228,
            "test": [
             0.04166062605
            ]
           },
           {
            "iteration": 77,
            "learn": [
             0.03847050766
            ],
            "passed_time": 1115.161992,
            "remaining_time": 6033.312317,
            "test": [
             0.04150592524
            ]
           },
           {
            "iteration": 78,
            "learn": [
             0.03821157342
            ],
            "passed_time": 1129.000503,
            "remaining_time": 6016.572301,
            "test": [
             0.04127923344
            ]
           },
           {
            "iteration": 79,
            "learn": [
             0.0380248579
            ],
            "passed_time": 1142.81552,
            "remaining_time": 5999.781478,
            "test": [
             0.04113055309
            ]
           },
           {
            "iteration": 80,
            "learn": [
             0.03786422572
            ],
            "passed_time": 1156.973316,
            "remaining_time": 5984.837278,
            "test": [
             0.04099106607
            ]
           },
           {
            "iteration": 81,
            "learn": [
             0.03770334267
            ],
            "passed_time": 1170.702893,
            "remaining_time": 5967.72938,
            "test": [
             0.04083058251
            ]
           },
           {
            "iteration": 82,
            "learn": [
             0.03753718952
            ],
            "passed_time": 1183.933361,
            "remaining_time": 5948.195318,
            "test": [
             0.04065855071
            ]
           },
           {
            "iteration": 83,
            "learn": [
             0.03735197184
            ],
            "passed_time": 1199.700674,
            "remaining_time": 5941.374766,
            "test": [
             0.04048651755
            ]
           },
           {
            "iteration": 84,
            "learn": [
             0.03715682869
            ],
            "passed_time": 1213.568227,
            "remaining_time": 5925.068404,
            "test": [
             0.04029683059
            ]
           },
           {
            "iteration": 85,
            "learn": [
             0.0370171129
            ],
            "passed_time": 1227.490568,
            "remaining_time": 5909.0825,
            "test": [
             0.04018950875
            ]
           },
           {
            "iteration": 86,
            "learn": [
             0.03682268334
            ],
            "passed_time": 1241.289045,
            "remaining_time": 5892.556041,
            "test": [
             0.04001520995
            ]
           },
           {
            "iteration": 87,
            "learn": [
             0.03664832598
            ],
            "passed_time": 1255.179853,
            "remaining_time": 5876.523859,
            "test": [
             0.03984628812
            ]
           },
           {
            "iteration": 88,
            "learn": [
             0.03642670247
            ],
            "passed_time": 1269.1501,
            "remaining_time": 5860.906639,
            "test": [
             0.03966571335
            ]
           },
           {
            "iteration": 89,
            "learn": [
             0.0361793874
            ],
            "passed_time": 1285.238509,
            "remaining_time": 5854.975429,
            "test": [
             0.03940724853
            ]
           },
           {
            "iteration": 90,
            "learn": [
             0.03595197665
            ],
            "passed_time": 1299.025111,
            "remaining_time": 5838.475497,
            "test": [
             0.0392714341
            ]
           },
           {
            "iteration": 91,
            "learn": [
             0.03582161734
            ],
            "passed_time": 1312.948766,
            "remaining_time": 5822.642355,
            "test": [
             0.03916211168
            ]
           },
           {
            "iteration": 92,
            "learn": [
             0.03565885543
            ],
            "passed_time": 1327.204214,
            "remaining_time": 5808.302312,
            "test": [
             0.03897370749
            ]
           },
           {
            "iteration": 93,
            "learn": [
             0.03547617896
            ],
            "passed_time": 1341.168216,
            "remaining_time": 5792.705274,
            "test": [
             0.0388221287
            ]
           },
           {
            "iteration": 94,
            "learn": [
             0.03533001656
            ],
            "passed_time": 1355.027338,
            "remaining_time": 5776.695495,
            "test": [
             0.03869764806
            ]
           },
           {
            "iteration": 95,
            "learn": [
             0.03518304921
            ],
            "passed_time": 1370.842572,
            "remaining_time": 5768.962489,
            "test": [
             0.03856189909
            ]
           },
           {
            "iteration": 96,
            "learn": [
             0.0350644091
            ],
            "passed_time": 1384.705838,
            "remaining_time": 5752.953122,
            "test": [
             0.03842745459
            ]
           },
           {
            "iteration": 97,
            "learn": [
             0.03488186209
            ],
            "passed_time": 1398.865597,
            "remaining_time": 5738.203776,
            "test": [
             0.03824437645
            ]
           },
           {
            "iteration": 98,
            "learn": [
             0.03473048984
            ],
            "passed_time": 1412.691269,
            "remaining_time": 5722.11312,
            "test": [
             0.03811414217
            ]
           },
           {
            "iteration": 99,
            "learn": [
             0.03457038518
            ],
            "passed_time": 1426.381203,
            "remaining_time": 5705.524813,
            "test": [
             0.03796058864
            ]
           },
           {
            "iteration": 100,
            "learn": [
             0.0343388527
            ],
            "passed_time": 1441.947193,
            "remaining_time": 5696.405246,
            "test": [
             0.03776653204
            ]
           },
           {
            "iteration": 101,
            "learn": [
             0.03420390805
            ],
            "passed_time": 1456.295165,
            "remaining_time": 5682.406625,
            "test": [
             0.03765994771
            ]
           },
           {
            "iteration": 102,
            "learn": [
             0.03410022886
            ],
            "passed_time": 1469.862436,
            "remaining_time": 5665.392108,
            "test": [
             0.03758253869
            ]
           },
           {
            "iteration": 103,
            "learn": [
             0.03397776411
            ],
            "passed_time": 1483.31103,
            "remaining_time": 5647.991999,
            "test": [
             0.03745643586
            ]
           },
           {
            "iteration": 104,
            "learn": [
             0.03378746456
            ],
            "passed_time": 1496.8678,
            "remaining_time": 5631.074105,
            "test": [
             0.03729522934
            ]
           },
           {
            "iteration": 105,
            "learn": [
             0.03369290589
            ],
            "passed_time": 1510.882045,
            "remaining_time": 5615.920054,
            "test": [
             0.03723271183
            ]
           },
           {
            "iteration": 106,
            "learn": [
             0.03353080744
            ],
            "passed_time": 1526.828635,
            "remaining_time": 5607.884612,
            "test": [
             0.03709971976
            ]
           },
           {
            "iteration": 107,
            "learn": [
             0.03342851898
            ],
            "passed_time": 1540.592205,
            "remaining_time": 5591.779113,
            "test": [
             0.03702864443
            ]
           },
           {
            "iteration": 108,
            "learn": [
             0.03330686208
            ],
            "passed_time": 1554.457146,
            "remaining_time": 5576.08022,
            "test": [
             0.03689560945
            ]
           },
           {
            "iteration": 109,
            "learn": [
             0.03314392934
            ],
            "passed_time": 1568.18824,
            "remaining_time": 5559.940123,
            "test": [
             0.03676030789
            ]
           },
           {
            "iteration": 110,
            "learn": [
             0.03289129889
            ],
            "passed_time": 1582.363731,
            "remaining_time": 5545.400822,
            "test": [
             0.03652209523
            ]
           },
           {
            "iteration": 111,
            "learn": [
             0.03272632605
            ],
            "passed_time": 1596.427207,
            "remaining_time": 5530.479968,
            "test": [
             0.03640009133
            ]
           },
           {
            "iteration": 112,
            "learn": [
             0.03259653878
            ],
            "passed_time": 1611.937558,
            "remaining_time": 5520.529514,
            "test": [
             0.03628629099
            ]
           },
           {
            "iteration": 113,
            "learn": [
             0.03251147911
            ],
            "passed_time": 1626.137312,
            "remaining_time": 5506.043881,
            "test": [
             0.03622733277
            ]
           },
           {
            "iteration": 114,
            "learn": [
             0.03237664429
            ],
            "passed_time": 1639.918277,
            "remaining_time": 5490.16119,
            "test": [
             0.03609228282
            ]
           },
           {
            "iteration": 115,
            "learn": [
             0.03221718631
            ],
            "passed_time": 1653.680613,
            "remaining_time": 5474.253065,
            "test": [
             0.03593513353
            ]
           },
           {
            "iteration": 116,
            "learn": [
             0.0320728604
            ],
            "passed_time": 1667.422884,
            "remaining_time": 5458.315937,
            "test": [
             0.03580234369
            ]
           },
           {
            "iteration": 117,
            "learn": [
             0.03193137339
            ],
            "passed_time": 1681.129012,
            "remaining_time": 5442.299005,
            "test": [
             0.03566693248
            ]
           },
           {
            "iteration": 118,
            "learn": [
             0.03177809631
            ],
            "passed_time": 1697.072277,
            "remaining_time": 5433.483508,
            "test": [
             0.0355685064
            ]
           },
           {
            "iteration": 119,
            "learn": [
             0.03174643044
            ],
            "passed_time": 1710.808579,
            "remaining_time": 5417.560499,
            "test": [
             0.03555036093
            ]
           },
           {
            "iteration": 120,
            "learn": [
             0.03153450711
            ],
            "passed_time": 1724.40705,
            "remaining_time": 5401.241918,
            "test": [
             0.03538253665
            ]
           },
           {
            "iteration": 121,
            "learn": [
             0.03140550811
            ],
            "passed_time": 1737.835182,
            "remaining_time": 5384.440155,
            "test": [
             0.03528731285
            ]
           },
           {
            "iteration": 122,
            "learn": [
             0.03126353135
            ],
            "passed_time": 1751.731688,
            "remaining_time": 5369.128834,
            "test": [
             0.03515637388
            ]
           },
           {
            "iteration": 123,
            "learn": [
             0.03111979989
            ],
            "passed_time": 1765.830925,
            "remaining_time": 5354.455063,
            "test": [
             0.03502189456
            ]
           },
           {
            "iteration": 124,
            "learn": [
             0.03102478045
            ],
            "passed_time": 1781.280601,
            "remaining_time": 5343.841804,
            "test": [
             0.03497559855
            ]
           },
           {
            "iteration": 125,
            "learn": [
             0.03086144071
            ],
            "passed_time": 1795.374293,
            "remaining_time": 5329.126869,
            "test": [
             0.03485759513
            ]
           },
           {
            "iteration": 126,
            "learn": [
             0.03077043383
            ],
            "passed_time": 1811.440926,
            "remaining_time": 5320.216264,
            "test": [
             0.03479111051
            ]
           },
           {
            "iteration": 127,
            "learn": [
             0.03066537516
            ],
            "passed_time": 1826.052064,
            "remaining_time": 5306.963812,
            "test": [
             0.03470868949
            ]
           },
           {
            "iteration": 128,
            "learn": [
             0.03052674059
            ],
            "passed_time": 1840.338996,
            "remaining_time": 5292.757888,
            "test": [
             0.03459308162
            ]
           },
           {
            "iteration": 129,
            "learn": [
             0.03038773778
            ],
            "passed_time": 1855.024999,
            "remaining_time": 5279.686535,
            "test": [
             0.03446120526
            ]
           },
           {
            "iteration": 130,
            "learn": [
             0.03024714631
            ],
            "passed_time": 1869.566025,
            "remaining_time": 5266.182162,
            "test": [
             0.03434100584
            ]
           },
           {
            "iteration": 131,
            "learn": [
             0.03021714899
            ],
            "passed_time": 1883.441491,
            "remaining_time": 5250.806581,
            "test": [
             0.03432799853
            ]
           },
           {
            "iteration": 132,
            "learn": [
             0.03009767823
            ],
            "passed_time": 1897.622793,
            "remaining_time": 5236.297483,
            "test": [
             0.03422838175
            ]
           },
           {
            "iteration": 133,
            "learn": [
             0.02998780702
            ],
            "passed_time": 1911.353495,
            "remaining_time": 5220.56253,
            "test": [
             0.03416548357
            ]
           },
           {
            "iteration": 134,
            "learn": [
             0.02981760728
            ],
            "passed_time": 1925.223318,
            "remaining_time": 5205.233415,
            "test": [
             0.03401411085
            ]
           },
           {
            "iteration": 135,
            "learn": [
             0.02970085498
            ],
            "passed_time": 1940.559473,
            "remaining_time": 5193.850355,
            "test": [
             0.03390432457
            ]
           },
           {
            "iteration": 136,
            "learn": [
             0.02955083441
            ],
            "passed_time": 1953.865756,
            "remaining_time": 5177.031164,
            "test": [
             0.03382197456
            ]
           },
           {
            "iteration": 137,
            "learn": [
             0.0294494657
            ],
            "passed_time": 1967.806336,
            "remaining_time": 5161.926767,
            "test": [
             0.03375397773
            ]
           },
           {
            "iteration": 138,
            "learn": [
             0.02936399975
            ],
            "passed_time": 1981.804457,
            "remaining_time": 5146.988553,
            "test": [
             0.03369790167
            ]
           },
           {
            "iteration": 139,
            "learn": [
             0.0292893217
            ],
            "passed_time": 1995.387288,
            "remaining_time": 5130.995884,
            "test": [
             0.03363804294
            ]
           },
           {
            "iteration": 140,
            "learn": [
             0.02927074767
            ],
            "passed_time": 2009.495405,
            "remaining_time": 5116.374826,
            "test": [
             0.03363496772
            ]
           },
           {
            "iteration": 141,
            "learn": [
             0.02915113541
            ],
            "passed_time": 2025.26646,
            "remaining_time": 5105.953469,
            "test": [
             0.03353964402
            ]
           },
           {
            "iteration": 142,
            "learn": [
             0.02905575166
            ],
            "passed_time": 2039.061277,
            "remaining_time": 5090.523608,
            "test": [
             0.03347063811
            ]
           },
           {
            "iteration": 143,
            "learn": [
             0.0289537572
            ],
            "passed_time": 2052.603496,
            "remaining_time": 5074.491977,
            "test": [
             0.03341888125
            ]
           },
           {
            "iteration": 144,
            "learn": [
             0.02884547185
            ],
            "passed_time": 2066.354093,
            "remaining_time": 5059.004849,
            "test": [
             0.03334521795
            ]
           },
           {
            "iteration": 145,
            "learn": [
             0.02874224428
            ],
            "passed_time": 2079.965342,
            "remaining_time": 5043.203638,
            "test": [
             0.03326459741
            ]
           },
           {
            "iteration": 146,
            "learn": [
             0.02864234931
            ],
            "passed_time": 2093.863565,
            "remaining_time": 5028.121349,
            "test": [
             0.03316711621
            ]
           },
           {
            "iteration": 147,
            "learn": [
             0.02853163237
            ],
            "passed_time": 2109.443462,
            "remaining_time": 5017.05472,
            "test": [
             0.03308652579
            ]
           },
           {
            "iteration": 148,
            "learn": [
             0.0284396523
            ],
            "passed_time": 2123.142386,
            "remaining_time": 5001.496492,
            "test": [
             0.03301581021
            ]
           },
           {
            "iteration": 149,
            "learn": [
             0.02837356076
            ],
            "passed_time": 2136.790573,
            "remaining_time": 4985.844669,
            "test": [
             0.03296063698
            ]
           },
           {
            "iteration": 150,
            "learn": [
             0.02824154916
            ],
            "passed_time": 2150.563017,
            "remaining_time": 4970.506576,
            "test": [
             0.03286758512
            ]
           },
           {
            "iteration": 151,
            "learn": [
             0.02810944258
            ],
            "passed_time": 2163.780629,
            "remaining_time": 4953.918809,
            "test": [
             0.0327798669
            ]
           },
           {
            "iteration": 152,
            "learn": [
             0.0280193872
            ],
            "passed_time": 2177.239452,
            "remaining_time": 4937.922157,
            "test": [
             0.03271266234
            ]
           },
           {
            "iteration": 153,
            "learn": [
             0.02791738062
            ],
            "passed_time": 2193.084086,
            "remaining_time": 4927.31879,
            "test": [
             0.03264943765
            ]
           },
           {
            "iteration": 154,
            "learn": [
             0.02783539154
            ],
            "passed_time": 2206.858007,
            "remaining_time": 4912.038789,
            "test": [
             0.03257706369
            ]
           },
           {
            "iteration": 155,
            "learn": [
             0.02773808194
            ],
            "passed_time": 2220.668424,
            "remaining_time": 4896.858576,
            "test": [
             0.03252327253
            ]
           },
           {
            "iteration": 156,
            "learn": [
             0.02764565306
            ],
            "passed_time": 2234.1366,
            "remaining_time": 4880.948112,
            "test": [
             0.03246453976
            ]
           },
           {
            "iteration": 157,
            "learn": [
             0.02750345641
            ],
            "passed_time": 2247.96388,
            "remaining_time": 4865.845868,
            "test": [
             0.032350554
            ]
           },
           {
            "iteration": 158,
            "learn": [
             0.02740481872
            ],
            "passed_time": 2262.057474,
            "remaining_time": 4851.33081,
            "test": [
             0.03229894855
            ]
           },
           {
            "iteration": 159,
            "learn": [
             0.02728810826
            ],
            "passed_time": 2277.436926,
            "remaining_time": 4839.553469,
            "test": [
             0.03216919514
            ]
           },
           {
            "iteration": 160,
            "learn": [
             0.02713163053
            ],
            "passed_time": 2291.025764,
            "remaining_time": 4823.961081,
            "test": [
             0.03204415783
            ]
           },
           {
            "iteration": 161,
            "learn": [
             0.02703326681
            ],
            "passed_time": 2304.899203,
            "remaining_time": 4808.987226,
            "test": [
             0.03193404713
            ]
           },
           {
            "iteration": 162,
            "learn": [
             0.02693234569
            ],
            "passed_time": 2318.760005,
            "remaining_time": 4794.000746,
            "test": [
             0.03188035487
            ]
           },
           {
            "iteration": 163,
            "learn": [
             0.02684851743
            ],
            "passed_time": 2332.704624,
            "remaining_time": 4779.199718,
            "test": [
             0.0318246835
            ]
           },
           {
            "iteration": 164,
            "learn": [
             0.02677770151
            ],
            "passed_time": 2346.371703,
            "remaining_time": 4763.845578,
            "test": [
             0.03178410051
            ]
           },
           {
            "iteration": 165,
            "learn": [
             0.02676520454
            ],
            "passed_time": 2362.261669,
            "remaining_time": 4752.984323,
            "test": [
             0.03178353131
            ]
           },
           {
            "iteration": 166,
            "learn": [
             0.0266881815
            ],
            "passed_time": 2376.255247,
            "remaining_time": 4738.281421,
            "test": [
             0.03173115432
            ]
           },
           {
            "iteration": 167,
            "learn": [
             0.02662260974
            ],
            "passed_time": 2390.488803,
            "remaining_time": 4724.061206,
            "test": [
             0.03169198875
            ]
           },
           {
            "iteration": 168,
            "learn": [
             0.02656755732
            ],
            "passed_time": 2404.53351,
            "remaining_time": 4709.470958,
            "test": [
             0.0316596022
            ]
           },
           {
            "iteration": 169,
            "learn": [
             0.02649957465
            ],
            "passed_time": 2418.462693,
            "remaining_time": 4694.662876,
            "test": [
             0.03163083323
            ]
           },
           {
            "iteration": 170,
            "learn": [
             0.02644806952
            ],
            "passed_time": 2432.562565,
            "remaining_time": 4680.193474,
            "test": [
             0.03159698411
            ]
           },
           {
            "iteration": 171,
            "learn": [
             0.0263462627
            ],
            "passed_time": 2448.794071,
            "remaining_time": 4669.793345,
            "test": [
             0.03152911719
            ]
           },
           {
            "iteration": 172,
            "learn": [
             0.02630465229
            ],
            "passed_time": 2462.813031,
            "remaining_time": 4655.143706,
            "test": [
             0.03150578661
            ]
           },
           {
            "iteration": 173,
            "learn": [
             0.02621623279
            ],
            "passed_time": 2476.579899,
            "remaining_time": 4640.029005,
            "test": [
             0.03143677489
            ]
           },
           {
            "iteration": 174,
            "learn": [
             0.02614057268
            ],
            "passed_time": 2490.397279,
            "remaining_time": 4625.023517,
            "test": [
             0.03138367997
            ]
           },
           {
            "iteration": 175,
            "learn": [
             0.02605587092
            ],
            "passed_time": 2504.245837,
            "remaining_time": 4610.088928,
            "test": [
             0.03132732969
            ]
           },
           {
            "iteration": 176,
            "learn": [
             0.02594673525
            ],
            "passed_time": 2518.221999,
            "remaining_time": 4595.399467,
            "test": [
             0.03125520295
            ]
           },
           {
            "iteration": 177,
            "learn": [
             0.025936439
            ],
            "passed_time": 2533.874861,
            "remaining_time": 4583.751153,
            "test": [
             0.03125426788
            ]
           },
           {
            "iteration": 178,
            "learn": [
             0.02580366843
            ],
            "passed_time": 2547.247583,
            "remaining_time": 4567.96913,
            "test": [
             0.03112293853
            ]
           },
           {
            "iteration": 179,
            "learn": [
             0.02574365018
            ],
            "passed_time": 2561.360702,
            "remaining_time": 4553.530136,
            "test": [
             0.0310794587
            ]
           },
           {
            "iteration": 180,
            "learn": [
             0.02566454055
            ],
            "passed_time": 2575.043462,
            "remaining_time": 4538.336267,
            "test": [
             0.03103486728
            ]
           },
           {
            "iteration": 181,
            "learn": [
             0.02560423263
            ],
            "passed_time": 2588.544284,
            "remaining_time": 4522.841111,
            "test": [
             0.03098573032
            ]
           },
           {
            "iteration": 182,
            "learn": [
             0.02556510432
            ],
            "passed_time": 2602.148434,
            "remaining_time": 4507.546741,
            "test": [
             0.03095408973
            ]
           },
           {
            "iteration": 183,
            "learn": [
             0.02543633811
            ],
            "passed_time": 2618.224998,
            "remaining_time": 4496.516844,
            "test": [
             0.03086522463
            ]
           },
           {
            "iteration": 184,
            "learn": [
             0.02537122595
            ],
            "passed_time": 2632.272486,
            "remaining_time": 4481.977477,
            "test": [
             0.03083225602
            ]
           },
           {
            "iteration": 185,
            "learn": [
             0.02536033091
            ],
            "passed_time": 2646.065323,
            "remaining_time": 4467.013502,
            "test": [
             0.0308158798
            ]
           },
           {
            "iteration": 186,
            "learn": [
             0.02529758093
            ],
            "passed_time": 2659.870405,
            "remaining_time": 4452.082549,
            "test": [
             0.03077241339
            ]
           },
           {
            "iteration": 187,
            "learn": [
             0.02520889845
            ],
            "passed_time": 2673.798955,
            "remaining_time": 4437.368479,
            "test": [
             0.03070043122
            ]
           },
           {
            "iteration": 188,
            "learn": [
             0.02513510545
            ],
            "passed_time": 2687.712125,
            "remaining_time": 4422.637411,
            "test": [
             0.03064833019
            ]
           },
           {
            "iteration": 189,
            "learn": [
             0.02510629965
            ],
            "passed_time": 2703.028793,
            "remaining_time": 4410.204872,
            "test": [
             0.03064279837
            ]
           },
           {
            "iteration": 190,
            "learn": [
             0.02503923881
            ],
            "passed_time": 2716.279805,
            "remaining_time": 4394.400314,
            "test": [
             0.03058669885
            ]
           },
           {
            "iteration": 191,
            "learn": [
             0.02497430475
            ],
            "passed_time": 2729.960728,
            "remaining_time": 4379.312001,
            "test": [
             0.03055764983
            ]
           },
           {
            "iteration": 192,
            "learn": [
             0.02496568637
            ],
            "passed_time": 2743.950295,
            "remaining_time": 4364.729226,
            "test": [
             0.03055227376
            ]
           },
           {
            "iteration": 193,
            "learn": [
             0.02490016631
            ],
            "passed_time": 2757.850632,
            "remaining_time": 4350.011822,
            "test": [
             0.03049439648
            ]
           },
           {
            "iteration": 194,
            "learn": [
             0.02483186447
            ],
            "passed_time": 2771.531397,
            "remaining_time": 4334.959365,
            "test": [
             0.03045524039
            ]
           },
           {
            "iteration": 195,
            "learn": [
             0.02477415436
            ],
            "passed_time": 2787.187293,
            "remaining_time": 4322.984372,
            "test": [
             0.03041613436
            ]
           },
           {
            "iteration": 196,
            "learn": [
             0.02469104912
            ],
            "passed_time": 2801.001225,
            "remaining_time": 4308.13894,
            "test": [
             0.03033986032
            ]
           },
           {
            "iteration": 197,
            "learn": [
             0.02466769448
            ],
            "passed_time": 2814.973111,
            "remaining_time": 4293.544846,
            "test": [
             0.03033172058
            ]
           },
           {
            "iteration": 198,
            "learn": [
             0.02462165275
            ],
            "passed_time": 2828.872161,
            "remaining_time": 4278.846836,
            "test": [
             0.03030560042
            ]
           },
           {
            "iteration": 199,
            "learn": [
             0.02458127296
            ],
            "passed_time": 2842.529885,
            "remaining_time": 4263.794827,
            "test": [
             0.03027267966
            ]
           },
           {
            "iteration": 200,
            "learn": [
             0.02453011216
            ],
            "passed_time": 2856.445322,
            "remaining_time": 4249.140055,
            "test": [
             0.03023198968
            ]
           },
           {
            "iteration": 201,
            "learn": [
             0.0244610327
            ],
            "passed_time": 2872.685559,
            "remaining_time": 4237.92226,
            "test": [
             0.03017868763
            ]
           },
           {
            "iteration": 202,
            "learn": [
             0.02440980518
            ],
            "passed_time": 2885.925893,
            "remaining_time": 4222.265962,
            "test": [
             0.03014335396
            ]
           },
           {
            "iteration": 203,
            "learn": [
             0.02431715125
            ],
            "passed_time": 2899.333996,
            "remaining_time": 4206.876779,
            "test": [
             0.03004182979
            ]
           },
           {
            "iteration": 204,
            "learn": [
             0.0242521955
            ],
            "passed_time": 2913.073815,
            "remaining_time": 4191.98427,
            "test": [
             0.02998355611
            ]
           },
           {
            "iteration": 205,
            "learn": [
             0.02421593167
            ],
            "passed_time": 2926.755413,
            "remaining_time": 4177.019861,
            "test": [
             0.02995338785
            ]
           },
           {
            "iteration": 206,
            "learn": [
             0.02415027738
            ],
            "passed_time": 2940.71036,
            "remaining_time": 4162.454761,
            "test": [
             0.02994136749
            ]
           },
           {
            "iteration": 207,
            "learn": [
             0.02408559416
            ],
            "passed_time": 2956.283732,
            "remaining_time": 4150.167547,
            "test": [
             0.02991363243
            ]
           },
           {
            "iteration": 208,
            "learn": [
             0.0240801441
            ],
            "passed_time": 2969.640246,
            "remaining_time": 4134.762256,
            "test": [
             0.02991343154
            ]
           },
           {
            "iteration": 209,
            "learn": [
             0.02401666823
            ],
            "passed_time": 2983.326644,
            "remaining_time": 4119.832032,
            "test": [
             0.02986433489
            ]
           },
           {
            "iteration": 210,
            "learn": [
             0.02396950348
            ],
            "passed_time": 2998.646438,
            "remaining_time": 4107.150809,
            "test": [
             0.02983821878
            ]
           },
           {
            "iteration": 211,
            "learn": [
             0.02391691642
            ],
            "passed_time": 3012.103831,
            "remaining_time": 4091.914638,
            "test": [
             0.02981133289
            ]
           },
           {
            "iteration": 212,
            "learn": [
             0.02391034269
            ],
            "passed_time": 3026.135997,
            "remaining_time": 4077.469629,
            "test": [
             0.02981521955
            ]
           },
           {
            "iteration": 213,
            "learn": [
             0.02382911516
            ],
            "passed_time": 3042.611752,
            "remaining_time": 4066.294211,
            "test": [
             0.0297587701
            ]
           },
           {
            "iteration": 214,
            "learn": [
             0.0237932405
            ],
            "passed_time": 3056.986664,
            "remaining_time": 4052.284648,
            "test": [
             0.02974734665
            ]
           },
           {
            "iteration": 215,
            "learn": [
             0.02372975232
            ],
            "passed_time": 3070.571326,
            "remaining_time": 4037.232669,
            "test": [
             0.02969612703
            ]
           },
           {
            "iteration": 216,
            "learn": [
             0.02371748884
            ],
            "passed_time": 3084.275921,
            "remaining_time": 4022.350625,
            "test": [
             0.02969076496
            ]
           },
           {
            "iteration": 217,
            "learn": [
             0.02368240538
            ],
            "passed_time": 3097.940752,
            "remaining_time": 4007.427945,
            "test": [
             0.02966887747
            ]
           },
           {
            "iteration": 218,
            "learn": [
             0.02367799869
            ],
            "passed_time": 3112.55708,
            "remaining_time": 3993.737624,
            "test": [
             0.02966875139
            ]
           },
           {
            "iteration": 219,
            "learn": [
             0.02362186038
            ],
            "passed_time": 3127.526927,
            "remaining_time": 3980.488816,
            "test": [
             0.0296495972
            ]
           },
           {
            "iteration": 220,
            "learn": [
             0.0235612998
            ],
            "passed_time": 3140.947721,
            "remaining_time": 3965.268843,
            "test": [
             0.02961328527
            ]
           },
           {
            "iteration": 221,
            "learn": [
             0.02351726212
            ],
            "passed_time": 3154.260832,
            "remaining_time": 3949.930231,
            "test": [
             0.02959302853
            ]
           },
           {
            "iteration": 222,
            "learn": [
             0.02350866427
            ],
            "passed_time": 3168.106208,
            "remaining_time": 3935.27094,
            "test": [
             0.02959282337
            ]
           },
           {
            "iteration": 223,
            "learn": [
             0.02345261819
            ],
            "passed_time": 3181.935214,
            "remaining_time": 3920.598746,
            "test": [
             0.02955779194
            ]
           },
           {
            "iteration": 224,
            "learn": [
             0.0233843738
            ],
            "passed_time": 3196.063043,
            "remaining_time": 3906.299275,
            "test": [
             0.0295198723
            ]
           },
           {
            "iteration": 225,
            "learn": [
             0.02336907555
            ],
            "passed_time": 3212.144647,
            "remaining_time": 3894.370059,
            "test": [
             0.02951144361
            ]
           },
           {
            "iteration": 226,
            "learn": [
             0.02332265058
            ],
            "passed_time": 3225.575317,
            "remaining_time": 3879.21613,
            "test": [
             0.0294786818
            ]
           },
           {
            "iteration": 227,
            "learn": [
             0.02323339678
            ],
            "passed_time": 3239.38424,
            "remaining_time": 3864.528567,
            "test": [
             0.0294270531
            ]
           },
           {
            "iteration": 228,
            "learn": [
             0.02319009011
            ],
            "passed_time": 3253.189031,
            "remaining_time": 3849.843787,
            "test": [
             0.02939048156
            ]
           },
           {
            "iteration": 229,
            "learn": [
             0.02315547043
            ],
            "passed_time": 3267.190439,
            "remaining_time": 3835.397472,
            "test": [
             0.02936274047
            ]
           },
           {
            "iteration": 230,
            "learn": [
             0.02309393871
            ],
            "passed_time": 3281.367755,
            "remaining_time": 3821.159853,
            "test": [
             0.02932277287
            ]
           },
           {
            "iteration": 231,
            "learn": [
             0.02303050637
            ],
            "passed_time": 3297.299663,
            "remaining_time": 3808.949611,
            "test": [
             0.02927779061
            ]
           },
           {
            "iteration": 232,
            "learn": [
             0.02297536821
            ],
            "passed_time": 3310.965445,
            "remaining_time": 3794.110617,
            "test": [
             0.02925727332
            ]
           },
           {
            "iteration": 233,
            "learn": [
             0.02292648543
            ],
            "passed_time": 3324.741319,
            "remaining_time": 3779.406799,
            "test": [
             0.02921572985
            ]
           },
           {
            "iteration": 234,
            "learn": [
             0.02288989448
            ],
            "passed_time": 3338.518529,
            "remaining_time": 3764.712384,
            "test": [
             0.02918387276
            ]
           },
           {
            "iteration": 235,
            "learn": [
             0.02279292319
            ],
            "passed_time": 3352.581039,
            "remaining_time": 3750.344891,
            "test": [
             0.02909884399
            ]
           },
           {
            "iteration": 236,
            "learn": [
             0.02278650984
            ],
            "passed_time": 3367.308334,
            "remaining_time": 3736.717687,
            "test": [
             0.02910300272
            ]
           },
           {
            "iteration": 237,
            "learn": [
             0.02274441943
            ],
            "passed_time": 3382.120187,
            "remaining_time": 3723.174324,
            "test": [
             0.02907419676
            ]
           },
           {
            "iteration": 238,
            "learn": [
             0.02267755224
            ],
            "passed_time": 3395.980305,
            "remaining_time": 3708.581002,
            "test": [
             0.02903059737
            ]
           },
           {
            "iteration": 239,
            "learn": [
             0.02267144575
            ],
            "passed_time": 3410.205141,
            "remaining_time": 3694.388903,
            "test": [
             0.02903153533
            ]
           },
           {
            "iteration": 240,
            "learn": [
             0.02262854977
            ],
            "passed_time": 3424.165673,
            "remaining_time": 3679.912486,
            "test": [
             0.02901037131
            ]
           },
           {
            "iteration": 241,
            "learn": [
             0.02256348192
            ],
            "passed_time": 3437.817219,
            "remaining_time": 3665.11092,
            "test": [
             0.02896874947
            ]
           },
           {
            "iteration": 242,
            "learn": [
             0.02251917871
            ],
            "passed_time": 3453.274559,
            "remaining_time": 3652.228648,
            "test": [
             0.02893855324
            ]
           },
           {
            "iteration": 243,
            "learn": [
             0.02242719518
            ],
            "passed_time": 3467.428911,
            "remaining_time": 3637.958202,
            "test": [
             0.02886716677
            ]
           },
           {
            "iteration": 244,
            "learn": [
             0.0223787125
            ],
            "passed_time": 3481.5328,
            "remaining_time": 3623.636179,
            "test": [
             0.02883952151
            ]
           },
           {
            "iteration": 245,
            "learn": [
             0.02232513823
            ],
            "passed_time": 3495.534008,
            "remaining_time": 3609.20991,
            "test": [
             0.02879453204
            ]
           },
           {
            "iteration": 246,
            "learn": [
             0.02227529927
            ],
            "passed_time": 3509.130753,
            "remaining_time": 3594.372795,
            "test": [
             0.0287654397
            ]
           },
           {
            "iteration": 247,
            "learn": [
             0.02227098952
            ],
            "passed_time": 3522.78174,
            "remaining_time": 3579.600801,
            "test": [
             0.02876494498
            ]
           },
           {
            "iteration": 248,
            "learn": [
             0.0222572731
            ],
            "passed_time": 3538.775957,
            "remaining_time": 3567.19986,
            "test": [
             0.02876133114
            ]
           },
           {
            "iteration": 249,
            "learn": [
             0.02220972521
            ],
            "passed_time": 3552.636769,
            "remaining_time": 3552.636769,
            "test": [
             0.02872022278
            ]
           },
           {
            "iteration": 250,
            "learn": [
             0.02215066948
            ],
            "passed_time": 3566.004203,
            "remaining_time": 3537.589827,
            "test": [
             0.02869297712
            ]
           },
           {
            "iteration": 251,
            "learn": [
             0.02210424801
            ],
            "passed_time": 3579.434762,
            "remaining_time": 3522.618338,
            "test": [
             0.02866127921
            ]
           },
           {
            "iteration": 252,
            "learn": [
             0.02209537874
            ],
            "passed_time": 3593.235367,
            "remaining_time": 3508.020299,
            "test": [
             0.02866082263
            ]
           },
           {
            "iteration": 253,
            "learn": [
             0.0220375406
            ],
            "passed_time": 3607.195612,
            "remaining_time": 3493.583152,
            "test": [
             0.02863941569
            ]
           },
           {
            "iteration": 254,
            "learn": [
             0.0219954765
            ],
            "passed_time": 3622.054226,
            "remaining_time": 3480.012884,
            "test": [
             0.02861869578
            ]
           },
           {
            "iteration": 255,
            "learn": [
             0.02193124498
            ],
            "passed_time": 3636.867238,
            "remaining_time": 3466.389087,
            "test": [
             0.02856626133
            ]
           },
           {
            "iteration": 256,
            "learn": [
             0.021903408
            ],
            "passed_time": 3650.71161,
            "remaining_time": 3451.840161,
            "test": [
             0.02854824577
            ]
           },
           {
            "iteration": 257,
            "learn": [
             0.02183705653
            ],
            "passed_time": 3664.58612,
            "remaining_time": 3437.324965,
            "test": [
             0.02849581101
            ]
           },
           {
            "iteration": 258,
            "learn": [
             0.02182194652
            ],
            "passed_time": 3678.6007,
            "remaining_time": 3422.945052,
            "test": [
             0.0284834245
            ]
           },
           {
            "iteration": 259,
            "learn": [
             0.02181796384
            ],
            "passed_time": 3692.341658,
            "remaining_time": 3408.315377,
            "test": [
             0.02848334758
            ]
           },
           {
            "iteration": 260,
            "learn": [
             0.02178810875
            ],
            "passed_time": 3707.313933,
            "remaining_time": 3394.820038,
            "test": [
             0.02846341148
            ]
           },
           {
            "iteration": 261,
            "learn": [
             0.02178245552
            ],
            "passed_time": 3721.880155,
            "remaining_time": 3380.944569,
            "test": [
             0.02846813735
            ]
           },
           {
            "iteration": 262,
            "learn": [
             0.021739828
            ],
            "passed_time": 3735.494768,
            "remaining_time": 3366.206312,
            "test": [
             0.02844903105
            ]
           },
           {
            "iteration": 263,
            "learn": [
             0.02169176028
            ],
            "passed_time": 3749.327138,
            "remaining_time": 3351.67123,
            "test": [
             0.02842061597
            ]
           },
           {
            "iteration": 264,
            "learn": [
             0.02165170299
            ],
            "passed_time": 3763.00926,
            "remaining_time": 3337.008212,
            "test": [
             0.02838371674
            ]
           },
           {
            "iteration": 265,
            "learn": [
             0.02158220606
            ],
            "passed_time": 3776.871551,
            "remaining_time": 3322.511064,
            "test": [
             0.02834363781
            ]
           },
           {
            "iteration": 266,
            "learn": [
             0.02153449029
            ],
            "passed_time": 3791.93227,
            "remaining_time": 3309.064491,
            "test": [
             0.0283153294
            ]
           },
           {
            "iteration": 267,
            "learn": [
             0.02152426242
            ],
            "passed_time": 3806.868627,
            "remaining_time": 3295.498214,
            "test": [
             0.02831208564
            ]
           },
           {
            "iteration": 268,
            "learn": [
             0.02146374678
            ],
            "passed_time": 3820.743712,
            "remaining_time": 3281.0104,
            "test": [
             0.02826724831
            ]
           },
           {
            "iteration": 269,
            "learn": [
             0.02143706437
            ],
            "passed_time": 3834.759391,
            "remaining_time": 3266.646889,
            "test": [
             0.02823869433
            ]
           },
           {
            "iteration": 270,
            "learn": [
             0.02138354075
            ],
            "passed_time": 3849.084112,
            "remaining_time": 3252.547091,
            "test": [
             0.02819864265
            ]
           },
           {
            "iteration": 271,
            "learn": [
             0.02134952131
            ],
            "passed_time": 3863.054209,
            "remaining_time": 3238.148381,
            "test": [
             0.02817409685
            ]
           },
           {
            "iteration": 272,
            "learn": [
             0.02132055867
            ],
            "passed_time": 3878.747026,
            "remaining_time": 3225.185256,
            "test": [
             0.02814976736
            ]
           },
           {
            "iteration": 273,
            "learn": [
             0.02128387176
            ],
            "passed_time": 3892.927816,
            "remaining_time": 3210.95506,
            "test": [
             0.02813631177
            ]
           },
           {
            "iteration": 274,
            "learn": [
             0.02123529137
            ],
            "passed_time": 3906.613326,
            "remaining_time": 3196.319994,
            "test": [
             0.02809198697
            ]
           },
           {
            "iteration": 275,
            "learn": [
             0.02116579219
            ],
            "passed_time": 3920.657756,
            "remaining_time": 3181.983106,
            "test": [
             0.02803618242
            ]
           },
           {
            "iteration": 276,
            "learn": [
             0.02115976128
            ],
            "passed_time": 3934.635445,
            "remaining_time": 3167.5946,
            "test": [
             0.02803371979
            ]
           },
           {
            "iteration": 277,
            "learn": [
             0.0211560038
            ],
            "passed_time": 3948.453682,
            "remaining_time": 3153.081717,
            "test": [
             0.0280335379
            ]
           },
           {
            "iteration": 278,
            "learn": [
             0.02110196197
            ],
            "passed_time": 3964.147372,
            "remaining_time": 3140.059388,
            "test": [
             0.02798818125
            ]
           },
           {
            "iteration": 279,
            "learn": [
             0.02105579331
            ],
            "passed_time": 3978.266243,
            "remaining_time": 3125.78062,
            "test": [
             0.02796199697
            ]
           },
           {
            "iteration": 280,
            "learn": [
             0.02101664349
            ],
            "passed_time": 3991.662256,
            "remaining_time": 3110.939623,
            "test": [
             0.02793286449
            ]
           },
           {
            "iteration": 281,
            "learn": [
             0.02095041092
            ],
            "passed_time": 4005.747477,
            "remaining_time": 3096.641667,
            "test": [
             0.02788905607
            ]
           },
           {
            "iteration": 282,
            "learn": [
             0.02093860803
            ],
            "passed_time": 4019.638446,
            "remaining_time": 3082.196265,
            "test": [
             0.02788268124
            ]
           },
           {
            "iteration": 283,
            "learn": [
             0.02089338305
            ],
            "passed_time": 4033.442122,
            "remaining_time": 3067.688374,
            "test": [
             0.02786818483
            ]
           },
           {
            "iteration": 284,
            "learn": [
             0.02088970008
            ],
            "passed_time": 4048.88855,
            "remaining_time": 3054.424696,
            "test": [
             0.02786814204
            ]
           },
           {
            "iteration": 285,
            "learn": [
             0.0208408477
            ],
            "passed_time": 4062.552282,
            "remaining_time": 3039.811847,
            "test": [
             0.02785494573
            ]
           },
           {
            "iteration": 286,
            "learn": [
             0.02080689396
            ],
            "passed_time": 4076.302534,
            "remaining_time": 3025.269825,
            "test": [
             0.02783391959
            ]
           },
           {
            "iteration": 287,
            "learn": [
             0.02077205118
            ],
            "passed_time": 4089.900971,
            "remaining_time": 3010.621548,
            "test": [
             0.02782351969
            ]
           },
           {
            "iteration": 288,
            "learn": [
             0.02072525288
            ],
            "passed_time": 4104.279864,
            "remaining_time": 2996.550351,
            "test": [
             0.02779610792
            ]
           },
           {
            "iteration": 289,
            "learn": [
             0.0207200532
            ],
            "passed_time": 4118.134915,
            "remaining_time": 2982.097697,
            "test": [
             0.02779653907
            ]
           },
           {
            "iteration": 290,
            "learn": [
             0.02067302211
            ],
            "passed_time": 4134.082603,
            "remaining_time": 2969.15211,
            "test": [
             0.02777631788
            ]
           },
           {
            "iteration": 291,
            "learn": [
             0.02062462017
            ],
            "passed_time": 4148.345751,
            "remaining_time": 2954.986014,
            "test": [
             0.02774425481
            ]
           },
           {
            "iteration": 292,
            "learn": [
             0.02062128626
            ],
            "passed_time": 4162.499586,
            "remaining_time": 2940.742028,
            "test": [
             0.02774419755
            ]
           },
           {
            "iteration": 293,
            "learn": [
             0.02056208886
            ],
            "passed_time": 4176.196837,
            "remaining_time": 2926.178736,
            "test": [
             0.02768864725
            ]
           },
           {
            "iteration": 294,
            "learn": [
             0.02049970203
            ],
            "passed_time": 4189.826301,
            "remaining_time": 2911.574209,
            "test": [
             0.02762525004
            ]
           },
           {
            "iteration": 295,
            "learn": [
             0.02046672461
            ],
            "passed_time": 4203.392573,
            "remaining_time": 2896.932719,
            "test": [
             0.0276118267
            ]
           },
           {
            "iteration": 296,
            "learn": [
             0.02042681887
            ],
            "passed_time": 4219.534364,
            "remaining_time": 2884.058841,
            "test": [
             0.02756744224
            ]
           },
           {
            "iteration": 297,
            "learn": [
             0.02040032287
            ],
            "passed_time": 4233.481433,
            "remaining_time": 2869.675334,
            "test": [
             0.02755109425
            ]
           },
           {
            "iteration": 298,
            "learn": [
             0.02038035333
            ],
            "passed_time": 4247.260733,
            "remaining_time": 2855.181964,
            "test": [
             0.02754292076
            ]
           },
           {
            "iteration": 299,
            "learn": [
             0.02035639068
            ],
            "passed_time": 4260.825429,
            "remaining_time": 2840.550286,
            "test": [
             0.02752046852
            ]
           },
           {
            "iteration": 300,
            "learn": [
             0.02032616603
            ],
            "passed_time": 4274.899774,
            "remaining_time": 2826.262641,
            "test": [
             0.02750189015
            ]
           },
           {
            "iteration": 301,
            "learn": [
             0.02028484374
            ],
            "passed_time": 4288.81985,
            "remaining_time": 2811.875266,
            "test": [
             0.02747732231
            ]
           },
           {
            "iteration": 302,
            "learn": [
             0.02025155468
            ],
            "passed_time": 4304.328848,
            "remaining_time": 2798.524036,
            "test": [
             0.02747096859
            ]
           },
           {
            "iteration": 303,
            "learn": [
             0.02024820257
            ],
            "passed_time": 4318.507366,
            "remaining_time": 2784.300802,
            "test": [
             0.02747107131
            ]
           },
           {
            "iteration": 304,
            "learn": [
             0.02020403079
            ],
            "passed_time": 4332.4301,
            "remaining_time": 2769.914326,
            "test": [
             0.02744284288
            ]
           },
           {
            "iteration": 305,
            "learn": [
             0.0201892905
            ],
            "passed_time": 4346.269757,
            "remaining_time": 2755.478212,
            "test": [
             0.02743028118
            ]
           },
           {
            "iteration": 306,
            "learn": [
             0.02018041642
            ],
            "passed_time": 4360.092639,
            "remaining_time": 2741.035438,
            "test": [
             0.02742758608
            ]
           },
           {
            "iteration": 307,
            "learn": [
             0.02008034256
            ],
            "passed_time": 4373.946724,
            "remaining_time": 2726.61614,
            "test": [
             0.02734858494
            ]
           },
           {
            "iteration": 308,
            "learn": [
             0.02004973377
            ],
            "passed_time": 4389.00275,
            "remaining_time": 2712.943447,
            "test": [
             0.02733038305
            ]
           },
           {
            "iteration": 309,
            "learn": [
             0.02004655476
            ],
            "passed_time": 4403.537619,
            "remaining_time": 2698.942412,
            "test": [
             0.02733032052
            ]
           },
           {
            "iteration": 310,
            "learn": [
             0.02004191375
            ],
            "passed_time": 4417.111922,
            "remaining_time": 2684.35419,
            "test": [
             0.02733069336
            ]
           },
           {
            "iteration": 311,
            "learn": [
             0.0200071861
            ],
            "passed_time": 4431.291389,
            "remaining_time": 2670.137119,
            "test": [
             0.02732506182
            ]
           },
           {
            "iteration": 312,
            "learn": [
             0.01997565037
            ],
            "passed_time": 4445.473497,
            "remaining_time": 2655.921865,
            "test": [
             0.02729788103
            ]
           },
           {
            "iteration": 313,
            "learn": [
             0.01994356069
            ],
            "passed_time": 4459.724304,
            "remaining_time": 2641.747518,
            "test": [
             0.02727911259
            ]
           },
           {
            "iteration": 314,
            "learn": [
             0.01991074537
            ],
            "passed_time": 4475.456654,
            "remaining_time": 2628.442797,
            "test": [
             0.0272529308
            ]
           },
           {
            "iteration": 315,
            "learn": [
             0.01989131269
            ],
            "passed_time": 4489.112873,
            "remaining_time": 2613.913825,
            "test": [
             0.02724134726
            ]
           },
           {
            "iteration": 316,
            "learn": [
             0.01987814825
            ],
            "passed_time": 4503.185705,
            "remaining_time": 2599.630864,
            "test": [
             0.02723264012
            ]
           },
           {
            "iteration": 317,
            "learn": [
             0.01987342175
            ],
            "passed_time": 4517.337773,
            "remaining_time": 2585.394574,
            "test": [
             0.02723418033
            ]
           },
           {
            "iteration": 318,
            "learn": [
             0.01984137136
            ],
            "passed_time": 4531.595244,
            "remaining_time": 2571.218618,
            "test": [
             0.02721355298
            ]
           },
           {
            "iteration": 319,
            "learn": [
             0.01983829741
            ],
            "passed_time": 4545.846754,
            "remaining_time": 2557.038799,
            "test": [
             0.02721111102
            ]
           },
           {
            "iteration": 320,
            "learn": [
             0.0197843877
            ],
            "passed_time": 4561.640015,
            "remaining_time": 2543.718264,
            "test": [
             0.02717524751
            ]
           },
           {
            "iteration": 321,
            "learn": [
             0.01977973337
            ],
            "passed_time": 4575.910426,
            "remaining_time": 2529.540546,
            "test": [
             0.02717535044
            ]
           },
           {
            "iteration": 322,
            "learn": [
             0.01977546765
            ],
            "passed_time": 4589.905704,
            "remaining_time": 2515.211485,
            "test": [
             0.02717985586
            ]
           },
           {
            "iteration": 323,
            "learn": [
             0.01977251237
            ],
            "passed_time": 4604.129166,
            "remaining_time": 2501.008436,
            "test": [
             0.02717995386
            ]
           },
           {
            "iteration": 324,
            "learn": [
             0.01974641522
            ],
            "passed_time": 4617.571879,
            "remaining_time": 2486.384858,
            "test": [
             0.0271690633
            ]
           },
           {
            "iteration": 325,
            "learn": [
             0.01973250271
            ],
            "passed_time": 4631.554604,
            "remaining_time": 2472.056752,
            "test": [
             0.02716545879
            ]
           },
           {
            "iteration": 326,
            "learn": [
             0.01969541757
            ],
            "passed_time": 4647.328681,
            "remaining_time": 2458.678476,
            "test": [
             0.02713882221
            ]
           },
           {
            "iteration": 327,
            "learn": [
             0.01967718503
            ],
            "passed_time": 4661.293873,
            "remaining_time": 2444.337031,
            "test": [
             0.02713287992
            ]
           },
           {
            "iteration": 328,
            "learn": [
             0.01966737732
            ],
            "passed_time": 4675.131312,
            "remaining_time": 2429.931472,
            "test": [
             0.02712490063
            ]
           },
           {
            "iteration": 329,
            "learn": [
             0.01963026812
            ],
            "passed_time": 4688.908808,
            "remaining_time": 2415.498477,
            "test": [
             0.02710017416
            ]
           },
           {
            "iteration": 330,
            "learn": [
             0.01962554419
            ],
            "passed_time": 4702.868375,
            "remaining_time": 2401.162403,
            "test": [
             0.027101001
            ]
           },
           {
            "iteration": 331,
            "learn": [
             0.01957936659
            ],
            "passed_time": 4716.962972,
            "remaining_time": 2386.896926,
            "test": [
             0.02706803018
            ]
           },
           {
            "iteration": 332,
            "learn": [
             0.01954898278
            ],
            "passed_time": 4732.612863,
            "remaining_time": 2373.412457,
            "test": [
             0.02705115497
            ]
           },
           {
            "iteration": 333,
            "learn": [
             0.01949681431
            ],
            "passed_time": 4746.63035,
            "remaining_time": 2359.103707,
            "test": [
             0.02700455257
            ]
           },
           {
            "iteration": 334,
            "learn": [
             0.01947506818
            ],
            "passed_time": 4760.753,
            "remaining_time": 2344.848492,
            "test": [
             0.02699790351
            ]
           },
           {
            "iteration": 335,
            "learn": [
             0.01942124137
            ],
            "passed_time": 4774.570743,
            "remaining_time": 2330.445244,
            "test": [
             0.02695371307
            ]
           },
           {
            "iteration": 336,
            "learn": [
             0.01936728567
            ],
            "passed_time": 4788.50063,
            "remaining_time": 2316.099711,
            "test": [
             0.0269253904
            ]
           },
           {
            "iteration": 337,
            "learn": [
             0.01934439654
            ],
            "passed_time": 4802.204087,
            "remaining_time": 2301.648113,
            "test": [
             0.02690325349
            ]
           },
           {
            "iteration": 338,
            "learn": [
             0.01931603838
            ],
            "passed_time": 4817.83531,
            "remaining_time": 2288.116475,
            "test": [
             0.02688784639
            ]
           },
           {
            "iteration": 339,
            "learn": [
             0.01931321102
            ],
            "passed_time": 4832.241732,
            "remaining_time": 2273.996109,
            "test": [
             0.02688822719
            ]
           },
           {
            "iteration": 340,
            "learn": [
             0.01927197966
            ],
            "passed_time": 4846.141449,
            "remaining_time": 2259.637802,
            "test": [
             0.02686819755
            ]
           },
           {
            "iteration": 341,
            "learn": [
             0.01925090867
            ],
            "passed_time": 4859.616466,
            "remaining_time": 2245.08597,
            "test": [
             0.02686667951
            ]
           },
           {
            "iteration": 342,
            "learn": [
             0.01921564297
            ],
            "passed_time": 4873.305368,
            "remaining_time": 2230.638317,
            "test": [
             0.02683561777
            ]
           },
           {
            "iteration": 343,
            "learn": [
             0.01921282605
            ],
            "passed_time": 4887.509354,
            "remaining_time": 2216.428661,
            "test": [
             0.02683591617
            ]
           },
           {
            "iteration": 344,
            "learn": [
             0.0191836428
            ],
            "passed_time": 4903.218153,
            "remaining_time": 2202.895112,
            "test": [
             0.02681401002
            ]
           },
           {
            "iteration": 345,
            "learn": [
             0.01914534561
            ],
            "passed_time": 4917.129377,
            "remaining_time": 2188.548913,
            "test": [
             0.02680027566
            ]
           },
           {
            "iteration": 346,
            "learn": [
             0.01909870672
            ],
            "passed_time": 4930.905278,
            "remaining_time": 2174.145555,
            "test": [
             0.02674843721
            ]
           },
           {
            "iteration": 347,
            "learn": [
             0.0190945323
            ],
            "passed_time": 4944.756995,
            "remaining_time": 2159.778918,
            "test": [
             0.02675007669
            ]
           },
           {
            "iteration": 348,
            "learn": [
             0.01905588286
            ],
            "passed_time": 4958.83613,
            "remaining_time": 2145.513626,
            "test": [
             0.02673372519
            ]
           },
           {
            "iteration": 349,
            "learn": [
             0.01902633441
            ],
            "passed_time": 4972.864279,
            "remaining_time": 2131.227548,
            "test": [
             0.02673219346
            ]
           },
           {
            "iteration": 350,
            "learn": [
             0.01900136344
            ],
            "passed_time": 4988.414591,
            "remaining_time": 2117.5891,
            "test": [
             0.02671903364
            ]
           },
           {
            "iteration": 351,
            "learn": [
             0.01896609333
            ],
            "passed_time": 5002.342674,
            "remaining_time": 2103.257715,
            "test": [
             0.02672188608
            ]
           },
           {
            "iteration": 352,
            "learn": [
             0.01896214652
            ],
            "passed_time": 5016.529361,
            "remaining_time": 2089.036306,
            "test": [
             0.02672267508
            ]
           },
           {
            "iteration": 353,
            "learn": [
             0.01893652226
            ],
            "passed_time": 5030.34065,
            "remaining_time": 2074.660268,
            "test": [
             0.02670438034
            ]
           },
           {
            "iteration": 354,
            "learn": [
             0.01891406382
            ],
            "passed_time": 5044.153959,
            "remaining_time": 2060.288237,
            "test": [
             0.02669790131
            ]
           },
           {
            "iteration": 355,
            "learn": [
             0.01887106619
            ],
            "passed_time": 5057.757147,
            "remaining_time": 2045.834351,
            "test": [
             0.02666340811
            ]
           },
           {
            "iteration": 356,
            "learn": [
             0.0188460513
            ],
            "passed_time": 5073.695546,
            "remaining_time": 2032.320625,
            "test": [
             0.02664742018
            ]
           },
           {
            "iteration": 357,
            "learn": [
             0.01883461756
            ],
            "passed_time": 5087.945168,
            "remaining_time": 2018.123502,
            "test": [
             0.02664167526
            ]
           },
           {
            "iteration": 358,
            "learn": [
             0.01879776181
            ],
            "passed_time": 5101.377599,
            "remaining_time": 2003.605129,
            "test": [
             0.02661894833
            ]
           },
           {
            "iteration": 359,
            "learn": [
             0.01877158239
            ],
            "passed_time": 5115.535981,
            "remaining_time": 1989.375104,
            "test": [
             0.02660193793
            ]
           },
           {
            "iteration": 360,
            "learn": [
             0.0187283528
            ],
            "passed_time": 5129.312236,
            "remaining_time": 1974.99834,
            "test": [
             0.02657164629
            ]
           },
           {
            "iteration": 361,
            "learn": [
             0.01869363746
            ],
            "passed_time": 5143.422643,
            "remaining_time": 1960.752278,
            "test": [
             0.02653678008
            ]
           },
           {
            "iteration": 362,
            "learn": [
             0.01869102028
            ],
            "passed_time": 5159.024999,
            "remaining_time": 1947.070041,
            "test": [
             0.02653739354
            ]
           },
           {
            "iteration": 363,
            "learn": [
             0.01866099193
            ],
            "passed_time": 5172.948577,
            "remaining_time": 1932.750018,
            "test": [
             0.02652814484
            ]
           },
           {
            "iteration": 364,
            "learn": [
             0.0186570426
            ],
            "passed_time": 5187.193678,
            "remaining_time": 1918.551086,
            "test": [
             0.02652466931
            ]
           },
           {
            "iteration": 365,
            "learn": [
             0.01862904637
            ],
            "passed_time": 5201.154122,
            "remaining_time": 1904.247684,
            "test": [
             0.02651290274
            ]
           },
           {
            "iteration": 366,
            "learn": [
             0.01862176898
            ],
            "passed_time": 5215.176137,
            "remaining_time": 1889.968464,
            "test": [
             0.02651312605
            ]
           },
           {
            "iteration": 367,
            "learn": [
             0.01859814051
            ],
            "passed_time": 5228.772181,
            "remaining_time": 1875.537848,
            "test": [
             0.02649447023
            ]
           },
           {
            "iteration": 368,
            "learn": [
             0.01857570567
            ],
            "passed_time": 5244.198169,
            "remaining_time": 1861.761409,
            "test": [
             0.02647451303
            ]
           },
           {
            "iteration": 369,
            "learn": [
             0.01853943392
            ],
            "passed_time": 5258.554806,
            "remaining_time": 1847.600337,
            "test": [
             0.0264559598
            ]
           },
           {
            "iteration": 370,
            "learn": [
             0.01850371633
            ],
            "passed_time": 5274.691298,
            "remaining_time": 1834.057082,
            "test": [
             0.02643248539
            ]
           },
           {
            "iteration": 371,
            "learn": [
             0.01849281675
            ],
            "passed_time": 5288.757749,
            "remaining_time": 1819.787612,
            "test": [
             0.02642833314
            ]
           },
           {
            "iteration": 372,
            "learn": [
             0.01847413732
            ],
            "passed_time": 5302.329041,
            "remaining_time": 1805.350639,
            "test": [
             0.0264156398
            ]
           },
           {
            "iteration": 373,
            "learn": [
             0.01845147099
            ],
            "passed_time": 5316.653005,
            "remaining_time": 1791.171868,
            "test": [
             0.02640584398
            ]
           },
           {
            "iteration": 374,
            "learn": [
             0.01844899594
            ],
            "passed_time": 5332.654909,
            "remaining_time": 1777.551636,
            "test": [
             0.02640644661
            ]
           },
           {
            "iteration": 375,
            "learn": [
             0.01843054664
            ],
            "passed_time": 5346.818314,
            "remaining_time": 1763.312423,
            "test": [
             0.02640404571
            ]
           },
           {
            "iteration": 376,
            "learn": [
             0.01841171375
            ],
            "passed_time": 5360.839371,
            "remaining_time": 1749.027169,
            "test": [
             0.02639631174
            ]
           },
           {
            "iteration": 377,
            "learn": [
             0.01835689009
            ],
            "passed_time": 5375.135349,
            "remaining_time": 1734.832044,
            "test": [
             0.02636159878
            ]
           },
           {
            "iteration": 378,
            "learn": [
             0.01835383133
            ],
            "passed_time": 5389.677771,
            "remaining_time": 1720.715067,
            "test": [
             0.02636186928
            ]
           },
           {
            "iteration": 379,
            "learn": [
             0.01835134315
            ],
            "passed_time": 5403.544357,
            "remaining_time": 1706.382429,
            "test": [
             0.02636228179
            ]
           },
           {
            "iteration": 380,
            "learn": [
             0.01830831213
            ],
            "passed_time": 5419.480648,
            "remaining_time": 1692.69868,
            "test": [
             0.02634319099
            ]
           },
           {
            "iteration": 381,
            "learn": [
             0.01830578024
            ],
            "passed_time": 5433.589673,
            "remaining_time": 1678.438695,
            "test": [
             0.02634367942
            ]
           },
           {
            "iteration": 382,
            "learn": [
             0.01830207104
            ],
            "passed_time": 5447.933983,
            "remaining_time": 1664.251373,
            "test": [
             0.02634475253
            ]
           },
           {
            "iteration": 383,
            "learn": [
             0.01827913436
            ],
            "passed_time": 5462.023331,
            "remaining_time": 1649.986214,
            "test": [
             0.02632974152
            ]
           },
           {
            "iteration": 384,
            "learn": [
             0.01826492861
            ],
            "passed_time": 5475.928136,
            "remaining_time": 1635.666846,
            "test": [
             0.02632100889
            ]
           },
           {
            "iteration": 385,
            "learn": [
             0.01823741208
            ],
            "passed_time": 5489.955116,
            "remaining_time": 1621.385708,
            "test": [
             0.02629577624
            ]
           },
           {
            "iteration": 386,
            "learn": [
             0.01822059056
            ],
            "passed_time": 5505.965157,
            "remaining_time": 1607.684917,
            "test": [
             0.02628531476
            ]
           },
           {
            "iteration": 387,
            "learn": [
             0.01821429398
            ],
            "passed_time": 5519.737045,
            "remaining_time": 1593.326157,
            "test": [
             0.02628027408
            ]
           },
           {
            "iteration": 388,
            "learn": [
             0.01817875763
            ],
            "passed_time": 5533.317752,
            "remaining_time": 1578.915862,
            "test": [
             0.02624595597
            ]
           },
           {
            "iteration": 389,
            "learn": [
             0.01811919437
            ],
            "passed_time": 5546.966668,
            "remaining_time": 1564.52906,
            "test": [
             0.02621803444
            ]
           },
           {
            "iteration": 390,
            "learn": [
             0.01811664668
            ],
            "passed_time": 5561.199084,
            "remaining_time": 1550.308696,
            "test": [
             0.02621808531
            ]
           },
           {
            "iteration": 391,
            "learn": [
             0.01810779366
            ],
            "passed_time": 5574.997499,
            "remaining_time": 1535.968699,
            "test": [
             0.02621377622
            ]
           },
           {
            "iteration": 392,
            "learn": [
             0.0180836464
            ],
            "passed_time": 5590.600122,
            "remaining_time": 1522.122679,
            "test": [
             0.02620329788
            ]
           },
           {
            "iteration": 393,
            "learn": [
             0.01805982764
            ],
            "passed_time": 5604.500558,
            "remaining_time": 1507.809795,
            "test": [
             0.02619646342
            ]
           },
           {
            "iteration": 394,
            "learn": [
             0.01803160676
            ],
            "passed_time": 5618.411851,
            "remaining_time": 1493.501884,
            "test": [
             0.02618061955
            ]
           },
           {
            "iteration": 395,
            "learn": [
             0.0180068446
            ],
            "passed_time": 5632.780995,
            "remaining_time": 1479.316221,
            "test": [
             0.02617029354
            ]
           },
           {
            "iteration": 396,
            "learn": [
             0.01798428064
            ],
            "passed_time": 5646.828729,
            "remaining_time": 1465.046244,
            "test": [
             0.02615685643
            ]
           },
           {
            "iteration": 397,
            "learn": [
             0.01798074101
            ],
            "passed_time": 5660.220165,
            "remaining_time": 1450.609188,
            "test": [
             0.02616304787
            ]
           },
           {
            "iteration": 398,
            "learn": [
             0.01796255628
            ],
            "passed_time": 5676.200248,
            "remaining_time": 1436.832644,
            "test": [
             0.02615136645
            ]
           },
           {
            "iteration": 399,
            "learn": [
             0.01793266834
            ],
            "passed_time": 5690.457033,
            "remaining_time": 1422.614258,
            "test": [
             0.02614363097
            ]
           },
           {
            "iteration": 400,
            "learn": [
             0.01789185387
            ],
            "passed_time": 5704.356596,
            "remaining_time": 1408.307489,
            "test": [
             0.02611493325
            ]
           },
           {
            "iteration": 401,
            "learn": [
             0.01788182821
            ],
            "passed_time": 5718.049491,
            "remaining_time": 1393.952363,
            "test": [
             0.02611343565
            ]
           },
           {
            "iteration": 402,
            "learn": [
             0.01787947587
            ],
            "passed_time": 5732.073466,
            "remaining_time": 1379.680214,
            "test": [
             0.02611351605
            ]
           },
           {
            "iteration": 403,
            "learn": [
             0.01784236532
            ],
            "passed_time": 5746.009774,
            "remaining_time": 1365.388461,
            "test": [
             0.02608363361
            ]
           },
           {
            "iteration": 404,
            "learn": [
             0.01782539269
            ],
            "passed_time": 5761.996794,
            "remaining_time": 1351.579495,
            "test": [
             0.02608175694
            ]
           },
           {
            "iteration": 405,
            "learn": [
             0.01780258803
            ],
            "passed_time": 5775.841898,
            "remaining_time": 1337.263888,
            "test": [
             0.02606637412
            ]
           },
           {
            "iteration": 406,
            "learn": [
             0.01779592038
            ],
            "passed_time": 5789.485631,
            "remaining_time": 1322.904579,
            "test": [
             0.0260608176
            ]
           },
           {
            "iteration": 407,
            "learn": [
             0.01778222101
            ],
            "passed_time": 5803.734543,
            "remaining_time": 1308.68524,
            "test": [
             0.02605067757
            ]
           },
           {
            "iteration": 408,
            "learn": [
             0.01775019548
            ],
            "passed_time": 5818.049268,
            "remaining_time": 1294.4804,
            "test": [
             0.02603767132
            ]
           },
           {
            "iteration": 409,
            "learn": [
             0.01774663936
            ],
            "passed_time": 5831.532676,
            "remaining_time": 1280.092539,
            "test": [
             0.0260381817
            ]
           },
           {
            "iteration": 410,
            "learn": [
             0.01772787042
            ],
            "passed_time": 5847.105305,
            "remaining_time": 1266.161489,
            "test": [
             0.02603163575
            ]
           },
           {
            "iteration": 411,
            "learn": [
             0.01771640346
            ],
            "passed_time": 5861.063987,
            "remaining_time": 1251.877745,
            "test": [
             0.02602515952
            ]
           },
           {
            "iteration": 412,
            "learn": [
             0.01769535148
            ],
            "passed_time": 5874.825427,
            "remaining_time": 1237.554025,
            "test": [
             0.02602086542
            ]
           },
           {
            "iteration": 413,
            "learn": [
             0.01767295105
            ],
            "passed_time": 5888.327029,
            "remaining_time": 1223.179045,
            "test": [
             0.02601434501
            ]
           },
           {
            "iteration": 414,
            "learn": [
             0.01767065842
            ],
            "passed_time": 5902.022378,
            "remaining_time": 1208.847957,
            "test": [
             0.02601346046
            ]
           },
           {
            "iteration": 415,
            "learn": [
             0.0176653741
            ],
            "passed_time": 5915.879306,
            "remaining_time": 1194.552552,
            "test": [
             0.02601192766
            ]
           },
           {
            "iteration": 416,
            "learn": [
             0.01764315762
            ],
            "passed_time": 5932.007413,
            "remaining_time": 1180.711308,
            "test": [
             0.02599845957
            ]
           },
           {
            "iteration": 417,
            "learn": [
             0.01763576377
            ],
            "passed_time": 5946.279593,
            "remaining_time": 1166.49504,
            "test": [
             0.02599694683
            ]
           },
           {
            "iteration": 418,
            "learn": [
             0.01760404283
            ],
            "passed_time": 5960.219597,
            "remaining_time": 1152.21429,
            "test": [
             0.02597288219
            ]
           },
           {
            "iteration": 419,
            "learn": [
             0.01757700315
            ],
            "passed_time": 5974.075351,
            "remaining_time": 1137.919114,
            "test": [
             0.02596106541
            ]
           },
           {
            "iteration": 420,
            "learn": [
             0.01756263369
            ],
            "passed_time": 5988.311452,
            "remaining_time": 1123.697398,
            "test": [
             0.0259407259
            ]
           },
           {
            "iteration": 421,
            "learn": [
             0.01753342472
            ],
            "passed_time": 6002.830034,
            "remaining_time": 1109.527826,
            "test": [
             0.02593449501
            ]
           },
           {
            "iteration": 422,
            "learn": [
             0.01752934599
            ],
            "passed_time": 6018.571182,
            "remaining_time": 1095.579151,
            "test": [
             0.02592819237
            ]
           },
           {
            "iteration": 423,
            "learn": [
             0.01752592224
            ],
            "passed_time": 6032.813815,
            "remaining_time": 1081.35342,
            "test": [
             0.02592882298
            ]
           },
           {
            "iteration": 424,
            "learn": [
             0.01749472387
            ],
            "passed_time": 6046.643807,
            "remaining_time": 1067.054789,
            "test": [
             0.02590987605
            ]
           },
           {
            "iteration": 425,
            "learn": [
             0.01746792078
            ],
            "passed_time": 6061.116157,
            "remaining_time": 1052.869943,
            "test": [
             0.02589720294
            ]
           },
           {
            "iteration": 426,
            "learn": [
             0.01746483235
            ],
            "passed_time": 6075.298253,
            "remaining_time": 1038.634128,
            "test": [
             0.02589724147
            ]
           },
           {
            "iteration": 427,
            "learn": [
             0.0174339404
            ],
            "passed_time": 6089.016242,
            "remaining_time": 1024.320489,
            "test": [
             0.02587392808
            ]
           },
           {
            "iteration": 428,
            "learn": [
             0.01743175407
            ],
            "passed_time": 6104.733426,
            "remaining_time": 1010.340497,
            "test": [
             0.02587318591
            ]
           },
           {
            "iteration": 429,
            "learn": [
             0.01742050354
            ],
            "passed_time": 6118.769965,
            "remaining_time": 996.0788315,
            "test": [
             0.02586813924
            ]
           },
           {
            "iteration": 430,
            "learn": [
             0.01741675749
            ],
            "passed_time": 6132.913952,
            "remaining_time": 981.8354123,
            "test": [
             0.02586729662
            ]
           },
           {
            "iteration": 431,
            "learn": [
             0.01741459574
            ],
            "passed_time": 6146.576131,
            "remaining_time": 967.5166131,
            "test": [
             0.02586741989
            ]
           },
           {
            "iteration": 432,
            "learn": [
             0.01741242628
            ],
            "passed_time": 6160.359554,
            "remaining_time": 953.2196077,
            "test": [
             0.02586796248
            ]
           },
           {
            "iteration": 433,
            "learn": [
             0.01740161667
            ],
            "passed_time": 6174.137846,
            "remaining_time": 938.9241885,
            "test": [
             0.02586302018
            ]
           },
           {
            "iteration": 434,
            "learn": [
             0.01736492869
            ],
            "passed_time": 6189.905117,
            "remaining_time": 924.9283509,
            "test": [
             0.02583397699
            ]
           },
           {
            "iteration": 435,
            "learn": [
             0.01736279378
            ],
            "passed_time": 6203.495615,
            "remaining_time": 910.604861,
            "test": [
             0.0258346244
            ]
           },
           {
            "iteration": 436,
            "learn": [
             0.01735666154
            ],
            "passed_time": 6217.569435,
            "remaining_time": 896.3544036,
            "test": [
             0.02583355249
            ]
           },
           {
            "iteration": 437,
            "learn": [
             0.01732993218
            ],
            "passed_time": 6231.927241,
            "remaining_time": 882.1449519,
            "test": [
             0.02582617822
            ]
           },
           {
            "iteration": 438,
            "learn": [
             0.01732642699
            ],
            "passed_time": 6246.261266,
            "remaining_time": 867.9315198,
            "test": [
             0.02582661612
            ]
           },
           {
            "iteration": 439,
            "learn": [
             0.01728617157
            ],
            "passed_time": 6260.040663,
            "remaining_time": 853.6419086,
            "test": [
             0.02581140051
            ]
           },
           {
            "iteration": 440,
            "learn": [
             0.01728224156
            ],
            "passed_time": 6275.934935,
            "remaining_time": 839.6375536,
            "test": [
             0.02581184652
            ]
           },
           {
            "iteration": 441,
            "learn": [
             0.01725652194
            ],
            "passed_time": 6290.036366,
            "remaining_time": 825.3893874,
            "test": [
             0.02580578188
            ]
           },
           {
            "iteration": 442,
            "learn": [
             0.01723576157
            ],
            "passed_time": 6303.760376,
            "remaining_time": 811.0933216,
            "test": [
             0.02578933688
            ]
           },
           {
            "iteration": 443,
            "learn": [
             0.01720357788
            ],
            "passed_time": 6317.882114,
            "remaining_time": 796.8499963,
            "test": [
             0.02578351548
            ]
           },
           {
            "iteration": 444,
            "learn": [
             0.01716954044
            ],
            "passed_time": 6331.701107,
            "remaining_time": 782.5697998,
            "test": [
             0.02578106114
            ]
           },
           {
            "iteration": 445,
            "learn": [
             0.01716746668
            ],
            "passed_time": 6345.408319,
            "remaining_time": 768.2781373,
            "test": [
             0.02578123201
            ]
           },
           {
            "iteration": 446,
            "learn": [
             0.01715839647
            ],
            "passed_time": 6359.759819,
            "remaining_time": 754.0654819,
            "test": [
             0.02577827037
            ]
           },
           {
            "iteration": 447,
            "learn": [
             0.01715281909
            ],
            "passed_time": 6375.219167,
            "remaining_time": 739.9807961,
            "test": [
             0.02578119525
            ]
           },
           {
            "iteration": 448,
            "learn": [
             0.01711900769
            ],
            "passed_time": 6389.104131,
            "remaining_time": 725.7111596,
            "test": [
             0.02575970821
            ]
           },
           {
            "iteration": 449,
            "learn": [
             0.01711693716
            ],
            "passed_time": 6403.010177,
            "remaining_time": 711.4455752,
            "test": [
             0.02575978822
            ]
           },
           {
            "iteration": 450,
            "learn": [
             0.01708822895
            ],
            "passed_time": 6416.954433,
            "remaining_time": 697.1857366,
            "test": [
             0.02575362286
            ]
           },
           {
            "iteration": 451,
            "learn": [
             0.01705897162
            ],
            "passed_time": 6430.744641,
            "remaining_time": 682.9109354,
            "test": [
             0.02572988653
            ]
           },
           {
            "iteration": 452,
            "learn": [
             0.01702788309
            ],
            "passed_time": 6444.976142,
            "remaining_time": 668.6840589,
            "test": [
             0.02572350883
            ]
           },
           {
            "iteration": 453,
            "learn": [
             0.01702455891
            ],
            "passed_time": 6460.746235,
            "remaining_time": 654.6130546,
            "test": [
             0.02572292576
            ]
           },
           {
            "iteration": 454,
            "learn": [
             0.01702212292
            ],
            "passed_time": 6474.567676,
            "remaining_time": 640.3418581,
            "test": [
             0.02572321959
            ]
           },
           {
            "iteration": 455,
            "learn": [
             0.01698860728
            ],
            "passed_time": 6488.618877,
            "remaining_time": 626.0948039,
            "test": [
             0.0257023788
            ]
           },
           {
            "iteration": 456,
            "learn": [
             0.0169688955
            ],
            "passed_time": 6502.791798,
            "remaining_time": 611.8600598,
            "test": [
             0.02568952071
            ]
           },
           {
            "iteration": 457,
            "learn": [
             0.016938731
            ],
            "passed_time": 6516.649868,
            "remaining_time": 597.5967128,
            "test": [
             0.02567475194
            ]
           },
           {
            "iteration": 458,
            "learn": [
             0.01691104812
            ],
            "passed_time": 6530.97941,
            "remaining_time": 583.3772458,
            "test": [
             0.02565769277
            ]
           },
           {
            "iteration": 459,
            "learn": [
             0.01688228409
            ],
            "passed_time": 6547.171138,
            "remaining_time": 569.3192294,
            "test": [
             0.02562998014
            ]
           },
           {
            "iteration": 460,
            "learn": [
             0.01687803956
            ],
            "passed_time": 6561.147384,
            "remaining_time": 555.0645292,
            "test": [
             0.02562551858
            ]
           },
           {
            "iteration": 461,
            "learn": [
             0.01687598911
            ],
            "passed_time": 6575.219933,
            "remaining_time": 540.8189556,
            "test": [
             0.02562540768
            ]
           },
           {
            "iteration": 462,
            "learn": [
             0.01685852957
            ],
            "passed_time": 6589.618527,
            "remaining_time": 526.6001847,
            "test": [
             0.02561958626
            ]
           },
           {
            "iteration": 463,
            "learn": [
             0.01684452405
            ],
            "passed_time": 6603.589822,
            "remaining_time": 512.3474862,
            "test": [
             0.02561281082
            ]
           },
           {
            "iteration": 464,
            "learn": [
             0.01684249557
            ],
            "passed_time": 6618.086703,
            "remaining_time": 498.1355583,
            "test": [
             0.02561333755
            ]
           },
           {
            "iteration": 465,
            "learn": [
             0.01682316044
            ],
            "passed_time": 6634.787169,
            "remaining_time": 484.083184,
            "test": [
             0.02561804119
            ]
           },
           {
            "iteration": 466,
            "learn": [
             0.01680146475
            ],
            "passed_time": 6649.252512,
            "remaining_time": 469.8615266,
            "test": [
             0.02561506868
            ]
           },
           {
            "iteration": 467,
            "learn": [
             0.01678443611
            ],
            "passed_time": 6663.66455,
            "remaining_time": 455.6351829,
            "test": [
             0.02560427674
            ]
           },
           {
            "iteration": 468,
            "learn": [
             0.01677736385
            ],
            "passed_time": 6677.855496,
            "remaining_time": 441.3934337,
            "test": [
             0.0256010996
            ]
           },
           {
            "iteration": 469,
            "learn": [
             0.01674890875
            ],
            "passed_time": 6691.995423,
            "remaining_time": 427.148644,
            "test": [
             0.02558286723
            ]
           },
           {
            "iteration": 470,
            "learn": [
             0.01674566004
            ],
            "passed_time": 6705.864403,
            "remaining_time": 412.8876172,
            "test": [
             0.02558278028
            ]
           },
           {
            "iteration": 471,
            "learn": [
             0.01670896784
            ],
            "passed_time": 6721.497147,
            "remaining_time": 398.7328816,
            "test": [
             0.02555988413
            ]
           },
           {
            "iteration": 472,
            "learn": [
             0.0167045578
            ],
            "passed_time": 6735.400841,
            "remaining_time": 384.4731981,
            "test": [
             0.02555472204
            ]
           },
           {
            "iteration": 473,
            "learn": [
             0.01667071127
            ],
            "passed_time": 6749.302159,
            "remaining_time": 370.2148864,
            "test": [
             0.02554634372
            ]
           },
           {
            "iteration": 474,
            "learn": [
             0.01664364057
            ],
            "passed_time": 6763.565609,
            "remaining_time": 355.9771373,
            "test": [
             0.02552938618
            ]
           },
           {
            "iteration": 475,
            "learn": [
             0.01664166665
            ],
            "passed_time": 6777.328983,
            "remaining_time": 341.7140664,
            "test": [
             0.02552938303
            ]
           },
           {
            "iteration": 476,
            "learn": [
             0.0166209598
            ],
            "passed_time": 6791.204641,
            "remaining_time": 327.4585047,
            "test": [
             0.02551900699
            ]
           },
           {
            "iteration": 477,
            "learn": [
             0.01660983211
            ],
            "passed_time": 6807.235042,
            "remaining_time": 313.3037048,
            "test": [
             0.02551323953
            ]
           },
           {
            "iteration": 478,
            "learn": [
             0.01658757651
            ],
            "passed_time": 6821.213523,
            "remaining_time": 299.0511148,
            "test": [
             0.0255068799
            ]
           },
           {
            "iteration": 479,
            "learn": [
             0.01655118813
            ],
            "passed_time": 6835.36921,
            "remaining_time": 284.8070504,
            "test": [
             0.0254854144
            ]
           },
           {
            "iteration": 480,
            "learn": [
             0.01652880839
            ],
            "passed_time": 6849.621133,
            "remaining_time": 270.5671549,
            "test": [
             0.02546442305
            ]
           },
           {
            "iteration": 481,
            "learn": [
             0.01652678725
            ],
            "passed_time": 6863.886203,
            "remaining_time": 256.3277005,
            "test": [
             0.02546444648
            ]
           },
           {
            "iteration": 482,
            "learn": [
             0.01651364996
            ],
            "passed_time": 6878.41356,
            "remaining_time": 242.0973717,
            "test": [
             0.02545328241
            ]
           },
           {
            "iteration": 483,
            "learn": [
             0.01648874644
            ],
            "passed_time": 6894.79924,
            "remaining_time": 227.9272476,
            "test": [
             0.02543299598
            ]
           },
           {
            "iteration": 484,
            "learn": [
             0.01646218561
            ],
            "passed_time": 6908.913491,
            "remaining_time": 213.6777369,
            "test": [
             0.025408994
            ]
           },
           {
            "iteration": 485,
            "learn": [
             0.01644741663
            ],
            "passed_time": 6923.138806,
            "remaining_time": 199.4319821,
            "test": [
             0.02540605564
            ]
           },
           {
            "iteration": 486,
            "learn": [
             0.01642045419
            ],
            "passed_time": 6937.300433,
            "remaining_time": 185.1846111,
            "test": [
             0.02539059808
            ]
           },
           {
            "iteration": 487,
            "learn": [
             0.01639769585
            ],
            "passed_time": 6951.74596,
            "remaining_time": 170.9445728,
            "test": [
             0.02537958906
            ]
           },
           {
            "iteration": 488,
            "learn": [
             0.01637565015
            ],
            "passed_time": 6965.608185,
            "remaining_time": 156.6905727,
            "test": [
             0.02537445634
            ]
           },
           {
            "iteration": 489,
            "learn": [
             0.0163725162
            ],
            "passed_time": 6981.96234,
            "remaining_time": 142.4890273,
            "test": [
             0.02537801139
            ]
           },
           {
            "iteration": 490,
            "learn": [
             0.01634275927
            ],
            "passed_time": 6996.378645,
            "remaining_time": 128.2431931,
            "test": [
             0.0253749117
            ]
           },
           {
            "iteration": 491,
            "learn": [
             0.01633712598
            ],
            "passed_time": 7010.583771,
            "remaining_time": 113.9932321,
            "test": [
             0.02537513097
            ]
           },
           {
            "iteration": 492,
            "learn": [
             0.01631330444
            ],
            "passed_time": 7024.192164,
            "remaining_time": 99.73498001,
            "test": [
             0.02536454423
            ]
           },
           {
            "iteration": 493,
            "learn": [
             0.01631141413
            ],
            "passed_time": 7038.400962,
            "remaining_time": 85.48665136,
            "test": [
             0.02536517415
            ]
           },
           {
            "iteration": 494,
            "learn": [
             0.01628637167
            ],
            "passed_time": 7053.175783,
            "remaining_time": 71.24419983,
            "test": [
             0.02535953745
            ]
           },
           {
            "iteration": 495,
            "learn": [
             0.01627854567
            ],
            "passed_time": 7068.670606,
            "remaining_time": 57.00540811,
            "test": [
             0.02535102926
            ]
           },
           {
            "iteration": 496,
            "learn": [
             0.01623652056
            ],
            "passed_time": 7082.407646,
            "remaining_time": 42.75095159,
            "test": [
             0.02534108688
            ]
           },
           {
            "iteration": 497,
            "learn": [
             0.01623440739
            ],
            "passed_time": 7096.475247,
            "remaining_time": 28.49990059,
            "test": [
             0.02534148296
            ]
           },
           {
            "iteration": 498,
            "learn": [
             0.01621133662
            ],
            "passed_time": 7110.427617,
            "remaining_time": 14.24935394,
            "test": [
             0.02531707769
            ]
           },
           {
            "iteration": 499,
            "learn": [
             0.0161856215
            ],
            "passed_time": 7124.246148,
            "remaining_time": 0,
            "test": [
             0.02530499493
            ]
           }
          ],
          "meta": {
           "iteration_count": 500,
           "launch_mode": "Train",
           "learn_metrics": [
            {
             "best_value": "Min",
             "name": "MultiLogloss"
            }
           ],
           "learn_sets": [
            "learn"
           ],
           "name": "experiment",
           "parameters": "",
           "test_metrics": [
            {
             "best_value": "Min",
             "name": "MultiLogloss"
            }
           ],
           "test_sets": [
            "test"
           ]
          }
         },
         "passed_iterations": 499,
         "total_iterations": 500
        },
        "name": "catboost_info",
        "path": "catboost_info"
       }
      },
      "layout": "IPY_MODEL_db184146cb564f06a8c98a557f5de259"
     }
    },
    "2efcfd0dc5a345d1b9461b4aa1256431": {
     "model_module": "@jupyter-widgets/controls",
     "model_module_version": "1.5.0",
     "model_name": "ProgressStyleModel",
     "state": {
      "_model_module": "@jupyter-widgets/controls",
      "_model_module_version": "1.5.0",
      "_model_name": "ProgressStyleModel",
      "_view_count": null,
      "_view_module": "@jupyter-widgets/base",
      "_view_module_version": "1.2.0",
      "_view_name": "StyleView",
      "bar_color": null,
      "description_width": ""
     }
    },
    "377b9157f3b94271bbe240608a42516c": {
     "model_module": "@jupyter-widgets/base",
     "model_module_version": "1.2.0",
     "model_name": "LayoutModel",
     "state": {
      "_model_module": "@jupyter-widgets/base",
      "_model_module_version": "1.2.0",
      "_model_name": "LayoutModel",
      "_view_count": null,
      "_view_module": "@jupyter-widgets/base",
      "_view_module_version": "1.2.0",
      "_view_name": "LayoutView",
      "align_content": null,
      "align_items": null,
      "align_self": null,
      "border": null,
      "bottom": null,
      "display": null,
      "flex": null,
      "flex_flow": null,
      "grid_area": null,
      "grid_auto_columns": null,
      "grid_auto_flow": null,
      "grid_auto_rows": null,
      "grid_column": null,
      "grid_gap": null,
      "grid_row": null,
      "grid_template_areas": null,
      "grid_template_columns": null,
      "grid_template_rows": null,
      "height": null,
      "justify_content": null,
      "justify_items": null,
      "left": null,
      "margin": null,
      "max_height": null,
      "max_width": null,
      "min_height": null,
      "min_width": null,
      "object_fit": null,
      "object_position": null,
      "order": null,
      "overflow": null,
      "overflow_x": null,
      "overflow_y": null,
      "padding": null,
      "right": null,
      "top": null,
      "visibility": null,
      "width": null
     }
    },
    "3c9071688e9e4496b5a744790ad55b57": {
     "model_module": "@jupyter-widgets/controls",
     "model_module_version": "1.5.0",
     "model_name": "HBoxModel",
     "state": {
      "_dom_classes": [],
      "_model_module": "@jupyter-widgets/controls",
      "_model_module_version": "1.5.0",
      "_model_name": "HBoxModel",
      "_view_count": null,
      "_view_module": "@jupyter-widgets/controls",
      "_view_module_version": "1.5.0",
      "_view_name": "HBoxView",
      "box_style": "",
      "children": [
       "IPY_MODEL_21d85791782e4af4849b70ef9971cd80",
       "IPY_MODEL_a16334e7cf3e4d8caae6be2b87a1de53",
       "IPY_MODEL_a6e4123642cc40cbbcb9a14b55de4b3c"
      ],
      "layout": "IPY_MODEL_377b9157f3b94271bbe240608a42516c"
     }
    },
    "3e5dc0af04f4423ab7869b054e78bf7e": {
     "model_module": "@jupyter-widgets/base",
     "model_module_version": "1.2.0",
     "model_name": "LayoutModel",
     "state": {
      "_model_module": "@jupyter-widgets/base",
      "_model_module_version": "1.2.0",
      "_model_name": "LayoutModel",
      "_view_count": null,
      "_view_module": "@jupyter-widgets/base",
      "_view_module_version": "1.2.0",
      "_view_name": "LayoutView",
      "align_content": null,
      "align_items": null,
      "align_self": null,
      "border": null,
      "bottom": null,
      "display": null,
      "flex": null,
      "flex_flow": null,
      "grid_area": null,
      "grid_auto_columns": null,
      "grid_auto_flow": null,
      "grid_auto_rows": null,
      "grid_column": null,
      "grid_gap": null,
      "grid_row": null,
      "grid_template_areas": null,
      "grid_template_columns": null,
      "grid_template_rows": null,
      "height": null,
      "justify_content": null,
      "justify_items": null,
      "left": null,
      "margin": null,
      "max_height": null,
      "max_width": null,
      "min_height": null,
      "min_width": null,
      "object_fit": null,
      "object_position": null,
      "order": null,
      "overflow": null,
      "overflow_x": null,
      "overflow_y": null,
      "padding": null,
      "right": null,
      "top": null,
      "visibility": null,
      "width": null
     }
    },
    "405136bf6b514e8a8ea69fedd1b1bab2": {
     "model_module": "@jupyter-widgets/base",
     "model_module_version": "1.2.0",
     "model_name": "LayoutModel",
     "state": {
      "_model_module": "@jupyter-widgets/base",
      "_model_module_version": "1.2.0",
      "_model_name": "LayoutModel",
      "_view_count": null,
      "_view_module": "@jupyter-widgets/base",
      "_view_module_version": "1.2.0",
      "_view_name": "LayoutView",
      "align_content": null,
      "align_items": null,
      "align_self": null,
      "border": null,
      "bottom": null,
      "display": null,
      "flex": null,
      "flex_flow": null,
      "grid_area": null,
      "grid_auto_columns": null,
      "grid_auto_flow": null,
      "grid_auto_rows": null,
      "grid_column": null,
      "grid_gap": null,
      "grid_row": null,
      "grid_template_areas": null,
      "grid_template_columns": null,
      "grid_template_rows": null,
      "height": null,
      "justify_content": null,
      "justify_items": null,
      "left": null,
      "margin": null,
      "max_height": null,
      "max_width": null,
      "min_height": null,
      "min_width": null,
      "object_fit": null,
      "object_position": null,
      "order": null,
      "overflow": null,
      "overflow_x": null,
      "overflow_y": null,
      "padding": null,
      "right": null,
      "top": null,
      "visibility": null,
      "width": null
     }
    },
    "47f64b4167bc470da0aeedf0ed3040fe": {
     "model_module": "@jupyter-widgets/controls",
     "model_module_version": "1.5.0",
     "model_name": "HBoxModel",
     "state": {
      "_dom_classes": [],
      "_model_module": "@jupyter-widgets/controls",
      "_model_module_version": "1.5.0",
      "_model_name": "HBoxModel",
      "_view_count": null,
      "_view_module": "@jupyter-widgets/controls",
      "_view_module_version": "1.5.0",
      "_view_name": "HBoxView",
      "box_style": "",
      "children": [
       "IPY_MODEL_f9c3f2e2784d4ea3b4ca7d5e06453d30",
       "IPY_MODEL_0c9ab15f82bf416f91f8265601acab0f",
       "IPY_MODEL_02fe14cc49414992a7939d9a20bd05d2"
      ],
      "layout": "IPY_MODEL_9ff9817c363145eba7e9e5e3db679183"
     }
    },
    "48b20a7d80b04113ae7241c9177c66f1": {
     "model_module": "@jupyter-widgets/base",
     "model_module_version": "1.2.0",
     "model_name": "LayoutModel",
     "state": {
      "_model_module": "@jupyter-widgets/base",
      "_model_module_version": "1.2.0",
      "_model_name": "LayoutModel",
      "_view_count": null,
      "_view_module": "@jupyter-widgets/base",
      "_view_module_version": "1.2.0",
      "_view_name": "LayoutView",
      "align_content": null,
      "align_items": null,
      "align_self": null,
      "border": null,
      "bottom": null,
      "display": null,
      "flex": null,
      "flex_flow": null,
      "grid_area": null,
      "grid_auto_columns": null,
      "grid_auto_flow": null,
      "grid_auto_rows": null,
      "grid_column": null,
      "grid_gap": null,
      "grid_row": null,
      "grid_template_areas": null,
      "grid_template_columns": null,
      "grid_template_rows": null,
      "height": null,
      "justify_content": null,
      "justify_items": null,
      "left": null,
      "margin": null,
      "max_height": null,
      "max_width": null,
      "min_height": null,
      "min_width": null,
      "object_fit": null,
      "object_position": null,
      "order": null,
      "overflow": null,
      "overflow_x": null,
      "overflow_y": null,
      "padding": null,
      "right": null,
      "top": null,
      "visibility": null,
      "width": null
     }
    },
    "4a5397558c2649dd89bf380561675f13": {
     "model_module": "@jupyter-widgets/controls",
     "model_module_version": "1.5.0",
     "model_name": "DescriptionStyleModel",
     "state": {
      "_model_module": "@jupyter-widgets/controls",
      "_model_module_version": "1.5.0",
      "_model_name": "DescriptionStyleModel",
      "_view_count": null,
      "_view_module": "@jupyter-widgets/base",
      "_view_module_version": "1.2.0",
      "_view_name": "StyleView",
      "description_width": ""
     }
    },
    "527d701caaf34225a2cd98dafbd60326": {
     "model_module": "@jupyter-widgets/base",
     "model_module_version": "1.2.0",
     "model_name": "LayoutModel",
     "state": {
      "_model_module": "@jupyter-widgets/base",
      "_model_module_version": "1.2.0",
      "_model_name": "LayoutModel",
      "_view_count": null,
      "_view_module": "@jupyter-widgets/base",
      "_view_module_version": "1.2.0",
      "_view_name": "LayoutView",
      "align_content": null,
      "align_items": null,
      "align_self": null,
      "border": null,
      "bottom": null,
      "display": null,
      "flex": null,
      "flex_flow": null,
      "grid_area": null,
      "grid_auto_columns": null,
      "grid_auto_flow": null,
      "grid_auto_rows": null,
      "grid_column": null,
      "grid_gap": null,
      "grid_row": null,
      "grid_template_areas": null,
      "grid_template_columns": null,
      "grid_template_rows": null,
      "height": null,
      "justify_content": null,
      "justify_items": null,
      "left": null,
      "margin": null,
      "max_height": null,
      "max_width": null,
      "min_height": null,
      "min_width": null,
      "object_fit": null,
      "object_position": null,
      "order": null,
      "overflow": null,
      "overflow_x": null,
      "overflow_y": null,
      "padding": null,
      "right": null,
      "top": null,
      "visibility": null,
      "width": null
     }
    },
    "52b64903dd534d58b96fe772f683a35f": {
     "model_module": "@jupyter-widgets/controls",
     "model_module_version": "1.5.0",
     "model_name": "HTMLModel",
     "state": {
      "_dom_classes": [],
      "_model_module": "@jupyter-widgets/controls",
      "_model_module_version": "1.5.0",
      "_model_name": "HTMLModel",
      "_view_count": null,
      "_view_module": "@jupyter-widgets/controls",
      "_view_module_version": "1.5.0",
      "_view_name": "HTMLView",
      "description": "",
      "description_tooltip": null,
      "layout": "IPY_MODEL_65039626f2554c78a081bb06687204cf",
      "placeholder": "​",
      "style": "IPY_MODEL_4a5397558c2649dd89bf380561675f13",
      "value": "100%"
     }
    },
    "55e9cc4ad5d84e5c9e9d2bd600d4db7a": {
     "model_module": "@jupyter-widgets/controls",
     "model_module_version": "1.5.0",
     "model_name": "HTMLModel",
     "state": {
      "_dom_classes": [],
      "_model_module": "@jupyter-widgets/controls",
      "_model_module_version": "1.5.0",
      "_model_name": "HTMLModel",
      "_view_count": null,
      "_view_module": "@jupyter-widgets/controls",
      "_view_module_version": "1.5.0",
      "_view_name": "HTMLView",
      "description": "",
      "description_tooltip": null,
      "layout": "IPY_MODEL_527d701caaf34225a2cd98dafbd60326",
      "placeholder": "​",
      "style": "IPY_MODEL_c18ede86b08f4564a4bf309020616d78",
      "value": " 4/4 [00:01&lt;00:00,  2.37ba/s]"
     }
    },
    "63d12b97485c4c8dbb2f8b345688153a": {
     "model_module": "@jupyter-widgets/controls",
     "model_module_version": "1.5.0",
     "model_name": "DescriptionStyleModel",
     "state": {
      "_model_module": "@jupyter-widgets/controls",
      "_model_module_version": "1.5.0",
      "_model_name": "DescriptionStyleModel",
      "_view_count": null,
      "_view_module": "@jupyter-widgets/base",
      "_view_module_version": "1.2.0",
      "_view_name": "StyleView",
      "description_width": ""
     }
    },
    "63ff424012574585bf284d7d86e3f793": {
     "model_module": "@jupyter-widgets/controls",
     "model_module_version": "1.5.0",
     "model_name": "HTMLModel",
     "state": {
      "_dom_classes": [],
      "_model_module": "@jupyter-widgets/controls",
      "_model_module_version": "1.5.0",
      "_model_name": "HTMLModel",
      "_view_count": null,
      "_view_module": "@jupyter-widgets/controls",
      "_view_module_version": "1.5.0",
      "_view_name": "HTMLView",
      "description": "",
      "description_tooltip": null,
      "layout": "IPY_MODEL_b43e1a1e540d4f7e9e278e0ea824ac4e",
      "placeholder": "​",
      "style": "IPY_MODEL_a206aaa184ef419ca01a380541e2be43",
      "value": "100%"
     }
    },
    "65039626f2554c78a081bb06687204cf": {
     "model_module": "@jupyter-widgets/base",
     "model_module_version": "1.2.0",
     "model_name": "LayoutModel",
     "state": {
      "_model_module": "@jupyter-widgets/base",
      "_model_module_version": "1.2.0",
      "_model_name": "LayoutModel",
      "_view_count": null,
      "_view_module": "@jupyter-widgets/base",
      "_view_module_version": "1.2.0",
      "_view_name": "LayoutView",
      "align_content": null,
      "align_items": null,
      "align_self": null,
      "border": null,
      "bottom": null,
      "display": null,
      "flex": null,
      "flex_flow": null,
      "grid_area": null,
      "grid_auto_columns": null,
      "grid_auto_flow": null,
      "grid_auto_rows": null,
      "grid_column": null,
      "grid_gap": null,
      "grid_row": null,
      "grid_template_areas": null,
      "grid_template_columns": null,
      "grid_template_rows": null,
      "height": null,
      "justify_content": null,
      "justify_items": null,
      "left": null,
      "margin": null,
      "max_height": null,
      "max_width": null,
      "min_height": null,
      "min_width": null,
      "object_fit": null,
      "object_position": null,
      "order": null,
      "overflow": null,
      "overflow_x": null,
      "overflow_y": null,
      "padding": null,
      "right": null,
      "top": null,
      "visibility": null,
      "width": null
     }
    },
    "6f04df0a3a3f4ac7a010db5a715f4d12": {
     "model_module": "@jupyter-widgets/base",
     "model_module_version": "1.2.0",
     "model_name": "LayoutModel",
     "state": {
      "_model_module": "@jupyter-widgets/base",
      "_model_module_version": "1.2.0",
      "_model_name": "LayoutModel",
      "_view_count": null,
      "_view_module": "@jupyter-widgets/base",
      "_view_module_version": "1.2.0",
      "_view_name": "LayoutView",
      "align_content": null,
      "align_items": null,
      "align_self": null,
      "border": null,
      "bottom": null,
      "display": null,
      "flex": null,
      "flex_flow": null,
      "grid_area": null,
      "grid_auto_columns": null,
      "grid_auto_flow": null,
      "grid_auto_rows": null,
      "grid_column": null,
      "grid_gap": null,
      "grid_row": null,
      "grid_template_areas": null,
      "grid_template_columns": null,
      "grid_template_rows": null,
      "height": null,
      "justify_content": null,
      "justify_items": null,
      "left": null,
      "margin": null,
      "max_height": null,
      "max_width": null,
      "min_height": null,
      "min_width": null,
      "object_fit": null,
      "object_position": null,
      "order": null,
      "overflow": null,
      "overflow_x": null,
      "overflow_y": null,
      "padding": null,
      "right": null,
      "top": null,
      "visibility": null,
      "width": null
     }
    },
    "705fd58a8ecb45bb8c1ac9aeae8b59f6": {
     "model_module": "@jupyter-widgets/controls",
     "model_module_version": "1.5.0",
     "model_name": "HTMLModel",
     "state": {
      "_dom_classes": [],
      "_model_module": "@jupyter-widgets/controls",
      "_model_module_version": "1.5.0",
      "_model_name": "HTMLModel",
      "_view_count": null,
      "_view_module": "@jupyter-widgets/controls",
      "_view_module_version": "1.5.0",
      "_view_name": "HTMLView",
      "description": "",
      "description_tooltip": null,
      "layout": "IPY_MODEL_cfe72b48190340548ca9e89c5a49a37a",
      "placeholder": "​",
      "style": "IPY_MODEL_e2c49aa111954e609e92308ff8903261",
      "value": " 22/22 [00:05&lt;00:00,  5.88ba/s]"
     }
    },
    "8139ebe59e4f4f82a9b95f3530414cbf": {
     "model_module": "@jupyter-widgets/controls",
     "model_module_version": "1.5.0",
     "model_name": "ProgressStyleModel",
     "state": {
      "_model_module": "@jupyter-widgets/controls",
      "_model_module_version": "1.5.0",
      "_model_name": "ProgressStyleModel",
      "_view_count": null,
      "_view_module": "@jupyter-widgets/base",
      "_view_module_version": "1.2.0",
      "_view_name": "StyleView",
      "bar_color": null,
      "description_width": ""
     }
    },
    "8ff5f0fa110848b3b9952ad58237dc4e": {
     "model_module": "@jupyter-widgets/controls",
     "model_module_version": "1.5.0",
     "model_name": "HBoxModel",
     "state": {
      "_dom_classes": [],
      "_model_module": "@jupyter-widgets/controls",
      "_model_module_version": "1.5.0",
      "_model_name": "HBoxModel",
      "_view_count": null,
      "_view_module": "@jupyter-widgets/controls",
      "_view_module_version": "1.5.0",
      "_view_name": "HBoxView",
      "box_style": "",
      "children": [
       "IPY_MODEL_52b64903dd534d58b96fe772f683a35f",
       "IPY_MODEL_ba3988b79d0b4edaa9658f0e569b6aa9",
       "IPY_MODEL_0b514a8d469f408c978478911494d058"
      ],
      "layout": "IPY_MODEL_aa291aad57c541448e48edfaf4bbeaba"
     }
    },
    "92261b303518410cb2a540d78f3fa7e5": {
     "model_module": "@jupyter-widgets/controls",
     "model_module_version": "1.5.0",
     "model_name": "HTMLModel",
     "state": {
      "_dom_classes": [],
      "_model_module": "@jupyter-widgets/controls",
      "_model_module_version": "1.5.0",
      "_model_name": "HTMLModel",
      "_view_count": null,
      "_view_module": "@jupyter-widgets/controls",
      "_view_module_version": "1.5.0",
      "_view_name": "HTMLView",
      "description": "",
      "description_tooltip": null,
      "layout": "IPY_MODEL_bc184a9f473c4cbc852ac1fbdaed7c89",
      "placeholder": "​",
      "style": "IPY_MODEL_63d12b97485c4c8dbb2f8b345688153a",
      "value": " 4/4 [00:02&lt;00:00,  2.04ba/s]"
     }
    },
    "93dd82a6ce9c40d78f7d13d80504ed1d": {
     "model_module": "@jupyter-widgets/base",
     "model_module_version": "1.2.0",
     "model_name": "LayoutModel",
     "state": {
      "_model_module": "@jupyter-widgets/base",
      "_model_module_version": "1.2.0",
      "_model_name": "LayoutModel",
      "_view_count": null,
      "_view_module": "@jupyter-widgets/base",
      "_view_module_version": "1.2.0",
      "_view_name": "LayoutView",
      "align_content": null,
      "align_items": null,
      "align_self": null,
      "border": null,
      "bottom": null,
      "display": null,
      "flex": null,
      "flex_flow": null,
      "grid_area": null,
      "grid_auto_columns": null,
      "grid_auto_flow": null,
      "grid_auto_rows": null,
      "grid_column": null,
      "grid_gap": null,
      "grid_row": null,
      "grid_template_areas": null,
      "grid_template_columns": null,
      "grid_template_rows": null,
      "height": null,
      "justify_content": null,
      "justify_items": null,
      "left": null,
      "margin": null,
      "max_height": null,
      "max_width": null,
      "min_height": null,
      "min_width": null,
      "object_fit": null,
      "object_position": null,
      "order": null,
      "overflow": null,
      "overflow_x": null,
      "overflow_y": null,
      "padding": null,
      "right": null,
      "top": null,
      "visibility": null,
      "width": null
     }
    },
    "9ff9817c363145eba7e9e5e3db679183": {
     "model_module": "@jupyter-widgets/base",
     "model_module_version": "1.2.0",
     "model_name": "LayoutModel",
     "state": {
      "_model_module": "@jupyter-widgets/base",
      "_model_module_version": "1.2.0",
      "_model_name": "LayoutModel",
      "_view_count": null,
      "_view_module": "@jupyter-widgets/base",
      "_view_module_version": "1.2.0",
      "_view_name": "LayoutView",
      "align_content": null,
      "align_items": null,
      "align_self": null,
      "border": null,
      "bottom": null,
      "display": null,
      "flex": null,
      "flex_flow": null,
      "grid_area": null,
      "grid_auto_columns": null,
      "grid_auto_flow": null,
      "grid_auto_rows": null,
      "grid_column": null,
      "grid_gap": null,
      "grid_row": null,
      "grid_template_areas": null,
      "grid_template_columns": null,
      "grid_template_rows": null,
      "height": null,
      "justify_content": null,
      "justify_items": null,
      "left": null,
      "margin": null,
      "max_height": null,
      "max_width": null,
      "min_height": null,
      "min_width": null,
      "object_fit": null,
      "object_position": null,
      "order": null,
      "overflow": null,
      "overflow_x": null,
      "overflow_y": null,
      "padding": null,
      "right": null,
      "top": null,
      "visibility": null,
      "width": null
     }
    },
    "a1503ef249c341acab7d7846b48e97fc": {
     "model_module": "@jupyter-widgets/controls",
     "model_module_version": "1.5.0",
     "model_name": "ProgressStyleModel",
     "state": {
      "_model_module": "@jupyter-widgets/controls",
      "_model_module_version": "1.5.0",
      "_model_name": "ProgressStyleModel",
      "_view_count": null,
      "_view_module": "@jupyter-widgets/base",
      "_view_module_version": "1.2.0",
      "_view_name": "StyleView",
      "bar_color": null,
      "description_width": ""
     }
    },
    "a16334e7cf3e4d8caae6be2b87a1de53": {
     "model_module": "@jupyter-widgets/controls",
     "model_module_version": "1.5.0",
     "model_name": "FloatProgressModel",
     "state": {
      "_dom_classes": [],
      "_model_module": "@jupyter-widgets/controls",
      "_model_module_version": "1.5.0",
      "_model_name": "FloatProgressModel",
      "_view_count": null,
      "_view_module": "@jupyter-widgets/controls",
      "_view_module_version": "1.5.0",
      "_view_name": "ProgressView",
      "bar_style": "success",
      "description": "",
      "description_tooltip": null,
      "layout": "IPY_MODEL_25b48f6062074c40a4a9546bdc8824aa",
      "max": 29,
      "min": 0,
      "orientation": "horizontal",
      "style": "IPY_MODEL_ca1ed93523cb4d9da6aab20c9ea2151d",
      "value": 29
     }
    },
    "a1b18c37132c4daeb36ff8b037f59c54": {
     "model_module": "@jupyter-widgets/controls",
     "model_module_version": "1.5.0",
     "model_name": "HTMLModel",
     "state": {
      "_dom_classes": [],
      "_model_module": "@jupyter-widgets/controls",
      "_model_module_version": "1.5.0",
      "_model_name": "HTMLModel",
      "_view_count": null,
      "_view_module": "@jupyter-widgets/controls",
      "_view_module_version": "1.5.0",
      "_view_name": "HTMLView",
      "description": "",
      "description_tooltip": null,
      "layout": "IPY_MODEL_d4c914b585a042aa9c570a0f7d0fc6ae",
      "placeholder": "​",
      "style": "IPY_MODEL_2002046fe4c54c0db1ccca870d213f59",
      "value": "100%"
     }
    },
    "a206aaa184ef419ca01a380541e2be43": {
     "model_module": "@jupyter-widgets/controls",
     "model_module_version": "1.5.0",
     "model_name": "DescriptionStyleModel",
     "state": {
      "_model_module": "@jupyter-widgets/controls",
      "_model_module_version": "1.5.0",
      "_model_name": "DescriptionStyleModel",
      "_view_count": null,
      "_view_module": "@jupyter-widgets/base",
      "_view_module_version": "1.2.0",
      "_view_name": "StyleView",
      "description_width": ""
     }
    },
    "a51121471126493995d30f011d4502a1": {
     "model_module": "@jupyter-widgets/base",
     "model_module_version": "1.2.0",
     "model_name": "LayoutModel",
     "state": {
      "_model_module": "@jupyter-widgets/base",
      "_model_module_version": "1.2.0",
      "_model_name": "LayoutModel",
      "_view_count": null,
      "_view_module": "@jupyter-widgets/base",
      "_view_module_version": "1.2.0",
      "_view_name": "LayoutView",
      "align_content": null,
      "align_items": null,
      "align_self": null,
      "border": null,
      "bottom": null,
      "display": null,
      "flex": null,
      "flex_flow": null,
      "grid_area": null,
      "grid_auto_columns": null,
      "grid_auto_flow": null,
      "grid_auto_rows": null,
      "grid_column": null,
      "grid_gap": null,
      "grid_row": null,
      "grid_template_areas": null,
      "grid_template_columns": null,
      "grid_template_rows": null,
      "height": null,
      "justify_content": null,
      "justify_items": null,
      "left": null,
      "margin": null,
      "max_height": null,
      "max_width": null,
      "min_height": null,
      "min_width": null,
      "object_fit": null,
      "object_position": null,
      "order": null,
      "overflow": null,
      "overflow_x": null,
      "overflow_y": null,
      "padding": null,
      "right": null,
      "top": null,
      "visibility": null,
      "width": null
     }
    },
    "a562c3e6b795471295ddc2a1291018d5": {
     "model_module": "@jupyter-widgets/controls",
     "model_module_version": "1.5.0",
     "model_name": "DescriptionStyleModel",
     "state": {
      "_model_module": "@jupyter-widgets/controls",
      "_model_module_version": "1.5.0",
      "_model_name": "DescriptionStyleModel",
      "_view_count": null,
      "_view_module": "@jupyter-widgets/base",
      "_view_module_version": "1.2.0",
      "_view_name": "StyleView",
      "description_width": ""
     }
    },
    "a6e4123642cc40cbbcb9a14b55de4b3c": {
     "model_module": "@jupyter-widgets/controls",
     "model_module_version": "1.5.0",
     "model_name": "HTMLModel",
     "state": {
      "_dom_classes": [],
      "_model_module": "@jupyter-widgets/controls",
      "_model_module_version": "1.5.0",
      "_model_name": "HTMLModel",
      "_view_count": null,
      "_view_module": "@jupyter-widgets/controls",
      "_view_module_version": "1.5.0",
      "_view_name": "HTMLView",
      "description": "",
      "description_tooltip": null,
      "layout": "IPY_MODEL_09fefd5a217c44fcbc5ed484ba2380bc",
      "placeholder": "​",
      "style": "IPY_MODEL_a562c3e6b795471295ddc2a1291018d5",
      "value": " 29/29 [00:14&lt;00:00,  2.50ba/s]"
     }
    },
    "a8c88c5691404d42a7c37fda6c2b1c58": {
     "model_module": "@jupyter-widgets/base",
     "model_module_version": "1.2.0",
     "model_name": "LayoutModel",
     "state": {
      "_model_module": "@jupyter-widgets/base",
      "_model_module_version": "1.2.0",
      "_model_name": "LayoutModel",
      "_view_count": null,
      "_view_module": "@jupyter-widgets/base",
      "_view_module_version": "1.2.0",
      "_view_name": "LayoutView",
      "align_content": null,
      "align_items": null,
      "align_self": null,
      "border": null,
      "bottom": null,
      "display": null,
      "flex": null,
      "flex_flow": null,
      "grid_area": null,
      "grid_auto_columns": null,
      "grid_auto_flow": null,
      "grid_auto_rows": null,
      "grid_column": null,
      "grid_gap": null,
      "grid_row": null,
      "grid_template_areas": null,
      "grid_template_columns": null,
      "grid_template_rows": null,
      "height": null,
      "justify_content": null,
      "justify_items": null,
      "left": null,
      "margin": null,
      "max_height": null,
      "max_width": null,
      "min_height": null,
      "min_width": null,
      "object_fit": null,
      "object_position": null,
      "order": null,
      "overflow": null,
      "overflow_x": null,
      "overflow_y": null,
      "padding": null,
      "right": null,
      "top": null,
      "visibility": null,
      "width": null
     }
    },
    "aa291aad57c541448e48edfaf4bbeaba": {
     "model_module": "@jupyter-widgets/base",
     "model_module_version": "1.2.0",
     "model_name": "LayoutModel",
     "state": {
      "_model_module": "@jupyter-widgets/base",
      "_model_module_version": "1.2.0",
      "_model_name": "LayoutModel",
      "_view_count": null,
      "_view_module": "@jupyter-widgets/base",
      "_view_module_version": "1.2.0",
      "_view_name": "LayoutView",
      "align_content": null,
      "align_items": null,
      "align_self": null,
      "border": null,
      "bottom": null,
      "display": null,
      "flex": null,
      "flex_flow": null,
      "grid_area": null,
      "grid_auto_columns": null,
      "grid_auto_flow": null,
      "grid_auto_rows": null,
      "grid_column": null,
      "grid_gap": null,
      "grid_row": null,
      "grid_template_areas": null,
      "grid_template_columns": null,
      "grid_template_rows": null,
      "height": null,
      "justify_content": null,
      "justify_items": null,
      "left": null,
      "margin": null,
      "max_height": null,
      "max_width": null,
      "min_height": null,
      "min_width": null,
      "object_fit": null,
      "object_position": null,
      "order": null,
      "overflow": null,
      "overflow_x": null,
      "overflow_y": null,
      "padding": null,
      "right": null,
      "top": null,
      "visibility": null,
      "width": null
     }
    },
    "b40bf694389e46508e85b21f2e013015": {
     "model_module": "@jupyter-widgets/controls",
     "model_module_version": "1.5.0",
     "model_name": "ProgressStyleModel",
     "state": {
      "_model_module": "@jupyter-widgets/controls",
      "_model_module_version": "1.5.0",
      "_model_name": "ProgressStyleModel",
      "_view_count": null,
      "_view_module": "@jupyter-widgets/base",
      "_view_module_version": "1.2.0",
      "_view_name": "StyleView",
      "bar_color": null,
      "description_width": ""
     }
    },
    "b43e1a1e540d4f7e9e278e0ea824ac4e": {
     "model_module": "@jupyter-widgets/base",
     "model_module_version": "1.2.0",
     "model_name": "LayoutModel",
     "state": {
      "_model_module": "@jupyter-widgets/base",
      "_model_module_version": "1.2.0",
      "_model_name": "LayoutModel",
      "_view_count": null,
      "_view_module": "@jupyter-widgets/base",
      "_view_module_version": "1.2.0",
      "_view_name": "LayoutView",
      "align_content": null,
      "align_items": null,
      "align_self": null,
      "border": null,
      "bottom": null,
      "display": null,
      "flex": null,
      "flex_flow": null,
      "grid_area": null,
      "grid_auto_columns": null,
      "grid_auto_flow": null,
      "grid_auto_rows": null,
      "grid_column": null,
      "grid_gap": null,
      "grid_row": null,
      "grid_template_areas": null,
      "grid_template_columns": null,
      "grid_template_rows": null,
      "height": null,
      "justify_content": null,
      "justify_items": null,
      "left": null,
      "margin": null,
      "max_height": null,
      "max_width": null,
      "min_height": null,
      "min_width": null,
      "object_fit": null,
      "object_position": null,
      "order": null,
      "overflow": null,
      "overflow_x": null,
      "overflow_y": null,
      "padding": null,
      "right": null,
      "top": null,
      "visibility": null,
      "width": null
     }
    },
    "b845c28c6d3b4179af8d0082888cc240": {
     "model_module": "@jupyter-widgets/controls",
     "model_module_version": "1.5.0",
     "model_name": "DescriptionStyleModel",
     "state": {
      "_model_module": "@jupyter-widgets/controls",
      "_model_module_version": "1.5.0",
      "_model_name": "DescriptionStyleModel",
      "_view_count": null,
      "_view_module": "@jupyter-widgets/base",
      "_view_module_version": "1.2.0",
      "_view_name": "StyleView",
      "description_width": ""
     }
    },
    "ba3988b79d0b4edaa9658f0e569b6aa9": {
     "model_module": "@jupyter-widgets/controls",
     "model_module_version": "1.5.0",
     "model_name": "FloatProgressModel",
     "state": {
      "_dom_classes": [],
      "_model_module": "@jupyter-widgets/controls",
      "_model_module_version": "1.5.0",
      "_model_name": "FloatProgressModel",
      "_view_count": null,
      "_view_module": "@jupyter-widgets/controls",
      "_view_module_version": "1.5.0",
      "_view_name": "ProgressView",
      "bar_style": "success",
      "description": "",
      "description_tooltip": null,
      "layout": "IPY_MODEL_48b20a7d80b04113ae7241c9177c66f1",
      "max": 3,
      "min": 0,
      "orientation": "horizontal",
      "style": "IPY_MODEL_157079a1f737440c94408bc24587e44a",
      "value": 3
     }
    },
    "bac24e1f87ad46a48a23dd0ec59ba4dc": {
     "model_module": "@jupyter-widgets/controls",
     "model_module_version": "1.5.0",
     "model_name": "HTMLModel",
     "state": {
      "_dom_classes": [],
      "_model_module": "@jupyter-widgets/controls",
      "_model_module_version": "1.5.0",
      "_model_name": "HTMLModel",
      "_view_count": null,
      "_view_module": "@jupyter-widgets/controls",
      "_view_module_version": "1.5.0",
      "_view_name": "HTMLView",
      "description": "",
      "description_tooltip": null,
      "layout": "IPY_MODEL_1962b3cfd77c453fab9c3c5995f00aae",
      "placeholder": "​",
      "style": "IPY_MODEL_105cc9c1efba499e8a33ba766113fa65",
      "value": "100%"
     }
    },
    "bc184a9f473c4cbc852ac1fbdaed7c89": {
     "model_module": "@jupyter-widgets/base",
     "model_module_version": "1.2.0",
     "model_name": "LayoutModel",
     "state": {
      "_model_module": "@jupyter-widgets/base",
      "_model_module_version": "1.2.0",
      "_model_name": "LayoutModel",
      "_view_count": null,
      "_view_module": "@jupyter-widgets/base",
      "_view_module_version": "1.2.0",
      "_view_name": "LayoutView",
      "align_content": null,
      "align_items": null,
      "align_self": null,
      "border": null,
      "bottom": null,
      "display": null,
      "flex": null,
      "flex_flow": null,
      "grid_area": null,
      "grid_auto_columns": null,
      "grid_auto_flow": null,
      "grid_auto_rows": null,
      "grid_column": null,
      "grid_gap": null,
      "grid_row": null,
      "grid_template_areas": null,
      "grid_template_columns": null,
      "grid_template_rows": null,
      "height": null,
      "justify_content": null,
      "justify_items": null,
      "left": null,
      "margin": null,
      "max_height": null,
      "max_width": null,
      "min_height": null,
      "min_width": null,
      "object_fit": null,
      "object_position": null,
      "order": null,
      "overflow": null,
      "overflow_x": null,
      "overflow_y": null,
      "padding": null,
      "right": null,
      "top": null,
      "visibility": null,
      "width": null
     }
    },
    "c18ede86b08f4564a4bf309020616d78": {
     "model_module": "@jupyter-widgets/controls",
     "model_module_version": "1.5.0",
     "model_name": "DescriptionStyleModel",
     "state": {
      "_model_module": "@jupyter-widgets/controls",
      "_model_module_version": "1.5.0",
      "_model_name": "DescriptionStyleModel",
      "_view_count": null,
      "_view_module": "@jupyter-widgets/base",
      "_view_module_version": "1.2.0",
      "_view_name": "StyleView",
      "description_width": ""
     }
    },
    "ca1ed93523cb4d9da6aab20c9ea2151d": {
     "model_module": "@jupyter-widgets/controls",
     "model_module_version": "1.5.0",
     "model_name": "ProgressStyleModel",
     "state": {
      "_model_module": "@jupyter-widgets/controls",
      "_model_module_version": "1.5.0",
      "_model_name": "ProgressStyleModel",
      "_view_count": null,
      "_view_module": "@jupyter-widgets/base",
      "_view_module_version": "1.2.0",
      "_view_name": "StyleView",
      "bar_color": null,
      "description_width": ""
     }
    },
    "cfe72b48190340548ca9e89c5a49a37a": {
     "model_module": "@jupyter-widgets/base",
     "model_module_version": "1.2.0",
     "model_name": "LayoutModel",
     "state": {
      "_model_module": "@jupyter-widgets/base",
      "_model_module_version": "1.2.0",
      "_model_name": "LayoutModel",
      "_view_count": null,
      "_view_module": "@jupyter-widgets/base",
      "_view_module_version": "1.2.0",
      "_view_name": "LayoutView",
      "align_content": null,
      "align_items": null,
      "align_self": null,
      "border": null,
      "bottom": null,
      "display": null,
      "flex": null,
      "flex_flow": null,
      "grid_area": null,
      "grid_auto_columns": null,
      "grid_auto_flow": null,
      "grid_auto_rows": null,
      "grid_column": null,
      "grid_gap": null,
      "grid_row": null,
      "grid_template_areas": null,
      "grid_template_columns": null,
      "grid_template_rows": null,
      "height": null,
      "justify_content": null,
      "justify_items": null,
      "left": null,
      "margin": null,
      "max_height": null,
      "max_width": null,
      "min_height": null,
      "min_width": null,
      "object_fit": null,
      "object_position": null,
      "order": null,
      "overflow": null,
      "overflow_x": null,
      "overflow_y": null,
      "padding": null,
      "right": null,
      "top": null,
      "visibility": null,
      "width": null
     }
    },
    "d4c914b585a042aa9c570a0f7d0fc6ae": {
     "model_module": "@jupyter-widgets/base",
     "model_module_version": "1.2.0",
     "model_name": "LayoutModel",
     "state": {
      "_model_module": "@jupyter-widgets/base",
      "_model_module_version": "1.2.0",
      "_model_name": "LayoutModel",
      "_view_count": null,
      "_view_module": "@jupyter-widgets/base",
      "_view_module_version": "1.2.0",
      "_view_name": "LayoutView",
      "align_content": null,
      "align_items": null,
      "align_self": null,
      "border": null,
      "bottom": null,
      "display": null,
      "flex": null,
      "flex_flow": null,
      "grid_area": null,
      "grid_auto_columns": null,
      "grid_auto_flow": null,
      "grid_auto_rows": null,
      "grid_column": null,
      "grid_gap": null,
      "grid_row": null,
      "grid_template_areas": null,
      "grid_template_columns": null,
      "grid_template_rows": null,
      "height": null,
      "justify_content": null,
      "justify_items": null,
      "left": null,
      "margin": null,
      "max_height": null,
      "max_width": null,
      "min_height": null,
      "min_width": null,
      "object_fit": null,
      "object_position": null,
      "order": null,
      "overflow": null,
      "overflow_x": null,
      "overflow_y": null,
      "padding": null,
      "right": null,
      "top": null,
      "visibility": null,
      "width": null
     }
    },
    "d6e1932ded1b4c3eb578544e25800e9a": {
     "model_module": "@jupyter-widgets/base",
     "model_module_version": "1.2.0",
     "model_name": "LayoutModel",
     "state": {
      "_model_module": "@jupyter-widgets/base",
      "_model_module_version": "1.2.0",
      "_model_name": "LayoutModel",
      "_view_count": null,
      "_view_module": "@jupyter-widgets/base",
      "_view_module_version": "1.2.0",
      "_view_name": "LayoutView",
      "align_content": null,
      "align_items": null,
      "align_self": null,
      "border": null,
      "bottom": null,
      "display": null,
      "flex": null,
      "flex_flow": null,
      "grid_area": null,
      "grid_auto_columns": null,
      "grid_auto_flow": null,
      "grid_auto_rows": null,
      "grid_column": null,
      "grid_gap": null,
      "grid_row": null,
      "grid_template_areas": null,
      "grid_template_columns": null,
      "grid_template_rows": null,
      "height": null,
      "justify_content": null,
      "justify_items": null,
      "left": null,
      "margin": null,
      "max_height": null,
      "max_width": null,
      "min_height": null,
      "min_width": null,
      "object_fit": null,
      "object_position": null,
      "order": null,
      "overflow": null,
      "overflow_x": null,
      "overflow_y": null,
      "padding": null,
      "right": null,
      "top": null,
      "visibility": null,
      "width": null
     }
    },
    "d7c4855f4fd14bc1855db22fc5d43300": {
     "model_module": "@jupyter-widgets/base",
     "model_module_version": "1.2.0",
     "model_name": "LayoutModel",
     "state": {
      "_model_module": "@jupyter-widgets/base",
      "_model_module_version": "1.2.0",
      "_model_name": "LayoutModel",
      "_view_count": null,
      "_view_module": "@jupyter-widgets/base",
      "_view_module_version": "1.2.0",
      "_view_name": "LayoutView",
      "align_content": null,
      "align_items": null,
      "align_self": null,
      "border": null,
      "bottom": null,
      "display": null,
      "flex": null,
      "flex_flow": null,
      "grid_area": null,
      "grid_auto_columns": null,
      "grid_auto_flow": null,
      "grid_auto_rows": null,
      "grid_column": null,
      "grid_gap": null,
      "grid_row": null,
      "grid_template_areas": null,
      "grid_template_columns": null,
      "grid_template_rows": null,
      "height": null,
      "justify_content": null,
      "justify_items": null,
      "left": null,
      "margin": null,
      "max_height": null,
      "max_width": null,
      "min_height": null,
      "min_width": null,
      "object_fit": null,
      "object_position": null,
      "order": null,
      "overflow": null,
      "overflow_x": null,
      "overflow_y": null,
      "padding": null,
      "right": null,
      "top": null,
      "visibility": null,
      "width": null
     }
    },
    "dc9ba77ec0354d94a81325f7bad0bbde": {
     "model_module": "@jupyter-widgets/base",
     "model_module_version": "1.2.0",
     "model_name": "LayoutModel",
     "state": {
      "_model_module": "@jupyter-widgets/base",
      "_model_module_version": "1.2.0",
      "_model_name": "LayoutModel",
      "_view_count": null,
      "_view_module": "@jupyter-widgets/base",
      "_view_module_version": "1.2.0",
      "_view_name": "LayoutView",
      "align_content": null,
      "align_items": null,
      "align_self": null,
      "border": null,
      "bottom": null,
      "display": null,
      "flex": null,
      "flex_flow": null,
      "grid_area": null,
      "grid_auto_columns": null,
      "grid_auto_flow": null,
      "grid_auto_rows": null,
      "grid_column": null,
      "grid_gap": null,
      "grid_row": null,
      "grid_template_areas": null,
      "grid_template_columns": null,
      "grid_template_rows": null,
      "height": null,
      "justify_content": null,
      "justify_items": null,
      "left": null,
      "margin": null,
      "max_height": null,
      "max_width": null,
      "min_height": null,
      "min_width": null,
      "object_fit": null,
      "object_position": null,
      "order": null,
      "overflow": null,
      "overflow_x": null,
      "overflow_y": null,
      "padding": null,
      "right": null,
      "top": null,
      "visibility": null,
      "width": null
     }
    },
    "e2c49aa111954e609e92308ff8903261": {
     "model_module": "@jupyter-widgets/controls",
     "model_module_version": "1.5.0",
     "model_name": "DescriptionStyleModel",
     "state": {
      "_model_module": "@jupyter-widgets/controls",
      "_model_module_version": "1.5.0",
      "_model_name": "DescriptionStyleModel",
      "_view_count": null,
      "_view_module": "@jupyter-widgets/base",
      "_view_module_version": "1.2.0",
      "_view_name": "StyleView",
      "description_width": ""
     }
    },
    "e3451493aa814014a40153395ec65a5c": {
     "model_module": "@jupyter-widgets/controls",
     "model_module_version": "1.5.0",
     "model_name": "HBoxModel",
     "state": {
      "_dom_classes": [],
      "_model_module": "@jupyter-widgets/controls",
      "_model_module_version": "1.5.0",
      "_model_name": "HBoxModel",
      "_view_count": null,
      "_view_module": "@jupyter-widgets/controls",
      "_view_module_version": "1.5.0",
      "_view_name": "HBoxView",
      "box_style": "",
      "children": [
       "IPY_MODEL_63ff424012574585bf284d7d86e3f793",
       "IPY_MODEL_f065d9d11d1444d887a98445f00c9659",
       "IPY_MODEL_705fd58a8ecb45bb8c1ac9aeae8b59f6"
      ],
      "layout": "IPY_MODEL_d6e1932ded1b4c3eb578544e25800e9a"
     }
    },
    "e70940d077c046c8b1dee3c5454dd65b": {
     "model_module": "@jupyter-widgets/controls",
     "model_module_version": "1.5.0",
     "model_name": "DescriptionStyleModel",
     "state": {
      "_model_module": "@jupyter-widgets/controls",
      "_model_module_version": "1.5.0",
      "_model_name": "DescriptionStyleModel",
      "_view_count": null,
      "_view_module": "@jupyter-widgets/base",
      "_view_module_version": "1.2.0",
      "_view_name": "StyleView",
      "description_width": ""
     }
    },
    "f065d9d11d1444d887a98445f00c9659": {
     "model_module": "@jupyter-widgets/controls",
     "model_module_version": "1.5.0",
     "model_name": "FloatProgressModel",
     "state": {
      "_dom_classes": [],
      "_model_module": "@jupyter-widgets/controls",
      "_model_module_version": "1.5.0",
      "_model_name": "FloatProgressModel",
      "_view_count": null,
      "_view_module": "@jupyter-widgets/controls",
      "_view_module_version": "1.5.0",
      "_view_name": "ProgressView",
      "bar_style": "success",
      "description": "",
      "description_tooltip": null,
      "layout": "IPY_MODEL_405136bf6b514e8a8ea69fedd1b1bab2",
      "max": 22,
      "min": 0,
      "orientation": "horizontal",
      "style": "IPY_MODEL_8139ebe59e4f4f82a9b95f3530414cbf",
      "value": 22
     }
    },
    "f9c3f2e2784d4ea3b4ca7d5e06453d30": {
     "model_module": "@jupyter-widgets/controls",
     "model_module_version": "1.5.0",
     "model_name": "HTMLModel",
     "state": {
      "_dom_classes": [],
      "_model_module": "@jupyter-widgets/controls",
      "_model_module_version": "1.5.0",
      "_model_name": "HTMLModel",
      "_view_count": null,
      "_view_module": "@jupyter-widgets/controls",
      "_view_module_version": "1.5.0",
      "_view_name": "HTMLView",
      "description": "",
      "description_tooltip": null,
      "layout": "IPY_MODEL_255c985c8e944413a39b76fd2b43d1d4",
      "placeholder": "​",
      "style": "IPY_MODEL_e70940d077c046c8b1dee3c5454dd65b",
      "value": "100%"
     }
    },
    "fb3652afe95142cda9ed40b831d50f67": {
     "model_module": "@jupyter-widgets/controls",
     "model_module_version": "1.5.0",
     "model_name": "DescriptionStyleModel",
     "state": {
      "_model_module": "@jupyter-widgets/controls",
      "_model_module_version": "1.5.0",
      "_model_name": "DescriptionStyleModel",
      "_view_count": null,
      "_view_module": "@jupyter-widgets/base",
      "_view_module_version": "1.2.0",
      "_view_name": "StyleView",
      "description_width": ""
     }
    }
   }
  }
 },
 "nbformat": 4,
 "nbformat_minor": 1
}
