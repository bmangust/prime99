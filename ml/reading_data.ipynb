{
 "cells": [
  {
   "cell_type": "code",
   "execution_count": 1,
   "metadata": {
    "colab": {
     "base_uri": "https://localhost:8080/"
    },
    "id": "sf9RMuNGJFIP",
    "outputId": "079818a5-00de-4933-cb61-00e2dd652ccb"
   },
   "outputs": [],
   "source": [
    "# !pip install catboost\n",
    "# !pip install datasets\n",
    "# !pip install transformers"
   ]
  },
  {
   "cell_type": "code",
   "execution_count": 2,
   "metadata": {
    "colab": {
     "base_uri": "https://localhost:8080/"
    },
    "id": "wovnhiZ1u9Ef",
    "outputId": "3e28c93e-5300-415d-9d47-8de38e297388"
   },
   "outputs": [],
   "source": [
    "# !cp drive/MyDrive/tomsk_digital_breakthrough.zip ./\n",
    "# !unzip tomsk_digital_breakthrough.zip\n",
    "\n",
    "# !mv '╨┤╨░╤В╨░╤Б╨╡╤В 15072022.xlsx' data.xlsx\n",
    "# !mv \"датасет 15072022.xlsx\" data.xlsx"
   ]
  },
  {
   "cell_type": "code",
   "execution_count": 3,
   "metadata": {
    "id": "FDjdoUB4wi0Y"
   },
   "outputs": [],
   "source": [
    "from collections import Counter\n",
    "import numpy as np\n",
    "import pandas as pd\n",
    "\n",
    "# from catboost import CatBoostClassifier, Pool\n",
    "\n",
    "from sklearn.model_selection import train_test_split\n",
    "from sklearn.ensemble import RandomForestClassifier\n",
    "from sklearn.feature_extraction.text import TfidfVectorizer\n",
    "from sklearn.metrics import f1_score\n",
    "from sklearn.metrics import accuracy_score\n",
    "from sklearn.preprocessing import MultiLabelBinarizer\n",
    "\n",
    "import pickle"
   ]
  },
  {
   "cell_type": "code",
   "execution_count": 4,
   "metadata": {
    "id": "7bVMQQP_wq0P"
   },
   "outputs": [],
   "source": [
    "df = pd.read_excel(\"data.xlsx\")"
   ]
  },
  {
   "cell_type": "code",
   "execution_count": 5,
   "metadata": {
    "colab": {
     "base_uri": "https://localhost:8080/",
     "height": 450
    },
    "id": "bM7g4mhZxnWb",
    "outputId": "f1c502ef-3b0c-46fa-cca2-11dde50fe551"
   },
   "outputs": [],
   "source": [
    "# df.head(3)"
   ]
  },
  {
   "cell_type": "code",
   "execution_count": 6,
   "metadata": {
    "colab": {
     "base_uri": "https://localhost:8080/"
    },
    "id": "0EbSRq2BxPwQ",
    "outputId": "4d3548c0-f6dd-4943-eca3-0347f0336cb9"
   },
   "outputs": [],
   "source": [
    "# for col in [\"Коды ТН ВЭД ЕАЭС\", \"Технические регламенты\", \"Группа продукции\"]:\n",
    "#     print(\"---\\n\"*3)\n",
    "#     print(col)\n",
    "#     counter = Counter()\n",
    "#     for i, row in df.iterrows():\n",
    "#         tnved_col = row[col]\n",
    "#         if type(tnved_col) != str:\n",
    "#             continue\n",
    "#         tnveds = {t for t in tnved_col.split(\"; \") if t}\n",
    "#         for t in tnveds:\n",
    "#             counter[t] += 1\n",
    "#     print(counter.most_common(30))\n",
    "#     print(len(counter))\n",
    "#     for i in [1, 2, 5, 10, 15, 20, 30, 40, 50, 100]:\n",
    "#         print(i, len([i for k, v in counter.items() if v >= i]))\n",
    "#         print(i, ([k for k, v in counter.items() if v == i][:10]))\n",
    "#     print(list(sorted(counter.keys()))[:20])\n",
    "#     print(list(sorted(counter.keys()))[-20:])"
   ]
  },
  {
   "cell_type": "code",
   "execution_count": 7,
   "metadata": {
    "colab": {
     "base_uri": "https://localhost:8080/",
     "height": 1000
    },
    "id": "TwV-ytFZ1Y7H",
    "outputId": "f80da32a-b7f9-4793-9a84-83b8e679f00d"
   },
   "outputs": [],
   "source": [
    "# df[df[\"Коды ТН ВЭД ЕАЭС\"].astype(str).str.contains(\"8518\")]"
   ]
  },
  {
   "cell_type": "code",
   "execution_count": 8,
   "metadata": {
    "id": "i6pMJHRepxfe"
   },
   "outputs": [],
   "source": [
    "# models = dict()\n",
    "# catboost_params = {\n",
    "#     'iterations': 500,\n",
    "#     'learning_rate': 0.1,\n",
    "#     \"loss_function\": 'MultiLogloss',\n",
    "#     # \"eval_metric\": 'TotalF1:average=Macro',\n",
    "#     'verbose': 10,\n",
    "#     # \"task_type\": \"GPU\",\n",
    "#     # \"devices\": '0',\n",
    "#     'early_stopping_rounds': 5,\n",
    "#     'random_seed': 42, \n",
    "#     'depth': 6,\n",
    "#     # \"dictionaries\": dictionaries\n",
    "# }"
   ]
  },
  {
   "cell_type": "code",
   "execution_count": 9,
   "metadata": {
    "colab": {
     "base_uri": "https://localhost:8080/",
     "height": 939,
     "referenced_widgets": [
      "2b5062437b204b5da10e79ceb0c34adb",
      "13ebdba610704e78aec9c2faeb77e04b"
     ]
    },
    "id": "E6m4gvv__sCa",
    "outputId": "2a6c5e38-bcb9-42bf-8df0-4c332a2bbcce"
   },
   "outputs": [],
   "source": [
    "# for TARGET_COL in [\"Технические регламенты\", \"Группа продукции\", \"Коды ТН ВЭД ЕАЭС\"]:\n",
    "#     tech_regulations_df = df[[\"Общее наименование продукции\", TARGET_COL]]\n",
    "#     tech_regulations_df = tech_regulations_df.dropna()\n",
    "#     print(tech_regulations_df.shape)\n",
    "#     tech_regulations_df = tech_regulations_df.drop_duplicates()\n",
    "#     tech_regulations_df[TARGET_COL] = tech_regulations_df[TARGET_COL].apply(\n",
    "#         lambda x: str(x).split(\"; \"))\n",
    "\n",
    "#     counter = Counter()\n",
    "#     for i, row in tech_regulations_df.iterrows():\n",
    "#         tnveds = row[TARGET_COL]\n",
    "#         for t in tnveds:\n",
    "#             counter[t] += 1\n",
    "#     good_cols = {k for k, v in counter.items() if v >= 5}\n",
    "#     tech_regulations_df = tech_regulations_df[\n",
    "#         tech_regulations_df[TARGET_COL].apply(\n",
    "#             lambda x: bool(set(x).intersection(good_cols)))\n",
    "#     ]\n",
    "#     print(tech_regulations_df.shape)\n",
    "#     # Уберем слишком много примеров из самых популярных классов\n",
    "#     seen_counter = Counter()\n",
    "#     to_drop_index = []\n",
    "#     min_val = sorted([v for v in counter.values()])[-5]\n",
    "#     for i, row in tech_regulations_df.iterrows():\n",
    "#         tnveds = row[TARGET_COL]\n",
    "#         for t in tnveds:\n",
    "#             seen_counter[t] += 1\n",
    "#         counts = min(seen_counter[t] for t in tnveds)\n",
    "#         if counts > min_val:\n",
    "#             to_drop_index.append(i)\n",
    "#     tech_regulations_df = tech_regulations_df[~tech_regulations_df.index.isin(to_drop_index)]\n",
    "\n",
    "#     tr_train, tr_val = train_test_split(tech_regulations_df, test_size=0.2, random_state=42)\n",
    "#     tr_val, tr_test = train_test_split(tr_val, test_size=0.5, random_state=42)\n",
    "\n",
    "#     mlb = MultiLabelBinarizer()\n",
    "#     mlb.fit(tr_train[TARGET_COL])\n",
    "#     models[f\"{TARGET_COL}_mlb\"] = mlb\n",
    "\n",
    "#     tfidf = TfidfVectorizer(analyzer=\"char\", ngram_range=(1, 2))\n",
    "#     tfidf.fit(tr_train[\"Общее наименование продукции\"])\n",
    "#     models[f\"{TARGET_COL}_tfidf\"] = tfidf\n",
    "#     print(\"tfidf trained\")\n",
    "\n",
    "#     catboost_params[\"class_names\"] = list(mlb.classes_)\n",
    "\n",
    "#     pools = dict()\n",
    "\n",
    "#     for dt_name, dt in [(\"train\", tr_train), (\"val\", tr_val), (\"test\", tr_test)]:\n",
    "#         vectors = np.array(\n",
    "#             tfidf.transform(dt[\"Общее наименование продукции\"]).todense())\n",
    "#         labels = mlb.transform(dt[TARGET_COL])\n",
    "#         pools[dt_name] = Pool(vectors, labels)\n",
    "\n",
    "#     print(\"pools created\")\n",
    "#     classifier = CatBoostClassifier(**catboost_params)\n",
    "\n",
    "#     classifier.fit(\n",
    "#         pools[\"train\"],\n",
    "#         eval_set=pools[\"val\"],\n",
    "#         early_stopping_rounds=10,\n",
    "#         plot=True\n",
    "#     )\n",
    "#     models[TARGET_COL] = classifier\n",
    "#     with open(\"drive/MyDrive/tomsk_models.pcl\", \"wb\") as f:\n",
    "#         pickle.dump(models, f)\n",
    "#     for pool_name, dt in [(\"val\", tr_val), (\"test\", tr_test)]:\n",
    "#         preds = classifier.predict(pools[pool_name])\n",
    "#         for average in (\"micro\", \"macro\"):\n",
    "#             score = f1_score(\n",
    "#                         mlb.transform(dt[TARGET_COL]),\n",
    "#                         preds,\n",
    "#                         average=average)\n",
    "#             print(pool_name, average, score)\n",
    "#             models[f\"{TARGET_COL}_{pool_name}_{average}\"] = score\n",
    "#     with open(\"drive/MyDrive/tomsk_models.pcl\", \"wb\") as f:\n",
    "#         pickle.dump(models, f)"
   ]
  },
  {
   "cell_type": "code",
   "execution_count": 10,
   "metadata": {
    "colab": {
     "base_uri": "https://localhost:8080/"
    },
    "id": "PyR-aZQ-En5d",
    "outputId": "e1458f06-cab4-4de3-9203-661a5a50a02b"
   },
   "outputs": [],
   "source": [
    "# ls \"./Группа продукции_trained\""
   ]
  },
  {
   "cell_type": "code",
   "execution_count": 11,
   "metadata": {
    "colab": {
     "base_uri": "https://localhost:8080/"
    },
    "id": "d0GiErXVEQeK",
    "outputId": "ef7c5349-a8ad-4f7e-cb5e-2a5af38b3de5"
   },
   "outputs": [],
   "source": [
    "# !zip -r product_model.zip \"./Группа продукции_trained/\""
   ]
  },
  {
   "cell_type": "code",
   "execution_count": 12,
   "metadata": {
    "id": "gC3FrDOVEwia"
   },
   "outputs": [],
   "source": [
    "# !cp product_model.zip drive/MyDrive/tomsk_product_model.zip"
   ]
  },
  {
   "cell_type": "code",
   "execution_count": null,
   "metadata": {
    "colab": {
     "base_uri": "https://localhost:8080/",
     "height": 1000,
     "referenced_widgets": [
      "e3451493aa814014a40153395ec65a5c",
      "63ff424012574585bf284d7d86e3f793",
      "f065d9d11d1444d887a98445f00c9659",
      "705fd58a8ecb45bb8c1ac9aeae8b59f6",
      "d6e1932ded1b4c3eb578544e25800e9a",
      "b43e1a1e540d4f7e9e278e0ea824ac4e",
      "a206aaa184ef419ca01a380541e2be43",
      "405136bf6b514e8a8ea69fedd1b1bab2",
      "8139ebe59e4f4f82a9b95f3530414cbf",
      "cfe72b48190340548ca9e89c5a49a37a",
      "e2c49aa111954e609e92308ff8903261",
      "47f64b4167bc470da0aeedf0ed3040fe",
      "f9c3f2e2784d4ea3b4ca7d5e06453d30",
      "0c9ab15f82bf416f91f8265601acab0f",
      "02fe14cc49414992a7939d9a20bd05d2",
      "9ff9817c363145eba7e9e5e3db679183",
      "255c985c8e944413a39b76fd2b43d1d4",
      "e70940d077c046c8b1dee3c5454dd65b",
      "28c3147d93064a3dbb044039cc3c6935",
      "a1503ef249c341acab7d7846b48e97fc",
      "93dd82a6ce9c40d78f7d13d80504ed1d",
      "fb3652afe95142cda9ed40b831d50f67",
      "8ff5f0fa110848b3b9952ad58237dc4e",
      "52b64903dd534d58b96fe772f683a35f",
      "ba3988b79d0b4edaa9658f0e569b6aa9",
      "0b514a8d469f408c978478911494d058",
      "aa291aad57c541448e48edfaf4bbeaba",
      "65039626f2554c78a081bb06687204cf",
      "4a5397558c2649dd89bf380561675f13",
      "48b20a7d80b04113ae7241c9177c66f1",
      "157079a1f737440c94408bc24587e44a",
      "3e5dc0af04f4423ab7869b054e78bf7e",
      "2a8eb994801c43e0bfcafd1cbfafb38e",
      "3c9071688e9e4496b5a744790ad55b57",
      "21d85791782e4af4849b70ef9971cd80",
      "a16334e7cf3e4d8caae6be2b87a1de53",
      "a6e4123642cc40cbbcb9a14b55de4b3c",
      "377b9157f3b94271bbe240608a42516c",
      "a51121471126493995d30f011d4502a1",
      "b845c28c6d3b4179af8d0082888cc240",
      "25b48f6062074c40a4a9546bdc8824aa",
      "ca1ed93523cb4d9da6aab20c9ea2151d",
      "09fefd5a217c44fcbc5ed484ba2380bc",
      "a562c3e6b795471295ddc2a1291018d5",
      "1f33ce9203d84c66832ded821796d103",
      "bac24e1f87ad46a48a23dd0ec59ba4dc",
      "1ab3bb07b19247169fc7385f15a816d6",
      "92261b303518410cb2a540d78f3fa7e5",
      "a8c88c5691404d42a7c37fda6c2b1c58",
      "1962b3cfd77c453fab9c3c5995f00aae",
      "105cc9c1efba499e8a33ba766113fa65",
      "dc9ba77ec0354d94a81325f7bad0bbde",
      "2efcfd0dc5a345d1b9461b4aa1256431",
      "bc184a9f473c4cbc852ac1fbdaed7c89",
      "63d12b97485c4c8dbb2f8b345688153a",
      "14abcd1ab5bf408cba1ceda8b6e46750",
      "a1b18c37132c4daeb36ff8b037f59c54",
      "22ae76dd13fd4d1082a2b80da420fccd",
      "55e9cc4ad5d84e5c9e9d2bd600d4db7a",
      "6f04df0a3a3f4ac7a010db5a715f4d12",
      "d4c914b585a042aa9c570a0f7d0fc6ae",
      "2002046fe4c54c0db1ccca870d213f59",
      "d7c4855f4fd14bc1855db22fc5d43300",
      "b40bf694389e46508e85b21f2e013015",
      "527d701caaf34225a2cd98dafbd60326",
      "c18ede86b08f4564a4bf309020616d78"
     ]
    },
    "id": "oElzWUlZVuuJ",
    "outputId": "f212efea-ca60-4c17-8f45-809e8b74751d"
   },
   "outputs": [
    {
     "name": "stdout",
     "output_type": "stream",
     "text": [
      "(49327, 2)\n",
      "(37063, 2)\n"
     ]
    },
    {
     "data": {
      "application/vnd.jupyter.widget-view+json": {
       "model_id": "e520da49e9dd4231a05ea44268c261de",
       "version_major": 2,
       "version_minor": 0
      },
      "text/plain": [
       "  0%|          | 0/29 [00:00<?, ?ba/s]"
      ]
     },
     "metadata": {},
     "output_type": "display_data"
    },
    {
     "name": "stderr",
     "output_type": "stream",
     "text": [
      "C:\\Users\\Admin\\anaconda3\\lib\\site-packages\\sklearn\\preprocessing\\_label.py:875: UserWarning: unknown class(es) ['39191', '84119', '8418', '84388', '85041', '85433', 'XI'] will be ignored\n",
      "  warnings.warn(\n"
     ]
    },
    {
     "data": {
      "application/vnd.jupyter.widget-view+json": {
       "model_id": "eef99db482d949ef9d6954e60ad1eddd",
       "version_major": 2,
       "version_minor": 0
      },
      "text/plain": [
       "  0%|          | 0/4 [00:00<?, ?ba/s]"
      ]
     },
     "metadata": {},
     "output_type": "display_data"
    },
    {
     "name": "stderr",
     "output_type": "stream",
     "text": [
      "C:\\Users\\Admin\\anaconda3\\lib\\site-packages\\sklearn\\preprocessing\\_label.py:875: UserWarning: unknown class(es) ['3919', '40', '42023', '49119', '7310', '81089', '83100', '84118', '84388', '84629', '8508', '85433', '90019', '90106', '90330'] will be ignored\n",
      "  warnings.warn(\n"
     ]
    },
    {
     "data": {
      "application/vnd.jupyter.widget-view+json": {
       "model_id": "5ff811c943c9443dbbb7887d58a7c3f3",
       "version_major": 2,
       "version_minor": 0
      },
      "text/plain": [
       "  0%|          | 0/4 [00:00<?, ?ba/s]"
      ]
     },
     "metadata": {},
     "output_type": "display_data"
    },
    {
     "name": "stderr",
     "output_type": "stream",
     "text": [
      "Some weights of the model checkpoint at cointegrated/rubert-tiny2 were not used when initializing BertForSequenceClassification: ['cls.predictions.bias', 'cls.predictions.transform.dense.bias', 'cls.predictions.transform.LayerNorm.weight', 'cls.seq_relationship.weight', 'cls.predictions.decoder.weight', 'cls.predictions.transform.dense.weight', 'cls.predictions.transform.LayerNorm.bias', 'cls.seq_relationship.bias', 'cls.predictions.decoder.bias']\n",
      "- This IS expected if you are initializing BertForSequenceClassification from the checkpoint of a model trained on another task or with another architecture (e.g. initializing a BertForSequenceClassification model from a BertForPreTraining model).\n",
      "- This IS NOT expected if you are initializing BertForSequenceClassification from the checkpoint of a model that you expect to be exactly identical (initializing a BertForSequenceClassification model from a BertForSequenceClassification model).\n",
      "Some weights of BertForSequenceClassification were not initialized from the model checkpoint at cointegrated/rubert-tiny2 and are newly initialized: ['classifier.bias', 'classifier.weight']\n",
      "You should probably TRAIN this model on a down-stream task to be able to use it for predictions and inference.\n",
      "The following columns in the evaluation set don't have a corresponding argument in `BertForSequenceClassification.forward` and have been ignored: Общее наименование продукции, __index_level_0__. If Общее наименование продукции, __index_level_0__ are not expected by `BertForSequenceClassification.forward`,  you can safely ignore this message.\n",
      "***** Running Evaluation *****\n",
      "  Num examples = 3545\n",
      "  Batch size = 128\n"
     ]
    },
    {
     "data": {
      "text/html": [
       "\n",
       "    <div>\n",
       "      \n",
       "      <progress value='56' max='28' style='width:300px; height:20px; vertical-align: middle;'></progress>\n",
       "      [28/28 00:56]\n",
       "    </div>\n",
       "    "
      ],
      "text/plain": [
       "<IPython.core.display.HTML object>"
      ]
     },
     "metadata": {},
     "output_type": "display_data"
    },
    {
     "name": "stderr",
     "output_type": "stream",
     "text": [
      "C:\\Users\\Admin\\anaconda3\\lib\\site-packages\\sklearn\\metrics\\_classification.py:1580: UndefinedMetricWarning: F-score is ill-defined and being set to 0.0 in labels with no true nor predicted samples. Use `zero_division` parameter to control this behavior.\n",
      "  _warn_prf(average, \"true nor predicted\", \"F-score is\", len(true_sum))\n",
      "C:\\Users\\Admin\\anaconda3\\lib\\site-packages\\sklearn\\metrics\\_classification.py:1580: UndefinedMetricWarning: F-score is ill-defined and being set to 0.0 in labels with no true nor predicted samples. Use `zero_division` parameter to control this behavior.\n",
      "  _warn_prf(average, \"true nor predicted\", \"F-score is\", len(true_sum))\n",
      "The following columns in the training set don't have a corresponding argument in `BertForSequenceClassification.forward` and have been ignored: Общее наименование продукции, __index_level_0__. If Общее наименование продукции, __index_level_0__ are not expected by `BertForSequenceClassification.forward`,  you can safely ignore this message.\n",
      "C:\\Users\\Admin\\anaconda3\\lib\\site-packages\\transformers\\optimization.py:306: FutureWarning: This implementation of AdamW is deprecated and will be removed in a future version. Use the PyTorch implementation torch.optim.AdamW instead, or set `no_deprecation_warning=True` to disable this warning\n",
      "  warnings.warn(\n",
      "***** Running training *****\n",
      "  Num examples = 28357\n",
      "  Num Epochs = 100\n",
      "  Instantaneous batch size per device = 128\n",
      "  Total train batch size (w. parallel, distributed & accumulation) = 128\n",
      "  Gradient Accumulation steps = 1\n",
      "  Total optimization steps = 22200\n"
     ]
    },
    {
     "data": {
      "text/html": [
       "\n",
       "    <div>\n",
       "      \n",
       "      <progress value='566' max='22200' style='width:300px; height:20px; vertical-align: middle;'></progress>\n",
       "      [  566/22200 02:20 < 1:30:01, 4.00 it/s, Epoch 2.55/100]\n",
       "    </div>\n",
       "    <table border=\"1\" class=\"dataframe\">\n",
       "  <thead>\n",
       " <tr style=\"text-align: left;\">\n",
       "      <th>Epoch</th>\n",
       "      <th>Training Loss</th>\n",
       "      <th>Validation Loss</th>\n",
       "      <th>Accuracy Thresh</th>\n",
       "      <th>Accuracy</th>\n",
       "      <th>F1 Micro</th>\n",
       "      <th>F1 Macro</th>\n",
       "      <th>F1 0</th>\n",
       "      <th>F1 1</th>\n",
       "      <th>F1 2</th>\n",
       "      <th>F1 3</th>\n",
       "      <th>F1 4</th>\n",
       "      <th>F1 5</th>\n",
       "      <th>F1 6</th>\n",
       "      <th>F1 7</th>\n",
       "      <th>F1 8</th>\n",
       "      <th>F1 9</th>\n",
       "      <th>F1 10</th>\n",
       "      <th>F1 11</th>\n",
       "      <th>F1 12</th>\n",
       "      <th>F1 13</th>\n",
       "      <th>F1 14</th>\n",
       "      <th>F1 15</th>\n",
       "      <th>F1 16</th>\n",
       "      <th>F1 17</th>\n",
       "      <th>F1 18</th>\n",
       "      <th>F1 19</th>\n",
       "      <th>F1 20</th>\n",
       "      <th>F1 21</th>\n",
       "      <th>F1 22</th>\n",
       "      <th>F1 23</th>\n",
       "      <th>F1 24</th>\n",
       "      <th>F1 25</th>\n",
       "      <th>F1 26</th>\n",
       "      <th>F1 27</th>\n",
       "      <th>F1 28</th>\n",
       "      <th>F1 29</th>\n",
       "      <th>F1 30</th>\n",
       "      <th>F1 31</th>\n",
       "      <th>F1 32</th>\n",
       "      <th>F1 33</th>\n",
       "      <th>F1 34</th>\n",
       "      <th>F1 35</th>\n",
       "      <th>F1 36</th>\n",
       "      <th>F1 37</th>\n",
       "      <th>F1 38</th>\n",
       "      <th>F1 39</th>\n",
       "      <th>F1 40</th>\n",
       "      <th>F1 41</th>\n",
       "      <th>F1 42</th>\n",
       "      <th>F1 43</th>\n",
       "      <th>F1 44</th>\n",
       "      <th>F1 45</th>\n",
       "      <th>F1 46</th>\n",
       "      <th>F1 47</th>\n",
       "      <th>F1 48</th>\n",
       "      <th>F1 49</th>\n",
       "      <th>F1 50</th>\n",
       "      <th>F1 51</th>\n",
       "      <th>F1 52</th>\n",
       "      <th>F1 53</th>\n",
       "      <th>F1 54</th>\n",
       "      <th>F1 55</th>\n",
       "      <th>F1 56</th>\n",
       "      <th>F1 57</th>\n",
       "      <th>F1 58</th>\n",
       "      <th>F1 59</th>\n",
       "      <th>F1 60</th>\n",
       "      <th>F1 61</th>\n",
       "      <th>F1 62</th>\n",
       "      <th>F1 63</th>\n",
       "      <th>F1 64</th>\n",
       "      <th>F1 65</th>\n",
       "      <th>F1 66</th>\n",
       "      <th>F1 67</th>\n",
       "      <th>F1 68</th>\n",
       "      <th>F1 69</th>\n",
       "      <th>F1 70</th>\n",
       "      <th>F1 71</th>\n",
       "      <th>F1 72</th>\n",
       "      <th>F1 73</th>\n",
       "      <th>F1 74</th>\n",
       "      <th>F1 75</th>\n",
       "      <th>F1 76</th>\n",
       "      <th>F1 77</th>\n",
       "      <th>F1 78</th>\n",
       "      <th>F1 79</th>\n",
       "      <th>F1 80</th>\n",
       "      <th>F1 81</th>\n",
       "      <th>F1 82</th>\n",
       "      <th>F1 83</th>\n",
       "      <th>F1 84</th>\n",
       "      <th>F1 85</th>\n",
       "      <th>F1 86</th>\n",
       "      <th>F1 87</th>\n",
       "      <th>F1 88</th>\n",
       "      <th>F1 89</th>\n",
       "      <th>F1 90</th>\n",
       "      <th>F1 91</th>\n",
       "      <th>F1 92</th>\n",
       "      <th>F1 93</th>\n",
       "      <th>F1 94</th>\n",
       "      <th>F1 95</th>\n",
       "      <th>F1 96</th>\n",
       "      <th>F1 97</th>\n",
       "      <th>F1 98</th>\n",
       "      <th>F1 99</th>\n",
       "      <th>F1 100</th>\n",
       "      <th>F1 101</th>\n",
       "      <th>F1 102</th>\n",
       "      <th>F1 103</th>\n",
       "      <th>F1 104</th>\n",
       "      <th>F1 105</th>\n",
       "      <th>F1 106</th>\n",
       "      <th>F1 107</th>\n",
       "      <th>F1 108</th>\n",
       "      <th>F1 109</th>\n",
       "      <th>F1 110</th>\n",
       "      <th>F1 111</th>\n",
       "      <th>F1 112</th>\n",
       "      <th>F1 113</th>\n",
       "      <th>F1 114</th>\n",
       "      <th>F1 115</th>\n",
       "      <th>F1 116</th>\n",
       "      <th>F1 117</th>\n",
       "      <th>F1 118</th>\n",
       "      <th>F1 119</th>\n",
       "      <th>F1 120</th>\n",
       "      <th>F1 121</th>\n",
       "      <th>F1 122</th>\n",
       "      <th>F1 123</th>\n",
       "      <th>F1 124</th>\n",
       "      <th>F1 125</th>\n",
       "      <th>F1 126</th>\n",
       "      <th>F1 127</th>\n",
       "      <th>F1 128</th>\n",
       "      <th>F1 129</th>\n",
       "      <th>F1 130</th>\n",
       "      <th>F1 131</th>\n",
       "      <th>F1 132</th>\n",
       "      <th>F1 133</th>\n",
       "      <th>F1 134</th>\n",
       "      <th>F1 135</th>\n",
       "      <th>F1 136</th>\n",
       "      <th>F1 137</th>\n",
       "      <th>F1 138</th>\n",
       "      <th>F1 139</th>\n",
       "      <th>F1 140</th>\n",
       "      <th>F1 141</th>\n",
       "      <th>F1 142</th>\n",
       "      <th>F1 143</th>\n",
       "      <th>F1 144</th>\n",
       "      <th>F1 145</th>\n",
       "      <th>F1 146</th>\n",
       "      <th>F1 147</th>\n",
       "      <th>F1 148</th>\n",
       "      <th>F1 149</th>\n",
       "      <th>F1 150</th>\n",
       "      <th>F1 151</th>\n",
       "      <th>F1 152</th>\n",
       "      <th>F1 153</th>\n",
       "      <th>F1 154</th>\n",
       "      <th>F1 155</th>\n",
       "      <th>F1 156</th>\n",
       "      <th>F1 157</th>\n",
       "      <th>F1 158</th>\n",
       "      <th>F1 159</th>\n",
       "      <th>F1 160</th>\n",
       "      <th>F1 161</th>\n",
       "      <th>F1 162</th>\n",
       "      <th>F1 163</th>\n",
       "      <th>F1 164</th>\n",
       "      <th>F1 165</th>\n",
       "      <th>F1 166</th>\n",
       "      <th>F1 167</th>\n",
       "      <th>F1 168</th>\n",
       "      <th>F1 169</th>\n",
       "      <th>F1 170</th>\n",
       "      <th>F1 171</th>\n",
       "      <th>F1 172</th>\n",
       "      <th>F1 173</th>\n",
       "      <th>F1 174</th>\n",
       "      <th>F1 175</th>\n",
       "      <th>F1 176</th>\n",
       "      <th>F1 177</th>\n",
       "      <th>F1 178</th>\n",
       "      <th>F1 179</th>\n",
       "      <th>F1 180</th>\n",
       "      <th>F1 181</th>\n",
       "      <th>F1 182</th>\n",
       "      <th>F1 183</th>\n",
       "      <th>F1 184</th>\n",
       "      <th>F1 185</th>\n",
       "      <th>F1 186</th>\n",
       "      <th>F1 187</th>\n",
       "      <th>F1 188</th>\n",
       "      <th>F1 189</th>\n",
       "      <th>F1 190</th>\n",
       "      <th>F1 191</th>\n",
       "      <th>F1 192</th>\n",
       "      <th>F1 193</th>\n",
       "      <th>F1 194</th>\n",
       "      <th>F1 195</th>\n",
       "      <th>F1 196</th>\n",
       "      <th>F1 197</th>\n",
       "      <th>F1 198</th>\n",
       "      <th>F1 199</th>\n",
       "      <th>F1 200</th>\n",
       "      <th>F1 201</th>\n",
       "      <th>F1 202</th>\n",
       "      <th>F1 203</th>\n",
       "      <th>F1 204</th>\n",
       "      <th>F1 205</th>\n",
       "      <th>F1 206</th>\n",
       "      <th>F1 207</th>\n",
       "      <th>F1 208</th>\n",
       "      <th>F1 209</th>\n",
       "      <th>F1 210</th>\n",
       "      <th>F1 211</th>\n",
       "      <th>F1 212</th>\n",
       "      <th>F1 213</th>\n",
       "      <th>F1 214</th>\n",
       "      <th>F1 215</th>\n",
       "      <th>F1 216</th>\n",
       "      <th>F1 217</th>\n",
       "      <th>F1 218</th>\n",
       "      <th>F1 219</th>\n",
       "      <th>F1 220</th>\n",
       "      <th>F1 221</th>\n",
       "      <th>F1 222</th>\n",
       "      <th>F1 223</th>\n",
       "      <th>F1 224</th>\n",
       "      <th>F1 225</th>\n",
       "      <th>F1 226</th>\n",
       "      <th>F1 227</th>\n",
       "      <th>F1 228</th>\n",
       "      <th>F1 229</th>\n",
       "      <th>F1 230</th>\n",
       "      <th>F1 231</th>\n",
       "      <th>F1 232</th>\n",
       "      <th>F1 233</th>\n",
       "      <th>F1 234</th>\n",
       "      <th>F1 235</th>\n",
       "      <th>F1 236</th>\n",
       "      <th>F1 237</th>\n",
       "      <th>F1 238</th>\n",
       "      <th>F1 239</th>\n",
       "      <th>F1 240</th>\n",
       "      <th>F1 241</th>\n",
       "      <th>F1 242</th>\n",
       "      <th>F1 243</th>\n",
       "      <th>F1 244</th>\n",
       "      <th>F1 245</th>\n",
       "      <th>F1 246</th>\n",
       "      <th>F1 247</th>\n",
       "      <th>F1 248</th>\n",
       "      <th>F1 249</th>\n",
       "      <th>F1 250</th>\n",
       "      <th>F1 251</th>\n",
       "      <th>F1 252</th>\n",
       "      <th>F1 253</th>\n",
       "      <th>F1 254</th>\n",
       "      <th>F1 255</th>\n",
       "      <th>F1 256</th>\n",
       "      <th>F1 257</th>\n",
       "      <th>F1 258</th>\n",
       "      <th>F1 259</th>\n",
       "      <th>F1 260</th>\n",
       "      <th>F1 261</th>\n",
       "      <th>F1 262</th>\n",
       "      <th>F1 263</th>\n",
       "      <th>F1 264</th>\n",
       "      <th>F1 265</th>\n",
       "      <th>F1 266</th>\n",
       "      <th>F1 267</th>\n",
       "      <th>F1 268</th>\n",
       "      <th>F1 269</th>\n",
       "      <th>F1 270</th>\n",
       "      <th>F1 271</th>\n",
       "      <th>F1 272</th>\n",
       "      <th>F1 273</th>\n",
       "      <th>F1 274</th>\n",
       "      <th>F1 275</th>\n",
       "      <th>F1 276</th>\n",
       "      <th>F1 277</th>\n",
       "      <th>F1 278</th>\n",
       "      <th>F1 279</th>\n",
       "      <th>F1 280</th>\n",
       "      <th>F1 281</th>\n",
       "      <th>F1 282</th>\n",
       "      <th>F1 283</th>\n",
       "      <th>F1 284</th>\n",
       "      <th>F1 285</th>\n",
       "      <th>F1 286</th>\n",
       "      <th>F1 287</th>\n",
       "      <th>F1 288</th>\n",
       "      <th>F1 289</th>\n",
       "      <th>F1 290</th>\n",
       "      <th>F1 291</th>\n",
       "      <th>F1 292</th>\n",
       "      <th>F1 293</th>\n",
       "      <th>F1 294</th>\n",
       "      <th>F1 295</th>\n",
       "      <th>F1 296</th>\n",
       "      <th>F1 297</th>\n",
       "      <th>F1 298</th>\n",
       "      <th>F1 299</th>\n",
       "      <th>F1 300</th>\n",
       "      <th>F1 301</th>\n",
       "      <th>F1 302</th>\n",
       "      <th>F1 303</th>\n",
       "      <th>F1 304</th>\n",
       "      <th>F1 305</th>\n",
       "      <th>F1 306</th>\n",
       "      <th>F1 307</th>\n",
       "      <th>F1 308</th>\n",
       "      <th>F1 309</th>\n",
       "      <th>F1 310</th>\n",
       "      <th>F1 311</th>\n",
       "      <th>F1 312</th>\n",
       "      <th>F1 313</th>\n",
       "      <th>F1 314</th>\n",
       "      <th>F1 315</th>\n",
       "      <th>F1 316</th>\n",
       "      <th>F1 317</th>\n",
       "      <th>F1 318</th>\n",
       "      <th>F1 319</th>\n",
       "      <th>F1 320</th>\n",
       "      <th>F1 321</th>\n",
       "      <th>F1 322</th>\n",
       "      <th>F1 323</th>\n",
       "      <th>F1 324</th>\n",
       "      <th>F1 325</th>\n",
       "      <th>F1 326</th>\n",
       "      <th>F1 327</th>\n",
       "      <th>F1 328</th>\n",
       "      <th>F1 329</th>\n",
       "      <th>F1 330</th>\n",
       "      <th>F1 331</th>\n",
       "      <th>F1 332</th>\n",
       "      <th>F1 333</th>\n",
       "      <th>F1 334</th>\n",
       "      <th>F1 335</th>\n",
       "      <th>F1 336</th>\n",
       "      <th>F1 337</th>\n",
       "      <th>F1 338</th>\n",
       "      <th>F1 339</th>\n",
       "      <th>F1 340</th>\n",
       "      <th>F1 341</th>\n",
       "      <th>F1 342</th>\n",
       "      <th>F1 343</th>\n",
       "      <th>F1 344</th>\n",
       "      <th>F1 345</th>\n",
       "      <th>F1 346</th>\n",
       "      <th>F1 347</th>\n",
       "      <th>F1 348</th>\n",
       "      <th>F1 349</th>\n",
       "      <th>F1 350</th>\n",
       "      <th>F1 351</th>\n",
       "      <th>F1 352</th>\n",
       "      <th>F1 353</th>\n",
       "      <th>F1 354</th>\n",
       "      <th>F1 355</th>\n",
       "      <th>F1 356</th>\n",
       "      <th>F1 357</th>\n",
       "      <th>F1 358</th>\n",
       "      <th>F1 359</th>\n",
       "      <th>F1 360</th>\n",
       "      <th>F1 361</th>\n",
       "      <th>F1 362</th>\n",
       "      <th>F1 363</th>\n",
       "      <th>F1 364</th>\n",
       "      <th>F1 365</th>\n",
       "      <th>F1 366</th>\n",
       "      <th>F1 367</th>\n",
       "      <th>F1 368</th>\n",
       "      <th>F1 369</th>\n",
       "      <th>F1 370</th>\n",
       "      <th>F1 371</th>\n",
       "      <th>F1 372</th>\n",
       "      <th>F1 373</th>\n",
       "      <th>F1 374</th>\n",
       "      <th>F1 375</th>\n",
       "      <th>F1 376</th>\n",
       "      <th>F1 377</th>\n",
       "      <th>F1 378</th>\n",
       "      <th>F1 379</th>\n",
       "      <th>F1 380</th>\n",
       "      <th>F1 381</th>\n",
       "      <th>F1 382</th>\n",
       "      <th>F1 383</th>\n",
       "      <th>F1 384</th>\n",
       "      <th>F1 385</th>\n",
       "      <th>F1 386</th>\n",
       "      <th>F1 387</th>\n",
       "      <th>F1 388</th>\n",
       "      <th>F1 389</th>\n",
       "      <th>F1 390</th>\n",
       "      <th>F1 391</th>\n",
       "      <th>F1 392</th>\n",
       "      <th>F1 393</th>\n",
       "      <th>F1 394</th>\n",
       "      <th>F1 395</th>\n",
       "      <th>F1 396</th>\n",
       "      <th>F1 397</th>\n",
       "      <th>F1 398</th>\n",
       "      <th>F1 399</th>\n",
       "      <th>F1 400</th>\n",
       "      <th>F1 401</th>\n",
       "      <th>F1 402</th>\n",
       "      <th>F1 403</th>\n",
       "      <th>F1 404</th>\n",
       "      <th>F1 405</th>\n",
       "      <th>F1 406</th>\n",
       "      <th>F1 407</th>\n",
       "      <th>F1 408</th>\n",
       "      <th>F1 409</th>\n",
       "      <th>F1 410</th>\n",
       "      <th>F1 411</th>\n",
       "      <th>F1 412</th>\n",
       "      <th>F1 413</th>\n",
       "      <th>F1 414</th>\n",
       "      <th>F1 415</th>\n",
       "      <th>F1 416</th>\n",
       "      <th>F1 417</th>\n",
       "      <th>F1 418</th>\n",
       "      <th>F1 419</th>\n",
       "      <th>F1 420</th>\n",
       "      <th>F1 421</th>\n",
       "      <th>F1 422</th>\n",
       "      <th>F1 423</th>\n",
       "      <th>F1 424</th>\n",
       "      <th>F1 425</th>\n",
       "      <th>F1 426</th>\n",
       "      <th>F1 427</th>\n",
       "      <th>F1 428</th>\n",
       "      <th>F1 429</th>\n",
       "      <th>F1 430</th>\n",
       "      <th>F1 431</th>\n",
       "      <th>F1 432</th>\n",
       "      <th>F1 433</th>\n",
       "      <th>F1 434</th>\n",
       "      <th>F1 435</th>\n",
       "      <th>F1 436</th>\n",
       "      <th>F1 437</th>\n",
       "      <th>F1 438</th>\n",
       "      <th>F1 439</th>\n",
       "      <th>F1 440</th>\n",
       "      <th>F1 441</th>\n",
       "      <th>F1 442</th>\n",
       "      <th>F1 443</th>\n",
       "      <th>F1 444</th>\n",
       "      <th>F1 445</th>\n",
       "      <th>F1 446</th>\n",
       "      <th>F1 447</th>\n",
       "      <th>F1 448</th>\n",
       "      <th>F1 449</th>\n",
       "      <th>F1 450</th>\n",
       "      <th>F1 451</th>\n",
       "      <th>F1 452</th>\n",
       "      <th>F1 453</th>\n",
       "      <th>F1 454</th>\n",
       "      <th>F1 455</th>\n",
       "      <th>F1 456</th>\n",
       "      <th>F1 457</th>\n",
       "      <th>F1 458</th>\n",
       "      <th>F1 459</th>\n",
       "      <th>F1 460</th>\n",
       "      <th>F1 461</th>\n",
       "      <th>F1 462</th>\n",
       "      <th>F1 463</th>\n",
       "      <th>F1 464</th>\n",
       "      <th>F1 465</th>\n",
       "      <th>F1 466</th>\n",
       "      <th>F1 467</th>\n",
       "      <th>F1 468</th>\n",
       "      <th>F1 469</th>\n",
       "      <th>F1 470</th>\n",
       "      <th>F1 471</th>\n",
       "      <th>F1 472</th>\n",
       "      <th>F1 473</th>\n",
       "      <th>F1 474</th>\n",
       "      <th>F1 475</th>\n",
       "      <th>F1 476</th>\n",
       "      <th>F1 477</th>\n",
       "      <th>F1 478</th>\n",
       "      <th>F1 479</th>\n",
       "      <th>F1 480</th>\n",
       "      <th>F1 481</th>\n",
       "      <th>F1 482</th>\n",
       "      <th>F1 483</th>\n",
       "      <th>F1 484</th>\n",
       "      <th>F1 485</th>\n",
       "      <th>F1 486</th>\n",
       "      <th>F1 487</th>\n",
       "      <th>F1 488</th>\n",
       "      <th>F1 489</th>\n",
       "      <th>F1 490</th>\n",
       "      <th>F1 491</th>\n",
       "      <th>F1 492</th>\n",
       "      <th>F1 493</th>\n",
       "      <th>F1 494</th>\n",
       "      <th>F1 495</th>\n",
       "      <th>F1 496</th>\n",
       "      <th>F1 497</th>\n",
       "      <th>F1 498</th>\n",
       "      <th>F1 499</th>\n",
       "      <th>F1 500</th>\n",
       "      <th>F1 501</th>\n",
       "      <th>F1 502</th>\n",
       "      <th>F1 503</th>\n",
       "      <th>F1 504</th>\n",
       "      <th>F1 505</th>\n",
       "      <th>F1 506</th>\n",
       "      <th>F1 507</th>\n",
       "      <th>F1 508</th>\n",
       "      <th>F1 509</th>\n",
       "      <th>F1 510</th>\n",
       "      <th>F1 511</th>\n",
       "      <th>F1 512</th>\n",
       "      <th>F1 513</th>\n",
       "      <th>F1 514</th>\n",
       "      <th>F1 515</th>\n",
       "      <th>F1 516</th>\n",
       "      <th>F1 517</th>\n",
       "      <th>F1 518</th>\n",
       "      <th>F1 519</th>\n",
       "      <th>F1 520</th>\n",
       "      <th>F1 521</th>\n",
       "      <th>F1 522</th>\n",
       "      <th>F1 523</th>\n",
       "      <th>F1 524</th>\n",
       "      <th>F1 525</th>\n",
       "      <th>F1 526</th>\n",
       "      <th>F1 527</th>\n",
       "      <th>F1 528</th>\n",
       "      <th>F1 529</th>\n",
       "      <th>F1 530</th>\n",
       "      <th>F1 531</th>\n",
       "      <th>F1 532</th>\n",
       "      <th>F1 533</th>\n",
       "      <th>F1 534</th>\n",
       "      <th>F1 535</th>\n",
       "      <th>F1 536</th>\n",
       "      <th>F1 537</th>\n",
       "      <th>F1 538</th>\n",
       "      <th>F1 539</th>\n",
       "      <th>F1 540</th>\n",
       "      <th>F1 541</th>\n",
       "      <th>F1 542</th>\n",
       "      <th>F1 543</th>\n",
       "      <th>F1 544</th>\n",
       "      <th>F1 545</th>\n",
       "      <th>F1 546</th>\n",
       "      <th>F1 547</th>\n",
       "      <th>F1 548</th>\n",
       "      <th>F1 549</th>\n",
       "      <th>F1 550</th>\n",
       "      <th>F1 551</th>\n",
       "      <th>F1 552</th>\n",
       "      <th>F1 553</th>\n",
       "      <th>F1 554</th>\n",
       "      <th>F1 555</th>\n",
       "      <th>F1 556</th>\n",
       "      <th>F1 557</th>\n",
       "      <th>F1 558</th>\n",
       "      <th>F1 559</th>\n",
       "      <th>F1 560</th>\n",
       "      <th>F1 561</th>\n",
       "      <th>F1 562</th>\n",
       "      <th>F1 563</th>\n",
       "      <th>F1 564</th>\n",
       "      <th>F1 565</th>\n",
       "      <th>F1 566</th>\n",
       "      <th>F1 567</th>\n",
       "      <th>F1 568</th>\n",
       "      <th>F1 569</th>\n",
       "      <th>F1 570</th>\n",
       "      <th>F1 571</th>\n",
       "      <th>F1 572</th>\n",
       "      <th>F1 573</th>\n",
       "      <th>F1 574</th>\n",
       "      <th>F1 575</th>\n",
       "      <th>F1 576</th>\n",
       "      <th>F1 577</th>\n",
       "      <th>F1 578</th>\n",
       "      <th>F1 579</th>\n",
       "      <th>F1 580</th>\n",
       "      <th>F1 581</th>\n",
       "      <th>F1 582</th>\n",
       "      <th>F1 583</th>\n",
       "      <th>F1 584</th>\n",
       "      <th>F1 585</th>\n",
       "      <th>F1 586</th>\n",
       "      <th>F1 587</th>\n",
       "      <th>F1 588</th>\n",
       "      <th>F1 589</th>\n",
       "      <th>F1 590</th>\n",
       "      <th>F1 591</th>\n",
       "      <th>F1 592</th>\n",
       "      <th>F1 593</th>\n",
       "      <th>F1 594</th>\n",
       "      <th>F1 595</th>\n",
       "      <th>F1 596</th>\n",
       "      <th>F1 597</th>\n",
       "      <th>F1 598</th>\n",
       "      <th>F1 599</th>\n",
       "      <th>F1 600</th>\n",
       "      <th>F1 601</th>\n",
       "      <th>F1 602</th>\n",
       "      <th>F1 603</th>\n",
       "      <th>F1 604</th>\n",
       "      <th>F1 605</th>\n",
       "      <th>F1 606</th>\n",
       "      <th>F1 607</th>\n",
       "      <th>F1 608</th>\n",
       "      <th>F1 609</th>\n",
       "      <th>F1 610</th>\n",
       "      <th>F1 611</th>\n",
       "      <th>F1 612</th>\n",
       "      <th>F1 613</th>\n",
       "      <th>F1 614</th>\n",
       "      <th>F1 615</th>\n",
       "      <th>F1 616</th>\n",
       "      <th>F1 617</th>\n",
       "      <th>F1 618</th>\n",
       "      <th>F1 619</th>\n",
       "      <th>F1 620</th>\n",
       "      <th>F1 621</th>\n",
       "      <th>F1 622</th>\n",
       "      <th>F1 623</th>\n",
       "      <th>F1 624</th>\n",
       "      <th>F1 625</th>\n",
       "      <th>F1 626</th>\n",
       "      <th>F1 627</th>\n",
       "      <th>F1 628</th>\n",
       "      <th>F1 629</th>\n",
       "      <th>F1 630</th>\n",
       "      <th>F1 631</th>\n",
       "      <th>F1 632</th>\n",
       "      <th>F1 633</th>\n",
       "      <th>F1 634</th>\n",
       "      <th>F1 635</th>\n",
       "      <th>F1 636</th>\n",
       "      <th>F1 637</th>\n",
       "      <th>F1 638</th>\n",
       "      <th>F1 639</th>\n",
       "      <th>F1 640</th>\n",
       "      <th>F1 641</th>\n",
       "      <th>F1 642</th>\n",
       "      <th>F1 643</th>\n",
       "      <th>F1 644</th>\n",
       "      <th>F1 645</th>\n",
       "      <th>F1 646</th>\n",
       "      <th>F1 647</th>\n",
       "      <th>F1 648</th>\n",
       "      <th>F1 649</th>\n",
       "      <th>F1 650</th>\n",
       "      <th>F1 651</th>\n",
       "      <th>F1 652</th>\n",
       "      <th>F1 653</th>\n",
       "      <th>F1 654</th>\n",
       "      <th>F1 655</th>\n",
       "      <th>F1 656</th>\n",
       "      <th>F1 657</th>\n",
       "      <th>F1 658</th>\n",
       "      <th>F1 659</th>\n",
       "      <th>F1 660</th>\n",
       "      <th>F1 661</th>\n",
       "      <th>F1 662</th>\n",
       "      <th>F1 663</th>\n",
       "      <th>F1 664</th>\n",
       "      <th>F1 665</th>\n",
       "      <th>F1 666</th>\n",
       "      <th>F1 667</th>\n",
       "      <th>F1 668</th>\n",
       "      <th>F1 669</th>\n",
       "      <th>F1 670</th>\n",
       "      <th>F1 671</th>\n",
       "      <th>F1 672</th>\n",
       "      <th>F1 673</th>\n",
       "      <th>F1 674</th>\n",
       "      <th>F1 675</th>\n",
       "      <th>F1 676</th>\n",
       "      <th>F1 677</th>\n",
       "      <th>F1 678</th>\n",
       "      <th>F1 679</th>\n",
       "      <th>F1 680</th>\n",
       "      <th>F1 681</th>\n",
       "      <th>F1 682</th>\n",
       "      <th>F1 683</th>\n",
       "      <th>F1 684</th>\n",
       "      <th>F1 685</th>\n",
       "      <th>F1 686</th>\n",
       "      <th>F1 687</th>\n",
       "      <th>F1 688</th>\n",
       "      <th>F1 689</th>\n",
       "      <th>F1 690</th>\n",
       "      <th>F1 691</th>\n",
       "      <th>F1 692</th>\n",
       "      <th>F1 693</th>\n",
       "      <th>F1 694</th>\n",
       "      <th>F1 695</th>\n",
       "      <th>F1 696</th>\n",
       "      <th>F1 697</th>\n",
       "      <th>F1 698</th>\n",
       "      <th>F1 699</th>\n",
       "      <th>F1 700</th>\n",
       "      <th>F1 701</th>\n",
       "      <th>F1 702</th>\n",
       "      <th>F1 703</th>\n",
       "      <th>F1 704</th>\n",
       "      <th>F1 705</th>\n",
       "      <th>F1 706</th>\n",
       "      <th>F1 707</th>\n",
       "      <th>F1 708</th>\n",
       "      <th>F1 709</th>\n",
       "      <th>F1 710</th>\n",
       "      <th>F1 711</th>\n",
       "      <th>F1 712</th>\n",
       "      <th>F1 713</th>\n",
       "      <th>F1 714</th>\n",
       "      <th>F1 715</th>\n",
       "      <th>F1 716</th>\n",
       "      <th>F1 717</th>\n",
       "      <th>F1 718</th>\n",
       "      <th>F1 719</th>\n",
       "      <th>F1 720</th>\n",
       "      <th>F1 721</th>\n",
       "      <th>F1 722</th>\n",
       "      <th>F1 723</th>\n",
       "      <th>F1 724</th>\n",
       "      <th>F1 725</th>\n",
       "      <th>F1 726</th>\n",
       "      <th>F1 727</th>\n",
       "      <th>F1 728</th>\n",
       "      <th>F1 729</th>\n",
       "      <th>F1 730</th>\n",
       "      <th>F1 731</th>\n",
       "      <th>F1 732</th>\n",
       "      <th>F1 733</th>\n",
       "      <th>F1 734</th>\n",
       "      <th>F1 735</th>\n",
       "      <th>F1 736</th>\n",
       "      <th>F1 737</th>\n",
       "      <th>F1 738</th>\n",
       "      <th>F1 739</th>\n",
       "      <th>F1 740</th>\n",
       "      <th>F1 741</th>\n",
       "      <th>F1 742</th>\n",
       "      <th>F1 743</th>\n",
       "      <th>F1 744</th>\n",
       "      <th>F1 745</th>\n",
       "      <th>F1 746</th>\n",
       "      <th>F1 747</th>\n",
       "      <th>F1 748</th>\n",
       "      <th>F1 749</th>\n",
       "      <th>F1 750</th>\n",
       "      <th>F1 751</th>\n",
       "      <th>F1 752</th>\n",
       "      <th>F1 753</th>\n",
       "      <th>F1 754</th>\n",
       "      <th>F1 755</th>\n",
       "      <th>F1 756</th>\n",
       "      <th>F1 757</th>\n",
       "      <th>F1 758</th>\n",
       "      <th>F1 759</th>\n",
       "      <th>F1 760</th>\n",
       "      <th>F1 761</th>\n",
       "      <th>F1 762</th>\n",
       "      <th>F1 763</th>\n",
       "      <th>F1 764</th>\n",
       "      <th>F1 765</th>\n",
       "      <th>F1 766</th>\n",
       "      <th>F1 767</th>\n",
       "      <th>F1 768</th>\n",
       "      <th>F1 769</th>\n",
       "      <th>F1 770</th>\n",
       "      <th>F1 771</th>\n",
       "      <th>F1 772</th>\n",
       "      <th>F1 773</th>\n",
       "      <th>F1 774</th>\n",
       "      <th>F1 775</th>\n",
       "      <th>F1 776</th>\n",
       "      <th>F1 777</th>\n",
       "      <th>F1 778</th>\n",
       "      <th>F1 779</th>\n",
       "      <th>F1 780</th>\n",
       "      <th>F1 781</th>\n",
       "      <th>F1 782</th>\n",
       "      <th>F1 783</th>\n",
       "      <th>F1 784</th>\n",
       "      <th>F1 785</th>\n",
       "      <th>F1 786</th>\n",
       "      <th>F1 787</th>\n",
       "      <th>F1 788</th>\n",
       "      <th>F1 789</th>\n",
       "      <th>F1 790</th>\n",
       "      <th>F1 791</th>\n",
       "      <th>F1 792</th>\n",
       "      <th>F1 793</th>\n",
       "      <th>F1 794</th>\n",
       "      <th>F1 795</th>\n",
       "      <th>F1 796</th>\n",
       "      <th>F1 797</th>\n",
       "      <th>F1 798</th>\n",
       "      <th>F1 799</th>\n",
       "      <th>F1 800</th>\n",
       "      <th>F1 801</th>\n",
       "      <th>F1 802</th>\n",
       "      <th>F1 803</th>\n",
       "      <th>F1 804</th>\n",
       "      <th>F1 805</th>\n",
       "      <th>F1 806</th>\n",
       "      <th>F1 807</th>\n",
       "      <th>F1 808</th>\n",
       "      <th>F1 809</th>\n",
       "      <th>F1 810</th>\n",
       "      <th>F1 811</th>\n",
       "      <th>F1 812</th>\n",
       "      <th>F1 813</th>\n",
       "      <th>F1 814</th>\n",
       "      <th>F1 815</th>\n",
       "      <th>F1 816</th>\n",
       "      <th>F1 817</th>\n",
       "      <th>F1 818</th>\n",
       "      <th>F1 819</th>\n",
       "      <th>F1 820</th>\n",
       "      <th>F1 821</th>\n",
       "      <th>F1 822</th>\n",
       "      <th>F1 823</th>\n",
       "      <th>F1 824</th>\n",
       "      <th>F1 825</th>\n",
       "      <th>F1 826</th>\n",
       "      <th>F1 827</th>\n",
       "      <th>F1 828</th>\n",
       "      <th>F1 829</th>\n",
       "    </tr>\n",
       "  </thead>\n",
       "  <tbody>\n",
       "    <tr>\n",
       "      <td>1</td>\n",
       "      <td>No log</td>\n",
       "      <td>0.013395</td>\n",
       "      <td>0.997803</td>\n",
       "      <td>0.000564</td>\n",
       "      <td>0.000000</td>\n",
       "      <td>0.000000</td>\n",
       "      <td>0.000000</td>\n",
       "      <td>0.000000</td>\n",
       "      <td>0.000000</td>\n",
       "      <td>0.000000</td>\n",
       "      <td>0.000000</td>\n",
       "      <td>0.000000</td>\n",
       "      <td>0.000000</td>\n",
       "      <td>0.000000</td>\n",
       "      <td>0.000000</td>\n",
       "      <td>0.000000</td>\n",
       "      <td>0.000000</td>\n",
       "      <td>0.000000</td>\n",
       "      <td>0.000000</td>\n",
       "      <td>0.000000</td>\n",
       "      <td>0.000000</td>\n",
       "      <td>0.000000</td>\n",
       "      <td>0.000000</td>\n",
       "      <td>0.000000</td>\n",
       "      <td>0.000000</td>\n",
       "      <td>0.000000</td>\n",
       "      <td>0.000000</td>\n",
       "      <td>0.000000</td>\n",
       "      <td>0.000000</td>\n",
       "      <td>0.000000</td>\n",
       "      <td>0.000000</td>\n",
       "      <td>0.000000</td>\n",
       "      <td>0.000000</td>\n",
       "      <td>0.000000</td>\n",
       "      <td>0.000000</td>\n",
       "      <td>0.000000</td>\n",
       "      <td>0.000000</td>\n",
       "      <td>0.000000</td>\n",
       "      <td>0.000000</td>\n",
       "      <td>0.000000</td>\n",
       "      <td>0.000000</td>\n",
       "      <td>0.000000</td>\n",
       "      <td>0.000000</td>\n",
       "      <td>0.000000</td>\n",
       "      <td>0.000000</td>\n",
       "      <td>0.000000</td>\n",
       "      <td>0.000000</td>\n",
       "      <td>0.000000</td>\n",
       "      <td>0.000000</td>\n",
       "      <td>0.000000</td>\n",
       "      <td>0.000000</td>\n",
       "      <td>0.000000</td>\n",
       "      <td>0.000000</td>\n",
       "      <td>0.000000</td>\n",
       "      <td>0.000000</td>\n",
       "      <td>0.000000</td>\n",
       "      <td>0.000000</td>\n",
       "      <td>0.000000</td>\n",
       "      <td>0.000000</td>\n",
       "      <td>0.000000</td>\n",
       "      <td>0.000000</td>\n",
       "      <td>0.000000</td>\n",
       "      <td>0.000000</td>\n",
       "      <td>0.000000</td>\n",
       "      <td>0.000000</td>\n",
       "      <td>0.000000</td>\n",
       "      <td>0.000000</td>\n",
       "      <td>0.000000</td>\n",
       "      <td>0.000000</td>\n",
       "      <td>0.000000</td>\n",
       "      <td>0.000000</td>\n",
       "      <td>0.000000</td>\n",
       "      <td>0.000000</td>\n",
       "      <td>0.000000</td>\n",
       "      <td>0.000000</td>\n",
       "      <td>0.000000</td>\n",
       "      <td>0.000000</td>\n",
       "      <td>0.000000</td>\n",
       "      <td>0.000000</td>\n",
       "      <td>0.000000</td>\n",
       "      <td>0.000000</td>\n",
       "      <td>0.000000</td>\n",
       "      <td>0.000000</td>\n",
       "      <td>0.000000</td>\n",
       "      <td>0.000000</td>\n",
       "      <td>0.000000</td>\n",
       "      <td>0.000000</td>\n",
       "      <td>0.000000</td>\n",
       "      <td>0.000000</td>\n",
       "      <td>0.000000</td>\n",
       "      <td>0.000000</td>\n",
       "      <td>0.000000</td>\n",
       "      <td>0.000000</td>\n",
       "      <td>0.000000</td>\n",
       "      <td>0.000000</td>\n",
       "      <td>0.000000</td>\n",
       "      <td>0.000000</td>\n",
       "      <td>0.000000</td>\n",
       "      <td>0.000000</td>\n",
       "      <td>0.000000</td>\n",
       "      <td>0.000000</td>\n",
       "      <td>0.000000</td>\n",
       "      <td>0.000000</td>\n",
       "      <td>0.000000</td>\n",
       "      <td>0.000000</td>\n",
       "      <td>0.000000</td>\n",
       "      <td>0.000000</td>\n",
       "      <td>0.000000</td>\n",
       "      <td>0.000000</td>\n",
       "      <td>0.000000</td>\n",
       "      <td>0.000000</td>\n",
       "      <td>0.000000</td>\n",
       "      <td>0.000000</td>\n",
       "      <td>0.000000</td>\n",
       "      <td>0.000000</td>\n",
       "      <td>0.000000</td>\n",
       "      <td>0.000000</td>\n",
       "      <td>0.000000</td>\n",
       "      <td>0.000000</td>\n",
       "      <td>0.000000</td>\n",
       "      <td>0.000000</td>\n",
       "      <td>0.000000</td>\n",
       "      <td>0.000000</td>\n",
       "      <td>0.000000</td>\n",
       "      <td>0.000000</td>\n",
       "      <td>0.000000</td>\n",
       "      <td>0.000000</td>\n",
       "      <td>0.000000</td>\n",
       "      <td>0.000000</td>\n",
       "      <td>0.000000</td>\n",
       "      <td>0.000000</td>\n",
       "      <td>0.000000</td>\n",
       "      <td>0.000000</td>\n",
       "      <td>0.000000</td>\n",
       "      <td>0.000000</td>\n",
       "      <td>0.000000</td>\n",
       "      <td>0.000000</td>\n",
       "      <td>0.000000</td>\n",
       "      <td>0.000000</td>\n",
       "      <td>0.000000</td>\n",
       "      <td>0.000000</td>\n",
       "      <td>0.000000</td>\n",
       "      <td>0.000000</td>\n",
       "      <td>0.000000</td>\n",
       "      <td>0.000000</td>\n",
       "      <td>0.000000</td>\n",
       "      <td>0.000000</td>\n",
       "      <td>0.000000</td>\n",
       "      <td>0.000000</td>\n",
       "      <td>0.000000</td>\n",
       "      <td>0.000000</td>\n",
       "      <td>0.000000</td>\n",
       "      <td>0.000000</td>\n",
       "      <td>0.000000</td>\n",
       "      <td>0.000000</td>\n",
       "      <td>0.000000</td>\n",
       "      <td>0.000000</td>\n",
       "      <td>0.000000</td>\n",
       "      <td>0.000000</td>\n",
       "      <td>0.000000</td>\n",
       "      <td>0.000000</td>\n",
       "      <td>0.000000</td>\n",
       "      <td>0.000000</td>\n",
       "      <td>0.000000</td>\n",
       "      <td>0.000000</td>\n",
       "      <td>0.000000</td>\n",
       "      <td>0.000000</td>\n",
       "      <td>0.000000</td>\n",
       "      <td>0.000000</td>\n",
       "      <td>0.000000</td>\n",
       "      <td>0.000000</td>\n",
       "      <td>0.000000</td>\n",
       "      <td>0.000000</td>\n",
       "      <td>0.000000</td>\n",
       "      <td>0.000000</td>\n",
       "      <td>0.000000</td>\n",
       "      <td>0.000000</td>\n",
       "      <td>0.000000</td>\n",
       "      <td>0.000000</td>\n",
       "      <td>0.000000</td>\n",
       "      <td>0.000000</td>\n",
       "      <td>0.000000</td>\n",
       "      <td>0.000000</td>\n",
       "      <td>0.000000</td>\n",
       "      <td>0.000000</td>\n",
       "      <td>0.000000</td>\n",
       "      <td>0.000000</td>\n",
       "      <td>0.000000</td>\n",
       "      <td>0.000000</td>\n",
       "      <td>0.000000</td>\n",
       "      <td>0.000000</td>\n",
       "      <td>0.000000</td>\n",
       "      <td>0.000000</td>\n",
       "      <td>0.000000</td>\n",
       "      <td>0.000000</td>\n",
       "      <td>0.000000</td>\n",
       "      <td>0.000000</td>\n",
       "      <td>0.000000</td>\n",
       "      <td>0.000000</td>\n",
       "      <td>0.000000</td>\n",
       "      <td>0.000000</td>\n",
       "      <td>0.000000</td>\n",
       "      <td>0.000000</td>\n",
       "      <td>0.000000</td>\n",
       "      <td>0.000000</td>\n",
       "      <td>0.000000</td>\n",
       "      <td>0.000000</td>\n",
       "      <td>0.000000</td>\n",
       "      <td>0.000000</td>\n",
       "      <td>0.000000</td>\n",
       "      <td>0.000000</td>\n",
       "      <td>0.000000</td>\n",
       "      <td>0.000000</td>\n",
       "      <td>0.000000</td>\n",
       "      <td>0.000000</td>\n",
       "      <td>0.000000</td>\n",
       "      <td>0.000000</td>\n",
       "      <td>0.000000</td>\n",
       "      <td>0.000000</td>\n",
       "      <td>0.000000</td>\n",
       "      <td>0.000000</td>\n",
       "      <td>0.000000</td>\n",
       "      <td>0.000000</td>\n",
       "      <td>0.000000</td>\n",
       "      <td>0.000000</td>\n",
       "      <td>0.000000</td>\n",
       "      <td>0.000000</td>\n",
       "      <td>0.000000</td>\n",
       "      <td>0.000000</td>\n",
       "      <td>0.000000</td>\n",
       "      <td>0.000000</td>\n",
       "      <td>0.000000</td>\n",
       "      <td>0.000000</td>\n",
       "      <td>0.000000</td>\n",
       "      <td>0.000000</td>\n",
       "      <td>0.000000</td>\n",
       "      <td>0.000000</td>\n",
       "      <td>0.000000</td>\n",
       "      <td>0.000000</td>\n",
       "      <td>0.000000</td>\n",
       "      <td>0.000000</td>\n",
       "      <td>0.000000</td>\n",
       "      <td>0.000000</td>\n",
       "      <td>0.000000</td>\n",
       "      <td>0.000000</td>\n",
       "      <td>0.000000</td>\n",
       "      <td>0.000000</td>\n",
       "      <td>0.000000</td>\n",
       "      <td>0.000000</td>\n",
       "      <td>0.000000</td>\n",
       "      <td>0.000000</td>\n",
       "      <td>0.000000</td>\n",
       "      <td>0.000000</td>\n",
       "      <td>0.000000</td>\n",
       "      <td>0.000000</td>\n",
       "      <td>0.000000</td>\n",
       "      <td>0.000000</td>\n",
       "      <td>0.000000</td>\n",
       "      <td>0.000000</td>\n",
       "      <td>0.000000</td>\n",
       "      <td>0.000000</td>\n",
       "      <td>0.000000</td>\n",
       "      <td>0.000000</td>\n",
       "      <td>0.000000</td>\n",
       "      <td>0.000000</td>\n",
       "      <td>0.000000</td>\n",
       "      <td>0.000000</td>\n",
       "      <td>0.000000</td>\n",
       "      <td>0.000000</td>\n",
       "      <td>0.000000</td>\n",
       "      <td>0.000000</td>\n",
       "      <td>0.000000</td>\n",
       "      <td>0.000000</td>\n",
       "      <td>0.000000</td>\n",
       "      <td>0.000000</td>\n",
       "      <td>0.000000</td>\n",
       "      <td>0.000000</td>\n",
       "      <td>0.000000</td>\n",
       "      <td>0.000000</td>\n",
       "      <td>0.000000</td>\n",
       "      <td>0.000000</td>\n",
       "      <td>0.000000</td>\n",
       "      <td>0.000000</td>\n",
       "      <td>0.000000</td>\n",
       "      <td>0.000000</td>\n",
       "      <td>0.000000</td>\n",
       "      <td>0.000000</td>\n",
       "      <td>0.000000</td>\n",
       "      <td>0.000000</td>\n",
       "      <td>0.000000</td>\n",
       "      <td>0.000000</td>\n",
       "      <td>0.000000</td>\n",
       "      <td>0.000000</td>\n",
       "      <td>0.000000</td>\n",
       "      <td>0.000000</td>\n",
       "      <td>0.000000</td>\n",
       "      <td>0.000000</td>\n",
       "      <td>0.000000</td>\n",
       "      <td>0.000000</td>\n",
       "      <td>0.000000</td>\n",
       "      <td>0.000000</td>\n",
       "      <td>0.000000</td>\n",
       "      <td>0.000000</td>\n",
       "      <td>0.000000</td>\n",
       "      <td>0.000000</td>\n",
       "      <td>0.000000</td>\n",
       "      <td>0.000000</td>\n",
       "      <td>0.000000</td>\n",
       "      <td>0.000000</td>\n",
       "      <td>0.000000</td>\n",
       "      <td>0.000000</td>\n",
       "      <td>0.000000</td>\n",
       "      <td>0.000000</td>\n",
       "      <td>0.000000</td>\n",
       "      <td>0.000000</td>\n",
       "      <td>0.000000</td>\n",
       "      <td>0.000000</td>\n",
       "      <td>0.000000</td>\n",
       "      <td>0.000000</td>\n",
       "      <td>0.000000</td>\n",
       "      <td>0.000000</td>\n",
       "      <td>0.000000</td>\n",
       "      <td>0.000000</td>\n",
       "      <td>0.000000</td>\n",
       "      <td>0.000000</td>\n",
       "      <td>0.000000</td>\n",
       "      <td>0.000000</td>\n",
       "      <td>0.000000</td>\n",
       "      <td>0.000000</td>\n",
       "      <td>0.000000</td>\n",
       "      <td>0.000000</td>\n",
       "      <td>0.000000</td>\n",
       "      <td>0.000000</td>\n",
       "      <td>0.000000</td>\n",
       "      <td>0.000000</td>\n",
       "      <td>0.000000</td>\n",
       "      <td>0.000000</td>\n",
       "      <td>0.000000</td>\n",
       "      <td>0.000000</td>\n",
       "      <td>0.000000</td>\n",
       "      <td>0.000000</td>\n",
       "      <td>0.000000</td>\n",
       "      <td>0.000000</td>\n",
       "      <td>0.000000</td>\n",
       "      <td>0.000000</td>\n",
       "      <td>0.000000</td>\n",
       "      <td>0.000000</td>\n",
       "      <td>0.000000</td>\n",
       "      <td>0.000000</td>\n",
       "      <td>0.000000</td>\n",
       "      <td>0.000000</td>\n",
       "      <td>0.000000</td>\n",
       "      <td>0.000000</td>\n",
       "      <td>0.000000</td>\n",
       "      <td>0.000000</td>\n",
       "      <td>0.000000</td>\n",
       "      <td>0.000000</td>\n",
       "      <td>0.000000</td>\n",
       "      <td>0.000000</td>\n",
       "      <td>0.000000</td>\n",
       "      <td>0.000000</td>\n",
       "      <td>0.000000</td>\n",
       "      <td>0.000000</td>\n",
       "      <td>0.000000</td>\n",
       "      <td>0.000000</td>\n",
       "      <td>0.000000</td>\n",
       "      <td>0.000000</td>\n",
       "      <td>0.000000</td>\n",
       "      <td>0.000000</td>\n",
       "      <td>0.000000</td>\n",
       "      <td>0.000000</td>\n",
       "      <td>0.000000</td>\n",
       "      <td>0.000000</td>\n",
       "      <td>0.000000</td>\n",
       "      <td>0.000000</td>\n",
       "      <td>0.000000</td>\n",
       "      <td>0.000000</td>\n",
       "      <td>0.000000</td>\n",
       "      <td>0.000000</td>\n",
       "      <td>0.000000</td>\n",
       "      <td>0.000000</td>\n",
       "      <td>0.000000</td>\n",
       "      <td>0.000000</td>\n",
       "      <td>0.000000</td>\n",
       "      <td>0.000000</td>\n",
       "      <td>0.000000</td>\n",
       "      <td>0.000000</td>\n",
       "      <td>0.000000</td>\n",
       "      <td>0.000000</td>\n",
       "      <td>0.000000</td>\n",
       "      <td>0.000000</td>\n",
       "      <td>0.000000</td>\n",
       "      <td>0.000000</td>\n",
       "      <td>0.000000</td>\n",
       "      <td>0.000000</td>\n",
       "      <td>0.000000</td>\n",
       "      <td>0.000000</td>\n",
       "      <td>0.000000</td>\n",
       "      <td>0.000000</td>\n",
       "      <td>0.000000</td>\n",
       "      <td>0.000000</td>\n",
       "      <td>0.000000</td>\n",
       "      <td>0.000000</td>\n",
       "      <td>0.000000</td>\n",
       "      <td>0.000000</td>\n",
       "      <td>0.000000</td>\n",
       "      <td>0.000000</td>\n",
       "      <td>0.000000</td>\n",
       "      <td>0.000000</td>\n",
       "      <td>0.000000</td>\n",
       "      <td>0.000000</td>\n",
       "      <td>0.000000</td>\n",
       "      <td>0.000000</td>\n",
       "      <td>0.000000</td>\n",
       "      <td>0.000000</td>\n",
       "      <td>0.000000</td>\n",
       "      <td>0.000000</td>\n",
       "      <td>0.000000</td>\n",
       "      <td>0.000000</td>\n",
       "      <td>0.000000</td>\n",
       "      <td>0.000000</td>\n",
       "      <td>0.000000</td>\n",
       "      <td>0.000000</td>\n",
       "      <td>0.000000</td>\n",
       "      <td>0.000000</td>\n",
       "      <td>0.000000</td>\n",
       "      <td>0.000000</td>\n",
       "      <td>0.000000</td>\n",
       "      <td>0.000000</td>\n",
       "      <td>0.000000</td>\n",
       "      <td>0.000000</td>\n",
       "      <td>0.000000</td>\n",
       "      <td>0.000000</td>\n",
       "      <td>0.000000</td>\n",
       "      <td>0.000000</td>\n",
       "      <td>0.000000</td>\n",
       "      <td>0.000000</td>\n",
       "      <td>0.000000</td>\n",
       "      <td>0.000000</td>\n",
       "      <td>0.000000</td>\n",
       "      <td>0.000000</td>\n",
       "      <td>0.000000</td>\n",
       "      <td>0.000000</td>\n",
       "      <td>0.000000</td>\n",
       "      <td>0.000000</td>\n",
       "      <td>0.000000</td>\n",
       "      <td>0.000000</td>\n",
       "      <td>0.000000</td>\n",
       "      <td>0.000000</td>\n",
       "      <td>0.000000</td>\n",
       "      <td>0.000000</td>\n",
       "      <td>0.000000</td>\n",
       "      <td>0.000000</td>\n",
       "      <td>0.000000</td>\n",
       "      <td>0.000000</td>\n",
       "      <td>0.000000</td>\n",
       "      <td>0.000000</td>\n",
       "      <td>0.000000</td>\n",
       "      <td>0.000000</td>\n",
       "      <td>0.000000</td>\n",
       "      <td>0.000000</td>\n",
       "      <td>0.000000</td>\n",
       "      <td>0.000000</td>\n",
       "      <td>0.000000</td>\n",
       "      <td>0.000000</td>\n",
       "      <td>0.000000</td>\n",
       "      <td>0.000000</td>\n",
       "      <td>0.000000</td>\n",
       "      <td>0.000000</td>\n",
       "      <td>0.000000</td>\n",
       "      <td>0.000000</td>\n",
       "      <td>0.000000</td>\n",
       "      <td>0.000000</td>\n",
       "      <td>0.000000</td>\n",
       "      <td>0.000000</td>\n",
       "      <td>0.000000</td>\n",
       "      <td>0.000000</td>\n",
       "      <td>0.000000</td>\n",
       "      <td>0.000000</td>\n",
       "      <td>0.000000</td>\n",
       "      <td>0.000000</td>\n",
       "      <td>0.000000</td>\n",
       "      <td>0.000000</td>\n",
       "      <td>0.000000</td>\n",
       "      <td>0.000000</td>\n",
       "      <td>0.000000</td>\n",
       "      <td>0.000000</td>\n",
       "      <td>0.000000</td>\n",
       "      <td>0.000000</td>\n",
       "      <td>0.000000</td>\n",
       "      <td>0.000000</td>\n",
       "      <td>0.000000</td>\n",
       "      <td>0.000000</td>\n",
       "      <td>0.000000</td>\n",
       "      <td>0.000000</td>\n",
       "      <td>0.000000</td>\n",
       "      <td>0.000000</td>\n",
       "      <td>0.000000</td>\n",
       "      <td>0.000000</td>\n",
       "      <td>0.000000</td>\n",
       "      <td>0.000000</td>\n",
       "      <td>0.000000</td>\n",
       "      <td>0.000000</td>\n",
       "      <td>0.000000</td>\n",
       "      <td>0.000000</td>\n",
       "      <td>0.000000</td>\n",
       "      <td>0.000000</td>\n",
       "      <td>0.000000</td>\n",
       "      <td>0.000000</td>\n",
       "      <td>0.000000</td>\n",
       "      <td>0.000000</td>\n",
       "      <td>0.000000</td>\n",
       "      <td>0.000000</td>\n",
       "      <td>0.000000</td>\n",
       "      <td>0.000000</td>\n",
       "      <td>0.000000</td>\n",
       "      <td>0.000000</td>\n",
       "      <td>0.000000</td>\n",
       "      <td>0.000000</td>\n",
       "      <td>0.000000</td>\n",
       "      <td>0.000000</td>\n",
       "      <td>0.000000</td>\n",
       "      <td>0.000000</td>\n",
       "      <td>0.000000</td>\n",
       "      <td>0.000000</td>\n",
       "      <td>0.000000</td>\n",
       "      <td>0.000000</td>\n",
       "      <td>0.000000</td>\n",
       "      <td>0.000000</td>\n",
       "      <td>0.000000</td>\n",
       "      <td>0.000000</td>\n",
       "      <td>0.000000</td>\n",
       "      <td>0.000000</td>\n",
       "      <td>0.000000</td>\n",
       "      <td>0.000000</td>\n",
       "      <td>0.000000</td>\n",
       "      <td>0.000000</td>\n",
       "      <td>0.000000</td>\n",
       "      <td>0.000000</td>\n",
       "      <td>0.000000</td>\n",
       "      <td>0.000000</td>\n",
       "      <td>0.000000</td>\n",
       "      <td>0.000000</td>\n",
       "      <td>0.000000</td>\n",
       "      <td>0.000000</td>\n",
       "      <td>0.000000</td>\n",
       "      <td>0.000000</td>\n",
       "      <td>0.000000</td>\n",
       "      <td>0.000000</td>\n",
       "      <td>0.000000</td>\n",
       "      <td>0.000000</td>\n",
       "      <td>0.000000</td>\n",
       "      <td>0.000000</td>\n",
       "      <td>0.000000</td>\n",
       "      <td>0.000000</td>\n",
       "      <td>0.000000</td>\n",
       "      <td>0.000000</td>\n",
       "      <td>0.000000</td>\n",
       "      <td>0.000000</td>\n",
       "      <td>0.000000</td>\n",
       "      <td>0.000000</td>\n",
       "      <td>0.000000</td>\n",
       "      <td>0.000000</td>\n",
       "      <td>0.000000</td>\n",
       "      <td>0.000000</td>\n",
       "      <td>0.000000</td>\n",
       "      <td>0.000000</td>\n",
       "      <td>0.000000</td>\n",
       "      <td>0.000000</td>\n",
       "      <td>0.000000</td>\n",
       "      <td>0.000000</td>\n",
       "      <td>0.000000</td>\n",
       "      <td>0.000000</td>\n",
       "      <td>0.000000</td>\n",
       "      <td>0.000000</td>\n",
       "      <td>0.000000</td>\n",
       "      <td>0.000000</td>\n",
       "      <td>0.000000</td>\n",
       "      <td>0.000000</td>\n",
       "      <td>0.000000</td>\n",
       "      <td>0.000000</td>\n",
       "      <td>0.000000</td>\n",
       "      <td>0.000000</td>\n",
       "      <td>0.000000</td>\n",
       "      <td>0.000000</td>\n",
       "      <td>0.000000</td>\n",
       "      <td>0.000000</td>\n",
       "      <td>0.000000</td>\n",
       "      <td>0.000000</td>\n",
       "      <td>0.000000</td>\n",
       "      <td>0.000000</td>\n",
       "      <td>0.000000</td>\n",
       "      <td>0.000000</td>\n",
       "      <td>0.000000</td>\n",
       "      <td>0.000000</td>\n",
       "      <td>0.000000</td>\n",
       "      <td>0.000000</td>\n",
       "      <td>0.000000</td>\n",
       "      <td>0.000000</td>\n",
       "      <td>0.000000</td>\n",
       "      <td>0.000000</td>\n",
       "      <td>0.000000</td>\n",
       "      <td>0.000000</td>\n",
       "      <td>0.000000</td>\n",
       "      <td>0.000000</td>\n",
       "      <td>0.000000</td>\n",
       "      <td>0.000000</td>\n",
       "      <td>0.000000</td>\n",
       "      <td>0.000000</td>\n",
       "      <td>0.000000</td>\n",
       "      <td>0.000000</td>\n",
       "      <td>0.000000</td>\n",
       "      <td>0.000000</td>\n",
       "      <td>0.000000</td>\n",
       "      <td>0.000000</td>\n",
       "      <td>0.000000</td>\n",
       "      <td>0.000000</td>\n",
       "      <td>0.000000</td>\n",
       "      <td>0.000000</td>\n",
       "      <td>0.000000</td>\n",
       "      <td>0.000000</td>\n",
       "      <td>0.000000</td>\n",
       "      <td>0.000000</td>\n",
       "      <td>0.000000</td>\n",
       "      <td>0.000000</td>\n",
       "      <td>0.000000</td>\n",
       "      <td>0.000000</td>\n",
       "      <td>0.000000</td>\n",
       "      <td>0.000000</td>\n",
       "      <td>0.000000</td>\n",
       "      <td>0.000000</td>\n",
       "      <td>0.000000</td>\n",
       "      <td>0.000000</td>\n",
       "      <td>0.000000</td>\n",
       "      <td>0.000000</td>\n",
       "      <td>0.000000</td>\n",
       "      <td>0.000000</td>\n",
       "      <td>0.000000</td>\n",
       "      <td>0.000000</td>\n",
       "      <td>0.000000</td>\n",
       "      <td>0.000000</td>\n",
       "      <td>0.000000</td>\n",
       "      <td>0.000000</td>\n",
       "      <td>0.000000</td>\n",
       "      <td>0.000000</td>\n",
       "      <td>0.000000</td>\n",
       "      <td>0.000000</td>\n",
       "      <td>0.000000</td>\n",
       "      <td>0.000000</td>\n",
       "      <td>0.000000</td>\n",
       "      <td>0.000000</td>\n",
       "      <td>0.000000</td>\n",
       "      <td>0.000000</td>\n",
       "      <td>0.000000</td>\n",
       "      <td>0.000000</td>\n",
       "      <td>0.000000</td>\n",
       "      <td>0.000000</td>\n",
       "      <td>0.000000</td>\n",
       "      <td>0.000000</td>\n",
       "      <td>0.000000</td>\n",
       "      <td>0.000000</td>\n",
       "      <td>0.000000</td>\n",
       "      <td>0.000000</td>\n",
       "      <td>0.000000</td>\n",
       "      <td>0.000000</td>\n",
       "      <td>0.000000</td>\n",
       "      <td>0.000000</td>\n",
       "      <td>0.000000</td>\n",
       "      <td>0.000000</td>\n",
       "      <td>0.000000</td>\n",
       "      <td>0.000000</td>\n",
       "      <td>0.000000</td>\n",
       "      <td>0.000000</td>\n",
       "      <td>0.000000</td>\n",
       "      <td>0.000000</td>\n",
       "      <td>0.000000</td>\n",
       "      <td>0.000000</td>\n",
       "      <td>0.000000</td>\n",
       "      <td>0.000000</td>\n",
       "      <td>0.000000</td>\n",
       "      <td>0.000000</td>\n",
       "      <td>0.000000</td>\n",
       "      <td>0.000000</td>\n",
       "      <td>0.000000</td>\n",
       "      <td>0.000000</td>\n",
       "      <td>0.000000</td>\n",
       "      <td>0.000000</td>\n",
       "      <td>0.000000</td>\n",
       "      <td>0.000000</td>\n",
       "      <td>0.000000</td>\n",
       "      <td>0.000000</td>\n",
       "      <td>0.000000</td>\n",
       "      <td>0.000000</td>\n",
       "      <td>0.000000</td>\n",
       "      <td>0.000000</td>\n",
       "      <td>0.000000</td>\n",
       "      <td>0.000000</td>\n",
       "      <td>0.000000</td>\n",
       "      <td>0.000000</td>\n",
       "      <td>0.000000</td>\n",
       "      <td>0.000000</td>\n",
       "      <td>0.000000</td>\n",
       "      <td>0.000000</td>\n",
       "      <td>0.000000</td>\n",
       "      <td>0.000000</td>\n",
       "      <td>0.000000</td>\n",
       "      <td>0.000000</td>\n",
       "      <td>0.000000</td>\n",
       "      <td>0.000000</td>\n",
       "      <td>0.000000</td>\n",
       "      <td>0.000000</td>\n",
       "      <td>0.000000</td>\n",
       "      <td>0.000000</td>\n",
       "      <td>0.000000</td>\n",
       "      <td>0.000000</td>\n",
       "      <td>0.000000</td>\n",
       "      <td>0.000000</td>\n",
       "      <td>0.000000</td>\n",
       "      <td>0.000000</td>\n",
       "      <td>0.000000</td>\n",
       "      <td>0.000000</td>\n",
       "      <td>0.000000</td>\n",
       "      <td>0.000000</td>\n",
       "      <td>0.000000</td>\n",
       "      <td>0.000000</td>\n",
       "      <td>0.000000</td>\n",
       "      <td>0.000000</td>\n",
       "      <td>0.000000</td>\n",
       "      <td>0.000000</td>\n",
       "      <td>0.000000</td>\n",
       "      <td>0.000000</td>\n",
       "      <td>0.000000</td>\n",
       "      <td>0.000000</td>\n",
       "      <td>0.000000</td>\n",
       "      <td>0.000000</td>\n",
       "      <td>0.000000</td>\n",
       "      <td>0.000000</td>\n",
       "      <td>0.000000</td>\n",
       "      <td>0.000000</td>\n",
       "      <td>0.000000</td>\n",
       "      <td>0.000000</td>\n",
       "      <td>0.000000</td>\n",
       "      <td>0.000000</td>\n",
       "      <td>0.000000</td>\n",
       "      <td>0.000000</td>\n",
       "      <td>0.000000</td>\n",
       "      <td>0.000000</td>\n",
       "      <td>0.000000</td>\n",
       "      <td>0.000000</td>\n",
       "      <td>0.000000</td>\n",
       "      <td>0.000000</td>\n",
       "      <td>0.000000</td>\n",
       "      <td>0.000000</td>\n",
       "      <td>0.000000</td>\n",
       "      <td>0.000000</td>\n",
       "      <td>0.000000</td>\n",
       "      <td>0.000000</td>\n",
       "      <td>0.000000</td>\n",
       "      <td>0.000000</td>\n",
       "      <td>0.000000</td>\n",
       "      <td>0.000000</td>\n",
       "      <td>0.000000</td>\n",
       "      <td>0.000000</td>\n",
       "      <td>0.000000</td>\n",
       "      <td>0.000000</td>\n",
       "      <td>0.000000</td>\n",
       "      <td>0.000000</td>\n",
       "      <td>0.000000</td>\n",
       "      <td>0.000000</td>\n",
       "      <td>0.000000</td>\n",
       "      <td>0.000000</td>\n",
       "      <td>0.000000</td>\n",
       "      <td>0.000000</td>\n",
       "      <td>0.000000</td>\n",
       "      <td>0.000000</td>\n",
       "      <td>0.000000</td>\n",
       "      <td>0.000000</td>\n",
       "      <td>0.000000</td>\n",
       "      <td>0.000000</td>\n",
       "      <td>0.000000</td>\n",
       "      <td>0.000000</td>\n",
       "      <td>0.000000</td>\n",
       "      <td>0.000000</td>\n",
       "      <td>0.000000</td>\n",
       "      <td>0.000000</td>\n",
       "      <td>0.000000</td>\n",
       "      <td>0.000000</td>\n",
       "      <td>0.000000</td>\n",
       "      <td>0.000000</td>\n",
       "      <td>0.000000</td>\n",
       "      <td>0.000000</td>\n",
       "      <td>0.000000</td>\n",
       "      <td>0.000000</td>\n",
       "      <td>0.000000</td>\n",
       "      <td>0.000000</td>\n",
       "      <td>0.000000</td>\n",
       "      <td>0.000000</td>\n",
       "      <td>0.000000</td>\n",
       "      <td>0.000000</td>\n",
       "      <td>0.000000</td>\n",
       "      <td>0.000000</td>\n",
       "      <td>0.000000</td>\n",
       "      <td>0.000000</td>\n",
       "      <td>0.000000</td>\n",
       "      <td>0.000000</td>\n",
       "      <td>0.000000</td>\n",
       "      <td>0.000000</td>\n",
       "      <td>0.000000</td>\n",
       "      <td>0.000000</td>\n",
       "      <td>0.000000</td>\n",
       "      <td>0.000000</td>\n",
       "      <td>0.000000</td>\n",
       "      <td>0.000000</td>\n",
       "      <td>0.000000</td>\n",
       "      <td>0.000000</td>\n",
       "      <td>0.000000</td>\n",
       "      <td>0.000000</td>\n",
       "      <td>0.000000</td>\n",
       "      <td>0.000000</td>\n",
       "      <td>0.000000</td>\n",
       "      <td>0.000000</td>\n",
       "      <td>0.000000</td>\n",
       "      <td>0.000000</td>\n",
       "      <td>0.000000</td>\n",
       "      <td>0.000000</td>\n",
       "      <td>0.000000</td>\n",
       "      <td>0.000000</td>\n",
       "      <td>0.000000</td>\n",
       "      <td>0.000000</td>\n",
       "      <td>0.000000</td>\n",
       "      <td>0.000000</td>\n",
       "      <td>0.000000</td>\n",
       "      <td>0.000000</td>\n",
       "      <td>0.000000</td>\n",
       "      <td>0.000000</td>\n",
       "      <td>0.000000</td>\n",
       "    </tr>\n",
       "    <tr>\n",
       "      <td>2</td>\n",
       "      <td>No log</td>\n",
       "      <td>0.013321</td>\n",
       "      <td>0.997803</td>\n",
       "      <td>0.000564</td>\n",
       "      <td>0.000000</td>\n",
       "      <td>0.000000</td>\n",
       "      <td>0.000000</td>\n",
       "      <td>0.000000</td>\n",
       "      <td>0.000000</td>\n",
       "      <td>0.000000</td>\n",
       "      <td>0.000000</td>\n",
       "      <td>0.000000</td>\n",
       "      <td>0.000000</td>\n",
       "      <td>0.000000</td>\n",
       "      <td>0.000000</td>\n",
       "      <td>0.000000</td>\n",
       "      <td>0.000000</td>\n",
       "      <td>0.000000</td>\n",
       "      <td>0.000000</td>\n",
       "      <td>0.000000</td>\n",
       "      <td>0.000000</td>\n",
       "      <td>0.000000</td>\n",
       "      <td>0.000000</td>\n",
       "      <td>0.000000</td>\n",
       "      <td>0.000000</td>\n",
       "      <td>0.000000</td>\n",
       "      <td>0.000000</td>\n",
       "      <td>0.000000</td>\n",
       "      <td>0.000000</td>\n",
       "      <td>0.000000</td>\n",
       "      <td>0.000000</td>\n",
       "      <td>0.000000</td>\n",
       "      <td>0.000000</td>\n",
       "      <td>0.000000</td>\n",
       "      <td>0.000000</td>\n",
       "      <td>0.000000</td>\n",
       "      <td>0.000000</td>\n",
       "      <td>0.000000</td>\n",
       "      <td>0.000000</td>\n",
       "      <td>0.000000</td>\n",
       "      <td>0.000000</td>\n",
       "      <td>0.000000</td>\n",
       "      <td>0.000000</td>\n",
       "      <td>0.000000</td>\n",
       "      <td>0.000000</td>\n",
       "      <td>0.000000</td>\n",
       "      <td>0.000000</td>\n",
       "      <td>0.000000</td>\n",
       "      <td>0.000000</td>\n",
       "      <td>0.000000</td>\n",
       "      <td>0.000000</td>\n",
       "      <td>0.000000</td>\n",
       "      <td>0.000000</td>\n",
       "      <td>0.000000</td>\n",
       "      <td>0.000000</td>\n",
       "      <td>0.000000</td>\n",
       "      <td>0.000000</td>\n",
       "      <td>0.000000</td>\n",
       "      <td>0.000000</td>\n",
       "      <td>0.000000</td>\n",
       "      <td>0.000000</td>\n",
       "      <td>0.000000</td>\n",
       "      <td>0.000000</td>\n",
       "      <td>0.000000</td>\n",
       "      <td>0.000000</td>\n",
       "      <td>0.000000</td>\n",
       "      <td>0.000000</td>\n",
       "      <td>0.000000</td>\n",
       "      <td>0.000000</td>\n",
       "      <td>0.000000</td>\n",
       "      <td>0.000000</td>\n",
       "      <td>0.000000</td>\n",
       "      <td>0.000000</td>\n",
       "      <td>0.000000</td>\n",
       "      <td>0.000000</td>\n",
       "      <td>0.000000</td>\n",
       "      <td>0.000000</td>\n",
       "      <td>0.000000</td>\n",
       "      <td>0.000000</td>\n",
       "      <td>0.000000</td>\n",
       "      <td>0.000000</td>\n",
       "      <td>0.000000</td>\n",
       "      <td>0.000000</td>\n",
       "      <td>0.000000</td>\n",
       "      <td>0.000000</td>\n",
       "      <td>0.000000</td>\n",
       "      <td>0.000000</td>\n",
       "      <td>0.000000</td>\n",
       "      <td>0.000000</td>\n",
       "      <td>0.000000</td>\n",
       "      <td>0.000000</td>\n",
       "      <td>0.000000</td>\n",
       "      <td>0.000000</td>\n",
       "      <td>0.000000</td>\n",
       "      <td>0.000000</td>\n",
       "      <td>0.000000</td>\n",
       "      <td>0.000000</td>\n",
       "      <td>0.000000</td>\n",
       "      <td>0.000000</td>\n",
       "      <td>0.000000</td>\n",
       "      <td>0.000000</td>\n",
       "      <td>0.000000</td>\n",
       "      <td>0.000000</td>\n",
       "      <td>0.000000</td>\n",
       "      <td>0.000000</td>\n",
       "      <td>0.000000</td>\n",
       "      <td>0.000000</td>\n",
       "      <td>0.000000</td>\n",
       "      <td>0.000000</td>\n",
       "      <td>0.000000</td>\n",
       "      <td>0.000000</td>\n",
       "      <td>0.000000</td>\n",
       "      <td>0.000000</td>\n",
       "      <td>0.000000</td>\n",
       "      <td>0.000000</td>\n",
       "      <td>0.000000</td>\n",
       "      <td>0.000000</td>\n",
       "      <td>0.000000</td>\n",
       "      <td>0.000000</td>\n",
       "      <td>0.000000</td>\n",
       "      <td>0.000000</td>\n",
       "      <td>0.000000</td>\n",
       "      <td>0.000000</td>\n",
       "      <td>0.000000</td>\n",
       "      <td>0.000000</td>\n",
       "      <td>0.000000</td>\n",
       "      <td>0.000000</td>\n",
       "      <td>0.000000</td>\n",
       "      <td>0.000000</td>\n",
       "      <td>0.000000</td>\n",
       "      <td>0.000000</td>\n",
       "      <td>0.000000</td>\n",
       "      <td>0.000000</td>\n",
       "      <td>0.000000</td>\n",
       "      <td>0.000000</td>\n",
       "      <td>0.000000</td>\n",
       "      <td>0.000000</td>\n",
       "      <td>0.000000</td>\n",
       "      <td>0.000000</td>\n",
       "      <td>0.000000</td>\n",
       "      <td>0.000000</td>\n",
       "      <td>0.000000</td>\n",
       "      <td>0.000000</td>\n",
       "      <td>0.000000</td>\n",
       "      <td>0.000000</td>\n",
       "      <td>0.000000</td>\n",
       "      <td>0.000000</td>\n",
       "      <td>0.000000</td>\n",
       "      <td>0.000000</td>\n",
       "      <td>0.000000</td>\n",
       "      <td>0.000000</td>\n",
       "      <td>0.000000</td>\n",
       "      <td>0.000000</td>\n",
       "      <td>0.000000</td>\n",
       "      <td>0.000000</td>\n",
       "      <td>0.000000</td>\n",
       "      <td>0.000000</td>\n",
       "      <td>0.000000</td>\n",
       "      <td>0.000000</td>\n",
       "      <td>0.000000</td>\n",
       "      <td>0.000000</td>\n",
       "      <td>0.000000</td>\n",
       "      <td>0.000000</td>\n",
       "      <td>0.000000</td>\n",
       "      <td>0.000000</td>\n",
       "      <td>0.000000</td>\n",
       "      <td>0.000000</td>\n",
       "      <td>0.000000</td>\n",
       "      <td>0.000000</td>\n",
       "      <td>0.000000</td>\n",
       "      <td>0.000000</td>\n",
       "      <td>0.000000</td>\n",
       "      <td>0.000000</td>\n",
       "      <td>0.000000</td>\n",
       "      <td>0.000000</td>\n",
       "      <td>0.000000</td>\n",
       "      <td>0.000000</td>\n",
       "      <td>0.000000</td>\n",
       "      <td>0.000000</td>\n",
       "      <td>0.000000</td>\n",
       "      <td>0.000000</td>\n",
       "      <td>0.000000</td>\n",
       "      <td>0.000000</td>\n",
       "      <td>0.000000</td>\n",
       "      <td>0.000000</td>\n",
       "      <td>0.000000</td>\n",
       "      <td>0.000000</td>\n",
       "      <td>0.000000</td>\n",
       "      <td>0.000000</td>\n",
       "      <td>0.000000</td>\n",
       "      <td>0.000000</td>\n",
       "      <td>0.000000</td>\n",
       "      <td>0.000000</td>\n",
       "      <td>0.000000</td>\n",
       "      <td>0.000000</td>\n",
       "      <td>0.000000</td>\n",
       "      <td>0.000000</td>\n",
       "      <td>0.000000</td>\n",
       "      <td>0.000000</td>\n",
       "      <td>0.000000</td>\n",
       "      <td>0.000000</td>\n",
       "      <td>0.000000</td>\n",
       "      <td>0.000000</td>\n",
       "      <td>0.000000</td>\n",
       "      <td>0.000000</td>\n",
       "      <td>0.000000</td>\n",
       "      <td>0.000000</td>\n",
       "      <td>0.000000</td>\n",
       "      <td>0.000000</td>\n",
       "      <td>0.000000</td>\n",
       "      <td>0.000000</td>\n",
       "      <td>0.000000</td>\n",
       "      <td>0.000000</td>\n",
       "      <td>0.000000</td>\n",
       "      <td>0.000000</td>\n",
       "      <td>0.000000</td>\n",
       "      <td>0.000000</td>\n",
       "      <td>0.000000</td>\n",
       "      <td>0.000000</td>\n",
       "      <td>0.000000</td>\n",
       "      <td>0.000000</td>\n",
       "      <td>0.000000</td>\n",
       "      <td>0.000000</td>\n",
       "      <td>0.000000</td>\n",
       "      <td>0.000000</td>\n",
       "      <td>0.000000</td>\n",
       "      <td>0.000000</td>\n",
       "      <td>0.000000</td>\n",
       "      <td>0.000000</td>\n",
       "      <td>0.000000</td>\n",
       "      <td>0.000000</td>\n",
       "      <td>0.000000</td>\n",
       "      <td>0.000000</td>\n",
       "      <td>0.000000</td>\n",
       "      <td>0.000000</td>\n",
       "      <td>0.000000</td>\n",
       "      <td>0.000000</td>\n",
       "      <td>0.000000</td>\n",
       "      <td>0.000000</td>\n",
       "      <td>0.000000</td>\n",
       "      <td>0.000000</td>\n",
       "      <td>0.000000</td>\n",
       "      <td>0.000000</td>\n",
       "      <td>0.000000</td>\n",
       "      <td>0.000000</td>\n",
       "      <td>0.000000</td>\n",
       "      <td>0.000000</td>\n",
       "      <td>0.000000</td>\n",
       "      <td>0.000000</td>\n",
       "      <td>0.000000</td>\n",
       "      <td>0.000000</td>\n",
       "      <td>0.000000</td>\n",
       "      <td>0.000000</td>\n",
       "      <td>0.000000</td>\n",
       "      <td>0.000000</td>\n",
       "      <td>0.000000</td>\n",
       "      <td>0.000000</td>\n",
       "      <td>0.000000</td>\n",
       "      <td>0.000000</td>\n",
       "      <td>0.000000</td>\n",
       "      <td>0.000000</td>\n",
       "      <td>0.000000</td>\n",
       "      <td>0.000000</td>\n",
       "      <td>0.000000</td>\n",
       "      <td>0.000000</td>\n",
       "      <td>0.000000</td>\n",
       "      <td>0.000000</td>\n",
       "      <td>0.000000</td>\n",
       "      <td>0.000000</td>\n",
       "      <td>0.000000</td>\n",
       "      <td>0.000000</td>\n",
       "      <td>0.000000</td>\n",
       "      <td>0.000000</td>\n",
       "      <td>0.000000</td>\n",
       "      <td>0.000000</td>\n",
       "      <td>0.000000</td>\n",
       "      <td>0.000000</td>\n",
       "      <td>0.000000</td>\n",
       "      <td>0.000000</td>\n",
       "      <td>0.000000</td>\n",
       "      <td>0.000000</td>\n",
       "      <td>0.000000</td>\n",
       "      <td>0.000000</td>\n",
       "      <td>0.000000</td>\n",
       "      <td>0.000000</td>\n",
       "      <td>0.000000</td>\n",
       "      <td>0.000000</td>\n",
       "      <td>0.000000</td>\n",
       "      <td>0.000000</td>\n",
       "      <td>0.000000</td>\n",
       "      <td>0.000000</td>\n",
       "      <td>0.000000</td>\n",
       "      <td>0.000000</td>\n",
       "      <td>0.000000</td>\n",
       "      <td>0.000000</td>\n",
       "      <td>0.000000</td>\n",
       "      <td>0.000000</td>\n",
       "      <td>0.000000</td>\n",
       "      <td>0.000000</td>\n",
       "      <td>0.000000</td>\n",
       "      <td>0.000000</td>\n",
       "      <td>0.000000</td>\n",
       "      <td>0.000000</td>\n",
       "      <td>0.000000</td>\n",
       "      <td>0.000000</td>\n",
       "      <td>0.000000</td>\n",
       "      <td>0.000000</td>\n",
       "      <td>0.000000</td>\n",
       "      <td>0.000000</td>\n",
       "      <td>0.000000</td>\n",
       "      <td>0.000000</td>\n",
       "      <td>0.000000</td>\n",
       "      <td>0.000000</td>\n",
       "      <td>0.000000</td>\n",
       "      <td>0.000000</td>\n",
       "      <td>0.000000</td>\n",
       "      <td>0.000000</td>\n",
       "      <td>0.000000</td>\n",
       "      <td>0.000000</td>\n",
       "      <td>0.000000</td>\n",
       "      <td>0.000000</td>\n",
       "      <td>0.000000</td>\n",
       "      <td>0.000000</td>\n",
       "      <td>0.000000</td>\n",
       "      <td>0.000000</td>\n",
       "      <td>0.000000</td>\n",
       "      <td>0.000000</td>\n",
       "      <td>0.000000</td>\n",
       "      <td>0.000000</td>\n",
       "      <td>0.000000</td>\n",
       "      <td>0.000000</td>\n",
       "      <td>0.000000</td>\n",
       "      <td>0.000000</td>\n",
       "      <td>0.000000</td>\n",
       "      <td>0.000000</td>\n",
       "      <td>0.000000</td>\n",
       "      <td>0.000000</td>\n",
       "      <td>0.000000</td>\n",
       "      <td>0.000000</td>\n",
       "      <td>0.000000</td>\n",
       "      <td>0.000000</td>\n",
       "      <td>0.000000</td>\n",
       "      <td>0.000000</td>\n",
       "      <td>0.000000</td>\n",
       "      <td>0.000000</td>\n",
       "      <td>0.000000</td>\n",
       "      <td>0.000000</td>\n",
       "      <td>0.000000</td>\n",
       "      <td>0.000000</td>\n",
       "      <td>0.000000</td>\n",
       "      <td>0.000000</td>\n",
       "      <td>0.000000</td>\n",
       "      <td>0.000000</td>\n",
       "      <td>0.000000</td>\n",
       "      <td>0.000000</td>\n",
       "      <td>0.000000</td>\n",
       "      <td>0.000000</td>\n",
       "      <td>0.000000</td>\n",
       "      <td>0.000000</td>\n",
       "      <td>0.000000</td>\n",
       "      <td>0.000000</td>\n",
       "      <td>0.000000</td>\n",
       "      <td>0.000000</td>\n",
       "      <td>0.000000</td>\n",
       "      <td>0.000000</td>\n",
       "      <td>0.000000</td>\n",
       "      <td>0.000000</td>\n",
       "      <td>0.000000</td>\n",
       "      <td>0.000000</td>\n",
       "      <td>0.000000</td>\n",
       "      <td>0.000000</td>\n",
       "      <td>0.000000</td>\n",
       "      <td>0.000000</td>\n",
       "      <td>0.000000</td>\n",
       "      <td>0.000000</td>\n",
       "      <td>0.000000</td>\n",
       "      <td>0.000000</td>\n",
       "      <td>0.000000</td>\n",
       "      <td>0.000000</td>\n",
       "      <td>0.000000</td>\n",
       "      <td>0.000000</td>\n",
       "      <td>0.000000</td>\n",
       "      <td>0.000000</td>\n",
       "      <td>0.000000</td>\n",
       "      <td>0.000000</td>\n",
       "      <td>0.000000</td>\n",
       "      <td>0.000000</td>\n",
       "      <td>0.000000</td>\n",
       "      <td>0.000000</td>\n",
       "      <td>0.000000</td>\n",
       "      <td>0.000000</td>\n",
       "      <td>0.000000</td>\n",
       "      <td>0.000000</td>\n",
       "      <td>0.000000</td>\n",
       "      <td>0.000000</td>\n",
       "      <td>0.000000</td>\n",
       "      <td>0.000000</td>\n",
       "      <td>0.000000</td>\n",
       "      <td>0.000000</td>\n",
       "      <td>0.000000</td>\n",
       "      <td>0.000000</td>\n",
       "      <td>0.000000</td>\n",
       "      <td>0.000000</td>\n",
       "      <td>0.000000</td>\n",
       "      <td>0.000000</td>\n",
       "      <td>0.000000</td>\n",
       "      <td>0.000000</td>\n",
       "      <td>0.000000</td>\n",
       "      <td>0.000000</td>\n",
       "      <td>0.000000</td>\n",
       "      <td>0.000000</td>\n",
       "      <td>0.000000</td>\n",
       "      <td>0.000000</td>\n",
       "      <td>0.000000</td>\n",
       "      <td>0.000000</td>\n",
       "      <td>0.000000</td>\n",
       "      <td>0.000000</td>\n",
       "      <td>0.000000</td>\n",
       "      <td>0.000000</td>\n",
       "      <td>0.000000</td>\n",
       "      <td>0.000000</td>\n",
       "      <td>0.000000</td>\n",
       "      <td>0.000000</td>\n",
       "      <td>0.000000</td>\n",
       "      <td>0.000000</td>\n",
       "      <td>0.000000</td>\n",
       "      <td>0.000000</td>\n",
       "      <td>0.000000</td>\n",
       "      <td>0.000000</td>\n",
       "      <td>0.000000</td>\n",
       "      <td>0.000000</td>\n",
       "      <td>0.000000</td>\n",
       "      <td>0.000000</td>\n",
       "      <td>0.000000</td>\n",
       "      <td>0.000000</td>\n",
       "      <td>0.000000</td>\n",
       "      <td>0.000000</td>\n",
       "      <td>0.000000</td>\n",
       "      <td>0.000000</td>\n",
       "      <td>0.000000</td>\n",
       "      <td>0.000000</td>\n",
       "      <td>0.000000</td>\n",
       "      <td>0.000000</td>\n",
       "      <td>0.000000</td>\n",
       "      <td>0.000000</td>\n",
       "      <td>0.000000</td>\n",
       "      <td>0.000000</td>\n",
       "      <td>0.000000</td>\n",
       "      <td>0.000000</td>\n",
       "      <td>0.000000</td>\n",
       "      <td>0.000000</td>\n",
       "      <td>0.000000</td>\n",
       "      <td>0.000000</td>\n",
       "      <td>0.000000</td>\n",
       "      <td>0.000000</td>\n",
       "      <td>0.000000</td>\n",
       "      <td>0.000000</td>\n",
       "      <td>0.000000</td>\n",
       "      <td>0.000000</td>\n",
       "      <td>0.000000</td>\n",
       "      <td>0.000000</td>\n",
       "      <td>0.000000</td>\n",
       "      <td>0.000000</td>\n",
       "      <td>0.000000</td>\n",
       "      <td>0.000000</td>\n",
       "      <td>0.000000</td>\n",
       "      <td>0.000000</td>\n",
       "      <td>0.000000</td>\n",
       "      <td>0.000000</td>\n",
       "      <td>0.000000</td>\n",
       "      <td>0.000000</td>\n",
       "      <td>0.000000</td>\n",
       "      <td>0.000000</td>\n",
       "      <td>0.000000</td>\n",
       "      <td>0.000000</td>\n",
       "      <td>0.000000</td>\n",
       "      <td>0.000000</td>\n",
       "      <td>0.000000</td>\n",
       "      <td>0.000000</td>\n",
       "      <td>0.000000</td>\n",
       "      <td>0.000000</td>\n",
       "      <td>0.000000</td>\n",
       "      <td>0.000000</td>\n",
       "      <td>0.000000</td>\n",
       "      <td>0.000000</td>\n",
       "      <td>0.000000</td>\n",
       "      <td>0.000000</td>\n",
       "      <td>0.000000</td>\n",
       "      <td>0.000000</td>\n",
       "      <td>0.000000</td>\n",
       "      <td>0.000000</td>\n",
       "      <td>0.000000</td>\n",
       "      <td>0.000000</td>\n",
       "      <td>0.000000</td>\n",
       "      <td>0.000000</td>\n",
       "      <td>0.000000</td>\n",
       "      <td>0.000000</td>\n",
       "      <td>0.000000</td>\n",
       "      <td>0.000000</td>\n",
       "      <td>0.000000</td>\n",
       "      <td>0.000000</td>\n",
       "      <td>0.000000</td>\n",
       "      <td>0.000000</td>\n",
       "      <td>0.000000</td>\n",
       "      <td>0.000000</td>\n",
       "      <td>0.000000</td>\n",
       "      <td>0.000000</td>\n",
       "      <td>0.000000</td>\n",
       "      <td>0.000000</td>\n",
       "      <td>0.000000</td>\n",
       "      <td>0.000000</td>\n",
       "      <td>0.000000</td>\n",
       "      <td>0.000000</td>\n",
       "      <td>0.000000</td>\n",
       "      <td>0.000000</td>\n",
       "      <td>0.000000</td>\n",
       "      <td>0.000000</td>\n",
       "      <td>0.000000</td>\n",
       "      <td>0.000000</td>\n",
       "      <td>0.000000</td>\n",
       "      <td>0.000000</td>\n",
       "      <td>0.000000</td>\n",
       "      <td>0.000000</td>\n",
       "      <td>0.000000</td>\n",
       "      <td>0.000000</td>\n",
       "      <td>0.000000</td>\n",
       "      <td>0.000000</td>\n",
       "      <td>0.000000</td>\n",
       "      <td>0.000000</td>\n",
       "      <td>0.000000</td>\n",
       "      <td>0.000000</td>\n",
       "      <td>0.000000</td>\n",
       "      <td>0.000000</td>\n",
       "      <td>0.000000</td>\n",
       "      <td>0.000000</td>\n",
       "      <td>0.000000</td>\n",
       "      <td>0.000000</td>\n",
       "      <td>0.000000</td>\n",
       "      <td>0.000000</td>\n",
       "      <td>0.000000</td>\n",
       "      <td>0.000000</td>\n",
       "      <td>0.000000</td>\n",
       "      <td>0.000000</td>\n",
       "      <td>0.000000</td>\n",
       "      <td>0.000000</td>\n",
       "      <td>0.000000</td>\n",
       "      <td>0.000000</td>\n",
       "      <td>0.000000</td>\n",
       "      <td>0.000000</td>\n",
       "      <td>0.000000</td>\n",
       "      <td>0.000000</td>\n",
       "      <td>0.000000</td>\n",
       "      <td>0.000000</td>\n",
       "      <td>0.000000</td>\n",
       "      <td>0.000000</td>\n",
       "      <td>0.000000</td>\n",
       "      <td>0.000000</td>\n",
       "      <td>0.000000</td>\n",
       "      <td>0.000000</td>\n",
       "      <td>0.000000</td>\n",
       "      <td>0.000000</td>\n",
       "      <td>0.000000</td>\n",
       "      <td>0.000000</td>\n",
       "      <td>0.000000</td>\n",
       "      <td>0.000000</td>\n",
       "      <td>0.000000</td>\n",
       "      <td>0.000000</td>\n",
       "      <td>0.000000</td>\n",
       "      <td>0.000000</td>\n",
       "      <td>0.000000</td>\n",
       "      <td>0.000000</td>\n",
       "      <td>0.000000</td>\n",
       "      <td>0.000000</td>\n",
       "      <td>0.000000</td>\n",
       "      <td>0.000000</td>\n",
       "      <td>0.000000</td>\n",
       "      <td>0.000000</td>\n",
       "      <td>0.000000</td>\n",
       "      <td>0.000000</td>\n",
       "      <td>0.000000</td>\n",
       "      <td>0.000000</td>\n",
       "      <td>0.000000</td>\n",
       "      <td>0.000000</td>\n",
       "      <td>0.000000</td>\n",
       "      <td>0.000000</td>\n",
       "      <td>0.000000</td>\n",
       "      <td>0.000000</td>\n",
       "      <td>0.000000</td>\n",
       "      <td>0.000000</td>\n",
       "      <td>0.000000</td>\n",
       "      <td>0.000000</td>\n",
       "      <td>0.000000</td>\n",
       "      <td>0.000000</td>\n",
       "      <td>0.000000</td>\n",
       "      <td>0.000000</td>\n",
       "      <td>0.000000</td>\n",
       "      <td>0.000000</td>\n",
       "      <td>0.000000</td>\n",
       "      <td>0.000000</td>\n",
       "      <td>0.000000</td>\n",
       "      <td>0.000000</td>\n",
       "      <td>0.000000</td>\n",
       "      <td>0.000000</td>\n",
       "      <td>0.000000</td>\n",
       "      <td>0.000000</td>\n",
       "      <td>0.000000</td>\n",
       "      <td>0.000000</td>\n",
       "      <td>0.000000</td>\n",
       "      <td>0.000000</td>\n",
       "      <td>0.000000</td>\n",
       "      <td>0.000000</td>\n",
       "      <td>0.000000</td>\n",
       "      <td>0.000000</td>\n",
       "      <td>0.000000</td>\n",
       "      <td>0.000000</td>\n",
       "      <td>0.000000</td>\n",
       "      <td>0.000000</td>\n",
       "      <td>0.000000</td>\n",
       "      <td>0.000000</td>\n",
       "      <td>0.000000</td>\n",
       "      <td>0.000000</td>\n",
       "      <td>0.000000</td>\n",
       "      <td>0.000000</td>\n",
       "      <td>0.000000</td>\n",
       "      <td>0.000000</td>\n",
       "      <td>0.000000</td>\n",
       "      <td>0.000000</td>\n",
       "      <td>0.000000</td>\n",
       "      <td>0.000000</td>\n",
       "      <td>0.000000</td>\n",
       "      <td>0.000000</td>\n",
       "      <td>0.000000</td>\n",
       "      <td>0.000000</td>\n",
       "      <td>0.000000</td>\n",
       "      <td>0.000000</td>\n",
       "      <td>0.000000</td>\n",
       "      <td>0.000000</td>\n",
       "      <td>0.000000</td>\n",
       "      <td>0.000000</td>\n",
       "      <td>0.000000</td>\n",
       "      <td>0.000000</td>\n",
       "      <td>0.000000</td>\n",
       "      <td>0.000000</td>\n",
       "      <td>0.000000</td>\n",
       "      <td>0.000000</td>\n",
       "      <td>0.000000</td>\n",
       "      <td>0.000000</td>\n",
       "      <td>0.000000</td>\n",
       "      <td>0.000000</td>\n",
       "      <td>0.000000</td>\n",
       "      <td>0.000000</td>\n",
       "      <td>0.000000</td>\n",
       "      <td>0.000000</td>\n",
       "      <td>0.000000</td>\n",
       "      <td>0.000000</td>\n",
       "      <td>0.000000</td>\n",
       "      <td>0.000000</td>\n",
       "      <td>0.000000</td>\n",
       "      <td>0.000000</td>\n",
       "      <td>0.000000</td>\n",
       "      <td>0.000000</td>\n",
       "      <td>0.000000</td>\n",
       "      <td>0.000000</td>\n",
       "      <td>0.000000</td>\n",
       "      <td>0.000000</td>\n",
       "      <td>0.000000</td>\n",
       "      <td>0.000000</td>\n",
       "      <td>0.000000</td>\n",
       "      <td>0.000000</td>\n",
       "      <td>0.000000</td>\n",
       "      <td>0.000000</td>\n",
       "      <td>0.000000</td>\n",
       "      <td>0.000000</td>\n",
       "      <td>0.000000</td>\n",
       "      <td>0.000000</td>\n",
       "      <td>0.000000</td>\n",
       "      <td>0.000000</td>\n",
       "      <td>0.000000</td>\n",
       "      <td>0.000000</td>\n",
       "      <td>0.000000</td>\n",
       "      <td>0.000000</td>\n",
       "      <td>0.000000</td>\n",
       "      <td>0.000000</td>\n",
       "      <td>0.000000</td>\n",
       "      <td>0.000000</td>\n",
       "      <td>0.000000</td>\n",
       "      <td>0.000000</td>\n",
       "      <td>0.000000</td>\n",
       "      <td>0.000000</td>\n",
       "      <td>0.000000</td>\n",
       "      <td>0.000000</td>\n",
       "      <td>0.000000</td>\n",
       "      <td>0.000000</td>\n",
       "      <td>0.000000</td>\n",
       "      <td>0.000000</td>\n",
       "      <td>0.000000</td>\n",
       "      <td>0.000000</td>\n",
       "      <td>0.000000</td>\n",
       "      <td>0.000000</td>\n",
       "      <td>0.000000</td>\n",
       "      <td>0.000000</td>\n",
       "      <td>0.000000</td>\n",
       "      <td>0.000000</td>\n",
       "      <td>0.000000</td>\n",
       "      <td>0.000000</td>\n",
       "      <td>0.000000</td>\n",
       "      <td>0.000000</td>\n",
       "      <td>0.000000</td>\n",
       "      <td>0.000000</td>\n",
       "      <td>0.000000</td>\n",
       "      <td>0.000000</td>\n",
       "      <td>0.000000</td>\n",
       "      <td>0.000000</td>\n",
       "      <td>0.000000</td>\n",
       "      <td>0.000000</td>\n",
       "      <td>0.000000</td>\n",
       "      <td>0.000000</td>\n",
       "      <td>0.000000</td>\n",
       "      <td>0.000000</td>\n",
       "      <td>0.000000</td>\n",
       "      <td>0.000000</td>\n",
       "      <td>0.000000</td>\n",
       "      <td>0.000000</td>\n",
       "      <td>0.000000</td>\n",
       "      <td>0.000000</td>\n",
       "      <td>0.000000</td>\n",
       "      <td>0.000000</td>\n",
       "      <td>0.000000</td>\n",
       "      <td>0.000000</td>\n",
       "      <td>0.000000</td>\n",
       "      <td>0.000000</td>\n",
       "      <td>0.000000</td>\n",
       "      <td>0.000000</td>\n",
       "      <td>0.000000</td>\n",
       "      <td>0.000000</td>\n",
       "      <td>0.000000</td>\n",
       "      <td>0.000000</td>\n",
       "      <td>0.000000</td>\n",
       "      <td>0.000000</td>\n",
       "      <td>0.000000</td>\n",
       "      <td>0.000000</td>\n",
       "      <td>0.000000</td>\n",
       "      <td>0.000000</td>\n",
       "      <td>0.000000</td>\n",
       "      <td>0.000000</td>\n",
       "      <td>0.000000</td>\n",
       "      <td>0.000000</td>\n",
       "      <td>0.000000</td>\n",
       "      <td>0.000000</td>\n",
       "      <td>0.000000</td>\n",
       "      <td>0.000000</td>\n",
       "      <td>0.000000</td>\n",
       "      <td>0.000000</td>\n",
       "      <td>0.000000</td>\n",
       "      <td>0.000000</td>\n",
       "      <td>0.000000</td>\n",
       "      <td>0.000000</td>\n",
       "      <td>0.000000</td>\n",
       "      <td>0.000000</td>\n",
       "      <td>0.000000</td>\n",
       "      <td>0.000000</td>\n",
       "      <td>0.000000</td>\n",
       "      <td>0.000000</td>\n",
       "      <td>0.000000</td>\n",
       "      <td>0.000000</td>\n",
       "      <td>0.000000</td>\n",
       "      <td>0.000000</td>\n",
       "      <td>0.000000</td>\n",
       "      <td>0.000000</td>\n",
       "      <td>0.000000</td>\n",
       "      <td>0.000000</td>\n",
       "      <td>0.000000</td>\n",
       "      <td>0.000000</td>\n",
       "      <td>0.000000</td>\n",
       "      <td>0.000000</td>\n",
       "      <td>0.000000</td>\n",
       "      <td>0.000000</td>\n",
       "      <td>0.000000</td>\n",
       "      <td>0.000000</td>\n",
       "      <td>0.000000</td>\n",
       "      <td>0.000000</td>\n",
       "      <td>0.000000</td>\n",
       "      <td>0.000000</td>\n",
       "      <td>0.000000</td>\n",
       "      <td>0.000000</td>\n",
       "      <td>0.000000</td>\n",
       "      <td>0.000000</td>\n",
       "      <td>0.000000</td>\n",
       "      <td>0.000000</td>\n",
       "      <td>0.000000</td>\n",
       "      <td>0.000000</td>\n",
       "      <td>0.000000</td>\n",
       "      <td>0.000000</td>\n",
       "      <td>0.000000</td>\n",
       "      <td>0.000000</td>\n",
       "      <td>0.000000</td>\n",
       "      <td>0.000000</td>\n",
       "      <td>0.000000</td>\n",
       "      <td>0.000000</td>\n",
       "      <td>0.000000</td>\n",
       "      <td>0.000000</td>\n",
       "      <td>0.000000</td>\n",
       "      <td>0.000000</td>\n",
       "      <td>0.000000</td>\n",
       "      <td>0.000000</td>\n",
       "      <td>0.000000</td>\n",
       "      <td>0.000000</td>\n",
       "      <td>0.000000</td>\n",
       "      <td>0.000000</td>\n",
       "      <td>0.000000</td>\n",
       "      <td>0.000000</td>\n",
       "      <td>0.000000</td>\n",
       "      <td>0.000000</td>\n",
       "      <td>0.000000</td>\n",
       "      <td>0.000000</td>\n",
       "      <td>0.000000</td>\n",
       "      <td>0.000000</td>\n",
       "      <td>0.000000</td>\n",
       "      <td>0.000000</td>\n",
       "      <td>0.000000</td>\n",
       "      <td>0.000000</td>\n",
       "      <td>0.000000</td>\n",
       "      <td>0.000000</td>\n",
       "      <td>0.000000</td>\n",
       "      <td>0.000000</td>\n",
       "      <td>0.000000</td>\n",
       "      <td>0.000000</td>\n",
       "      <td>0.000000</td>\n",
       "      <td>0.000000</td>\n",
       "      <td>0.000000</td>\n",
       "      <td>0.000000</td>\n",
       "      <td>0.000000</td>\n",
       "      <td>0.000000</td>\n",
       "      <td>0.000000</td>\n",
       "      <td>0.000000</td>\n",
       "      <td>0.000000</td>\n",
       "    </tr>\n",
       "  </tbody>\n",
       "</table><p>"
      ],
      "text/plain": [
       "<IPython.core.display.HTML object>"
      ]
     },
     "metadata": {},
     "output_type": "display_data"
    },
    {
     "name": "stderr",
     "output_type": "stream",
     "text": [
      "The following columns in the evaluation set don't have a corresponding argument in `BertForSequenceClassification.forward` and have been ignored: Общее наименование продукции, __index_level_0__. If Общее наименование продукции, __index_level_0__ are not expected by `BertForSequenceClassification.forward`,  you can safely ignore this message.\n",
      "***** Running Evaluation *****\n",
      "  Num examples = 3545\n",
      "  Batch size = 128\n",
      "C:\\Users\\Admin\\anaconda3\\lib\\site-packages\\sklearn\\metrics\\_classification.py:1580: UndefinedMetricWarning: F-score is ill-defined and being set to 0.0 in labels with no true nor predicted samples. Use `zero_division` parameter to control this behavior.\n",
      "  _warn_prf(average, \"true nor predicted\", \"F-score is\", len(true_sum))\n",
      "C:\\Users\\Admin\\anaconda3\\lib\\site-packages\\sklearn\\metrics\\_classification.py:1580: UndefinedMetricWarning: F-score is ill-defined and being set to 0.0 in labels with no true nor predicted samples. Use `zero_division` parameter to control this behavior.\n",
      "  _warn_prf(average, \"true nor predicted\", \"F-score is\", len(true_sum))\n",
      "Saving model checkpoint to multiclass_model_5\\checkpoint-222\n",
      "Configuration saved in multiclass_model_5\\checkpoint-222\\config.json\n",
      "Model weights saved in multiclass_model_5\\checkpoint-222\\pytorch_model.bin\n",
      "tokenizer config file saved in multiclass_model_5\\checkpoint-222\\tokenizer_config.json\n",
      "Special tokens file saved in multiclass_model_5\\checkpoint-222\\special_tokens_map.json\n",
      "The following columns in the evaluation set don't have a corresponding argument in `BertForSequenceClassification.forward` and have been ignored: Общее наименование продукции, __index_level_0__. If Общее наименование продукции, __index_level_0__ are not expected by `BertForSequenceClassification.forward`,  you can safely ignore this message.\n",
      "***** Running Evaluation *****\n",
      "  Num examples = 3545\n",
      "  Batch size = 128\n",
      "C:\\Users\\Admin\\anaconda3\\lib\\site-packages\\sklearn\\metrics\\_classification.py:1580: UndefinedMetricWarning: F-score is ill-defined and being set to 0.0 in labels with no true nor predicted samples. Use `zero_division` parameter to control this behavior.\n",
      "  _warn_prf(average, \"true nor predicted\", \"F-score is\", len(true_sum))\n",
      "C:\\Users\\Admin\\anaconda3\\lib\\site-packages\\sklearn\\metrics\\_classification.py:1580: UndefinedMetricWarning: F-score is ill-defined and being set to 0.0 in labels with no true nor predicted samples. Use `zero_division` parameter to control this behavior.\n",
      "  _warn_prf(average, \"true nor predicted\", \"F-score is\", len(true_sum))\n",
      "Saving model checkpoint to multiclass_model_5\\checkpoint-444\n",
      "Configuration saved in multiclass_model_5\\checkpoint-444\\config.json\n",
      "Model weights saved in multiclass_model_5\\checkpoint-444\\pytorch_model.bin\n",
      "tokenizer config file saved in multiclass_model_5\\checkpoint-444\\tokenizer_config.json\n",
      "Special tokens file saved in multiclass_model_5\\checkpoint-444\\special_tokens_map.json\n",
      "Deleting older checkpoint [multiclass_model_5\\checkpoint-1776] due to args.save_total_limit\n"
     ]
    }
   ],
   "source": [
    "from datasets import Dataset\n",
    "from transformers import (AutoTokenizer, AutoModelForSequenceClassification, \n",
    "                          TrainingArguments, Trainer)\n",
    "from transformers import EarlyStoppingCallback\n",
    "import torch\n",
    "\n",
    "models = dict()\n",
    "\n",
    "def accuracy_thresh(y_pred, y_true, thresh=0.5, sigmoid=True): \n",
    "    y_pred = torch.from_numpy(y_pred)\n",
    "    y_true = torch.from_numpy(y_true)\n",
    "    if sigmoid: \n",
    "      y_pred = y_pred.sigmoid()\n",
    "    return ((y_pred>thresh)==y_true.bool()).float().mean().item()\n",
    "\n",
    "def compute_metrics(eval_pred):\n",
    "    predictions, labels = eval_pred\n",
    "    accuracy = accuracy_score(\n",
    "        labels,\n",
    "        (predictions > 0.5).astype(int),\n",
    "    )\n",
    "    f1_results = f1_score(labels,\n",
    "                          (predictions > 0.5).astype(int),\n",
    "                          average=None)\n",
    "    f1_micro = f1_score(labels,\n",
    "                        (predictions > 0.5).astype(int),\n",
    "                        average=\"micro\")\n",
    "    f1_macro = f1_score(labels,\n",
    "                        (predictions > 0.5).astype(int),\n",
    "                        average=\"macro\")\n",
    "    \n",
    "    output = {'accuracy_thresh': accuracy_thresh(predictions, labels),\n",
    "              'accuracy': accuracy,\n",
    "              'f1_micro': f1_micro,\n",
    "              'f1_macro': f1_macro,\n",
    "              }\n",
    "    for i, f1 in enumerate(f1_results):\n",
    "        output[f\"f1_{i}\"] = f1_results[i]\n",
    "    return output\n",
    "\n",
    "def tokenize_function(examples):\n",
    "    return tokenizer(\n",
    "        examples[\"Общее наименование продукции\"],\n",
    "        max_length=128,\n",
    "        padding='max_length',\n",
    "        truncation=True)\n",
    "\n",
    "for TARGET_COL in [\n",
    "                   \"Технические регламенты\",\n",
    "                   \"Группа продукции\",\n",
    "                   \"Коды ТН ВЭД ЕАЭС_2\",\n",
    "                   \"Коды ТН ВЭД ЕАЭС_5\",\n",
    "                   \"Коды ТН ВЭД ЕАЭС\"\n",
    "                   ][3:]:\n",
    "    tnved_slice = None\n",
    "    if \"Коды ТН ВЭД ЕАЭС\" in TARGET_COL and TARGET_COL != \"Коды ТН ВЭД ЕАЭС\":\n",
    "        tnved_slice = int(TARGET_COL[-1])\n",
    "        TARGET_COL = \"Коды ТН ВЭД ЕАЭС\"\n",
    "    tech_regulations_df = df[[\"Общее наименование продукции\", TARGET_COL]]\n",
    "    tech_regulations_df = tech_regulations_df.dropna()\n",
    "    print(tech_regulations_df.shape)\n",
    "    tech_regulations_df = tech_regulations_df.drop_duplicates()\n",
    "    tech_regulations_df[TARGET_COL] = tech_regulations_df[TARGET_COL].apply(\n",
    "        lambda x: str(x).split(\"; \"))\n",
    "    tech_regulations_df[TARGET_COL] = tech_regulations_df[TARGET_COL].apply(\n",
    "        lambda x: [tnved.strip() for tnved in x]\n",
    "    )\n",
    "    if tnved_slice:\n",
    "        tech_regulations_df[TARGET_COL] = tech_regulations_df[TARGET_COL].apply(\n",
    "            lambda x: [tnved[:tnved_slice] for tnved in x]\n",
    "        )\n",
    "\n",
    "    counter = Counter()\n",
    "    for i, row in tech_regulations_df.iterrows():\n",
    "        tnveds = row[TARGET_COL]\n",
    "        for t in tnveds:\n",
    "            counter[t] += 1\n",
    "    good_cols = {k for k, v in counter.items() if v >= 5}\n",
    "    tech_regulations_df = tech_regulations_df[\n",
    "        tech_regulations_df[TARGET_COL].apply(\n",
    "            lambda x: bool(set(x).intersection(good_cols)))\n",
    "    ]\n",
    "    print(tech_regulations_df.shape)\n",
    "    # Уберем слишком много примеров из самых популярных классов\n",
    "    seen_counter = Counter()\n",
    "    to_drop_index = []\n",
    "    min_val = sorted([v for v in counter.values()])[-5]\n",
    "    for i, row in tech_regulations_df.iterrows():\n",
    "        tnveds = row[TARGET_COL]\n",
    "        for t in tnveds:\n",
    "            seen_counter[t] += 1\n",
    "        counts = min(seen_counter[t] for t in tnveds)\n",
    "        if counts > min_val:\n",
    "            to_drop_index.append(i)\n",
    "    tech_regulations_df = tech_regulations_df[~tech_regulations_df.index.isin(to_drop_index)]\n",
    "\n",
    "    tr_train, tr_val = train_test_split(tech_regulations_df, test_size=0.2, random_state=42)\n",
    "    tr_val, tr_test = train_test_split(tr_val, test_size=0.5, random_state=42)\n",
    "\n",
    "    mlb = MultiLabelBinarizer()\n",
    "    mlb.fit(tr_train[TARGET_COL])\n",
    "    models[f\"{TARGET_COL}_mlb\"] = mlb\n",
    "    with open(\"tomsk_models_mlb_{TARGET_COL}_{tnved_slice}.pcl\", \"wb\") as f:\n",
    "        pickle.dump(models, f)\n",
    "    model_ckpt = \"cointegrated/rubert-tiny2\"\n",
    "    tokenizer = AutoTokenizer.from_pretrained(\n",
    "        model_ckpt, problem_type=\"multi_label_classification\")\n",
    "\n",
    "    hf_datasets = dict()\n",
    "    for key, value in [(\"train\", tr_train), (\"val\", tr_val), (\"test\", tr_test)]:\n",
    "        value = value.copy()\n",
    "        labels = mlb.transform(value[TARGET_COL])\n",
    "        value[\"labels\"] = list([list(li) for li in labels])\n",
    "        value = value.drop(TARGET_COL, axis=1)\n",
    "        dataset = Dataset.from_pandas(value, split=\"key\")\n",
    "        hf_datasets[key] = dataset.map(tokenize_function, batched=True)\n",
    "\n",
    "\n",
    "    num_labels = len(mlb.classes_)\n",
    "    model = AutoModelForSequenceClassification.from_pretrained(\n",
    "        model_ckpt,\n",
    "        num_labels=num_labels,\n",
    "        problem_type=\"single_label_classification\"\n",
    "    ).to('cuda')\n",
    "\n",
    "    batch_size = 128\n",
    "\n",
    "    args = TrainingArguments(\n",
    "        output_dir=f\"multiclass_model_{tnved_slice}\",\n",
    "        evaluation_strategy=\"epoch\",\n",
    "        save_strategy=\"epoch\",\n",
    "        metric_for_best_model=\"f1_macro\",\n",
    "        load_best_model_at_end=True,\n",
    "        learning_rate=1e-3,\n",
    "        per_device_train_batch_size=batch_size,\n",
    "        per_device_eval_batch_size=batch_size,\n",
    "        num_train_epochs=100,\n",
    "        weight_decay=0.01,\n",
    "        save_total_limit=5\n",
    "    )\n",
    "\n",
    "    class MultilabelTrainer(Trainer):\n",
    "        def compute_loss(self, model, inputs, return_outputs=False):\n",
    "            # print(\"inputs\", inputs.keys())\n",
    "            labels = inputs.pop(\"labels\")\n",
    "            outputs = model(**inputs)\n",
    "            logits = outputs.logits\n",
    "            loss_fct = torch.nn.BCEWithLogitsLoss()\n",
    "            loss = loss_fct(logits.view(-1, self.model.config.num_labels), \n",
    "                            labels.float().view(-1, self.model.config.num_labels))\n",
    "            return (loss, outputs) if return_outputs else loss\n",
    "\n",
    "    multi_trainer = MultilabelTrainer(\n",
    "        model,\n",
    "        args,\n",
    "        train_dataset=hf_datasets[\"train\"],\n",
    "        eval_dataset=hf_datasets[\"val\"],\n",
    "        compute_metrics=compute_metrics,\n",
    "        tokenizer=tokenizer,\n",
    "        callbacks = [EarlyStoppingCallback(early_stopping_patience=10)]\n",
    "    )\n",
    "\n",
    "    multi_trainer.evaluate()\n",
    "\n",
    "    multi_trainer.train()\n",
    "    folder = f\"{TARGET_COL}_trained_{tnved_slice}\"\n",
    "    multi_trainer.save_model(folder)\n",
    "    !zip -r \"{folder}.zip\" \"./{folder}/\"\n",
    "    "
   ]
  },
  {
   "cell_type": "code",
   "execution_count": null,
   "metadata": {
    "id": "1HXiMKVTHFuR"
   },
   "outputs": [],
   "source": [
    "# dictionaries = [\n",
    "#     {\n",
    "#         'dictionary_id': 'Unigram',\n",
    "#         'max_dictionary_size': '50000',\n",
    "#         'gram_count': '1',\n",
    "#     },\n",
    "#     {\n",
    "#         'dictionary_id': 'Bigram',\n",
    "#         'max_dictionary_size': '50000',\n",
    "#         'gram_count': '2',\n",
    "#     }\n",
    "# ]\n",
    "\n",
    "\n"
   ]
  },
  {
   "cell_type": "code",
   "execution_count": null,
   "metadata": {
    "id": "-kgCf7A0lzfY"
   },
   "outputs": [],
   "source": []
  },
  {
   "cell_type": "code",
   "execution_count": null,
   "metadata": {
    "id": "S4m6dn4pJiY1"
   },
   "outputs": [],
   "source": [
    "# pools = dict()\n",
    "\n",
    "# for dt_name, dt in [(\"train\", tr_train), (\"val\", tr_val), (\"test\", tr_test)]:\n",
    "#     text_dt = dt.drop(\"Технические регламенты\", axis=1)\n",
    "#     pools[dt_name] = Pool(\n",
    "#         text_dt,\n",
    "#         mlb.transform(dt[\"Технические регламенты\"]),\n",
    "#         text_features=[\"Общее наименование продукции\"],\n",
    "#     ) \n",
    "# print(\"pools created\")\n",
    "# # classifier = CatBoostClassifier(**catboost_params)\n",
    "# classifier = CatBoostClassifier(\n",
    "#     loss_function='MultiLogloss',\n",
    "#     # eval_metric='HammingLoss',\n",
    "#     iterations=500,\n",
    "#     class_names=list(mlb.classes_)\n",
    "# )\n",
    "\n",
    "# # train_pool = Pool(dt[[\"Общее наименование продукции\"]].reset_index().drop(\"index\", axis=1)[:375], Y_train, text_features=[\"Общее наименование продукции\"])\n",
    "# train_pool = Pool(tr_train.drop(\"Технические регламенты\", axis=1), mlb.transform(tr_train[\"Технические регламенты\"]), text_features=[\"Общее наименование продукции\"])\n",
    "# # test_pool = Pool(X_test, Y_test)\n",
    "# # classifier.fit(train_pool, metric_period=10, plot=True, verbose=50)\n",
    "# classifier.fit(\n",
    "#     # pools[\"train\"],\n",
    "#     # eval_set=pools[\"val\"],\n",
    "#     train_pool,\n",
    "#     early_stopping_rounds=10,\n",
    "#     metric_period=10,\n",
    "#     plot=True\n",
    "# )\n",
    "\n",
    "# # clf = CatBoostClassifier(\n",
    "# #     loss_function='MultiLogloss',\n",
    "# #     eval_metric='HammingLoss',\n",
    "# #     iterations=500,\n",
    "# #     class_names=['A', 'B', 'C', 'D', 'E']\n",
    "# # )\n",
    "# # clf.fit(train_pool, metric_period=10, plot=True, verbose=50)\n",
    "\n",
    "# for pool_name, dt in [(\"val\", tr_val), (\"test\", tr_test)]:\n",
    "#     preds = classifier.predict(pools[pool_name])\n",
    "#     for average in (\"micro\", \"macro\"):\n",
    "#         print(\n",
    "#             average,\n",
    "#             f1_score(dt[\"Технические регламенты\"],\n",
    "#                      preds,\n",
    "#                      average=average)\n",
    "#         )"
   ]
  },
  {
   "cell_type": "code",
   "execution_count": null,
   "metadata": {
    "id": "W4wkfWv3bFWA"
   },
   "outputs": [],
   "source": [
    "# from catboost import CatBoostClassifier, Pool\n",
    "# from catboost.utils import eval_metric\n",
    "# from sklearn.datasets import make_multilabel_classification\n",
    "# from sklearn.model_selection import train_test_split\n",
    "\n",
    "# X, Y = make_multilabel_classification(n_samples=500, n_features=20, n_classes=5, random_state=0)\n",
    "# X_train, X_test, Y_train, Y_test = train_test_split(X, Y)\n",
    "# train_pool = Pool(X_train, Y_train)\n",
    "# test_pool = Pool(X_test, Y_test)\n",
    "\n",
    "# clf = CatBoostClassifier(\n",
    "#     loss_function='MultiLogloss',\n",
    "#     eval_metric='HammingLoss',\n",
    "#     iterations=500,\n",
    "#     class_names=['A', 'B', 'C', 'D', 'E']\n",
    "# )\n",
    "# clf.fit(train_pool, eval_set=test_pool, metric_period=10, plot=True, verbose=50)"
   ]
  }
 ],
 "metadata": {
  "accelerator": "TPU",
  "colab": {
   "collapsed_sections": [],
   "name": "reading_data.ipynb",
   "provenance": []
  },
  "gpuClass": "standard",
  "kernelspec": {
   "display_name": "Python 3 (ipykernel)",
   "language": "python",
   "name": "python3"
  },
  "language_info": {
   "codemirror_mode": {
    "name": "ipython",
    "version": 3
   },
   "file_extension": ".py",
   "mimetype": "text/x-python",
   "name": "python",
   "nbconvert_exporter": "python",
   "pygments_lexer": "ipython3",
   "version": "3.9.12"
  },
  "widgets": {
   "application/vnd.jupyter.widget-state+json": {
    "02fe14cc49414992a7939d9a20bd05d2": {
     "model_module": "@jupyter-widgets/controls",
     "model_module_version": "1.5.0",
     "model_name": "HTMLModel",
     "state": {
      "_dom_classes": [],
      "_model_module": "@jupyter-widgets/controls",
      "_model_module_version": "1.5.0",
      "_model_name": "HTMLModel",
      "_view_count": null,
      "_view_module": "@jupyter-widgets/controls",
      "_view_module_version": "1.5.0",
      "_view_name": "HTMLView",
      "description": "",
      "description_tooltip": null,
      "layout": "IPY_MODEL_93dd82a6ce9c40d78f7d13d80504ed1d",
      "placeholder": "​",
      "style": "IPY_MODEL_fb3652afe95142cda9ed40b831d50f67",
      "value": " 3/3 [00:00&lt;00:00,  5.99ba/s]"
     }
    },
    "09fefd5a217c44fcbc5ed484ba2380bc": {
     "model_module": "@jupyter-widgets/base",
     "model_module_version": "1.2.0",
     "model_name": "LayoutModel",
     "state": {
      "_model_module": "@jupyter-widgets/base",
      "_model_module_version": "1.2.0",
      "_model_name": "LayoutModel",
      "_view_count": null,
      "_view_module": "@jupyter-widgets/base",
      "_view_module_version": "1.2.0",
      "_view_name": "LayoutView",
      "align_content": null,
      "align_items": null,
      "align_self": null,
      "border": null,
      "bottom": null,
      "display": null,
      "flex": null,
      "flex_flow": null,
      "grid_area": null,
      "grid_auto_columns": null,
      "grid_auto_flow": null,
      "grid_auto_rows": null,
      "grid_column": null,
      "grid_gap": null,
      "grid_row": null,
      "grid_template_areas": null,
      "grid_template_columns": null,
      "grid_template_rows": null,
      "height": null,
      "justify_content": null,
      "justify_items": null,
      "left": null,
      "margin": null,
      "max_height": null,
      "max_width": null,
      "min_height": null,
      "min_width": null,
      "object_fit": null,
      "object_position": null,
      "order": null,
      "overflow": null,
      "overflow_x": null,
      "overflow_y": null,
      "padding": null,
      "right": null,
      "top": null,
      "visibility": null,
      "width": null
     }
    },
    "0b514a8d469f408c978478911494d058": {
     "model_module": "@jupyter-widgets/controls",
     "model_module_version": "1.5.0",
     "model_name": "HTMLModel",
     "state": {
      "_dom_classes": [],
      "_model_module": "@jupyter-widgets/controls",
      "_model_module_version": "1.5.0",
      "_model_name": "HTMLModel",
      "_view_count": null,
      "_view_module": "@jupyter-widgets/controls",
      "_view_module_version": "1.5.0",
      "_view_name": "HTMLView",
      "description": "",
      "description_tooltip": null,
      "layout": "IPY_MODEL_3e5dc0af04f4423ab7869b054e78bf7e",
      "placeholder": "​",
      "style": "IPY_MODEL_2a8eb994801c43e0bfcafd1cbfafb38e",
      "value": " 3/3 [00:00&lt;00:00,  5.72ba/s]"
     }
    },
    "0c9ab15f82bf416f91f8265601acab0f": {
     "model_module": "@jupyter-widgets/controls",
     "model_module_version": "1.5.0",
     "model_name": "FloatProgressModel",
     "state": {
      "_dom_classes": [],
      "_model_module": "@jupyter-widgets/controls",
      "_model_module_version": "1.5.0",
      "_model_name": "FloatProgressModel",
      "_view_count": null,
      "_view_module": "@jupyter-widgets/controls",
      "_view_module_version": "1.5.0",
      "_view_name": "ProgressView",
      "bar_style": "success",
      "description": "",
      "description_tooltip": null,
      "layout": "IPY_MODEL_28c3147d93064a3dbb044039cc3c6935",
      "max": 3,
      "min": 0,
      "orientation": "horizontal",
      "style": "IPY_MODEL_a1503ef249c341acab7d7846b48e97fc",
      "value": 3
     }
    },
    "105cc9c1efba499e8a33ba766113fa65": {
     "model_module": "@jupyter-widgets/controls",
     "model_module_version": "1.5.0",
     "model_name": "DescriptionStyleModel",
     "state": {
      "_model_module": "@jupyter-widgets/controls",
      "_model_module_version": "1.5.0",
      "_model_name": "DescriptionStyleModel",
      "_view_count": null,
      "_view_module": "@jupyter-widgets/base",
      "_view_module_version": "1.2.0",
      "_view_name": "StyleView",
      "description_width": ""
     }
    },
    "13ebdba610704e78aec9c2faeb77e04b": {
     "model_module": "catboost-widget",
     "model_module_version": "^1.0.0",
     "model_name": "CatboostWidgetModel",
     "state": {
      "_dom_classes": [],
      "_model_module": "catboost-widget",
      "_model_module_version": "^1.0.0",
      "_model_name": "CatboostWidgetModel",
      "_view_count": null,
      "_view_module": "catboost-widget",
      "_view_module_version": "^1.0.0",
      "_view_name": "CatboostWidgetView",
      "data": {
       "catboost_info": {
        "content": {
         "data": {
          "iterations": [
           {
            "iteration": 0,
            "learn": [
             0.396241926
            ],
            "passed_time": 534.6544507,
            "remaining_time": 266792.5709,
            "test": [
             0.3960711246
            ]
           },
           {
            "iteration": 1,
            "learn": [
             0.2305384565
            ],
            "passed_time": 1080.101328,
            "remaining_time": 268945.2306,
            "test": [
             0.2304414133
            ]
           }
          ],
          "meta": {
           "iteration_count": 500,
           "launch_mode": "Train",
           "learn_metrics": [
            {
             "best_value": "Min",
             "name": "MultiLogloss"
            }
           ],
           "learn_sets": [
            "learn"
           ],
           "name": "experiment",
           "parameters": "",
           "test_metrics": [
            {
             "best_value": "Min",
             "name": "MultiLogloss"
            }
           ],
           "test_sets": [
            "test"
           ]
          }
         },
         "passed_iterations": 1,
         "total_iterations": 500
        },
        "name": "catboost_info",
        "path": "catboost_info"
       }
      },
      "layout": "IPY_MODEL_930d8239116e4a26aea4d828131dc0f0"
     }
    },
    "14abcd1ab5bf408cba1ceda8b6e46750": {
     "model_module": "@jupyter-widgets/controls",
     "model_module_version": "1.5.0",
     "model_name": "HBoxModel",
     "state": {
      "_dom_classes": [],
      "_model_module": "@jupyter-widgets/controls",
      "_model_module_version": "1.5.0",
      "_model_name": "HBoxModel",
      "_view_count": null,
      "_view_module": "@jupyter-widgets/controls",
      "_view_module_version": "1.5.0",
      "_view_name": "HBoxView",
      "box_style": "",
      "children": [
       "IPY_MODEL_a1b18c37132c4daeb36ff8b037f59c54",
       "IPY_MODEL_22ae76dd13fd4d1082a2b80da420fccd",
       "IPY_MODEL_55e9cc4ad5d84e5c9e9d2bd600d4db7a"
      ],
      "layout": "IPY_MODEL_6f04df0a3a3f4ac7a010db5a715f4d12"
     }
    },
    "157079a1f737440c94408bc24587e44a": {
     "model_module": "@jupyter-widgets/controls",
     "model_module_version": "1.5.0",
     "model_name": "ProgressStyleModel",
     "state": {
      "_model_module": "@jupyter-widgets/controls",
      "_model_module_version": "1.5.0",
      "_model_name": "ProgressStyleModel",
      "_view_count": null,
      "_view_module": "@jupyter-widgets/base",
      "_view_module_version": "1.2.0",
      "_view_name": "StyleView",
      "bar_color": null,
      "description_width": ""
     }
    },
    "1962b3cfd77c453fab9c3c5995f00aae": {
     "model_module": "@jupyter-widgets/base",
     "model_module_version": "1.2.0",
     "model_name": "LayoutModel",
     "state": {
      "_model_module": "@jupyter-widgets/base",
      "_model_module_version": "1.2.0",
      "_model_name": "LayoutModel",
      "_view_count": null,
      "_view_module": "@jupyter-widgets/base",
      "_view_module_version": "1.2.0",
      "_view_name": "LayoutView",
      "align_content": null,
      "align_items": null,
      "align_self": null,
      "border": null,
      "bottom": null,
      "display": null,
      "flex": null,
      "flex_flow": null,
      "grid_area": null,
      "grid_auto_columns": null,
      "grid_auto_flow": null,
      "grid_auto_rows": null,
      "grid_column": null,
      "grid_gap": null,
      "grid_row": null,
      "grid_template_areas": null,
      "grid_template_columns": null,
      "grid_template_rows": null,
      "height": null,
      "justify_content": null,
      "justify_items": null,
      "left": null,
      "margin": null,
      "max_height": null,
      "max_width": null,
      "min_height": null,
      "min_width": null,
      "object_fit": null,
      "object_position": null,
      "order": null,
      "overflow": null,
      "overflow_x": null,
      "overflow_y": null,
      "padding": null,
      "right": null,
      "top": null,
      "visibility": null,
      "width": null
     }
    },
    "1ab3bb07b19247169fc7385f15a816d6": {
     "model_module": "@jupyter-widgets/controls",
     "model_module_version": "1.5.0",
     "model_name": "FloatProgressModel",
     "state": {
      "_dom_classes": [],
      "_model_module": "@jupyter-widgets/controls",
      "_model_module_version": "1.5.0",
      "_model_name": "FloatProgressModel",
      "_view_count": null,
      "_view_module": "@jupyter-widgets/controls",
      "_view_module_version": "1.5.0",
      "_view_name": "ProgressView",
      "bar_style": "success",
      "description": "",
      "description_tooltip": null,
      "layout": "IPY_MODEL_dc9ba77ec0354d94a81325f7bad0bbde",
      "max": 4,
      "min": 0,
      "orientation": "horizontal",
      "style": "IPY_MODEL_2efcfd0dc5a345d1b9461b4aa1256431",
      "value": 4
     }
    },
    "1f33ce9203d84c66832ded821796d103": {
     "model_module": "@jupyter-widgets/controls",
     "model_module_version": "1.5.0",
     "model_name": "HBoxModel",
     "state": {
      "_dom_classes": [],
      "_model_module": "@jupyter-widgets/controls",
      "_model_module_version": "1.5.0",
      "_model_name": "HBoxModel",
      "_view_count": null,
      "_view_module": "@jupyter-widgets/controls",
      "_view_module_version": "1.5.0",
      "_view_name": "HBoxView",
      "box_style": "",
      "children": [
       "IPY_MODEL_bac24e1f87ad46a48a23dd0ec59ba4dc",
       "IPY_MODEL_1ab3bb07b19247169fc7385f15a816d6",
       "IPY_MODEL_92261b303518410cb2a540d78f3fa7e5"
      ],
      "layout": "IPY_MODEL_a8c88c5691404d42a7c37fda6c2b1c58"
     }
    },
    "2002046fe4c54c0db1ccca870d213f59": {
     "model_module": "@jupyter-widgets/controls",
     "model_module_version": "1.5.0",
     "model_name": "DescriptionStyleModel",
     "state": {
      "_model_module": "@jupyter-widgets/controls",
      "_model_module_version": "1.5.0",
      "_model_name": "DescriptionStyleModel",
      "_view_count": null,
      "_view_module": "@jupyter-widgets/base",
      "_view_module_version": "1.2.0",
      "_view_name": "StyleView",
      "description_width": ""
     }
    },
    "21d85791782e4af4849b70ef9971cd80": {
     "model_module": "@jupyter-widgets/controls",
     "model_module_version": "1.5.0",
     "model_name": "HTMLModel",
     "state": {
      "_dom_classes": [],
      "_model_module": "@jupyter-widgets/controls",
      "_model_module_version": "1.5.0",
      "_model_name": "HTMLModel",
      "_view_count": null,
      "_view_module": "@jupyter-widgets/controls",
      "_view_module_version": "1.5.0",
      "_view_name": "HTMLView",
      "description": "",
      "description_tooltip": null,
      "layout": "IPY_MODEL_a51121471126493995d30f011d4502a1",
      "placeholder": "​",
      "style": "IPY_MODEL_b845c28c6d3b4179af8d0082888cc240",
      "value": "100%"
     }
    },
    "22ae76dd13fd4d1082a2b80da420fccd": {
     "model_module": "@jupyter-widgets/controls",
     "model_module_version": "1.5.0",
     "model_name": "FloatProgressModel",
     "state": {
      "_dom_classes": [],
      "_model_module": "@jupyter-widgets/controls",
      "_model_module_version": "1.5.0",
      "_model_name": "FloatProgressModel",
      "_view_count": null,
      "_view_module": "@jupyter-widgets/controls",
      "_view_module_version": "1.5.0",
      "_view_name": "ProgressView",
      "bar_style": "success",
      "description": "",
      "description_tooltip": null,
      "layout": "IPY_MODEL_d7c4855f4fd14bc1855db22fc5d43300",
      "max": 4,
      "min": 0,
      "orientation": "horizontal",
      "style": "IPY_MODEL_b40bf694389e46508e85b21f2e013015",
      "value": 4
     }
    },
    "255c985c8e944413a39b76fd2b43d1d4": {
     "model_module": "@jupyter-widgets/base",
     "model_module_version": "1.2.0",
     "model_name": "LayoutModel",
     "state": {
      "_model_module": "@jupyter-widgets/base",
      "_model_module_version": "1.2.0",
      "_model_name": "LayoutModel",
      "_view_count": null,
      "_view_module": "@jupyter-widgets/base",
      "_view_module_version": "1.2.0",
      "_view_name": "LayoutView",
      "align_content": null,
      "align_items": null,
      "align_self": null,
      "border": null,
      "bottom": null,
      "display": null,
      "flex": null,
      "flex_flow": null,
      "grid_area": null,
      "grid_auto_columns": null,
      "grid_auto_flow": null,
      "grid_auto_rows": null,
      "grid_column": null,
      "grid_gap": null,
      "grid_row": null,
      "grid_template_areas": null,
      "grid_template_columns": null,
      "grid_template_rows": null,
      "height": null,
      "justify_content": null,
      "justify_items": null,
      "left": null,
      "margin": null,
      "max_height": null,
      "max_width": null,
      "min_height": null,
      "min_width": null,
      "object_fit": null,
      "object_position": null,
      "order": null,
      "overflow": null,
      "overflow_x": null,
      "overflow_y": null,
      "padding": null,
      "right": null,
      "top": null,
      "visibility": null,
      "width": null
     }
    },
    "25b48f6062074c40a4a9546bdc8824aa": {
     "model_module": "@jupyter-widgets/base",
     "model_module_version": "1.2.0",
     "model_name": "LayoutModel",
     "state": {
      "_model_module": "@jupyter-widgets/base",
      "_model_module_version": "1.2.0",
      "_model_name": "LayoutModel",
      "_view_count": null,
      "_view_module": "@jupyter-widgets/base",
      "_view_module_version": "1.2.0",
      "_view_name": "LayoutView",
      "align_content": null,
      "align_items": null,
      "align_self": null,
      "border": null,
      "bottom": null,
      "display": null,
      "flex": null,
      "flex_flow": null,
      "grid_area": null,
      "grid_auto_columns": null,
      "grid_auto_flow": null,
      "grid_auto_rows": null,
      "grid_column": null,
      "grid_gap": null,
      "grid_row": null,
      "grid_template_areas": null,
      "grid_template_columns": null,
      "grid_template_rows": null,
      "height": null,
      "justify_content": null,
      "justify_items": null,
      "left": null,
      "margin": null,
      "max_height": null,
      "max_width": null,
      "min_height": null,
      "min_width": null,
      "object_fit": null,
      "object_position": null,
      "order": null,
      "overflow": null,
      "overflow_x": null,
      "overflow_y": null,
      "padding": null,
      "right": null,
      "top": null,
      "visibility": null,
      "width": null
     }
    },
    "28c3147d93064a3dbb044039cc3c6935": {
     "model_module": "@jupyter-widgets/base",
     "model_module_version": "1.2.0",
     "model_name": "LayoutModel",
     "state": {
      "_model_module": "@jupyter-widgets/base",
      "_model_module_version": "1.2.0",
      "_model_name": "LayoutModel",
      "_view_count": null,
      "_view_module": "@jupyter-widgets/base",
      "_view_module_version": "1.2.0",
      "_view_name": "LayoutView",
      "align_content": null,
      "align_items": null,
      "align_self": null,
      "border": null,
      "bottom": null,
      "display": null,
      "flex": null,
      "flex_flow": null,
      "grid_area": null,
      "grid_auto_columns": null,
      "grid_auto_flow": null,
      "grid_auto_rows": null,
      "grid_column": null,
      "grid_gap": null,
      "grid_row": null,
      "grid_template_areas": null,
      "grid_template_columns": null,
      "grid_template_rows": null,
      "height": null,
      "justify_content": null,
      "justify_items": null,
      "left": null,
      "margin": null,
      "max_height": null,
      "max_width": null,
      "min_height": null,
      "min_width": null,
      "object_fit": null,
      "object_position": null,
      "order": null,
      "overflow": null,
      "overflow_x": null,
      "overflow_y": null,
      "padding": null,
      "right": null,
      "top": null,
      "visibility": null,
      "width": null
     }
    },
    "2a8eb994801c43e0bfcafd1cbfafb38e": {
     "model_module": "@jupyter-widgets/controls",
     "model_module_version": "1.5.0",
     "model_name": "DescriptionStyleModel",
     "state": {
      "_model_module": "@jupyter-widgets/controls",
      "_model_module_version": "1.5.0",
      "_model_name": "DescriptionStyleModel",
      "_view_count": null,
      "_view_module": "@jupyter-widgets/base",
      "_view_module_version": "1.2.0",
      "_view_name": "StyleView",
      "description_width": ""
     }
    },
    "2b5062437b204b5da10e79ceb0c34adb": {
     "model_module": "catboost-widget",
     "model_module_version": "^1.0.0",
     "model_name": "CatboostWidgetModel",
     "state": {
      "_dom_classes": [],
      "_model_module": "catboost-widget",
      "_model_module_version": "^1.0.0",
      "_model_name": "CatboostWidgetModel",
      "_view_count": null,
      "_view_module": "catboost-widget",
      "_view_module_version": "^1.0.0",
      "_view_name": "CatboostWidgetView",
      "data": {
       "catboost_info": {
        "content": {
         "data": {
          "iterations": [
           {
            "iteration": 0,
            "learn": [
             0.5173857179
            ],
            "passed_time": 14.0181379,
            "remaining_time": 6995.050811,
            "test": [
             0.5172160207
            ]
           },
           {
            "iteration": 1,
            "learn": [
             0.373757704
            ],
            "passed_time": 27.78183595,
            "remaining_time": 6917.677151,
            "test": [
             0.3734159359
            ]
           },
           {
            "iteration": 2,
            "learn": [
             0.2866558947
            ],
            "passed_time": 41.7796881,
            "remaining_time": 6921.501662,
            "test": [
             0.2863050122
            ]
           },
           {
            "iteration": 3,
            "learn": [
             0.2274939663
            ],
            "passed_time": 56.44726541,
            "remaining_time": 6999.46091,
            "test": [
             0.2268510305
            ]
           },
           {
            "iteration": 4,
            "learn": [
             0.1854811278
            ],
            "passed_time": 71.22178163,
            "remaining_time": 7050.956382,
            "test": [
             0.1847969179
            ]
           },
           {
            "iteration": 5,
            "learn": [
             0.1567023151
            ],
            "passed_time": 85.43521495,
            "remaining_time": 7034.166031,
            "test": [
             0.1561142697
            ]
           },
           {
            "iteration": 6,
            "learn": [
             0.1368567805
            ],
            "passed_time": 98.86725868,
            "remaining_time": 6963.07979,
            "test": [
             0.1366416556
            ]
           },
           {
            "iteration": 7,
            "learn": [
             0.1211559168
            ],
            "passed_time": 112.9796215,
            "remaining_time": 6948.246725,
            "test": [
             0.1212670512
            ]
           },
           {
            "iteration": 8,
            "learn": [
             0.1114305342
            ],
            "passed_time": 126.7126932,
            "remaining_time": 6912.881375,
            "test": [
             0.1116755723
            ]
           },
           {
            "iteration": 9,
            "learn": [
             0.1029836913
            ],
            "passed_time": 142.5870655,
            "remaining_time": 6986.766212,
            "test": [
             0.1033274256
            ]
           },
           {
            "iteration": 10,
            "learn": [
             0.0972299616
            ],
            "passed_time": 156.3910253,
            "remaining_time": 6952.291941,
            "test": [
             0.0975741046
            ]
           },
           {
            "iteration": 11,
            "learn": [
             0.09197907843
            ],
            "passed_time": 170.6716675,
            "remaining_time": 6940.64781,
            "test": [
             0.09235000439
            ]
           },
           {
            "iteration": 12,
            "learn": [
             0.08831486358
            ],
            "passed_time": 184.4792253,
            "remaining_time": 6910.875594,
            "test": [
             0.08881629269
            ]
           },
           {
            "iteration": 13,
            "learn": [
             0.08391850343
            ],
            "passed_time": 198.0377808,
            "remaining_time": 6874.740106,
            "test": [
             0.08441665686
            ]
           },
           {
            "iteration": 14,
            "learn": [
             0.08074678477
            ],
            "passed_time": 211.5591219,
            "remaining_time": 6840.411607,
            "test": [
             0.08137148319
            ]
           },
           {
            "iteration": 15,
            "learn": [
             0.07832933596
            ],
            "passed_time": 229.1727336,
            "remaining_time": 6932.475191,
            "test": [
             0.07902747128
            ]
           },
           {
            "iteration": 16,
            "learn": [
             0.07611520577
            ],
            "passed_time": 242.6502049,
            "remaining_time": 6894.120528,
            "test": [
             0.07682281769
            ]
           },
           {
            "iteration": 17,
            "learn": [
             0.07427680205
            ],
            "passed_time": 256.439124,
            "remaining_time": 6866.869876,
            "test": [
             0.07499774392
            ]
           },
           {
            "iteration": 18,
            "learn": [
             0.07243016702
            ],
            "passed_time": 270.3191907,
            "remaining_time": 6843.343721,
            "test": [
             0.07315842291
            ]
           },
           {
            "iteration": 19,
            "learn": [
             0.0706528176
            ],
            "passed_time": 284.304807,
            "remaining_time": 6823.315367,
            "test": [
             0.07145149778
            ]
           },
           {
            "iteration": 20,
            "learn": [
             0.06911821316
            ],
            "passed_time": 300.4138009,
            "remaining_time": 6852.295745,
            "test": [
             0.07002079007
            ]
           },
           {
            "iteration": 21,
            "learn": [
             0.06713178278
            ],
            "passed_time": 314.4105399,
            "remaining_time": 6831.283549,
            "test": [
             0.06809393828
            ]
           },
           {
            "iteration": 22,
            "learn": [
             0.06606589932
            ],
            "passed_time": 328.3383967,
            "remaining_time": 6809.452835,
            "test": [
             0.06712072619
            ]
           },
           {
            "iteration": 23,
            "learn": [
             0.065234503
            ],
            "passed_time": 341.9425857,
            "remaining_time": 6781.861283,
            "test": [
             0.06638920128
            ]
           },
           {
            "iteration": 24,
            "learn": [
             0.06403444339
            ],
            "passed_time": 356.0935153,
            "remaining_time": 6765.776791,
            "test": [
             0.06527997545
            ]
           },
           {
            "iteration": 25,
            "learn": [
             0.06263383336
            ],
            "passed_time": 369.5729041,
            "remaining_time": 6737.598328,
            "test": [
             0.0639018271
            ]
           },
           {
            "iteration": 26,
            "learn": [
             0.06168782876
            ],
            "passed_time": 385.5973587,
            "remaining_time": 6755.094469,
            "test": [
             0.0630138782
            ]
           },
           {
            "iteration": 27,
            "learn": [
             0.06086145201
            ],
            "passed_time": 398.9347151,
            "remaining_time": 6724.899483,
            "test": [
             0.06227526015
            ]
           },
           {
            "iteration": 28,
            "learn": [
             0.05973463193
            ],
            "passed_time": 413.0243433,
            "remaining_time": 6708.085024,
            "test": [
             0.06121546507
            ]
           },
           {
            "iteration": 29,
            "learn": [
             0.0584789638
            ],
            "passed_time": 426.3189385,
            "remaining_time": 6678.996703,
            "test": [
             0.06000609087
            ]
           },
           {
            "iteration": 30,
            "learn": [
             0.05759546924
            ],
            "passed_time": 439.6459397,
            "remaining_time": 6651.417603,
            "test": [
             0.05914942975
            ]
           },
           {
            "iteration": 31,
            "learn": [
             0.05684346173
            ],
            "passed_time": 462.0659892,
            "remaining_time": 6757.715091,
            "test": [
             0.05839488305
            ]
           },
           {
            "iteration": 32,
            "learn": [
             0.05615477302
            ],
            "passed_time": 476.1414888,
            "remaining_time": 6738.123493,
            "test": [
             0.05774887253
            ]
           },
           {
            "iteration": 33,
            "learn": [
             0.05561528193
            ],
            "passed_time": 490.0021483,
            "remaining_time": 6715.911797,
            "test": [
             0.05725351965
            ]
           },
           {
            "iteration": 34,
            "learn": [
             0.05488070908
            ],
            "passed_time": 504.0483306,
            "remaining_time": 6696.642107,
            "test": [
             0.05655965173
            ]
           },
           {
            "iteration": 35,
            "learn": [
             0.05440542278
            ],
            "passed_time": 518.2119331,
            "remaining_time": 6679.176026,
            "test": [
             0.05614983903
            ]
           },
           {
            "iteration": 36,
            "learn": [
             0.05390925661
            ],
            "passed_time": 532.4414564,
            "remaining_time": 6662.71336,
            "test": [
             0.05572427928
            ]
           },
           {
            "iteration": 37,
            "learn": [
             0.05313597409
            ],
            "passed_time": 548.479794,
            "remaining_time": 6668.3596,
            "test": [
             0.05502957651
            ]
           },
           {
            "iteration": 38,
            "learn": [
             0.05238465479
            ],
            "passed_time": 562.5345697,
            "remaining_time": 6649.447093,
            "test": [
             0.05429055601
            ]
           },
           {
            "iteration": 39,
            "learn": [
             0.05175859084
            ],
            "passed_time": 575.6635951,
            "remaining_time": 6620.131344,
            "test": [
             0.05370271813
            ]
           },
           {
            "iteration": 40,
            "learn": [
             0.05097748033
            ],
            "passed_time": 589.4863561,
            "remaining_time": 6599.371645,
            "test": [
             0.05296719222
            ]
           },
           {
            "iteration": 41,
            "learn": [
             0.05059192822
            ],
            "passed_time": 603.1394213,
            "remaining_time": 6577.091785,
            "test": [
             0.05263457544
            ]
           },
           {
            "iteration": 42,
            "learn": [
             0.05027981644
            ],
            "passed_time": 616.9347174,
            "remaining_time": 6556.724787,
            "test": [
             0.05236467517
            ]
           },
           {
            "iteration": 43,
            "learn": [
             0.04976636293
            ],
            "passed_time": 632.787689,
            "remaining_time": 6557.981504,
            "test": [
             0.05193558059
            ]
           },
           {
            "iteration": 44,
            "learn": [
             0.04906450505
            ],
            "passed_time": 646.5080585,
            "remaining_time": 6536.914814,
            "test": [
             0.051316309
            ]
           },
           {
            "iteration": 45,
            "learn": [
             0.04850035686
            ],
            "passed_time": 660.1506174,
            "remaining_time": 6515.399572,
            "test": [
             0.05076854075
            ]
           },
           {
            "iteration": 46,
            "learn": [
             0.0481430144
            ],
            "passed_time": 674.3774268,
            "remaining_time": 6499.850518,
            "test": [
             0.05042409202
            ]
           },
           {
            "iteration": 47,
            "learn": [
             0.04773034128
            ],
            "passed_time": 688.1145349,
            "remaining_time": 6479.745203,
            "test": [
             0.05006953372
            ]
           },
           {
            "iteration": 48,
            "learn": [
             0.0473337236
            ],
            "passed_time": 703.6897519,
            "remaining_time": 6476.817921,
            "test": [
             0.04970337829
            ]
           },
           {
            "iteration": 49,
            "learn": [
             0.04687515003
            ],
            "passed_time": 717.7563308,
            "remaining_time": 6459.806977,
            "test": [
             0.04927491449
            ]
           },
           {
            "iteration": 50,
            "learn": [
             0.04650001802
            ],
            "passed_time": 731.7177701,
            "remaining_time": 6441.985858,
            "test": [
             0.04892472613
            ]
           },
           {
            "iteration": 51,
            "learn": [
             0.04607874611
            ],
            "passed_time": 745.7231194,
            "remaining_time": 6424.69149,
            "test": [
             0.04853134233
            ]
           },
           {
            "iteration": 52,
            "learn": [
             0.04571348772
            ],
            "passed_time": 759.5551678,
            "remaining_time": 6406.059623,
            "test": [
             0.04821150155
            ]
           },
           {
            "iteration": 53,
            "learn": [
             0.04549611173
            ],
            "passed_time": 773.5558345,
            "remaining_time": 6388.998188,
            "test": [
             0.0480124743
            ]
           },
           {
            "iteration": 54,
            "learn": [
             0.04512117844
            ],
            "passed_time": 789.4421892,
            "remaining_time": 6387.304985,
            "test": [
             0.04762189661
            ]
           },
           {
            "iteration": 55,
            "learn": [
             0.04472407233
            ],
            "passed_time": 803.2274899,
            "remaining_time": 6368.446527,
            "test": [
             0.04727031965
            ]
           },
           {
            "iteration": 56,
            "learn": [
             0.04427831431
            ],
            "passed_time": 817.1621462,
            "remaining_time": 6350.926855,
            "test": [
             0.04685102344
            ]
           },
           {
            "iteration": 57,
            "learn": [
             0.04372808012
            ],
            "passed_time": 830.9130945,
            "remaining_time": 6332.130823,
            "test": [
             0.04635931667
            ]
           },
           {
            "iteration": 58,
            "learn": [
             0.04352992447
            ],
            "passed_time": 844.7200078,
            "remaining_time": 6313.924126,
            "test": [
             0.0461843701
            ]
           },
           {
            "iteration": 59,
            "learn": [
             0.04308140562
            ],
            "passed_time": 858.2410828,
            "remaining_time": 6293.76794,
            "test": [
             0.04579110456
            ]
           },
           {
            "iteration": 60,
            "learn": [
             0.0428086683
            ],
            "passed_time": 873.6583756,
            "remaining_time": 6287.475851,
            "test": [
             0.04553119178
            ]
           },
           {
            "iteration": 61,
            "learn": [
             0.0425515918
            ],
            "passed_time": 887.418721,
            "remaining_time": 6269.183868,
            "test": [
             0.0452818405
            ]
           },
           {
            "iteration": 62,
            "learn": [
             0.04226569759
            ],
            "passed_time": 901.6478725,
            "remaining_time": 6254.287623,
            "test": [
             0.04503565284
            ]
           },
           {
            "iteration": 63,
            "learn": [
             0.04194082563
            ],
            "passed_time": 915.6035569,
            "remaining_time": 6237.549232,
            "test": [
             0.04473890101
            ]
           },
           {
            "iteration": 64,
            "learn": [
             0.04175989659
            ],
            "passed_time": 929.2450507,
            "remaining_time": 6218.793801,
            "test": [
             0.04456754525
            ]
           },
           {
            "iteration": 65,
            "learn": [
             0.04136386775
            ],
            "passed_time": 943.3731928,
            "remaining_time": 6203.393419,
            "test": [
             0.04419135694
            ]
           },
           {
            "iteration": 66,
            "learn": [
             0.04115159203
            ],
            "passed_time": 959.3144132,
            "remaining_time": 6199.748372,
            "test": [
             0.04400141124
            ]
           },
           {
            "iteration": 67,
            "learn": [
             0.04085781039
            ],
            "passed_time": 973.3435107,
            "remaining_time": 6183.594068,
            "test": [
             0.04372191651
            ]
           },
           {
            "iteration": 68,
            "learn": [
             0.04051972989
            ],
            "passed_time": 986.9320699,
            "remaining_time": 6164.749596,
            "test": [
             0.04337372946
            ]
           },
           {
            "iteration": 69,
            "learn": [
             0.04029691849
            ],
            "passed_time": 1000.42041,
            "remaining_time": 6145.439659,
            "test": [
             0.04316834093
            ]
           },
           {
            "iteration": 70,
            "learn": [
             0.03990281377
            ],
            "passed_time": 1014.094442,
            "remaining_time": 6127.415714,
            "test": [
             0.04275909063
            ]
           },
           {
            "iteration": 71,
            "learn": [
             0.03968448568
            ],
            "passed_time": 1030.049216,
            "remaining_time": 6123.070341,
            "test": [
             0.04257262922
            ]
           },
           {
            "iteration": 72,
            "learn": [
             0.03944892389
            ],
            "passed_time": 1044.102882,
            "remaining_time": 6107.286723,
            "test": [
             0.04234874889
            ]
           },
           {
            "iteration": 73,
            "learn": [
             0.03922279706
            ],
            "passed_time": 1057.909817,
            "remaining_time": 6090.129489,
            "test": [
             0.04211369781
            ]
           },
           {
            "iteration": 74,
            "learn": [
             0.03905056195
            ],
            "passed_time": 1071.852118,
            "remaining_time": 6073.828667,
            "test": [
             0.04197726815
            ]
           },
           {
            "iteration": 75,
            "learn": [
             0.03890042384
            ],
            "passed_time": 1085.822826,
            "remaining_time": 6057.7484,
            "test": [
             0.04182472394
            ]
           },
           {
            "iteration": 76,
            "learn": [
             0.0386682035
            ],
            "passed_time": 1099.376006,
            "remaining_time": 6039.429228,
            "test": [
             0.04166062605
            ]
           },
           {
            "iteration": 77,
            "learn": [
             0.03847050766
            ],
            "passed_time": 1115.161992,
            "remaining_time": 6033.312317,
            "test": [
             0.04150592524
            ]
           },
           {
            "iteration": 78,
            "learn": [
             0.03821157342
            ],
            "passed_time": 1129.000503,
            "remaining_time": 6016.572301,
            "test": [
             0.04127923344
            ]
           },
           {
            "iteration": 79,
            "learn": [
             0.0380248579
            ],
            "passed_time": 1142.81552,
            "remaining_time": 5999.781478,
            "test": [
             0.04113055309
            ]
           },
           {
            "iteration": 80,
            "learn": [
             0.03786422572
            ],
            "passed_time": 1156.973316,
            "remaining_time": 5984.837278,
            "test": [
             0.04099106607
            ]
           },
           {
            "iteration": 81,
            "learn": [
             0.03770334267
            ],
            "passed_time": 1170.702893,
            "remaining_time": 5967.72938,
            "test": [
             0.04083058251
            ]
           },
           {
            "iteration": 82,
            "learn": [
             0.03753718952
            ],
            "passed_time": 1183.933361,
            "remaining_time": 5948.195318,
            "test": [
             0.04065855071
            ]
           },
           {
            "iteration": 83,
            "learn": [
             0.03735197184
            ],
            "passed_time": 1199.700674,
            "remaining_time": 5941.374766,
            "test": [
             0.04048651755
            ]
           },
           {
            "iteration": 84,
            "learn": [
             0.03715682869
            ],
            "passed_time": 1213.568227,
            "remaining_time": 5925.068404,
            "test": [
             0.04029683059
            ]
           },
           {
            "iteration": 85,
            "learn": [
             0.0370171129
            ],
            "passed_time": 1227.490568,
            "remaining_time": 5909.0825,
            "test": [
             0.04018950875
            ]
           },
           {
            "iteration": 86,
            "learn": [
             0.03682268334
            ],
            "passed_time": 1241.289045,
            "remaining_time": 5892.556041,
            "test": [
             0.04001520995
            ]
           },
           {
            "iteration": 87,
            "learn": [
             0.03664832598
            ],
            "passed_time": 1255.179853,
            "remaining_time": 5876.523859,
            "test": [
             0.03984628812
            ]
           },
           {
            "iteration": 88,
            "learn": [
             0.03642670247
            ],
            "passed_time": 1269.1501,
            "remaining_time": 5860.906639,
            "test": [
             0.03966571335
            ]
           },
           {
            "iteration": 89,
            "learn": [
             0.0361793874
            ],
            "passed_time": 1285.238509,
            "remaining_time": 5854.975429,
            "test": [
             0.03940724853
            ]
           },
           {
            "iteration": 90,
            "learn": [
             0.03595197665
            ],
            "passed_time": 1299.025111,
            "remaining_time": 5838.475497,
            "test": [
             0.0392714341
            ]
           },
           {
            "iteration": 91,
            "learn": [
             0.03582161734
            ],
            "passed_time": 1312.948766,
            "remaining_time": 5822.642355,
            "test": [
             0.03916211168
            ]
           },
           {
            "iteration": 92,
            "learn": [
             0.03565885543
            ],
            "passed_time": 1327.204214,
            "remaining_time": 5808.302312,
            "test": [
             0.03897370749
            ]
           },
           {
            "iteration": 93,
            "learn": [
             0.03547617896
            ],
            "passed_time": 1341.168216,
            "remaining_time": 5792.705274,
            "test": [
             0.0388221287
            ]
           },
           {
            "iteration": 94,
            "learn": [
             0.03533001656
            ],
            "passed_time": 1355.027338,
            "remaining_time": 5776.695495,
            "test": [
             0.03869764806
            ]
           },
           {
            "iteration": 95,
            "learn": [
             0.03518304921
            ],
            "passed_time": 1370.842572,
            "remaining_time": 5768.962489,
            "test": [
             0.03856189909
            ]
           },
           {
            "iteration": 96,
            "learn": [
             0.0350644091
            ],
            "passed_time": 1384.705838,
            "remaining_time": 5752.953122,
            "test": [
             0.03842745459
            ]
           },
           {
            "iteration": 97,
            "learn": [
             0.03488186209
            ],
            "passed_time": 1398.865597,
            "remaining_time": 5738.203776,
            "test": [
             0.03824437645
            ]
           },
           {
            "iteration": 98,
            "learn": [
             0.03473048984
            ],
            "passed_time": 1412.691269,
            "remaining_time": 5722.11312,
            "test": [
             0.03811414217
            ]
           },
           {
            "iteration": 99,
            "learn": [
             0.03457038518
            ],
            "passed_time": 1426.381203,
            "remaining_time": 5705.524813,
            "test": [
             0.03796058864
            ]
           },
           {
            "iteration": 100,
            "learn": [
             0.0343388527
            ],
            "passed_time": 1441.947193,
            "remaining_time": 5696.405246,
            "test": [
             0.03776653204
            ]
           },
           {
            "iteration": 101,
            "learn": [
             0.03420390805
            ],
            "passed_time": 1456.295165,
            "remaining_time": 5682.406625,
            "test": [
             0.03765994771
            ]
           },
           {
            "iteration": 102,
            "learn": [
             0.03410022886
            ],
            "passed_time": 1469.862436,
            "remaining_time": 5665.392108,
            "test": [
             0.03758253869
            ]
           },
           {
            "iteration": 103,
            "learn": [
             0.03397776411
            ],
            "passed_time": 1483.31103,
            "remaining_time": 5647.991999,
            "test": [
             0.03745643586
            ]
           },
           {
            "iteration": 104,
            "learn": [
             0.03378746456
            ],
            "passed_time": 1496.8678,
            "remaining_time": 5631.074105,
            "test": [
             0.03729522934
            ]
           },
           {
            "iteration": 105,
            "learn": [
             0.03369290589
            ],
            "passed_time": 1510.882045,
            "remaining_time": 5615.920054,
            "test": [
             0.03723271183
            ]
           },
           {
            "iteration": 106,
            "learn": [
             0.03353080744
            ],
            "passed_time": 1526.828635,
            "remaining_time": 5607.884612,
            "test": [
             0.03709971976
            ]
           },
           {
            "iteration": 107,
            "learn": [
             0.03342851898
            ],
            "passed_time": 1540.592205,
            "remaining_time": 5591.779113,
            "test": [
             0.03702864443
            ]
           },
           {
            "iteration": 108,
            "learn": [
             0.03330686208
            ],
            "passed_time": 1554.457146,
            "remaining_time": 5576.08022,
            "test": [
             0.03689560945
            ]
           },
           {
            "iteration": 109,
            "learn": [
             0.03314392934
            ],
            "passed_time": 1568.18824,
            "remaining_time": 5559.940123,
            "test": [
             0.03676030789
            ]
           },
           {
            "iteration": 110,
            "learn": [
             0.03289129889
            ],
            "passed_time": 1582.363731,
            "remaining_time": 5545.400822,
            "test": [
             0.03652209523
            ]
           },
           {
            "iteration": 111,
            "learn": [
             0.03272632605
            ],
            "passed_time": 1596.427207,
            "remaining_time": 5530.479968,
            "test": [
             0.03640009133
            ]
           },
           {
            "iteration": 112,
            "learn": [
             0.03259653878
            ],
            "passed_time": 1611.937558,
            "remaining_time": 5520.529514,
            "test": [
             0.03628629099
            ]
           },
           {
            "iteration": 113,
            "learn": [
             0.03251147911
            ],
            "passed_time": 1626.137312,
            "remaining_time": 5506.043881,
            "test": [
             0.03622733277
            ]
           },
           {
            "iteration": 114,
            "learn": [
             0.03237664429
            ],
            "passed_time": 1639.918277,
            "remaining_time": 5490.16119,
            "test": [
             0.03609228282
            ]
           },
           {
            "iteration": 115,
            "learn": [
             0.03221718631
            ],
            "passed_time": 1653.680613,
            "remaining_time": 5474.253065,
            "test": [
             0.03593513353
            ]
           },
           {
            "iteration": 116,
            "learn": [
             0.0320728604
            ],
            "passed_time": 1667.422884,
            "remaining_time": 5458.315937,
            "test": [
             0.03580234369
            ]
           },
           {
            "iteration": 117,
            "learn": [
             0.03193137339
            ],
            "passed_time": 1681.129012,
            "remaining_time": 5442.299005,
            "test": [
             0.03566693248
            ]
           },
           {
            "iteration": 118,
            "learn": [
             0.03177809631
            ],
            "passed_time": 1697.072277,
            "remaining_time": 5433.483508,
            "test": [
             0.0355685064
            ]
           },
           {
            "iteration": 119,
            "learn": [
             0.03174643044
            ],
            "passed_time": 1710.808579,
            "remaining_time": 5417.560499,
            "test": [
             0.03555036093
            ]
           },
           {
            "iteration": 120,
            "learn": [
             0.03153450711
            ],
            "passed_time": 1724.40705,
            "remaining_time": 5401.241918,
            "test": [
             0.03538253665
            ]
           },
           {
            "iteration": 121,
            "learn": [
             0.03140550811
            ],
            "passed_time": 1737.835182,
            "remaining_time": 5384.440155,
            "test": [
             0.03528731285
            ]
           },
           {
            "iteration": 122,
            "learn": [
             0.03126353135
            ],
            "passed_time": 1751.731688,
            "remaining_time": 5369.128834,
            "test": [
             0.03515637388
            ]
           },
           {
            "iteration": 123,
            "learn": [
             0.03111979989
            ],
            "passed_time": 1765.830925,
            "remaining_time": 5354.455063,
            "test": [
             0.03502189456
            ]
           },
           {
            "iteration": 124,
            "learn": [
             0.03102478045
            ],
            "passed_time": 1781.280601,
            "remaining_time": 5343.841804,
            "test": [
             0.03497559855
            ]
           },
           {
            "iteration": 125,
            "learn": [
             0.03086144071
            ],
            "passed_time": 1795.374293,
            "remaining_time": 5329.126869,
            "test": [
             0.03485759513
            ]
           },
           {
            "iteration": 126,
            "learn": [
             0.03077043383
            ],
            "passed_time": 1811.440926,
            "remaining_time": 5320.216264,
            "test": [
             0.03479111051
            ]
           },
           {
            "iteration": 127,
            "learn": [
             0.03066537516
            ],
            "passed_time": 1826.052064,
            "remaining_time": 5306.963812,
            "test": [
             0.03470868949
            ]
           },
           {
            "iteration": 128,
            "learn": [
             0.03052674059
            ],
            "passed_time": 1840.338996,
            "remaining_time": 5292.757888,
            "test": [
             0.03459308162
            ]
           },
           {
            "iteration": 129,
            "learn": [
             0.03038773778
            ],
            "passed_time": 1855.024999,
            "remaining_time": 5279.686535,
            "test": [
             0.03446120526
            ]
           },
           {
            "iteration": 130,
            "learn": [
             0.03024714631
            ],
            "passed_time": 1869.566025,
            "remaining_time": 5266.182162,
            "test": [
             0.03434100584
            ]
           },
           {
            "iteration": 131,
            "learn": [
             0.03021714899
            ],
            "passed_time": 1883.441491,
            "remaining_time": 5250.806581,
            "test": [
             0.03432799853
            ]
           },
           {
            "iteration": 132,
            "learn": [
             0.03009767823
            ],
            "passed_time": 1897.622793,
            "remaining_time": 5236.297483,
            "test": [
             0.03422838175
            ]
           },
           {
            "iteration": 133,
            "learn": [
             0.02998780702
            ],
            "passed_time": 1911.353495,
            "remaining_time": 5220.56253,
            "test": [
             0.03416548357
            ]
           },
           {
            "iteration": 134,
            "learn": [
             0.02981760728
            ],
            "passed_time": 1925.223318,
            "remaining_time": 5205.233415,
            "test": [
             0.03401411085
            ]
           },
           {
            "iteration": 135,
            "learn": [
             0.02970085498
            ],
            "passed_time": 1940.559473,
            "remaining_time": 5193.850355,
            "test": [
             0.03390432457
            ]
           },
           {
            "iteration": 136,
            "learn": [
             0.02955083441
            ],
            "passed_time": 1953.865756,
            "remaining_time": 5177.031164,
            "test": [
             0.03382197456
            ]
           },
           {
            "iteration": 137,
            "learn": [
             0.0294494657
            ],
            "passed_time": 1967.806336,
            "remaining_time": 5161.926767,
            "test": [
             0.03375397773
            ]
           },
           {
            "iteration": 138,
            "learn": [
             0.02936399975
            ],
            "passed_time": 1981.804457,
            "remaining_time": 5146.988553,
            "test": [
             0.03369790167
            ]
           },
           {
            "iteration": 139,
            "learn": [
             0.0292893217
            ],
            "passed_time": 1995.387288,
            "remaining_time": 5130.995884,
            "test": [
             0.03363804294
            ]
           },
           {
            "iteration": 140,
            "learn": [
             0.02927074767
            ],
            "passed_time": 2009.495405,
            "remaining_time": 5116.374826,
            "test": [
             0.03363496772
            ]
           },
           {
            "iteration": 141,
            "learn": [
             0.02915113541
            ],
            "passed_time": 2025.26646,
            "remaining_time": 5105.953469,
            "test": [
             0.03353964402
            ]
           },
           {
            "iteration": 142,
            "learn": [
             0.02905575166
            ],
            "passed_time": 2039.061277,
            "remaining_time": 5090.523608,
            "test": [
             0.03347063811
            ]
           },
           {
            "iteration": 143,
            "learn": [
             0.0289537572
            ],
            "passed_time": 2052.603496,
            "remaining_time": 5074.491977,
            "test": [
             0.03341888125
            ]
           },
           {
            "iteration": 144,
            "learn": [
             0.02884547185
            ],
            "passed_time": 2066.354093,
            "remaining_time": 5059.004849,
            "test": [
             0.03334521795
            ]
           },
           {
            "iteration": 145,
            "learn": [
             0.02874224428
            ],
            "passed_time": 2079.965342,
            "remaining_time": 5043.203638,
            "test": [
             0.03326459741
            ]
           },
           {
            "iteration": 146,
            "learn": [
             0.02864234931
            ],
            "passed_time": 2093.863565,
            "remaining_time": 5028.121349,
            "test": [
             0.03316711621
            ]
           },
           {
            "iteration": 147,
            "learn": [
             0.02853163237
            ],
            "passed_time": 2109.443462,
            "remaining_time": 5017.05472,
            "test": [
             0.03308652579
            ]
           },
           {
            "iteration": 148,
            "learn": [
             0.0284396523
            ],
            "passed_time": 2123.142386,
            "remaining_time": 5001.496492,
            "test": [
             0.03301581021
            ]
           },
           {
            "iteration": 149,
            "learn": [
             0.02837356076
            ],
            "passed_time": 2136.790573,
            "remaining_time": 4985.844669,
            "test": [
             0.03296063698
            ]
           },
           {
            "iteration": 150,
            "learn": [
             0.02824154916
            ],
            "passed_time": 2150.563017,
            "remaining_time": 4970.506576,
            "test": [
             0.03286758512
            ]
           },
           {
            "iteration": 151,
            "learn": [
             0.02810944258
            ],
            "passed_time": 2163.780629,
            "remaining_time": 4953.918809,
            "test": [
             0.0327798669
            ]
           },
           {
            "iteration": 152,
            "learn": [
             0.0280193872
            ],
            "passed_time": 2177.239452,
            "remaining_time": 4937.922157,
            "test": [
             0.03271266234
            ]
           },
           {
            "iteration": 153,
            "learn": [
             0.02791738062
            ],
            "passed_time": 2193.084086,
            "remaining_time": 4927.31879,
            "test": [
             0.03264943765
            ]
           },
           {
            "iteration": 154,
            "learn": [
             0.02783539154
            ],
            "passed_time": 2206.858007,
            "remaining_time": 4912.038789,
            "test": [
             0.03257706369
            ]
           },
           {
            "iteration": 155,
            "learn": [
             0.02773808194
            ],
            "passed_time": 2220.668424,
            "remaining_time": 4896.858576,
            "test": [
             0.03252327253
            ]
           },
           {
            "iteration": 156,
            "learn": [
             0.02764565306
            ],
            "passed_time": 2234.1366,
            "remaining_time": 4880.948112,
            "test": [
             0.03246453976
            ]
           },
           {
            "iteration": 157,
            "learn": [
             0.02750345641
            ],
            "passed_time": 2247.96388,
            "remaining_time": 4865.845868,
            "test": [
             0.032350554
            ]
           },
           {
            "iteration": 158,
            "learn": [
             0.02740481872
            ],
            "passed_time": 2262.057474,
            "remaining_time": 4851.33081,
            "test": [
             0.03229894855
            ]
           },
           {
            "iteration": 159,
            "learn": [
             0.02728810826
            ],
            "passed_time": 2277.436926,
            "remaining_time": 4839.553469,
            "test": [
             0.03216919514
            ]
           },
           {
            "iteration": 160,
            "learn": [
             0.02713163053
            ],
            "passed_time": 2291.025764,
            "remaining_time": 4823.961081,
            "test": [
             0.03204415783
            ]
           },
           {
            "iteration": 161,
            "learn": [
             0.02703326681
            ],
            "passed_time": 2304.899203,
            "remaining_time": 4808.987226,
            "test": [
             0.03193404713
            ]
           },
           {
            "iteration": 162,
            "learn": [
             0.02693234569
            ],
            "passed_time": 2318.760005,
            "remaining_time": 4794.000746,
            "test": [
             0.03188035487
            ]
           },
           {
            "iteration": 163,
            "learn": [
             0.02684851743
            ],
            "passed_time": 2332.704624,
            "remaining_time": 4779.199718,
            "test": [
             0.0318246835
            ]
           },
           {
            "iteration": 164,
            "learn": [
             0.02677770151
            ],
            "passed_time": 2346.371703,
            "remaining_time": 4763.845578,
            "test": [
             0.03178410051
            ]
           },
           {
            "iteration": 165,
            "learn": [
             0.02676520454
            ],
            "passed_time": 2362.261669,
            "remaining_time": 4752.984323,
            "test": [
             0.03178353131
            ]
           },
           {
            "iteration": 166,
            "learn": [
             0.0266881815
            ],
            "passed_time": 2376.255247,
            "remaining_time": 4738.281421,
            "test": [
             0.03173115432
            ]
           },
           {
            "iteration": 167,
            "learn": [
             0.02662260974
            ],
            "passed_time": 2390.488803,
            "remaining_time": 4724.061206,
            "test": [
             0.03169198875
            ]
           },
           {
            "iteration": 168,
            "learn": [
             0.02656755732
            ],
            "passed_time": 2404.53351,
            "remaining_time": 4709.470958,
            "test": [
             0.0316596022
            ]
           },
           {
            "iteration": 169,
            "learn": [
             0.02649957465
            ],
            "passed_time": 2418.462693,
            "remaining_time": 4694.662876,
            "test": [
             0.03163083323
            ]
           },
           {
            "iteration": 170,
            "learn": [
             0.02644806952
            ],
            "passed_time": 2432.562565,
            "remaining_time": 4680.193474,
            "test": [
             0.03159698411
            ]
           },
           {
            "iteration": 171,
            "learn": [
             0.0263462627
            ],
            "passed_time": 2448.794071,
            "remaining_time": 4669.793345,
            "test": [
             0.03152911719
            ]
           },
           {
            "iteration": 172,
            "learn": [
             0.02630465229
            ],
            "passed_time": 2462.813031,
            "remaining_time": 4655.143706,
            "test": [
             0.03150578661
            ]
           },
           {
            "iteration": 173,
            "learn": [
             0.02621623279
            ],
            "passed_time": 2476.579899,
            "remaining_time": 4640.029005,
            "test": [
             0.03143677489
            ]
           },
           {
            "iteration": 174,
            "learn": [
             0.02614057268
            ],
            "passed_time": 2490.397279,
            "remaining_time": 4625.023517,
            "test": [
             0.03138367997
            ]
           },
           {
            "iteration": 175,
            "learn": [
             0.02605587092
            ],
            "passed_time": 2504.245837,
            "remaining_time": 4610.088928,
            "test": [
             0.03132732969
            ]
           },
           {
            "iteration": 176,
            "learn": [
             0.02594673525
            ],
            "passed_time": 2518.221999,
            "remaining_time": 4595.399467,
            "test": [
             0.03125520295
            ]
           },
           {
            "iteration": 177,
            "learn": [
             0.025936439
            ],
            "passed_time": 2533.874861,
            "remaining_time": 4583.751153,
            "test": [
             0.03125426788
            ]
           },
           {
            "iteration": 178,
            "learn": [
             0.02580366843
            ],
            "passed_time": 2547.247583,
            "remaining_time": 4567.96913,
            "test": [
             0.03112293853
            ]
           },
           {
            "iteration": 179,
            "learn": [
             0.02574365018
            ],
            "passed_time": 2561.360702,
            "remaining_time": 4553.530136,
            "test": [
             0.0310794587
            ]
           },
           {
            "iteration": 180,
            "learn": [
             0.02566454055
            ],
            "passed_time": 2575.043462,
            "remaining_time": 4538.336267,
            "test": [
             0.03103486728
            ]
           },
           {
            "iteration": 181,
            "learn": [
             0.02560423263
            ],
            "passed_time": 2588.544284,
            "remaining_time": 4522.841111,
            "test": [
             0.03098573032
            ]
           },
           {
            "iteration": 182,
            "learn": [
             0.02556510432
            ],
            "passed_time": 2602.148434,
            "remaining_time": 4507.546741,
            "test": [
             0.03095408973
            ]
           },
           {
            "iteration": 183,
            "learn": [
             0.02543633811
            ],
            "passed_time": 2618.224998,
            "remaining_time": 4496.516844,
            "test": [
             0.03086522463
            ]
           },
           {
            "iteration": 184,
            "learn": [
             0.02537122595
            ],
            "passed_time": 2632.272486,
            "remaining_time": 4481.977477,
            "test": [
             0.03083225602
            ]
           },
           {
            "iteration": 185,
            "learn": [
             0.02536033091
            ],
            "passed_time": 2646.065323,
            "remaining_time": 4467.013502,
            "test": [
             0.0308158798
            ]
           },
           {
            "iteration": 186,
            "learn": [
             0.02529758093
            ],
            "passed_time": 2659.870405,
            "remaining_time": 4452.082549,
            "test": [
             0.03077241339
            ]
           },
           {
            "iteration": 187,
            "learn": [
             0.02520889845
            ],
            "passed_time": 2673.798955,
            "remaining_time": 4437.368479,
            "test": [
             0.03070043122
            ]
           },
           {
            "iteration": 188,
            "learn": [
             0.02513510545
            ],
            "passed_time": 2687.712125,
            "remaining_time": 4422.637411,
            "test": [
             0.03064833019
            ]
           },
           {
            "iteration": 189,
            "learn": [
             0.02510629965
            ],
            "passed_time": 2703.028793,
            "remaining_time": 4410.204872,
            "test": [
             0.03064279837
            ]
           },
           {
            "iteration": 190,
            "learn": [
             0.02503923881
            ],
            "passed_time": 2716.279805,
            "remaining_time": 4394.400314,
            "test": [
             0.03058669885
            ]
           },
           {
            "iteration": 191,
            "learn": [
             0.02497430475
            ],
            "passed_time": 2729.960728,
            "remaining_time": 4379.312001,
            "test": [
             0.03055764983
            ]
           },
           {
            "iteration": 192,
            "learn": [
             0.02496568637
            ],
            "passed_time": 2743.950295,
            "remaining_time": 4364.729226,
            "test": [
             0.03055227376
            ]
           },
           {
            "iteration": 193,
            "learn": [
             0.02490016631
            ],
            "passed_time": 2757.850632,
            "remaining_time": 4350.011822,
            "test": [
             0.03049439648
            ]
           },
           {
            "iteration": 194,
            "learn": [
             0.02483186447
            ],
            "passed_time": 2771.531397,
            "remaining_time": 4334.959365,
            "test": [
             0.03045524039
            ]
           },
           {
            "iteration": 195,
            "learn": [
             0.02477415436
            ],
            "passed_time": 2787.187293,
            "remaining_time": 4322.984372,
            "test": [
             0.03041613436
            ]
           },
           {
            "iteration": 196,
            "learn": [
             0.02469104912
            ],
            "passed_time": 2801.001225,
            "remaining_time": 4308.13894,
            "test": [
             0.03033986032
            ]
           },
           {
            "iteration": 197,
            "learn": [
             0.02466769448
            ],
            "passed_time": 2814.973111,
            "remaining_time": 4293.544846,
            "test": [
             0.03033172058
            ]
           },
           {
            "iteration": 198,
            "learn": [
             0.02462165275
            ],
            "passed_time": 2828.872161,
            "remaining_time": 4278.846836,
            "test": [
             0.03030560042
            ]
           },
           {
            "iteration": 199,
            "learn": [
             0.02458127296
            ],
            "passed_time": 2842.529885,
            "remaining_time": 4263.794827,
            "test": [
             0.03027267966
            ]
           },
           {
            "iteration": 200,
            "learn": [
             0.02453011216
            ],
            "passed_time": 2856.445322,
            "remaining_time": 4249.140055,
            "test": [
             0.03023198968
            ]
           },
           {
            "iteration": 201,
            "learn": [
             0.0244610327
            ],
            "passed_time": 2872.685559,
            "remaining_time": 4237.92226,
            "test": [
             0.03017868763
            ]
           },
           {
            "iteration": 202,
            "learn": [
             0.02440980518
            ],
            "passed_time": 2885.925893,
            "remaining_time": 4222.265962,
            "test": [
             0.03014335396
            ]
           },
           {
            "iteration": 203,
            "learn": [
             0.02431715125
            ],
            "passed_time": 2899.333996,
            "remaining_time": 4206.876779,
            "test": [
             0.03004182979
            ]
           },
           {
            "iteration": 204,
            "learn": [
             0.0242521955
            ],
            "passed_time": 2913.073815,
            "remaining_time": 4191.98427,
            "test": [
             0.02998355611
            ]
           },
           {
            "iteration": 205,
            "learn": [
             0.02421593167
            ],
            "passed_time": 2926.755413,
            "remaining_time": 4177.019861,
            "test": [
             0.02995338785
            ]
           },
           {
            "iteration": 206,
            "learn": [
             0.02415027738
            ],
            "passed_time": 2940.71036,
            "remaining_time": 4162.454761,
            "test": [
             0.02994136749
            ]
           },
           {
            "iteration": 207,
            "learn": [
             0.02408559416
            ],
            "passed_time": 2956.283732,
            "remaining_time": 4150.167547,
            "test": [
             0.02991363243
            ]
           },
           {
            "iteration": 208,
            "learn": [
             0.0240801441
            ],
            "passed_time": 2969.640246,
            "remaining_time": 4134.762256,
            "test": [
             0.02991343154
            ]
           },
           {
            "iteration": 209,
            "learn": [
             0.02401666823
            ],
            "passed_time": 2983.326644,
            "remaining_time": 4119.832032,
            "test": [
             0.02986433489
            ]
           },
           {
            "iteration": 210,
            "learn": [
             0.02396950348
            ],
            "passed_time": 2998.646438,
            "remaining_time": 4107.150809,
            "test": [
             0.02983821878
            ]
           },
           {
            "iteration": 211,
            "learn": [
             0.02391691642
            ],
            "passed_time": 3012.103831,
            "remaining_time": 4091.914638,
            "test": [
             0.02981133289
            ]
           },
           {
            "iteration": 212,
            "learn": [
             0.02391034269
            ],
            "passed_time": 3026.135997,
            "remaining_time": 4077.469629,
            "test": [
             0.02981521955
            ]
           },
           {
            "iteration": 213,
            "learn": [
             0.02382911516
            ],
            "passed_time": 3042.611752,
            "remaining_time": 4066.294211,
            "test": [
             0.0297587701
            ]
           },
           {
            "iteration": 214,
            "learn": [
             0.0237932405
            ],
            "passed_time": 3056.986664,
            "remaining_time": 4052.284648,
            "test": [
             0.02974734665
            ]
           },
           {
            "iteration": 215,
            "learn": [
             0.02372975232
            ],
            "passed_time": 3070.571326,
            "remaining_time": 4037.232669,
            "test": [
             0.02969612703
            ]
           },
           {
            "iteration": 216,
            "learn": [
             0.02371748884
            ],
            "passed_time": 3084.275921,
            "remaining_time": 4022.350625,
            "test": [
             0.02969076496
            ]
           },
           {
            "iteration": 217,
            "learn": [
             0.02368240538
            ],
            "passed_time": 3097.940752,
            "remaining_time": 4007.427945,
            "test": [
             0.02966887747
            ]
           },
           {
            "iteration": 218,
            "learn": [
             0.02367799869
            ],
            "passed_time": 3112.55708,
            "remaining_time": 3993.737624,
            "test": [
             0.02966875139
            ]
           },
           {
            "iteration": 219,
            "learn": [
             0.02362186038
            ],
            "passed_time": 3127.526927,
            "remaining_time": 3980.488816,
            "test": [
             0.0296495972
            ]
           },
           {
            "iteration": 220,
            "learn": [
             0.0235612998
            ],
            "passed_time": 3140.947721,
            "remaining_time": 3965.268843,
            "test": [
             0.02961328527
            ]
           },
           {
            "iteration": 221,
            "learn": [
             0.02351726212
            ],
            "passed_time": 3154.260832,
            "remaining_time": 3949.930231,
            "test": [
             0.02959302853
            ]
           },
           {
            "iteration": 222,
            "learn": [
             0.02350866427
            ],
            "passed_time": 3168.106208,
            "remaining_time": 3935.27094,
            "test": [
             0.02959282337
            ]
           },
           {
            "iteration": 223,
            "learn": [
             0.02345261819
            ],
            "passed_time": 3181.935214,
            "remaining_time": 3920.598746,
            "test": [
             0.02955779194
            ]
           },
           {
            "iteration": 224,
            "learn": [
             0.0233843738
            ],
            "passed_time": 3196.063043,
            "remaining_time": 3906.299275,
            "test": [
             0.0295198723
            ]
           },
           {
            "iteration": 225,
            "learn": [
             0.02336907555
            ],
            "passed_time": 3212.144647,
            "remaining_time": 3894.370059,
            "test": [
             0.02951144361
            ]
           },
           {
            "iteration": 226,
            "learn": [
             0.02332265058
            ],
            "passed_time": 3225.575317,
            "remaining_time": 3879.21613,
            "test": [
             0.0294786818
            ]
           },
           {
            "iteration": 227,
            "learn": [
             0.02323339678
            ],
            "passed_time": 3239.38424,
            "remaining_time": 3864.528567,
            "test": [
             0.0294270531
            ]
           },
           {
            "iteration": 228,
            "learn": [
             0.02319009011
            ],
            "passed_time": 3253.189031,
            "remaining_time": 3849.843787,
            "test": [
             0.02939048156
            ]
           },
           {
            "iteration": 229,
            "learn": [
             0.02315547043
            ],
            "passed_time": 3267.190439,
            "remaining_time": 3835.397472,
            "test": [
             0.02936274047
            ]
           },
           {
            "iteration": 230,
            "learn": [
             0.02309393871
            ],
            "passed_time": 3281.367755,
            "remaining_time": 3821.159853,
            "test": [
             0.02932277287
            ]
           },
           {
            "iteration": 231,
            "learn": [
             0.02303050637
            ],
            "passed_time": 3297.299663,
            "remaining_time": 3808.949611,
            "test": [
             0.02927779061
            ]
           },
           {
            "iteration": 232,
            "learn": [
             0.02297536821
            ],
            "passed_time": 3310.965445,
            "remaining_time": 3794.110617,
            "test": [
             0.02925727332
            ]
           },
           {
            "iteration": 233,
            "learn": [
             0.02292648543
            ],
            "passed_time": 3324.741319,
            "remaining_time": 3779.406799,
            "test": [
             0.02921572985
            ]
           },
           {
            "iteration": 234,
            "learn": [
             0.02288989448
            ],
            "passed_time": 3338.518529,
            "remaining_time": 3764.712384,
            "test": [
             0.02918387276
            ]
           },
           {
            "iteration": 235,
            "learn": [
             0.02279292319
            ],
            "passed_time": 3352.581039,
            "remaining_time": 3750.344891,
            "test": [
             0.02909884399
            ]
           },
           {
            "iteration": 236,
            "learn": [
             0.02278650984
            ],
            "passed_time": 3367.308334,
            "remaining_time": 3736.717687,
            "test": [
             0.02910300272
            ]
           },
           {
            "iteration": 237,
            "learn": [
             0.02274441943
            ],
            "passed_time": 3382.120187,
            "remaining_time": 3723.174324,
            "test": [
             0.02907419676
            ]
           },
           {
            "iteration": 238,
            "learn": [
             0.02267755224
            ],
            "passed_time": 3395.980305,
            "remaining_time": 3708.581002,
            "test": [
             0.02903059737
            ]
           },
           {
            "iteration": 239,
            "learn": [
             0.02267144575
            ],
            "passed_time": 3410.205141,
            "remaining_time": 3694.388903,
            "test": [
             0.02903153533
            ]
           },
           {
            "iteration": 240,
            "learn": [
             0.02262854977
            ],
            "passed_time": 3424.165673,
            "remaining_time": 3679.912486,
            "test": [
             0.02901037131
            ]
           },
           {
            "iteration": 241,
            "learn": [
             0.02256348192
            ],
            "passed_time": 3437.817219,
            "remaining_time": 3665.11092,
            "test": [
             0.02896874947
            ]
           },
           {
            "iteration": 242,
            "learn": [
             0.02251917871
            ],
            "passed_time": 3453.274559,
            "remaining_time": 3652.228648,
            "test": [
             0.02893855324
            ]
           },
           {
            "iteration": 243,
            "learn": [
             0.02242719518
            ],
            "passed_time": 3467.428911,
            "remaining_time": 3637.958202,
            "test": [
             0.02886716677
            ]
           },
           {
            "iteration": 244,
            "learn": [
             0.0223787125
            ],
            "passed_time": 3481.5328,
            "remaining_time": 3623.636179,
            "test": [
             0.02883952151
            ]
           },
           {
            "iteration": 245,
            "learn": [
             0.02232513823
            ],
            "passed_time": 3495.534008,
            "remaining_time": 3609.20991,
            "test": [
             0.02879453204
            ]
           },
           {
            "iteration": 246,
            "learn": [
             0.02227529927
            ],
            "passed_time": 3509.130753,
            "remaining_time": 3594.372795,
            "test": [
             0.0287654397
            ]
           },
           {
            "iteration": 247,
            "learn": [
             0.02227098952
            ],
            "passed_time": 3522.78174,
            "remaining_time": 3579.600801,
            "test": [
             0.02876494498
            ]
           },
           {
            "iteration": 248,
            "learn": [
             0.0222572731
            ],
            "passed_time": 3538.775957,
            "remaining_time": 3567.19986,
            "test": [
             0.02876133114
            ]
           },
           {
            "iteration": 249,
            "learn": [
             0.02220972521
            ],
            "passed_time": 3552.636769,
            "remaining_time": 3552.636769,
            "test": [
             0.02872022278
            ]
           },
           {
            "iteration": 250,
            "learn": [
             0.02215066948
            ],
            "passed_time": 3566.004203,
            "remaining_time": 3537.589827,
            "test": [
             0.02869297712
            ]
           },
           {
            "iteration": 251,
            "learn": [
             0.02210424801
            ],
            "passed_time": 3579.434762,
            "remaining_time": 3522.618338,
            "test": [
             0.02866127921
            ]
           },
           {
            "iteration": 252,
            "learn": [
             0.02209537874
            ],
            "passed_time": 3593.235367,
            "remaining_time": 3508.020299,
            "test": [
             0.02866082263
            ]
           },
           {
            "iteration": 253,
            "learn": [
             0.0220375406
            ],
            "passed_time": 3607.195612,
            "remaining_time": 3493.583152,
            "test": [
             0.02863941569
            ]
           },
           {
            "iteration": 254,
            "learn": [
             0.0219954765
            ],
            "passed_time": 3622.054226,
            "remaining_time": 3480.012884,
            "test": [
             0.02861869578
            ]
           },
           {
            "iteration": 255,
            "learn": [
             0.02193124498
            ],
            "passed_time": 3636.867238,
            "remaining_time": 3466.389087,
            "test": [
             0.02856626133
            ]
           },
           {
            "iteration": 256,
            "learn": [
             0.021903408
            ],
            "passed_time": 3650.71161,
            "remaining_time": 3451.840161,
            "test": [
             0.02854824577
            ]
           },
           {
            "iteration": 257,
            "learn": [
             0.02183705653
            ],
            "passed_time": 3664.58612,
            "remaining_time": 3437.324965,
            "test": [
             0.02849581101
            ]
           },
           {
            "iteration": 258,
            "learn": [
             0.02182194652
            ],
            "passed_time": 3678.6007,
            "remaining_time": 3422.945052,
            "test": [
             0.0284834245
            ]
           },
           {
            "iteration": 259,
            "learn": [
             0.02181796384
            ],
            "passed_time": 3692.341658,
            "remaining_time": 3408.315377,
            "test": [
             0.02848334758
            ]
           },
           {
            "iteration": 260,
            "learn": [
             0.02178810875
            ],
            "passed_time": 3707.313933,
            "remaining_time": 3394.820038,
            "test": [
             0.02846341148
            ]
           },
           {
            "iteration": 261,
            "learn": [
             0.02178245552
            ],
            "passed_time": 3721.880155,
            "remaining_time": 3380.944569,
            "test": [
             0.02846813735
            ]
           },
           {
            "iteration": 262,
            "learn": [
             0.021739828
            ],
            "passed_time": 3735.494768,
            "remaining_time": 3366.206312,
            "test": [
             0.02844903105
            ]
           },
           {
            "iteration": 263,
            "learn": [
             0.02169176028
            ],
            "passed_time": 3749.327138,
            "remaining_time": 3351.67123,
            "test": [
             0.02842061597
            ]
           },
           {
            "iteration": 264,
            "learn": [
             0.02165170299
            ],
            "passed_time": 3763.00926,
            "remaining_time": 3337.008212,
            "test": [
             0.02838371674
            ]
           },
           {
            "iteration": 265,
            "learn": [
             0.02158220606
            ],
            "passed_time": 3776.871551,
            "remaining_time": 3322.511064,
            "test": [
             0.02834363781
            ]
           },
           {
            "iteration": 266,
            "learn": [
             0.02153449029
            ],
            "passed_time": 3791.93227,
            "remaining_time": 3309.064491,
            "test": [
             0.0283153294
            ]
           },
           {
            "iteration": 267,
            "learn": [
             0.02152426242
            ],
            "passed_time": 3806.868627,
            "remaining_time": 3295.498214,
            "test": [
             0.02831208564
            ]
           },
           {
            "iteration": 268,
            "learn": [
             0.02146374678
            ],
            "passed_time": 3820.743712,
            "remaining_time": 3281.0104,
            "test": [
             0.02826724831
            ]
           },
           {
            "iteration": 269,
            "learn": [
             0.02143706437
            ],
            "passed_time": 3834.759391,
            "remaining_time": 3266.646889,
            "test": [
             0.02823869433
            ]
           },
           {
            "iteration": 270,
            "learn": [
             0.02138354075
            ],
            "passed_time": 3849.084112,
            "remaining_time": 3252.547091,
            "test": [
             0.02819864265
            ]
           },
           {
            "iteration": 271,
            "learn": [
             0.02134952131
            ],
            "passed_time": 3863.054209,
            "remaining_time": 3238.148381,
            "test": [
             0.02817409685
            ]
           },
           {
            "iteration": 272,
            "learn": [
             0.02132055867
            ],
            "passed_time": 3878.747026,
            "remaining_time": 3225.185256,
            "test": [
             0.02814976736
            ]
           },
           {
            "iteration": 273,
            "learn": [
             0.02128387176
            ],
            "passed_time": 3892.927816,
            "remaining_time": 3210.95506,
            "test": [
             0.02813631177
            ]
           },
           {
            "iteration": 274,
            "learn": [
             0.02123529137
            ],
            "passed_time": 3906.613326,
            "remaining_time": 3196.319994,
            "test": [
             0.02809198697
            ]
           },
           {
            "iteration": 275,
            "learn": [
             0.02116579219
            ],
            "passed_time": 3920.657756,
            "remaining_time": 3181.983106,
            "test": [
             0.02803618242
            ]
           },
           {
            "iteration": 276,
            "learn": [
             0.02115976128
            ],
            "passed_time": 3934.635445,
            "remaining_time": 3167.5946,
            "test": [
             0.02803371979
            ]
           },
           {
            "iteration": 277,
            "learn": [
             0.0211560038
            ],
            "passed_time": 3948.453682,
            "remaining_time": 3153.081717,
            "test": [
             0.0280335379
            ]
           },
           {
            "iteration": 278,
            "learn": [
             0.02110196197
            ],
            "passed_time": 3964.147372,
            "remaining_time": 3140.059388,
            "test": [
             0.02798818125
            ]
           },
           {
            "iteration": 279,
            "learn": [
             0.02105579331
            ],
            "passed_time": 3978.266243,
            "remaining_time": 3125.78062,
            "test": [
             0.02796199697
            ]
           },
           {
            "iteration": 280,
            "learn": [
             0.02101664349
            ],
            "passed_time": 3991.662256,
            "remaining_time": 3110.939623,
            "test": [
             0.02793286449
            ]
           },
           {
            "iteration": 281,
            "learn": [
             0.02095041092
            ],
            "passed_time": 4005.747477,
            "remaining_time": 3096.641667,
            "test": [
             0.02788905607
            ]
           },
           {
            "iteration": 282,
            "learn": [
             0.02093860803
            ],
            "passed_time": 4019.638446,
            "remaining_time": 3082.196265,
            "test": [
             0.02788268124
            ]
           },
           {
            "iteration": 283,
            "learn": [
             0.02089338305
            ],
            "passed_time": 4033.442122,
            "remaining_time": 3067.688374,
            "test": [
             0.02786818483
            ]
           },
           {
            "iteration": 284,
            "learn": [
             0.02088970008
            ],
            "passed_time": 4048.88855,
            "remaining_time": 3054.424696,
            "test": [
             0.02786814204
            ]
           },
           {
            "iteration": 285,
            "learn": [
             0.0208408477
            ],
            "passed_time": 4062.552282,
            "remaining_time": 3039.811847,
            "test": [
             0.02785494573
            ]
           },
           {
            "iteration": 286,
            "learn": [
             0.02080689396
            ],
            "passed_time": 4076.302534,
            "remaining_time": 3025.269825,
            "test": [
             0.02783391959
            ]
           },
           {
            "iteration": 287,
            "learn": [
             0.02077205118
            ],
            "passed_time": 4089.900971,
            "remaining_time": 3010.621548,
            "test": [
             0.02782351969
            ]
           },
           {
            "iteration": 288,
            "learn": [
             0.02072525288
            ],
            "passed_time": 4104.279864,
            "remaining_time": 2996.550351,
            "test": [
             0.02779610792
            ]
           },
           {
            "iteration": 289,
            "learn": [
             0.0207200532
            ],
            "passed_time": 4118.134915,
            "remaining_time": 2982.097697,
            "test": [
             0.02779653907
            ]
           },
           {
            "iteration": 290,
            "learn": [
             0.02067302211
            ],
            "passed_time": 4134.082603,
            "remaining_time": 2969.15211,
            "test": [
             0.02777631788
            ]
           },
           {
            "iteration": 291,
            "learn": [
             0.02062462017
            ],
            "passed_time": 4148.345751,
            "remaining_time": 2954.986014,
            "test": [
             0.02774425481
            ]
           },
           {
            "iteration": 292,
            "learn": [
             0.02062128626
            ],
            "passed_time": 4162.499586,
            "remaining_time": 2940.742028,
            "test": [
             0.02774419755
            ]
           },
           {
            "iteration": 293,
            "learn": [
             0.02056208886
            ],
            "passed_time": 4176.196837,
            "remaining_time": 2926.178736,
            "test": [
             0.02768864725
            ]
           },
           {
            "iteration": 294,
            "learn": [
             0.02049970203
            ],
            "passed_time": 4189.826301,
            "remaining_time": 2911.574209,
            "test": [
             0.02762525004
            ]
           },
           {
            "iteration": 295,
            "learn": [
             0.02046672461
            ],
            "passed_time": 4203.392573,
            "remaining_time": 2896.932719,
            "test": [
             0.0276118267
            ]
           },
           {
            "iteration": 296,
            "learn": [
             0.02042681887
            ],
            "passed_time": 4219.534364,
            "remaining_time": 2884.058841,
            "test": [
             0.02756744224
            ]
           },
           {
            "iteration": 297,
            "learn": [
             0.02040032287
            ],
            "passed_time": 4233.481433,
            "remaining_time": 2869.675334,
            "test": [
             0.02755109425
            ]
           },
           {
            "iteration": 298,
            "learn": [
             0.02038035333
            ],
            "passed_time": 4247.260733,
            "remaining_time": 2855.181964,
            "test": [
             0.02754292076
            ]
           },
           {
            "iteration": 299,
            "learn": [
             0.02035639068
            ],
            "passed_time": 4260.825429,
            "remaining_time": 2840.550286,
            "test": [
             0.02752046852
            ]
           },
           {
            "iteration": 300,
            "learn": [
             0.02032616603
            ],
            "passed_time": 4274.899774,
            "remaining_time": 2826.262641,
            "test": [
             0.02750189015
            ]
           },
           {
            "iteration": 301,
            "learn": [
             0.02028484374
            ],
            "passed_time": 4288.81985,
            "remaining_time": 2811.875266,
            "test": [
             0.02747732231
            ]
           },
           {
            "iteration": 302,
            "learn": [
             0.02025155468
            ],
            "passed_time": 4304.328848,
            "remaining_time": 2798.524036,
            "test": [
             0.02747096859
            ]
           },
           {
            "iteration": 303,
            "learn": [
             0.02024820257
            ],
            "passed_time": 4318.507366,
            "remaining_time": 2784.300802,
            "test": [
             0.02747107131
            ]
           },
           {
            "iteration": 304,
            "learn": [
             0.02020403079
            ],
            "passed_time": 4332.4301,
            "remaining_time": 2769.914326,
            "test": [
             0.02744284288
            ]
           },
           {
            "iteration": 305,
            "learn": [
             0.0201892905
            ],
            "passed_time": 4346.269757,
            "remaining_time": 2755.478212,
            "test": [
             0.02743028118
            ]
           },
           {
            "iteration": 306,
            "learn": [
             0.02018041642
            ],
            "passed_time": 4360.092639,
            "remaining_time": 2741.035438,
            "test": [
             0.02742758608
            ]
           },
           {
            "iteration": 307,
            "learn": [
             0.02008034256
            ],
            "passed_time": 4373.946724,
            "remaining_time": 2726.61614,
            "test": [
             0.02734858494
            ]
           },
           {
            "iteration": 308,
            "learn": [
             0.02004973377
            ],
            "passed_time": 4389.00275,
            "remaining_time": 2712.943447,
            "test": [
             0.02733038305
            ]
           },
           {
            "iteration": 309,
            "learn": [
             0.02004655476
            ],
            "passed_time": 4403.537619,
            "remaining_time": 2698.942412,
            "test": [
             0.02733032052
            ]
           },
           {
            "iteration": 310,
            "learn": [
             0.02004191375
            ],
            "passed_time": 4417.111922,
            "remaining_time": 2684.35419,
            "test": [
             0.02733069336
            ]
           },
           {
            "iteration": 311,
            "learn": [
             0.0200071861
            ],
            "passed_time": 4431.291389,
            "remaining_time": 2670.137119,
            "test": [
             0.02732506182
            ]
           },
           {
            "iteration": 312,
            "learn": [
             0.01997565037
            ],
            "passed_time": 4445.473497,
            "remaining_time": 2655.921865,
            "test": [
             0.02729788103
            ]
           },
           {
            "iteration": 313,
            "learn": [
             0.01994356069
            ],
            "passed_time": 4459.724304,
            "remaining_time": 2641.747518,
            "test": [
             0.02727911259
            ]
           },
           {
            "iteration": 314,
            "learn": [
             0.01991074537
            ],
            "passed_time": 4475.456654,
            "remaining_time": 2628.442797,
            "test": [
             0.0272529308
            ]
           },
           {
            "iteration": 315,
            "learn": [
             0.01989131269
            ],
            "passed_time": 4489.112873,
            "remaining_time": 2613.913825,
            "test": [
             0.02724134726
            ]
           },
           {
            "iteration": 316,
            "learn": [
             0.01987814825
            ],
            "passed_time": 4503.185705,
            "remaining_time": 2599.630864,
            "test": [
             0.02723264012
            ]
           },
           {
            "iteration": 317,
            "learn": [
             0.01987342175
            ],
            "passed_time": 4517.337773,
            "remaining_time": 2585.394574,
            "test": [
             0.02723418033
            ]
           },
           {
            "iteration": 318,
            "learn": [
             0.01984137136
            ],
            "passed_time": 4531.595244,
            "remaining_time": 2571.218618,
            "test": [
             0.02721355298
            ]
           },
           {
            "iteration": 319,
            "learn": [
             0.01983829741
            ],
            "passed_time": 4545.846754,
            "remaining_time": 2557.038799,
            "test": [
             0.02721111102
            ]
           },
           {
            "iteration": 320,
            "learn": [
             0.0197843877
            ],
            "passed_time": 4561.640015,
            "remaining_time": 2543.718264,
            "test": [
             0.02717524751
            ]
           },
           {
            "iteration": 321,
            "learn": [
             0.01977973337
            ],
            "passed_time": 4575.910426,
            "remaining_time": 2529.540546,
            "test": [
             0.02717535044
            ]
           },
           {
            "iteration": 322,
            "learn": [
             0.01977546765
            ],
            "passed_time": 4589.905704,
            "remaining_time": 2515.211485,
            "test": [
             0.02717985586
            ]
           },
           {
            "iteration": 323,
            "learn": [
             0.01977251237
            ],
            "passed_time": 4604.129166,
            "remaining_time": 2501.008436,
            "test": [
             0.02717995386
            ]
           },
           {
            "iteration": 324,
            "learn": [
             0.01974641522
            ],
            "passed_time": 4617.571879,
            "remaining_time": 2486.384858,
            "test": [
             0.0271690633
            ]
           },
           {
            "iteration": 325,
            "learn": [
             0.01973250271
            ],
            "passed_time": 4631.554604,
            "remaining_time": 2472.056752,
            "test": [
             0.02716545879
            ]
           },
           {
            "iteration": 326,
            "learn": [
             0.01969541757
            ],
            "passed_time": 4647.328681,
            "remaining_time": 2458.678476,
            "test": [
             0.02713882221
            ]
           },
           {
            "iteration": 327,
            "learn": [
             0.01967718503
            ],
            "passed_time": 4661.293873,
            "remaining_time": 2444.337031,
            "test": [
             0.02713287992
            ]
           },
           {
            "iteration": 328,
            "learn": [
             0.01966737732
            ],
            "passed_time": 4675.131312,
            "remaining_time": 2429.931472,
            "test": [
             0.02712490063
            ]
           },
           {
            "iteration": 329,
            "learn": [
             0.01963026812
            ],
            "passed_time": 4688.908808,
            "remaining_time": 2415.498477,
            "test": [
             0.02710017416
            ]
           },
           {
            "iteration": 330,
            "learn": [
             0.01962554419
            ],
            "passed_time": 4702.868375,
            "remaining_time": 2401.162403,
            "test": [
             0.027101001
            ]
           },
           {
            "iteration": 331,
            "learn": [
             0.01957936659
            ],
            "passed_time": 4716.962972,
            "remaining_time": 2386.896926,
            "test": [
             0.02706803018
            ]
           },
           {
            "iteration": 332,
            "learn": [
             0.01954898278
            ],
            "passed_time": 4732.612863,
            "remaining_time": 2373.412457,
            "test": [
             0.02705115497
            ]
           },
           {
            "iteration": 333,
            "learn": [
             0.01949681431
            ],
            "passed_time": 4746.63035,
            "remaining_time": 2359.103707,
            "test": [
             0.02700455257
            ]
           },
           {
            "iteration": 334,
            "learn": [
             0.01947506818
            ],
            "passed_time": 4760.753,
            "remaining_time": 2344.848492,
            "test": [
             0.02699790351
            ]
           },
           {
            "iteration": 335,
            "learn": [
             0.01942124137
            ],
            "passed_time": 4774.570743,
            "remaining_time": 2330.445244,
            "test": [
             0.02695371307
            ]
           },
           {
            "iteration": 336,
            "learn": [
             0.01936728567
            ],
            "passed_time": 4788.50063,
            "remaining_time": 2316.099711,
            "test": [
             0.0269253904
            ]
           },
           {
            "iteration": 337,
            "learn": [
             0.01934439654
            ],
            "passed_time": 4802.204087,
            "remaining_time": 2301.648113,
            "test": [
             0.02690325349
            ]
           },
           {
            "iteration": 338,
            "learn": [
             0.01931603838
            ],
            "passed_time": 4817.83531,
            "remaining_time": 2288.116475,
            "test": [
             0.02688784639
            ]
           },
           {
            "iteration": 339,
            "learn": [
             0.01931321102
            ],
            "passed_time": 4832.241732,
            "remaining_time": 2273.996109,
            "test": [
             0.02688822719
            ]
           },
           {
            "iteration": 340,
            "learn": [
             0.01927197966
            ],
            "passed_time": 4846.141449,
            "remaining_time": 2259.637802,
            "test": [
             0.02686819755
            ]
           },
           {
            "iteration": 341,
            "learn": [
             0.01925090867
            ],
            "passed_time": 4859.616466,
            "remaining_time": 2245.08597,
            "test": [
             0.02686667951
            ]
           },
           {
            "iteration": 342,
            "learn": [
             0.01921564297
            ],
            "passed_time": 4873.305368,
            "remaining_time": 2230.638317,
            "test": [
             0.02683561777
            ]
           },
           {
            "iteration": 343,
            "learn": [
             0.01921282605
            ],
            "passed_time": 4887.509354,
            "remaining_time": 2216.428661,
            "test": [
             0.02683591617
            ]
           },
           {
            "iteration": 344,
            "learn": [
             0.0191836428
            ],
            "passed_time": 4903.218153,
            "remaining_time": 2202.895112,
            "test": [
             0.02681401002
            ]
           },
           {
            "iteration": 345,
            "learn": [
             0.01914534561
            ],
            "passed_time": 4917.129377,
            "remaining_time": 2188.548913,
            "test": [
             0.02680027566
            ]
           },
           {
            "iteration": 346,
            "learn": [
             0.01909870672
            ],
            "passed_time": 4930.905278,
            "remaining_time": 2174.145555,
            "test": [
             0.02674843721
            ]
           },
           {
            "iteration": 347,
            "learn": [
             0.0190945323
            ],
            "passed_time": 4944.756995,
            "remaining_time": 2159.778918,
            "test": [
             0.02675007669
            ]
           },
           {
            "iteration": 348,
            "learn": [
             0.01905588286
            ],
            "passed_time": 4958.83613,
            "remaining_time": 2145.513626,
            "test": [
             0.02673372519
            ]
           },
           {
            "iteration": 349,
            "learn": [
             0.01902633441
            ],
            "passed_time": 4972.864279,
            "remaining_time": 2131.227548,
            "test": [
             0.02673219346
            ]
           },
           {
            "iteration": 350,
            "learn": [
             0.01900136344
            ],
            "passed_time": 4988.414591,
            "remaining_time": 2117.5891,
            "test": [
             0.02671903364
            ]
           },
           {
            "iteration": 351,
            "learn": [
             0.01896609333
            ],
            "passed_time": 5002.342674,
            "remaining_time": 2103.257715,
            "test": [
             0.02672188608
            ]
           },
           {
            "iteration": 352,
            "learn": [
             0.01896214652
            ],
            "passed_time": 5016.529361,
            "remaining_time": 2089.036306,
            "test": [
             0.02672267508
            ]
           },
           {
            "iteration": 353,
            "learn": [
             0.01893652226
            ],
            "passed_time": 5030.34065,
            "remaining_time": 2074.660268,
            "test": [
             0.02670438034
            ]
           },
           {
            "iteration": 354,
            "learn": [
             0.01891406382
            ],
            "passed_time": 5044.153959,
            "remaining_time": 2060.288237,
            "test": [
             0.02669790131
            ]
           },
           {
            "iteration": 355,
            "learn": [
             0.01887106619
            ],
            "passed_time": 5057.757147,
            "remaining_time": 2045.834351,
            "test": [
             0.02666340811
            ]
           },
           {
            "iteration": 356,
            "learn": [
             0.0188460513
            ],
            "passed_time": 5073.695546,
            "remaining_time": 2032.320625,
            "test": [
             0.02664742018
            ]
           },
           {
            "iteration": 357,
            "learn": [
             0.01883461756
            ],
            "passed_time": 5087.945168,
            "remaining_time": 2018.123502,
            "test": [
             0.02664167526
            ]
           },
           {
            "iteration": 358,
            "learn": [
             0.01879776181
            ],
            "passed_time": 5101.377599,
            "remaining_time": 2003.605129,
            "test": [
             0.02661894833
            ]
           },
           {
            "iteration": 359,
            "learn": [
             0.01877158239
            ],
            "passed_time": 5115.535981,
            "remaining_time": 1989.375104,
            "test": [
             0.02660193793
            ]
           },
           {
            "iteration": 360,
            "learn": [
             0.0187283528
            ],
            "passed_time": 5129.312236,
            "remaining_time": 1974.99834,
            "test": [
             0.02657164629
            ]
           },
           {
            "iteration": 361,
            "learn": [
             0.01869363746
            ],
            "passed_time": 5143.422643,
            "remaining_time": 1960.752278,
            "test": [
             0.02653678008
            ]
           },
           {
            "iteration": 362,
            "learn": [
             0.01869102028
            ],
            "passed_time": 5159.024999,
            "remaining_time": 1947.070041,
            "test": [
             0.02653739354
            ]
           },
           {
            "iteration": 363,
            "learn": [
             0.01866099193
            ],
            "passed_time": 5172.948577,
            "remaining_time": 1932.750018,
            "test": [
             0.02652814484
            ]
           },
           {
            "iteration": 364,
            "learn": [
             0.0186570426
            ],
            "passed_time": 5187.193678,
            "remaining_time": 1918.551086,
            "test": [
             0.02652466931
            ]
           },
           {
            "iteration": 365,
            "learn": [
             0.01862904637
            ],
            "passed_time": 5201.154122,
            "remaining_time": 1904.247684,
            "test": [
             0.02651290274
            ]
           },
           {
            "iteration": 366,
            "learn": [
             0.01862176898
            ],
            "passed_time": 5215.176137,
            "remaining_time": 1889.968464,
            "test": [
             0.02651312605
            ]
           },
           {
            "iteration": 367,
            "learn": [
             0.01859814051
            ],
            "passed_time": 5228.772181,
            "remaining_time": 1875.537848,
            "test": [
             0.02649447023
            ]
           },
           {
            "iteration": 368,
            "learn": [
             0.01857570567
            ],
            "passed_time": 5244.198169,
            "remaining_time": 1861.761409,
            "test": [
             0.02647451303
            ]
           },
           {
            "iteration": 369,
            "learn": [
             0.01853943392
            ],
            "passed_time": 5258.554806,
            "remaining_time": 1847.600337,
            "test": [
             0.0264559598
            ]
           },
           {
            "iteration": 370,
            "learn": [
             0.01850371633
            ],
            "passed_time": 5274.691298,
            "remaining_time": 1834.057082,
            "test": [
             0.02643248539
            ]
           },
           {
            "iteration": 371,
            "learn": [
             0.01849281675
            ],
            "passed_time": 5288.757749,
            "remaining_time": 1819.787612,
            "test": [
             0.02642833314
            ]
           },
           {
            "iteration": 372,
            "learn": [
             0.01847413732
            ],
            "passed_time": 5302.329041,
            "remaining_time": 1805.350639,
            "test": [
             0.0264156398
            ]
           },
           {
            "iteration": 373,
            "learn": [
             0.01845147099
            ],
            "passed_time": 5316.653005,
            "remaining_time": 1791.171868,
            "test": [
             0.02640584398
            ]
           },
           {
            "iteration": 374,
            "learn": [
             0.01844899594
            ],
            "passed_time": 5332.654909,
            "remaining_time": 1777.551636,
            "test": [
             0.02640644661
            ]
           },
           {
            "iteration": 375,
            "learn": [
             0.01843054664
            ],
            "passed_time": 5346.818314,
            "remaining_time": 1763.312423,
            "test": [
             0.02640404571
            ]
           },
           {
            "iteration": 376,
            "learn": [
             0.01841171375
            ],
            "passed_time": 5360.839371,
            "remaining_time": 1749.027169,
            "test": [
             0.02639631174
            ]
           },
           {
            "iteration": 377,
            "learn": [
             0.01835689009
            ],
            "passed_time": 5375.135349,
            "remaining_time": 1734.832044,
            "test": [
             0.02636159878
            ]
           },
           {
            "iteration": 378,
            "learn": [
             0.01835383133
            ],
            "passed_time": 5389.677771,
            "remaining_time": 1720.715067,
            "test": [
             0.02636186928
            ]
           },
           {
            "iteration": 379,
            "learn": [
             0.01835134315
            ],
            "passed_time": 5403.544357,
            "remaining_time": 1706.382429,
            "test": [
             0.02636228179
            ]
           },
           {
            "iteration": 380,
            "learn": [
             0.01830831213
            ],
            "passed_time": 5419.480648,
            "remaining_time": 1692.69868,
            "test": [
             0.02634319099
            ]
           },
           {
            "iteration": 381,
            "learn": [
             0.01830578024
            ],
            "passed_time": 5433.589673,
            "remaining_time": 1678.438695,
            "test": [
             0.02634367942
            ]
           },
           {
            "iteration": 382,
            "learn": [
             0.01830207104
            ],
            "passed_time": 5447.933983,
            "remaining_time": 1664.251373,
            "test": [
             0.02634475253
            ]
           },
           {
            "iteration": 383,
            "learn": [
             0.01827913436
            ],
            "passed_time": 5462.023331,
            "remaining_time": 1649.986214,
            "test": [
             0.02632974152
            ]
           },
           {
            "iteration": 384,
            "learn": [
             0.01826492861
            ],
            "passed_time": 5475.928136,
            "remaining_time": 1635.666846,
            "test": [
             0.02632100889
            ]
           },
           {
            "iteration": 385,
            "learn": [
             0.01823741208
            ],
            "passed_time": 5489.955116,
            "remaining_time": 1621.385708,
            "test": [
             0.02629577624
            ]
           },
           {
            "iteration": 386,
            "learn": [
             0.01822059056
            ],
            "passed_time": 5505.965157,
            "remaining_time": 1607.684917,
            "test": [
             0.02628531476
            ]
           },
           {
            "iteration": 387,
            "learn": [
             0.01821429398
            ],
            "passed_time": 5519.737045,
            "remaining_time": 1593.326157,
            "test": [
             0.02628027408
            ]
           },
           {
            "iteration": 388,
            "learn": [
             0.01817875763
            ],
            "passed_time": 5533.317752,
            "remaining_time": 1578.915862,
            "test": [
             0.02624595597
            ]
           },
           {
            "iteration": 389,
            "learn": [
             0.01811919437
            ],
            "passed_time": 5546.966668,
            "remaining_time": 1564.52906,
            "test": [
             0.02621803444
            ]
           },
           {
            "iteration": 390,
            "learn": [
             0.01811664668
            ],
            "passed_time": 5561.199084,
            "remaining_time": 1550.308696,
            "test": [
             0.02621808531
            ]
           },
           {
            "iteration": 391,
            "learn": [
             0.01810779366
            ],
            "passed_time": 5574.997499,
            "remaining_time": 1535.968699,
            "test": [
             0.02621377622
            ]
           },
           {
            "iteration": 392,
            "learn": [
             0.0180836464
            ],
            "passed_time": 5590.600122,
            "remaining_time": 1522.122679,
            "test": [
             0.02620329788
            ]
           },
           {
            "iteration": 393,
            "learn": [
             0.01805982764
            ],
            "passed_time": 5604.500558,
            "remaining_time": 1507.809795,
            "test": [
             0.02619646342
            ]
           },
           {
            "iteration": 394,
            "learn": [
             0.01803160676
            ],
            "passed_time": 5618.411851,
            "remaining_time": 1493.501884,
            "test": [
             0.02618061955
            ]
           },
           {
            "iteration": 395,
            "learn": [
             0.0180068446
            ],
            "passed_time": 5632.780995,
            "remaining_time": 1479.316221,
            "test": [
             0.02617029354
            ]
           },
           {
            "iteration": 396,
            "learn": [
             0.01798428064
            ],
            "passed_time": 5646.828729,
            "remaining_time": 1465.046244,
            "test": [
             0.02615685643
            ]
           },
           {
            "iteration": 397,
            "learn": [
             0.01798074101
            ],
            "passed_time": 5660.220165,
            "remaining_time": 1450.609188,
            "test": [
             0.02616304787
            ]
           },
           {
            "iteration": 398,
            "learn": [
             0.01796255628
            ],
            "passed_time": 5676.200248,
            "remaining_time": 1436.832644,
            "test": [
             0.02615136645
            ]
           },
           {
            "iteration": 399,
            "learn": [
             0.01793266834
            ],
            "passed_time": 5690.457033,
            "remaining_time": 1422.614258,
            "test": [
             0.02614363097
            ]
           },
           {
            "iteration": 400,
            "learn": [
             0.01789185387
            ],
            "passed_time": 5704.356596,
            "remaining_time": 1408.307489,
            "test": [
             0.02611493325
            ]
           },
           {
            "iteration": 401,
            "learn": [
             0.01788182821
            ],
            "passed_time": 5718.049491,
            "remaining_time": 1393.952363,
            "test": [
             0.02611343565
            ]
           },
           {
            "iteration": 402,
            "learn": [
             0.01787947587
            ],
            "passed_time": 5732.073466,
            "remaining_time": 1379.680214,
            "test": [
             0.02611351605
            ]
           },
           {
            "iteration": 403,
            "learn": [
             0.01784236532
            ],
            "passed_time": 5746.009774,
            "remaining_time": 1365.388461,
            "test": [
             0.02608363361
            ]
           },
           {
            "iteration": 404,
            "learn": [
             0.01782539269
            ],
            "passed_time": 5761.996794,
            "remaining_time": 1351.579495,
            "test": [
             0.02608175694
            ]
           },
           {
            "iteration": 405,
            "learn": [
             0.01780258803
            ],
            "passed_time": 5775.841898,
            "remaining_time": 1337.263888,
            "test": [
             0.02606637412
            ]
           },
           {
            "iteration": 406,
            "learn": [
             0.01779592038
            ],
            "passed_time": 5789.485631,
            "remaining_time": 1322.904579,
            "test": [
             0.0260608176
            ]
           },
           {
            "iteration": 407,
            "learn": [
             0.01778222101
            ],
            "passed_time": 5803.734543,
            "remaining_time": 1308.68524,
            "test": [
             0.02605067757
            ]
           },
           {
            "iteration": 408,
            "learn": [
             0.01775019548
            ],
            "passed_time": 5818.049268,
            "remaining_time": 1294.4804,
            "test": [
             0.02603767132
            ]
           },
           {
            "iteration": 409,
            "learn": [
             0.01774663936
            ],
            "passed_time": 5831.532676,
            "remaining_time": 1280.092539,
            "test": [
             0.0260381817
            ]
           },
           {
            "iteration": 410,
            "learn": [
             0.01772787042
            ],
            "passed_time": 5847.105305,
            "remaining_time": 1266.161489,
            "test": [
             0.02603163575
            ]
           },
           {
            "iteration": 411,
            "learn": [
             0.01771640346
            ],
            "passed_time": 5861.063987,
            "remaining_time": 1251.877745,
            "test": [
             0.02602515952
            ]
           },
           {
            "iteration": 412,
            "learn": [
             0.01769535148
            ],
            "passed_time": 5874.825427,
            "remaining_time": 1237.554025,
            "test": [
             0.02602086542
            ]
           },
           {
            "iteration": 413,
            "learn": [
             0.01767295105
            ],
            "passed_time": 5888.327029,
            "remaining_time": 1223.179045,
            "test": [
             0.02601434501
            ]
           },
           {
            "iteration": 414,
            "learn": [
             0.01767065842
            ],
            "passed_time": 5902.022378,
            "remaining_time": 1208.847957,
            "test": [
             0.02601346046
            ]
           },
           {
            "iteration": 415,
            "learn": [
             0.0176653741
            ],
            "passed_time": 5915.879306,
            "remaining_time": 1194.552552,
            "test": [
             0.02601192766
            ]
           },
           {
            "iteration": 416,
            "learn": [
             0.01764315762
            ],
            "passed_time": 5932.007413,
            "remaining_time": 1180.711308,
            "test": [
             0.02599845957
            ]
           },
           {
            "iteration": 417,
            "learn": [
             0.01763576377
            ],
            "passed_time": 5946.279593,
            "remaining_time": 1166.49504,
            "test": [
             0.02599694683
            ]
           },
           {
            "iteration": 418,
            "learn": [
             0.01760404283
            ],
            "passed_time": 5960.219597,
            "remaining_time": 1152.21429,
            "test": [
             0.02597288219
            ]
           },
           {
            "iteration": 419,
            "learn": [
             0.01757700315
            ],
            "passed_time": 5974.075351,
            "remaining_time": 1137.919114,
            "test": [
             0.02596106541
            ]
           },
           {
            "iteration": 420,
            "learn": [
             0.01756263369
            ],
            "passed_time": 5988.311452,
            "remaining_time": 1123.697398,
            "test": [
             0.0259407259
            ]
           },
           {
            "iteration": 421,
            "learn": [
             0.01753342472
            ],
            "passed_time": 6002.830034,
            "remaining_time": 1109.527826,
            "test": [
             0.02593449501
            ]
           },
           {
            "iteration": 422,
            "learn": [
             0.01752934599
            ],
            "passed_time": 6018.571182,
            "remaining_time": 1095.579151,
            "test": [
             0.02592819237
            ]
           },
           {
            "iteration": 423,
            "learn": [
             0.01752592224
            ],
            "passed_time": 6032.813815,
            "remaining_time": 1081.35342,
            "test": [
             0.02592882298
            ]
           },
           {
            "iteration": 424,
            "learn": [
             0.01749472387
            ],
            "passed_time": 6046.643807,
            "remaining_time": 1067.054789,
            "test": [
             0.02590987605
            ]
           },
           {
            "iteration": 425,
            "learn": [
             0.01746792078
            ],
            "passed_time": 6061.116157,
            "remaining_time": 1052.869943,
            "test": [
             0.02589720294
            ]
           },
           {
            "iteration": 426,
            "learn": [
             0.01746483235
            ],
            "passed_time": 6075.298253,
            "remaining_time": 1038.634128,
            "test": [
             0.02589724147
            ]
           },
           {
            "iteration": 427,
            "learn": [
             0.0174339404
            ],
            "passed_time": 6089.016242,
            "remaining_time": 1024.320489,
            "test": [
             0.02587392808
            ]
           },
           {
            "iteration": 428,
            "learn": [
             0.01743175407
            ],
            "passed_time": 6104.733426,
            "remaining_time": 1010.340497,
            "test": [
             0.02587318591
            ]
           },
           {
            "iteration": 429,
            "learn": [
             0.01742050354
            ],
            "passed_time": 6118.769965,
            "remaining_time": 996.0788315,
            "test": [
             0.02586813924
            ]
           },
           {
            "iteration": 430,
            "learn": [
             0.01741675749
            ],
            "passed_time": 6132.913952,
            "remaining_time": 981.8354123,
            "test": [
             0.02586729662
            ]
           },
           {
            "iteration": 431,
            "learn": [
             0.01741459574
            ],
            "passed_time": 6146.576131,
            "remaining_time": 967.5166131,
            "test": [
             0.02586741989
            ]
           },
           {
            "iteration": 432,
            "learn": [
             0.01741242628
            ],
            "passed_time": 6160.359554,
            "remaining_time": 953.2196077,
            "test": [
             0.02586796248
            ]
           },
           {
            "iteration": 433,
            "learn": [
             0.01740161667
            ],
            "passed_time": 6174.137846,
            "remaining_time": 938.9241885,
            "test": [
             0.02586302018
            ]
           },
           {
            "iteration": 434,
            "learn": [
             0.01736492869
            ],
            "passed_time": 6189.905117,
            "remaining_time": 924.9283509,
            "test": [
             0.02583397699
            ]
           },
           {
            "iteration": 435,
            "learn": [
             0.01736279378
            ],
            "passed_time": 6203.495615,
            "remaining_time": 910.604861,
            "test": [
             0.0258346244
            ]
           },
           {
            "iteration": 436,
            "learn": [
             0.01735666154
            ],
            "passed_time": 6217.569435,
            "remaining_time": 896.3544036,
            "test": [
             0.02583355249
            ]
           },
           {
            "iteration": 437,
            "learn": [
             0.01732993218
            ],
            "passed_time": 6231.927241,
            "remaining_time": 882.1449519,
            "test": [
             0.02582617822
            ]
           },
           {
            "iteration": 438,
            "learn": [
             0.01732642699
            ],
            "passed_time": 6246.261266,
            "remaining_time": 867.9315198,
            "test": [
             0.02582661612
            ]
           },
           {
            "iteration": 439,
            "learn": [
             0.01728617157
            ],
            "passed_time": 6260.040663,
            "remaining_time": 853.6419086,
            "test": [
             0.02581140051
            ]
           },
           {
            "iteration": 440,
            "learn": [
             0.01728224156
            ],
            "passed_time": 6275.934935,
            "remaining_time": 839.6375536,
            "test": [
             0.02581184652
            ]
           },
           {
            "iteration": 441,
            "learn": [
             0.01725652194
            ],
            "passed_time": 6290.036366,
            "remaining_time": 825.3893874,
            "test": [
             0.02580578188
            ]
           },
           {
            "iteration": 442,
            "learn": [
             0.01723576157
            ],
            "passed_time": 6303.760376,
            "remaining_time": 811.0933216,
            "test": [
             0.02578933688
            ]
           },
           {
            "iteration": 443,
            "learn": [
             0.01720357788
            ],
            "passed_time": 6317.882114,
            "remaining_time": 796.8499963,
            "test": [
             0.02578351548
            ]
           },
           {
            "iteration": 444,
            "learn": [
             0.01716954044
            ],
            "passed_time": 6331.701107,
            "remaining_time": 782.5697998,
            "test": [
             0.02578106114
            ]
           },
           {
            "iteration": 445,
            "learn": [
             0.01716746668
            ],
            "passed_time": 6345.408319,
            "remaining_time": 768.2781373,
            "test": [
             0.02578123201
            ]
           },
           {
            "iteration": 446,
            "learn": [
             0.01715839647
            ],
            "passed_time": 6359.759819,
            "remaining_time": 754.0654819,
            "test": [
             0.02577827037
            ]
           },
           {
            "iteration": 447,
            "learn": [
             0.01715281909
            ],
            "passed_time": 6375.219167,
            "remaining_time": 739.9807961,
            "test": [
             0.02578119525
            ]
           },
           {
            "iteration": 448,
            "learn": [
             0.01711900769
            ],
            "passed_time": 6389.104131,
            "remaining_time": 725.7111596,
            "test": [
             0.02575970821
            ]
           },
           {
            "iteration": 449,
            "learn": [
             0.01711693716
            ],
            "passed_time": 6403.010177,
            "remaining_time": 711.4455752,
            "test": [
             0.02575978822
            ]
           },
           {
            "iteration": 450,
            "learn": [
             0.01708822895
            ],
            "passed_time": 6416.954433,
            "remaining_time": 697.1857366,
            "test": [
             0.02575362286
            ]
           },
           {
            "iteration": 451,
            "learn": [
             0.01705897162
            ],
            "passed_time": 6430.744641,
            "remaining_time": 682.9109354,
            "test": [
             0.02572988653
            ]
           },
           {
            "iteration": 452,
            "learn": [
             0.01702788309
            ],
            "passed_time": 6444.976142,
            "remaining_time": 668.6840589,
            "test": [
             0.02572350883
            ]
           },
           {
            "iteration": 453,
            "learn": [
             0.01702455891
            ],
            "passed_time": 6460.746235,
            "remaining_time": 654.6130546,
            "test": [
             0.02572292576
            ]
           },
           {
            "iteration": 454,
            "learn": [
             0.01702212292
            ],
            "passed_time": 6474.567676,
            "remaining_time": 640.3418581,
            "test": [
             0.02572321959
            ]
           },
           {
            "iteration": 455,
            "learn": [
             0.01698860728
            ],
            "passed_time": 6488.618877,
            "remaining_time": 626.0948039,
            "test": [
             0.0257023788
            ]
           },
           {
            "iteration": 456,
            "learn": [
             0.0169688955
            ],
            "passed_time": 6502.791798,
            "remaining_time": 611.8600598,
            "test": [
             0.02568952071
            ]
           },
           {
            "iteration": 457,
            "learn": [
             0.016938731
            ],
            "passed_time": 6516.649868,
            "remaining_time": 597.5967128,
            "test": [
             0.02567475194
            ]
           },
           {
            "iteration": 458,
            "learn": [
             0.01691104812
            ],
            "passed_time": 6530.97941,
            "remaining_time": 583.3772458,
            "test": [
             0.02565769277
            ]
           },
           {
            "iteration": 459,
            "learn": [
             0.01688228409
            ],
            "passed_time": 6547.171138,
            "remaining_time": 569.3192294,
            "test": [
             0.02562998014
            ]
           },
           {
            "iteration": 460,
            "learn": [
             0.01687803956
            ],
            "passed_time": 6561.147384,
            "remaining_time": 555.0645292,
            "test": [
             0.02562551858
            ]
           },
           {
            "iteration": 461,
            "learn": [
             0.01687598911
            ],
            "passed_time": 6575.219933,
            "remaining_time": 540.8189556,
            "test": [
             0.02562540768
            ]
           },
           {
            "iteration": 462,
            "learn": [
             0.01685852957
            ],
            "passed_time": 6589.618527,
            "remaining_time": 526.6001847,
            "test": [
             0.02561958626
            ]
           },
           {
            "iteration": 463,
            "learn": [
             0.01684452405
            ],
            "passed_time": 6603.589822,
            "remaining_time": 512.3474862,
            "test": [
             0.02561281082
            ]
           },
           {
            "iteration": 464,
            "learn": [
             0.01684249557
            ],
            "passed_time": 6618.086703,
            "remaining_time": 498.1355583,
            "test": [
             0.02561333755
            ]
           },
           {
            "iteration": 465,
            "learn": [
             0.01682316044
            ],
            "passed_time": 6634.787169,
            "remaining_time": 484.083184,
            "test": [
             0.02561804119
            ]
           },
           {
            "iteration": 466,
            "learn": [
             0.01680146475
            ],
            "passed_time": 6649.252512,
            "remaining_time": 469.8615266,
            "test": [
             0.02561506868
            ]
           },
           {
            "iteration": 467,
            "learn": [
             0.01678443611
            ],
            "passed_time": 6663.66455,
            "remaining_time": 455.6351829,
            "test": [
             0.02560427674
            ]
           },
           {
            "iteration": 468,
            "learn": [
             0.01677736385
            ],
            "passed_time": 6677.855496,
            "remaining_time": 441.3934337,
            "test": [
             0.0256010996
            ]
           },
           {
            "iteration": 469,
            "learn": [
             0.01674890875
            ],
            "passed_time": 6691.995423,
            "remaining_time": 427.148644,
            "test": [
             0.02558286723
            ]
           },
           {
            "iteration": 470,
            "learn": [
             0.01674566004
            ],
            "passed_time": 6705.864403,
            "remaining_time": 412.8876172,
            "test": [
             0.02558278028
            ]
           },
           {
            "iteration": 471,
            "learn": [
             0.01670896784
            ],
            "passed_time": 6721.497147,
            "remaining_time": 398.7328816,
            "test": [
             0.02555988413
            ]
           },
           {
            "iteration": 472,
            "learn": [
             0.0167045578
            ],
            "passed_time": 6735.400841,
            "remaining_time": 384.4731981,
            "test": [
             0.02555472204
            ]
           },
           {
            "iteration": 473,
            "learn": [
             0.01667071127
            ],
            "passed_time": 6749.302159,
            "remaining_time": 370.2148864,
            "test": [
             0.02554634372
            ]
           },
           {
            "iteration": 474,
            "learn": [
             0.01664364057
            ],
            "passed_time": 6763.565609,
            "remaining_time": 355.9771373,
            "test": [
             0.02552938618
            ]
           },
           {
            "iteration": 475,
            "learn": [
             0.01664166665
            ],
            "passed_time": 6777.328983,
            "remaining_time": 341.7140664,
            "test": [
             0.02552938303
            ]
           },
           {
            "iteration": 476,
            "learn": [
             0.0166209598
            ],
            "passed_time": 6791.204641,
            "remaining_time": 327.4585047,
            "test": [
             0.02551900699
            ]
           },
           {
            "iteration": 477,
            "learn": [
             0.01660983211
            ],
            "passed_time": 6807.235042,
            "remaining_time": 313.3037048,
            "test": [
             0.02551323953
            ]
           },
           {
            "iteration": 478,
            "learn": [
             0.01658757651
            ],
            "passed_time": 6821.213523,
            "remaining_time": 299.0511148,
            "test": [
             0.0255068799
            ]
           },
           {
            "iteration": 479,
            "learn": [
             0.01655118813
            ],
            "passed_time": 6835.36921,
            "remaining_time": 284.8070504,
            "test": [
             0.0254854144
            ]
           },
           {
            "iteration": 480,
            "learn": [
             0.01652880839
            ],
            "passed_time": 6849.621133,
            "remaining_time": 270.5671549,
            "test": [
             0.02546442305
            ]
           },
           {
            "iteration": 481,
            "learn": [
             0.01652678725
            ],
            "passed_time": 6863.886203,
            "remaining_time": 256.3277005,
            "test": [
             0.02546444648
            ]
           },
           {
            "iteration": 482,
            "learn": [
             0.01651364996
            ],
            "passed_time": 6878.41356,
            "remaining_time": 242.0973717,
            "test": [
             0.02545328241
            ]
           },
           {
            "iteration": 483,
            "learn": [
             0.01648874644
            ],
            "passed_time": 6894.79924,
            "remaining_time": 227.9272476,
            "test": [
             0.02543299598
            ]
           },
           {
            "iteration": 484,
            "learn": [
             0.01646218561
            ],
            "passed_time": 6908.913491,
            "remaining_time": 213.6777369,
            "test": [
             0.025408994
            ]
           },
           {
            "iteration": 485,
            "learn": [
             0.01644741663
            ],
            "passed_time": 6923.138806,
            "remaining_time": 199.4319821,
            "test": [
             0.02540605564
            ]
           },
           {
            "iteration": 486,
            "learn": [
             0.01642045419
            ],
            "passed_time": 6937.300433,
            "remaining_time": 185.1846111,
            "test": [
             0.02539059808
            ]
           },
           {
            "iteration": 487,
            "learn": [
             0.01639769585
            ],
            "passed_time": 6951.74596,
            "remaining_time": 170.9445728,
            "test": [
             0.02537958906
            ]
           },
           {
            "iteration": 488,
            "learn": [
             0.01637565015
            ],
            "passed_time": 6965.608185,
            "remaining_time": 156.6905727,
            "test": [
             0.02537445634
            ]
           },
           {
            "iteration": 489,
            "learn": [
             0.0163725162
            ],
            "passed_time": 6981.96234,
            "remaining_time": 142.4890273,
            "test": [
             0.02537801139
            ]
           },
           {
            "iteration": 490,
            "learn": [
             0.01634275927
            ],
            "passed_time": 6996.378645,
            "remaining_time": 128.2431931,
            "test": [
             0.0253749117
            ]
           },
           {
            "iteration": 491,
            "learn": [
             0.01633712598
            ],
            "passed_time": 7010.583771,
            "remaining_time": 113.9932321,
            "test": [
             0.02537513097
            ]
           },
           {
            "iteration": 492,
            "learn": [
             0.01631330444
            ],
            "passed_time": 7024.192164,
            "remaining_time": 99.73498001,
            "test": [
             0.02536454423
            ]
           },
           {
            "iteration": 493,
            "learn": [
             0.01631141413
            ],
            "passed_time": 7038.400962,
            "remaining_time": 85.48665136,
            "test": [
             0.02536517415
            ]
           },
           {
            "iteration": 494,
            "learn": [
             0.01628637167
            ],
            "passed_time": 7053.175783,
            "remaining_time": 71.24419983,
            "test": [
             0.02535953745
            ]
           },
           {
            "iteration": 495,
            "learn": [
             0.01627854567
            ],
            "passed_time": 7068.670606,
            "remaining_time": 57.00540811,
            "test": [
             0.02535102926
            ]
           },
           {
            "iteration": 496,
            "learn": [
             0.01623652056
            ],
            "passed_time": 7082.407646,
            "remaining_time": 42.75095159,
            "test": [
             0.02534108688
            ]
           },
           {
            "iteration": 497,
            "learn": [
             0.01623440739
            ],
            "passed_time": 7096.475247,
            "remaining_time": 28.49990059,
            "test": [
             0.02534148296
            ]
           },
           {
            "iteration": 498,
            "learn": [
             0.01621133662
            ],
            "passed_time": 7110.427617,
            "remaining_time": 14.24935394,
            "test": [
             0.02531707769
            ]
           },
           {
            "iteration": 499,
            "learn": [
             0.0161856215
            ],
            "passed_time": 7124.246148,
            "remaining_time": 0,
            "test": [
             0.02530499493
            ]
           }
          ],
          "meta": {
           "iteration_count": 500,
           "launch_mode": "Train",
           "learn_metrics": [
            {
             "best_value": "Min",
             "name": "MultiLogloss"
            }
           ],
           "learn_sets": [
            "learn"
           ],
           "name": "experiment",
           "parameters": "",
           "test_metrics": [
            {
             "best_value": "Min",
             "name": "MultiLogloss"
            }
           ],
           "test_sets": [
            "test"
           ]
          }
         },
         "passed_iterations": 499,
         "total_iterations": 500
        },
        "name": "catboost_info",
        "path": "catboost_info"
       }
      },
      "layout": "IPY_MODEL_db184146cb564f06a8c98a557f5de259"
     }
    },
    "2efcfd0dc5a345d1b9461b4aa1256431": {
     "model_module": "@jupyter-widgets/controls",
     "model_module_version": "1.5.0",
     "model_name": "ProgressStyleModel",
     "state": {
      "_model_module": "@jupyter-widgets/controls",
      "_model_module_version": "1.5.0",
      "_model_name": "ProgressStyleModel",
      "_view_count": null,
      "_view_module": "@jupyter-widgets/base",
      "_view_module_version": "1.2.0",
      "_view_name": "StyleView",
      "bar_color": null,
      "description_width": ""
     }
    },
    "377b9157f3b94271bbe240608a42516c": {
     "model_module": "@jupyter-widgets/base",
     "model_module_version": "1.2.0",
     "model_name": "LayoutModel",
     "state": {
      "_model_module": "@jupyter-widgets/base",
      "_model_module_version": "1.2.0",
      "_model_name": "LayoutModel",
      "_view_count": null,
      "_view_module": "@jupyter-widgets/base",
      "_view_module_version": "1.2.0",
      "_view_name": "LayoutView",
      "align_content": null,
      "align_items": null,
      "align_self": null,
      "border": null,
      "bottom": null,
      "display": null,
      "flex": null,
      "flex_flow": null,
      "grid_area": null,
      "grid_auto_columns": null,
      "grid_auto_flow": null,
      "grid_auto_rows": null,
      "grid_column": null,
      "grid_gap": null,
      "grid_row": null,
      "grid_template_areas": null,
      "grid_template_columns": null,
      "grid_template_rows": null,
      "height": null,
      "justify_content": null,
      "justify_items": null,
      "left": null,
      "margin": null,
      "max_height": null,
      "max_width": null,
      "min_height": null,
      "min_width": null,
      "object_fit": null,
      "object_position": null,
      "order": null,
      "overflow": null,
      "overflow_x": null,
      "overflow_y": null,
      "padding": null,
      "right": null,
      "top": null,
      "visibility": null,
      "width": null
     }
    },
    "3c9071688e9e4496b5a744790ad55b57": {
     "model_module": "@jupyter-widgets/controls",
     "model_module_version": "1.5.0",
     "model_name": "HBoxModel",
     "state": {
      "_dom_classes": [],
      "_model_module": "@jupyter-widgets/controls",
      "_model_module_version": "1.5.0",
      "_model_name": "HBoxModel",
      "_view_count": null,
      "_view_module": "@jupyter-widgets/controls",
      "_view_module_version": "1.5.0",
      "_view_name": "HBoxView",
      "box_style": "",
      "children": [
       "IPY_MODEL_21d85791782e4af4849b70ef9971cd80",
       "IPY_MODEL_a16334e7cf3e4d8caae6be2b87a1de53",
       "IPY_MODEL_a6e4123642cc40cbbcb9a14b55de4b3c"
      ],
      "layout": "IPY_MODEL_377b9157f3b94271bbe240608a42516c"
     }
    },
    "3e5dc0af04f4423ab7869b054e78bf7e": {
     "model_module": "@jupyter-widgets/base",
     "model_module_version": "1.2.0",
     "model_name": "LayoutModel",
     "state": {
      "_model_module": "@jupyter-widgets/base",
      "_model_module_version": "1.2.0",
      "_model_name": "LayoutModel",
      "_view_count": null,
      "_view_module": "@jupyter-widgets/base",
      "_view_module_version": "1.2.0",
      "_view_name": "LayoutView",
      "align_content": null,
      "align_items": null,
      "align_self": null,
      "border": null,
      "bottom": null,
      "display": null,
      "flex": null,
      "flex_flow": null,
      "grid_area": null,
      "grid_auto_columns": null,
      "grid_auto_flow": null,
      "grid_auto_rows": null,
      "grid_column": null,
      "grid_gap": null,
      "grid_row": null,
      "grid_template_areas": null,
      "grid_template_columns": null,
      "grid_template_rows": null,
      "height": null,
      "justify_content": null,
      "justify_items": null,
      "left": null,
      "margin": null,
      "max_height": null,
      "max_width": null,
      "min_height": null,
      "min_width": null,
      "object_fit": null,
      "object_position": null,
      "order": null,
      "overflow": null,
      "overflow_x": null,
      "overflow_y": null,
      "padding": null,
      "right": null,
      "top": null,
      "visibility": null,
      "width": null
     }
    },
    "405136bf6b514e8a8ea69fedd1b1bab2": {
     "model_module": "@jupyter-widgets/base",
     "model_module_version": "1.2.0",
     "model_name": "LayoutModel",
     "state": {
      "_model_module": "@jupyter-widgets/base",
      "_model_module_version": "1.2.0",
      "_model_name": "LayoutModel",
      "_view_count": null,
      "_view_module": "@jupyter-widgets/base",
      "_view_module_version": "1.2.0",
      "_view_name": "LayoutView",
      "align_content": null,
      "align_items": null,
      "align_self": null,
      "border": null,
      "bottom": null,
      "display": null,
      "flex": null,
      "flex_flow": null,
      "grid_area": null,
      "grid_auto_columns": null,
      "grid_auto_flow": null,
      "grid_auto_rows": null,
      "grid_column": null,
      "grid_gap": null,
      "grid_row": null,
      "grid_template_areas": null,
      "grid_template_columns": null,
      "grid_template_rows": null,
      "height": null,
      "justify_content": null,
      "justify_items": null,
      "left": null,
      "margin": null,
      "max_height": null,
      "max_width": null,
      "min_height": null,
      "min_width": null,
      "object_fit": null,
      "object_position": null,
      "order": null,
      "overflow": null,
      "overflow_x": null,
      "overflow_y": null,
      "padding": null,
      "right": null,
      "top": null,
      "visibility": null,
      "width": null
     }
    },
    "47f64b4167bc470da0aeedf0ed3040fe": {
     "model_module": "@jupyter-widgets/controls",
     "model_module_version": "1.5.0",
     "model_name": "HBoxModel",
     "state": {
      "_dom_classes": [],
      "_model_module": "@jupyter-widgets/controls",
      "_model_module_version": "1.5.0",
      "_model_name": "HBoxModel",
      "_view_count": null,
      "_view_module": "@jupyter-widgets/controls",
      "_view_module_version": "1.5.0",
      "_view_name": "HBoxView",
      "box_style": "",
      "children": [
       "IPY_MODEL_f9c3f2e2784d4ea3b4ca7d5e06453d30",
       "IPY_MODEL_0c9ab15f82bf416f91f8265601acab0f",
       "IPY_MODEL_02fe14cc49414992a7939d9a20bd05d2"
      ],
      "layout": "IPY_MODEL_9ff9817c363145eba7e9e5e3db679183"
     }
    },
    "48b20a7d80b04113ae7241c9177c66f1": {
     "model_module": "@jupyter-widgets/base",
     "model_module_version": "1.2.0",
     "model_name": "LayoutModel",
     "state": {
      "_model_module": "@jupyter-widgets/base",
      "_model_module_version": "1.2.0",
      "_model_name": "LayoutModel",
      "_view_count": null,
      "_view_module": "@jupyter-widgets/base",
      "_view_module_version": "1.2.0",
      "_view_name": "LayoutView",
      "align_content": null,
      "align_items": null,
      "align_self": null,
      "border": null,
      "bottom": null,
      "display": null,
      "flex": null,
      "flex_flow": null,
      "grid_area": null,
      "grid_auto_columns": null,
      "grid_auto_flow": null,
      "grid_auto_rows": null,
      "grid_column": null,
      "grid_gap": null,
      "grid_row": null,
      "grid_template_areas": null,
      "grid_template_columns": null,
      "grid_template_rows": null,
      "height": null,
      "justify_content": null,
      "justify_items": null,
      "left": null,
      "margin": null,
      "max_height": null,
      "max_width": null,
      "min_height": null,
      "min_width": null,
      "object_fit": null,
      "object_position": null,
      "order": null,
      "overflow": null,
      "overflow_x": null,
      "overflow_y": null,
      "padding": null,
      "right": null,
      "top": null,
      "visibility": null,
      "width": null
     }
    },
    "4a5397558c2649dd89bf380561675f13": {
     "model_module": "@jupyter-widgets/controls",
     "model_module_version": "1.5.0",
     "model_name": "DescriptionStyleModel",
     "state": {
      "_model_module": "@jupyter-widgets/controls",
      "_model_module_version": "1.5.0",
      "_model_name": "DescriptionStyleModel",
      "_view_count": null,
      "_view_module": "@jupyter-widgets/base",
      "_view_module_version": "1.2.0",
      "_view_name": "StyleView",
      "description_width": ""
     }
    },
    "527d701caaf34225a2cd98dafbd60326": {
     "model_module": "@jupyter-widgets/base",
     "model_module_version": "1.2.0",
     "model_name": "LayoutModel",
     "state": {
      "_model_module": "@jupyter-widgets/base",
      "_model_module_version": "1.2.0",
      "_model_name": "LayoutModel",
      "_view_count": null,
      "_view_module": "@jupyter-widgets/base",
      "_view_module_version": "1.2.0",
      "_view_name": "LayoutView",
      "align_content": null,
      "align_items": null,
      "align_self": null,
      "border": null,
      "bottom": null,
      "display": null,
      "flex": null,
      "flex_flow": null,
      "grid_area": null,
      "grid_auto_columns": null,
      "grid_auto_flow": null,
      "grid_auto_rows": null,
      "grid_column": null,
      "grid_gap": null,
      "grid_row": null,
      "grid_template_areas": null,
      "grid_template_columns": null,
      "grid_template_rows": null,
      "height": null,
      "justify_content": null,
      "justify_items": null,
      "left": null,
      "margin": null,
      "max_height": null,
      "max_width": null,
      "min_height": null,
      "min_width": null,
      "object_fit": null,
      "object_position": null,
      "order": null,
      "overflow": null,
      "overflow_x": null,
      "overflow_y": null,
      "padding": null,
      "right": null,
      "top": null,
      "visibility": null,
      "width": null
     }
    },
    "52b64903dd534d58b96fe772f683a35f": {
     "model_module": "@jupyter-widgets/controls",
     "model_module_version": "1.5.0",
     "model_name": "HTMLModel",
     "state": {
      "_dom_classes": [],
      "_model_module": "@jupyter-widgets/controls",
      "_model_module_version": "1.5.0",
      "_model_name": "HTMLModel",
      "_view_count": null,
      "_view_module": "@jupyter-widgets/controls",
      "_view_module_version": "1.5.0",
      "_view_name": "HTMLView",
      "description": "",
      "description_tooltip": null,
      "layout": "IPY_MODEL_65039626f2554c78a081bb06687204cf",
      "placeholder": "​",
      "style": "IPY_MODEL_4a5397558c2649dd89bf380561675f13",
      "value": "100%"
     }
    },
    "55e9cc4ad5d84e5c9e9d2bd600d4db7a": {
     "model_module": "@jupyter-widgets/controls",
     "model_module_version": "1.5.0",
     "model_name": "HTMLModel",
     "state": {
      "_dom_classes": [],
      "_model_module": "@jupyter-widgets/controls",
      "_model_module_version": "1.5.0",
      "_model_name": "HTMLModel",
      "_view_count": null,
      "_view_module": "@jupyter-widgets/controls",
      "_view_module_version": "1.5.0",
      "_view_name": "HTMLView",
      "description": "",
      "description_tooltip": null,
      "layout": "IPY_MODEL_527d701caaf34225a2cd98dafbd60326",
      "placeholder": "​",
      "style": "IPY_MODEL_c18ede86b08f4564a4bf309020616d78",
      "value": " 4/4 [00:01&lt;00:00,  2.37ba/s]"
     }
    },
    "63d12b97485c4c8dbb2f8b345688153a": {
     "model_module": "@jupyter-widgets/controls",
     "model_module_version": "1.5.0",
     "model_name": "DescriptionStyleModel",
     "state": {
      "_model_module": "@jupyter-widgets/controls",
      "_model_module_version": "1.5.0",
      "_model_name": "DescriptionStyleModel",
      "_view_count": null,
      "_view_module": "@jupyter-widgets/base",
      "_view_module_version": "1.2.0",
      "_view_name": "StyleView",
      "description_width": ""
     }
    },
    "63ff424012574585bf284d7d86e3f793": {
     "model_module": "@jupyter-widgets/controls",
     "model_module_version": "1.5.0",
     "model_name": "HTMLModel",
     "state": {
      "_dom_classes": [],
      "_model_module": "@jupyter-widgets/controls",
      "_model_module_version": "1.5.0",
      "_model_name": "HTMLModel",
      "_view_count": null,
      "_view_module": "@jupyter-widgets/controls",
      "_view_module_version": "1.5.0",
      "_view_name": "HTMLView",
      "description": "",
      "description_tooltip": null,
      "layout": "IPY_MODEL_b43e1a1e540d4f7e9e278e0ea824ac4e",
      "placeholder": "​",
      "style": "IPY_MODEL_a206aaa184ef419ca01a380541e2be43",
      "value": "100%"
     }
    },
    "65039626f2554c78a081bb06687204cf": {
     "model_module": "@jupyter-widgets/base",
     "model_module_version": "1.2.0",
     "model_name": "LayoutModel",
     "state": {
      "_model_module": "@jupyter-widgets/base",
      "_model_module_version": "1.2.0",
      "_model_name": "LayoutModel",
      "_view_count": null,
      "_view_module": "@jupyter-widgets/base",
      "_view_module_version": "1.2.0",
      "_view_name": "LayoutView",
      "align_content": null,
      "align_items": null,
      "align_self": null,
      "border": null,
      "bottom": null,
      "display": null,
      "flex": null,
      "flex_flow": null,
      "grid_area": null,
      "grid_auto_columns": null,
      "grid_auto_flow": null,
      "grid_auto_rows": null,
      "grid_column": null,
      "grid_gap": null,
      "grid_row": null,
      "grid_template_areas": null,
      "grid_template_columns": null,
      "grid_template_rows": null,
      "height": null,
      "justify_content": null,
      "justify_items": null,
      "left": null,
      "margin": null,
      "max_height": null,
      "max_width": null,
      "min_height": null,
      "min_width": null,
      "object_fit": null,
      "object_position": null,
      "order": null,
      "overflow": null,
      "overflow_x": null,
      "overflow_y": null,
      "padding": null,
      "right": null,
      "top": null,
      "visibility": null,
      "width": null
     }
    },
    "6f04df0a3a3f4ac7a010db5a715f4d12": {
     "model_module": "@jupyter-widgets/base",
     "model_module_version": "1.2.0",
     "model_name": "LayoutModel",
     "state": {
      "_model_module": "@jupyter-widgets/base",
      "_model_module_version": "1.2.0",
      "_model_name": "LayoutModel",
      "_view_count": null,
      "_view_module": "@jupyter-widgets/base",
      "_view_module_version": "1.2.0",
      "_view_name": "LayoutView",
      "align_content": null,
      "align_items": null,
      "align_self": null,
      "border": null,
      "bottom": null,
      "display": null,
      "flex": null,
      "flex_flow": null,
      "grid_area": null,
      "grid_auto_columns": null,
      "grid_auto_flow": null,
      "grid_auto_rows": null,
      "grid_column": null,
      "grid_gap": null,
      "grid_row": null,
      "grid_template_areas": null,
      "grid_template_columns": null,
      "grid_template_rows": null,
      "height": null,
      "justify_content": null,
      "justify_items": null,
      "left": null,
      "margin": null,
      "max_height": null,
      "max_width": null,
      "min_height": null,
      "min_width": null,
      "object_fit": null,
      "object_position": null,
      "order": null,
      "overflow": null,
      "overflow_x": null,
      "overflow_y": null,
      "padding": null,
      "right": null,
      "top": null,
      "visibility": null,
      "width": null
     }
    },
    "705fd58a8ecb45bb8c1ac9aeae8b59f6": {
     "model_module": "@jupyter-widgets/controls",
     "model_module_version": "1.5.0",
     "model_name": "HTMLModel",
     "state": {
      "_dom_classes": [],
      "_model_module": "@jupyter-widgets/controls",
      "_model_module_version": "1.5.0",
      "_model_name": "HTMLModel",
      "_view_count": null,
      "_view_module": "@jupyter-widgets/controls",
      "_view_module_version": "1.5.0",
      "_view_name": "HTMLView",
      "description": "",
      "description_tooltip": null,
      "layout": "IPY_MODEL_cfe72b48190340548ca9e89c5a49a37a",
      "placeholder": "​",
      "style": "IPY_MODEL_e2c49aa111954e609e92308ff8903261",
      "value": " 22/22 [00:05&lt;00:00,  5.88ba/s]"
     }
    },
    "8139ebe59e4f4f82a9b95f3530414cbf": {
     "model_module": "@jupyter-widgets/controls",
     "model_module_version": "1.5.0",
     "model_name": "ProgressStyleModel",
     "state": {
      "_model_module": "@jupyter-widgets/controls",
      "_model_module_version": "1.5.0",
      "_model_name": "ProgressStyleModel",
      "_view_count": null,
      "_view_module": "@jupyter-widgets/base",
      "_view_module_version": "1.2.0",
      "_view_name": "StyleView",
      "bar_color": null,
      "description_width": ""
     }
    },
    "8ff5f0fa110848b3b9952ad58237dc4e": {
     "model_module": "@jupyter-widgets/controls",
     "model_module_version": "1.5.0",
     "model_name": "HBoxModel",
     "state": {
      "_dom_classes": [],
      "_model_module": "@jupyter-widgets/controls",
      "_model_module_version": "1.5.0",
      "_model_name": "HBoxModel",
      "_view_count": null,
      "_view_module": "@jupyter-widgets/controls",
      "_view_module_version": "1.5.0",
      "_view_name": "HBoxView",
      "box_style": "",
      "children": [
       "IPY_MODEL_52b64903dd534d58b96fe772f683a35f",
       "IPY_MODEL_ba3988b79d0b4edaa9658f0e569b6aa9",
       "IPY_MODEL_0b514a8d469f408c978478911494d058"
      ],
      "layout": "IPY_MODEL_aa291aad57c541448e48edfaf4bbeaba"
     }
    },
    "92261b303518410cb2a540d78f3fa7e5": {
     "model_module": "@jupyter-widgets/controls",
     "model_module_version": "1.5.0",
     "model_name": "HTMLModel",
     "state": {
      "_dom_classes": [],
      "_model_module": "@jupyter-widgets/controls",
      "_model_module_version": "1.5.0",
      "_model_name": "HTMLModel",
      "_view_count": null,
      "_view_module": "@jupyter-widgets/controls",
      "_view_module_version": "1.5.0",
      "_view_name": "HTMLView",
      "description": "",
      "description_tooltip": null,
      "layout": "IPY_MODEL_bc184a9f473c4cbc852ac1fbdaed7c89",
      "placeholder": "​",
      "style": "IPY_MODEL_63d12b97485c4c8dbb2f8b345688153a",
      "value": " 4/4 [00:02&lt;00:00,  2.04ba/s]"
     }
    },
    "93dd82a6ce9c40d78f7d13d80504ed1d": {
     "model_module": "@jupyter-widgets/base",
     "model_module_version": "1.2.0",
     "model_name": "LayoutModel",
     "state": {
      "_model_module": "@jupyter-widgets/base",
      "_model_module_version": "1.2.0",
      "_model_name": "LayoutModel",
      "_view_count": null,
      "_view_module": "@jupyter-widgets/base",
      "_view_module_version": "1.2.0",
      "_view_name": "LayoutView",
      "align_content": null,
      "align_items": null,
      "align_self": null,
      "border": null,
      "bottom": null,
      "display": null,
      "flex": null,
      "flex_flow": null,
      "grid_area": null,
      "grid_auto_columns": null,
      "grid_auto_flow": null,
      "grid_auto_rows": null,
      "grid_column": null,
      "grid_gap": null,
      "grid_row": null,
      "grid_template_areas": null,
      "grid_template_columns": null,
      "grid_template_rows": null,
      "height": null,
      "justify_content": null,
      "justify_items": null,
      "left": null,
      "margin": null,
      "max_height": null,
      "max_width": null,
      "min_height": null,
      "min_width": null,
      "object_fit": null,
      "object_position": null,
      "order": null,
      "overflow": null,
      "overflow_x": null,
      "overflow_y": null,
      "padding": null,
      "right": null,
      "top": null,
      "visibility": null,
      "width": null
     }
    },
    "9ff9817c363145eba7e9e5e3db679183": {
     "model_module": "@jupyter-widgets/base",
     "model_module_version": "1.2.0",
     "model_name": "LayoutModel",
     "state": {
      "_model_module": "@jupyter-widgets/base",
      "_model_module_version": "1.2.0",
      "_model_name": "LayoutModel",
      "_view_count": null,
      "_view_module": "@jupyter-widgets/base",
      "_view_module_version": "1.2.0",
      "_view_name": "LayoutView",
      "align_content": null,
      "align_items": null,
      "align_self": null,
      "border": null,
      "bottom": null,
      "display": null,
      "flex": null,
      "flex_flow": null,
      "grid_area": null,
      "grid_auto_columns": null,
      "grid_auto_flow": null,
      "grid_auto_rows": null,
      "grid_column": null,
      "grid_gap": null,
      "grid_row": null,
      "grid_template_areas": null,
      "grid_template_columns": null,
      "grid_template_rows": null,
      "height": null,
      "justify_content": null,
      "justify_items": null,
      "left": null,
      "margin": null,
      "max_height": null,
      "max_width": null,
      "min_height": null,
      "min_width": null,
      "object_fit": null,
      "object_position": null,
      "order": null,
      "overflow": null,
      "overflow_x": null,
      "overflow_y": null,
      "padding": null,
      "right": null,
      "top": null,
      "visibility": null,
      "width": null
     }
    },
    "a1503ef249c341acab7d7846b48e97fc": {
     "model_module": "@jupyter-widgets/controls",
     "model_module_version": "1.5.0",
     "model_name": "ProgressStyleModel",
     "state": {
      "_model_module": "@jupyter-widgets/controls",
      "_model_module_version": "1.5.0",
      "_model_name": "ProgressStyleModel",
      "_view_count": null,
      "_view_module": "@jupyter-widgets/base",
      "_view_module_version": "1.2.0",
      "_view_name": "StyleView",
      "bar_color": null,
      "description_width": ""
     }
    },
    "a16334e7cf3e4d8caae6be2b87a1de53": {
     "model_module": "@jupyter-widgets/controls",
     "model_module_version": "1.5.0",
     "model_name": "FloatProgressModel",
     "state": {
      "_dom_classes": [],
      "_model_module": "@jupyter-widgets/controls",
      "_model_module_version": "1.5.0",
      "_model_name": "FloatProgressModel",
      "_view_count": null,
      "_view_module": "@jupyter-widgets/controls",
      "_view_module_version": "1.5.0",
      "_view_name": "ProgressView",
      "bar_style": "success",
      "description": "",
      "description_tooltip": null,
      "layout": "IPY_MODEL_25b48f6062074c40a4a9546bdc8824aa",
      "max": 29,
      "min": 0,
      "orientation": "horizontal",
      "style": "IPY_MODEL_ca1ed93523cb4d9da6aab20c9ea2151d",
      "value": 29
     }
    },
    "a1b18c37132c4daeb36ff8b037f59c54": {
     "model_module": "@jupyter-widgets/controls",
     "model_module_version": "1.5.0",
     "model_name": "HTMLModel",
     "state": {
      "_dom_classes": [],
      "_model_module": "@jupyter-widgets/controls",
      "_model_module_version": "1.5.0",
      "_model_name": "HTMLModel",
      "_view_count": null,
      "_view_module": "@jupyter-widgets/controls",
      "_view_module_version": "1.5.0",
      "_view_name": "HTMLView",
      "description": "",
      "description_tooltip": null,
      "layout": "IPY_MODEL_d4c914b585a042aa9c570a0f7d0fc6ae",
      "placeholder": "​",
      "style": "IPY_MODEL_2002046fe4c54c0db1ccca870d213f59",
      "value": "100%"
     }
    },
    "a206aaa184ef419ca01a380541e2be43": {
     "model_module": "@jupyter-widgets/controls",
     "model_module_version": "1.5.0",
     "model_name": "DescriptionStyleModel",
     "state": {
      "_model_module": "@jupyter-widgets/controls",
      "_model_module_version": "1.5.0",
      "_model_name": "DescriptionStyleModel",
      "_view_count": null,
      "_view_module": "@jupyter-widgets/base",
      "_view_module_version": "1.2.0",
      "_view_name": "StyleView",
      "description_width": ""
     }
    },
    "a51121471126493995d30f011d4502a1": {
     "model_module": "@jupyter-widgets/base",
     "model_module_version": "1.2.0",
     "model_name": "LayoutModel",
     "state": {
      "_model_module": "@jupyter-widgets/base",
      "_model_module_version": "1.2.0",
      "_model_name": "LayoutModel",
      "_view_count": null,
      "_view_module": "@jupyter-widgets/base",
      "_view_module_version": "1.2.0",
      "_view_name": "LayoutView",
      "align_content": null,
      "align_items": null,
      "align_self": null,
      "border": null,
      "bottom": null,
      "display": null,
      "flex": null,
      "flex_flow": null,
      "grid_area": null,
      "grid_auto_columns": null,
      "grid_auto_flow": null,
      "grid_auto_rows": null,
      "grid_column": null,
      "grid_gap": null,
      "grid_row": null,
      "grid_template_areas": null,
      "grid_template_columns": null,
      "grid_template_rows": null,
      "height": null,
      "justify_content": null,
      "justify_items": null,
      "left": null,
      "margin": null,
      "max_height": null,
      "max_width": null,
      "min_height": null,
      "min_width": null,
      "object_fit": null,
      "object_position": null,
      "order": null,
      "overflow": null,
      "overflow_x": null,
      "overflow_y": null,
      "padding": null,
      "right": null,
      "top": null,
      "visibility": null,
      "width": null
     }
    },
    "a562c3e6b795471295ddc2a1291018d5": {
     "model_module": "@jupyter-widgets/controls",
     "model_module_version": "1.5.0",
     "model_name": "DescriptionStyleModel",
     "state": {
      "_model_module": "@jupyter-widgets/controls",
      "_model_module_version": "1.5.0",
      "_model_name": "DescriptionStyleModel",
      "_view_count": null,
      "_view_module": "@jupyter-widgets/base",
      "_view_module_version": "1.2.0",
      "_view_name": "StyleView",
      "description_width": ""
     }
    },
    "a6e4123642cc40cbbcb9a14b55de4b3c": {
     "model_module": "@jupyter-widgets/controls",
     "model_module_version": "1.5.0",
     "model_name": "HTMLModel",
     "state": {
      "_dom_classes": [],
      "_model_module": "@jupyter-widgets/controls",
      "_model_module_version": "1.5.0",
      "_model_name": "HTMLModel",
      "_view_count": null,
      "_view_module": "@jupyter-widgets/controls",
      "_view_module_version": "1.5.0",
      "_view_name": "HTMLView",
      "description": "",
      "description_tooltip": null,
      "layout": "IPY_MODEL_09fefd5a217c44fcbc5ed484ba2380bc",
      "placeholder": "​",
      "style": "IPY_MODEL_a562c3e6b795471295ddc2a1291018d5",
      "value": " 29/29 [00:14&lt;00:00,  2.50ba/s]"
     }
    },
    "a8c88c5691404d42a7c37fda6c2b1c58": {
     "model_module": "@jupyter-widgets/base",
     "model_module_version": "1.2.0",
     "model_name": "LayoutModel",
     "state": {
      "_model_module": "@jupyter-widgets/base",
      "_model_module_version": "1.2.0",
      "_model_name": "LayoutModel",
      "_view_count": null,
      "_view_module": "@jupyter-widgets/base",
      "_view_module_version": "1.2.0",
      "_view_name": "LayoutView",
      "align_content": null,
      "align_items": null,
      "align_self": null,
      "border": null,
      "bottom": null,
      "display": null,
      "flex": null,
      "flex_flow": null,
      "grid_area": null,
      "grid_auto_columns": null,
      "grid_auto_flow": null,
      "grid_auto_rows": null,
      "grid_column": null,
      "grid_gap": null,
      "grid_row": null,
      "grid_template_areas": null,
      "grid_template_columns": null,
      "grid_template_rows": null,
      "height": null,
      "justify_content": null,
      "justify_items": null,
      "left": null,
      "margin": null,
      "max_height": null,
      "max_width": null,
      "min_height": null,
      "min_width": null,
      "object_fit": null,
      "object_position": null,
      "order": null,
      "overflow": null,
      "overflow_x": null,
      "overflow_y": null,
      "padding": null,
      "right": null,
      "top": null,
      "visibility": null,
      "width": null
     }
    },
    "aa291aad57c541448e48edfaf4bbeaba": {
     "model_module": "@jupyter-widgets/base",
     "model_module_version": "1.2.0",
     "model_name": "LayoutModel",
     "state": {
      "_model_module": "@jupyter-widgets/base",
      "_model_module_version": "1.2.0",
      "_model_name": "LayoutModel",
      "_view_count": null,
      "_view_module": "@jupyter-widgets/base",
      "_view_module_version": "1.2.0",
      "_view_name": "LayoutView",
      "align_content": null,
      "align_items": null,
      "align_self": null,
      "border": null,
      "bottom": null,
      "display": null,
      "flex": null,
      "flex_flow": null,
      "grid_area": null,
      "grid_auto_columns": null,
      "grid_auto_flow": null,
      "grid_auto_rows": null,
      "grid_column": null,
      "grid_gap": null,
      "grid_row": null,
      "grid_template_areas": null,
      "grid_template_columns": null,
      "grid_template_rows": null,
      "height": null,
      "justify_content": null,
      "justify_items": null,
      "left": null,
      "margin": null,
      "max_height": null,
      "max_width": null,
      "min_height": null,
      "min_width": null,
      "object_fit": null,
      "object_position": null,
      "order": null,
      "overflow": null,
      "overflow_x": null,
      "overflow_y": null,
      "padding": null,
      "right": null,
      "top": null,
      "visibility": null,
      "width": null
     }
    },
    "b40bf694389e46508e85b21f2e013015": {
     "model_module": "@jupyter-widgets/controls",
     "model_module_version": "1.5.0",
     "model_name": "ProgressStyleModel",
     "state": {
      "_model_module": "@jupyter-widgets/controls",
      "_model_module_version": "1.5.0",
      "_model_name": "ProgressStyleModel",
      "_view_count": null,
      "_view_module": "@jupyter-widgets/base",
      "_view_module_version": "1.2.0",
      "_view_name": "StyleView",
      "bar_color": null,
      "description_width": ""
     }
    },
    "b43e1a1e540d4f7e9e278e0ea824ac4e": {
     "model_module": "@jupyter-widgets/base",
     "model_module_version": "1.2.0",
     "model_name": "LayoutModel",
     "state": {
      "_model_module": "@jupyter-widgets/base",
      "_model_module_version": "1.2.0",
      "_model_name": "LayoutModel",
      "_view_count": null,
      "_view_module": "@jupyter-widgets/base",
      "_view_module_version": "1.2.0",
      "_view_name": "LayoutView",
      "align_content": null,
      "align_items": null,
      "align_self": null,
      "border": null,
      "bottom": null,
      "display": null,
      "flex": null,
      "flex_flow": null,
      "grid_area": null,
      "grid_auto_columns": null,
      "grid_auto_flow": null,
      "grid_auto_rows": null,
      "grid_column": null,
      "grid_gap": null,
      "grid_row": null,
      "grid_template_areas": null,
      "grid_template_columns": null,
      "grid_template_rows": null,
      "height": null,
      "justify_content": null,
      "justify_items": null,
      "left": null,
      "margin": null,
      "max_height": null,
      "max_width": null,
      "min_height": null,
      "min_width": null,
      "object_fit": null,
      "object_position": null,
      "order": null,
      "overflow": null,
      "overflow_x": null,
      "overflow_y": null,
      "padding": null,
      "right": null,
      "top": null,
      "visibility": null,
      "width": null
     }
    },
    "b845c28c6d3b4179af8d0082888cc240": {
     "model_module": "@jupyter-widgets/controls",
     "model_module_version": "1.5.0",
     "model_name": "DescriptionStyleModel",
     "state": {
      "_model_module": "@jupyter-widgets/controls",
      "_model_module_version": "1.5.0",
      "_model_name": "DescriptionStyleModel",
      "_view_count": null,
      "_view_module": "@jupyter-widgets/base",
      "_view_module_version": "1.2.0",
      "_view_name": "StyleView",
      "description_width": ""
     }
    },
    "ba3988b79d0b4edaa9658f0e569b6aa9": {
     "model_module": "@jupyter-widgets/controls",
     "model_module_version": "1.5.0",
     "model_name": "FloatProgressModel",
     "state": {
      "_dom_classes": [],
      "_model_module": "@jupyter-widgets/controls",
      "_model_module_version": "1.5.0",
      "_model_name": "FloatProgressModel",
      "_view_count": null,
      "_view_module": "@jupyter-widgets/controls",
      "_view_module_version": "1.5.0",
      "_view_name": "ProgressView",
      "bar_style": "success",
      "description": "",
      "description_tooltip": null,
      "layout": "IPY_MODEL_48b20a7d80b04113ae7241c9177c66f1",
      "max": 3,
      "min": 0,
      "orientation": "horizontal",
      "style": "IPY_MODEL_157079a1f737440c94408bc24587e44a",
      "value": 3
     }
    },
    "bac24e1f87ad46a48a23dd0ec59ba4dc": {
     "model_module": "@jupyter-widgets/controls",
     "model_module_version": "1.5.0",
     "model_name": "HTMLModel",
     "state": {
      "_dom_classes": [],
      "_model_module": "@jupyter-widgets/controls",
      "_model_module_version": "1.5.0",
      "_model_name": "HTMLModel",
      "_view_count": null,
      "_view_module": "@jupyter-widgets/controls",
      "_view_module_version": "1.5.0",
      "_view_name": "HTMLView",
      "description": "",
      "description_tooltip": null,
      "layout": "IPY_MODEL_1962b3cfd77c453fab9c3c5995f00aae",
      "placeholder": "​",
      "style": "IPY_MODEL_105cc9c1efba499e8a33ba766113fa65",
      "value": "100%"
     }
    },
    "bc184a9f473c4cbc852ac1fbdaed7c89": {
     "model_module": "@jupyter-widgets/base",
     "model_module_version": "1.2.0",
     "model_name": "LayoutModel",
     "state": {
      "_model_module": "@jupyter-widgets/base",
      "_model_module_version": "1.2.0",
      "_model_name": "LayoutModel",
      "_view_count": null,
      "_view_module": "@jupyter-widgets/base",
      "_view_module_version": "1.2.0",
      "_view_name": "LayoutView",
      "align_content": null,
      "align_items": null,
      "align_self": null,
      "border": null,
      "bottom": null,
      "display": null,
      "flex": null,
      "flex_flow": null,
      "grid_area": null,
      "grid_auto_columns": null,
      "grid_auto_flow": null,
      "grid_auto_rows": null,
      "grid_column": null,
      "grid_gap": null,
      "grid_row": null,
      "grid_template_areas": null,
      "grid_template_columns": null,
      "grid_template_rows": null,
      "height": null,
      "justify_content": null,
      "justify_items": null,
      "left": null,
      "margin": null,
      "max_height": null,
      "max_width": null,
      "min_height": null,
      "min_width": null,
      "object_fit": null,
      "object_position": null,
      "order": null,
      "overflow": null,
      "overflow_x": null,
      "overflow_y": null,
      "padding": null,
      "right": null,
      "top": null,
      "visibility": null,
      "width": null
     }
    },
    "c18ede86b08f4564a4bf309020616d78": {
     "model_module": "@jupyter-widgets/controls",
     "model_module_version": "1.5.0",
     "model_name": "DescriptionStyleModel",
     "state": {
      "_model_module": "@jupyter-widgets/controls",
      "_model_module_version": "1.5.0",
      "_model_name": "DescriptionStyleModel",
      "_view_count": null,
      "_view_module": "@jupyter-widgets/base",
      "_view_module_version": "1.2.0",
      "_view_name": "StyleView",
      "description_width": ""
     }
    },
    "ca1ed93523cb4d9da6aab20c9ea2151d": {
     "model_module": "@jupyter-widgets/controls",
     "model_module_version": "1.5.0",
     "model_name": "ProgressStyleModel",
     "state": {
      "_model_module": "@jupyter-widgets/controls",
      "_model_module_version": "1.5.0",
      "_model_name": "ProgressStyleModel",
      "_view_count": null,
      "_view_module": "@jupyter-widgets/base",
      "_view_module_version": "1.2.0",
      "_view_name": "StyleView",
      "bar_color": null,
      "description_width": ""
     }
    },
    "cfe72b48190340548ca9e89c5a49a37a": {
     "model_module": "@jupyter-widgets/base",
     "model_module_version": "1.2.0",
     "model_name": "LayoutModel",
     "state": {
      "_model_module": "@jupyter-widgets/base",
      "_model_module_version": "1.2.0",
      "_model_name": "LayoutModel",
      "_view_count": null,
      "_view_module": "@jupyter-widgets/base",
      "_view_module_version": "1.2.0",
      "_view_name": "LayoutView",
      "align_content": null,
      "align_items": null,
      "align_self": null,
      "border": null,
      "bottom": null,
      "display": null,
      "flex": null,
      "flex_flow": null,
      "grid_area": null,
      "grid_auto_columns": null,
      "grid_auto_flow": null,
      "grid_auto_rows": null,
      "grid_column": null,
      "grid_gap": null,
      "grid_row": null,
      "grid_template_areas": null,
      "grid_template_columns": null,
      "grid_template_rows": null,
      "height": null,
      "justify_content": null,
      "justify_items": null,
      "left": null,
      "margin": null,
      "max_height": null,
      "max_width": null,
      "min_height": null,
      "min_width": null,
      "object_fit": null,
      "object_position": null,
      "order": null,
      "overflow": null,
      "overflow_x": null,
      "overflow_y": null,
      "padding": null,
      "right": null,
      "top": null,
      "visibility": null,
      "width": null
     }
    },
    "d4c914b585a042aa9c570a0f7d0fc6ae": {
     "model_module": "@jupyter-widgets/base",
     "model_module_version": "1.2.0",
     "model_name": "LayoutModel",
     "state": {
      "_model_module": "@jupyter-widgets/base",
      "_model_module_version": "1.2.0",
      "_model_name": "LayoutModel",
      "_view_count": null,
      "_view_module": "@jupyter-widgets/base",
      "_view_module_version": "1.2.0",
      "_view_name": "LayoutView",
      "align_content": null,
      "align_items": null,
      "align_self": null,
      "border": null,
      "bottom": null,
      "display": null,
      "flex": null,
      "flex_flow": null,
      "grid_area": null,
      "grid_auto_columns": null,
      "grid_auto_flow": null,
      "grid_auto_rows": null,
      "grid_column": null,
      "grid_gap": null,
      "grid_row": null,
      "grid_template_areas": null,
      "grid_template_columns": null,
      "grid_template_rows": null,
      "height": null,
      "justify_content": null,
      "justify_items": null,
      "left": null,
      "margin": null,
      "max_height": null,
      "max_width": null,
      "min_height": null,
      "min_width": null,
      "object_fit": null,
      "object_position": null,
      "order": null,
      "overflow": null,
      "overflow_x": null,
      "overflow_y": null,
      "padding": null,
      "right": null,
      "top": null,
      "visibility": null,
      "width": null
     }
    },
    "d6e1932ded1b4c3eb578544e25800e9a": {
     "model_module": "@jupyter-widgets/base",
     "model_module_version": "1.2.0",
     "model_name": "LayoutModel",
     "state": {
      "_model_module": "@jupyter-widgets/base",
      "_model_module_version": "1.2.0",
      "_model_name": "LayoutModel",
      "_view_count": null,
      "_view_module": "@jupyter-widgets/base",
      "_view_module_version": "1.2.0",
      "_view_name": "LayoutView",
      "align_content": null,
      "align_items": null,
      "align_self": null,
      "border": null,
      "bottom": null,
      "display": null,
      "flex": null,
      "flex_flow": null,
      "grid_area": null,
      "grid_auto_columns": null,
      "grid_auto_flow": null,
      "grid_auto_rows": null,
      "grid_column": null,
      "grid_gap": null,
      "grid_row": null,
      "grid_template_areas": null,
      "grid_template_columns": null,
      "grid_template_rows": null,
      "height": null,
      "justify_content": null,
      "justify_items": null,
      "left": null,
      "margin": null,
      "max_height": null,
      "max_width": null,
      "min_height": null,
      "min_width": null,
      "object_fit": null,
      "object_position": null,
      "order": null,
      "overflow": null,
      "overflow_x": null,
      "overflow_y": null,
      "padding": null,
      "right": null,
      "top": null,
      "visibility": null,
      "width": null
     }
    },
    "d7c4855f4fd14bc1855db22fc5d43300": {
     "model_module": "@jupyter-widgets/base",
     "model_module_version": "1.2.0",
     "model_name": "LayoutModel",
     "state": {
      "_model_module": "@jupyter-widgets/base",
      "_model_module_version": "1.2.0",
      "_model_name": "LayoutModel",
      "_view_count": null,
      "_view_module": "@jupyter-widgets/base",
      "_view_module_version": "1.2.0",
      "_view_name": "LayoutView",
      "align_content": null,
      "align_items": null,
      "align_self": null,
      "border": null,
      "bottom": null,
      "display": null,
      "flex": null,
      "flex_flow": null,
      "grid_area": null,
      "grid_auto_columns": null,
      "grid_auto_flow": null,
      "grid_auto_rows": null,
      "grid_column": null,
      "grid_gap": null,
      "grid_row": null,
      "grid_template_areas": null,
      "grid_template_columns": null,
      "grid_template_rows": null,
      "height": null,
      "justify_content": null,
      "justify_items": null,
      "left": null,
      "margin": null,
      "max_height": null,
      "max_width": null,
      "min_height": null,
      "min_width": null,
      "object_fit": null,
      "object_position": null,
      "order": null,
      "overflow": null,
      "overflow_x": null,
      "overflow_y": null,
      "padding": null,
      "right": null,
      "top": null,
      "visibility": null,
      "width": null
     }
    },
    "dc9ba77ec0354d94a81325f7bad0bbde": {
     "model_module": "@jupyter-widgets/base",
     "model_module_version": "1.2.0",
     "model_name": "LayoutModel",
     "state": {
      "_model_module": "@jupyter-widgets/base",
      "_model_module_version": "1.2.0",
      "_model_name": "LayoutModel",
      "_view_count": null,
      "_view_module": "@jupyter-widgets/base",
      "_view_module_version": "1.2.0",
      "_view_name": "LayoutView",
      "align_content": null,
      "align_items": null,
      "align_self": null,
      "border": null,
      "bottom": null,
      "display": null,
      "flex": null,
      "flex_flow": null,
      "grid_area": null,
      "grid_auto_columns": null,
      "grid_auto_flow": null,
      "grid_auto_rows": null,
      "grid_column": null,
      "grid_gap": null,
      "grid_row": null,
      "grid_template_areas": null,
      "grid_template_columns": null,
      "grid_template_rows": null,
      "height": null,
      "justify_content": null,
      "justify_items": null,
      "left": null,
      "margin": null,
      "max_height": null,
      "max_width": null,
      "min_height": null,
      "min_width": null,
      "object_fit": null,
      "object_position": null,
      "order": null,
      "overflow": null,
      "overflow_x": null,
      "overflow_y": null,
      "padding": null,
      "right": null,
      "top": null,
      "visibility": null,
      "width": null
     }
    },
    "e2c49aa111954e609e92308ff8903261": {
     "model_module": "@jupyter-widgets/controls",
     "model_module_version": "1.5.0",
     "model_name": "DescriptionStyleModel",
     "state": {
      "_model_module": "@jupyter-widgets/controls",
      "_model_module_version": "1.5.0",
      "_model_name": "DescriptionStyleModel",
      "_view_count": null,
      "_view_module": "@jupyter-widgets/base",
      "_view_module_version": "1.2.0",
      "_view_name": "StyleView",
      "description_width": ""
     }
    },
    "e3451493aa814014a40153395ec65a5c": {
     "model_module": "@jupyter-widgets/controls",
     "model_module_version": "1.5.0",
     "model_name": "HBoxModel",
     "state": {
      "_dom_classes": [],
      "_model_module": "@jupyter-widgets/controls",
      "_model_module_version": "1.5.0",
      "_model_name": "HBoxModel",
      "_view_count": null,
      "_view_module": "@jupyter-widgets/controls",
      "_view_module_version": "1.5.0",
      "_view_name": "HBoxView",
      "box_style": "",
      "children": [
       "IPY_MODEL_63ff424012574585bf284d7d86e3f793",
       "IPY_MODEL_f065d9d11d1444d887a98445f00c9659",
       "IPY_MODEL_705fd58a8ecb45bb8c1ac9aeae8b59f6"
      ],
      "layout": "IPY_MODEL_d6e1932ded1b4c3eb578544e25800e9a"
     }
    },
    "e70940d077c046c8b1dee3c5454dd65b": {
     "model_module": "@jupyter-widgets/controls",
     "model_module_version": "1.5.0",
     "model_name": "DescriptionStyleModel",
     "state": {
      "_model_module": "@jupyter-widgets/controls",
      "_model_module_version": "1.5.0",
      "_model_name": "DescriptionStyleModel",
      "_view_count": null,
      "_view_module": "@jupyter-widgets/base",
      "_view_module_version": "1.2.0",
      "_view_name": "StyleView",
      "description_width": ""
     }
    },
    "f065d9d11d1444d887a98445f00c9659": {
     "model_module": "@jupyter-widgets/controls",
     "model_module_version": "1.5.0",
     "model_name": "FloatProgressModel",
     "state": {
      "_dom_classes": [],
      "_model_module": "@jupyter-widgets/controls",
      "_model_module_version": "1.5.0",
      "_model_name": "FloatProgressModel",
      "_view_count": null,
      "_view_module": "@jupyter-widgets/controls",
      "_view_module_version": "1.5.0",
      "_view_name": "ProgressView",
      "bar_style": "success",
      "description": "",
      "description_tooltip": null,
      "layout": "IPY_MODEL_405136bf6b514e8a8ea69fedd1b1bab2",
      "max": 22,
      "min": 0,
      "orientation": "horizontal",
      "style": "IPY_MODEL_8139ebe59e4f4f82a9b95f3530414cbf",
      "value": 22
     }
    },
    "f9c3f2e2784d4ea3b4ca7d5e06453d30": {
     "model_module": "@jupyter-widgets/controls",
     "model_module_version": "1.5.0",
     "model_name": "HTMLModel",
     "state": {
      "_dom_classes": [],
      "_model_module": "@jupyter-widgets/controls",
      "_model_module_version": "1.5.0",
      "_model_name": "HTMLModel",
      "_view_count": null,
      "_view_module": "@jupyter-widgets/controls",
      "_view_module_version": "1.5.0",
      "_view_name": "HTMLView",
      "description": "",
      "description_tooltip": null,
      "layout": "IPY_MODEL_255c985c8e944413a39b76fd2b43d1d4",
      "placeholder": "​",
      "style": "IPY_MODEL_e70940d077c046c8b1dee3c5454dd65b",
      "value": "100%"
     }
    },
    "fb3652afe95142cda9ed40b831d50f67": {
     "model_module": "@jupyter-widgets/controls",
     "model_module_version": "1.5.0",
     "model_name": "DescriptionStyleModel",
     "state": {
      "_model_module": "@jupyter-widgets/controls",
      "_model_module_version": "1.5.0",
      "_model_name": "DescriptionStyleModel",
      "_view_count": null,
      "_view_module": "@jupyter-widgets/base",
      "_view_module_version": "1.2.0",
      "_view_name": "StyleView",
      "description_width": ""
     }
    }
   }
  }
 },
 "nbformat": 4,
 "nbformat_minor": 1
}
